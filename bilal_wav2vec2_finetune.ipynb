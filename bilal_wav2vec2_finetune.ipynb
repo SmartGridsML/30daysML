{
  "nbformat": 4,
  "nbformat_minor": 0,
  "metadata": {
    "colab": {
      "provenance": [],
      "gpuType": "T4",
      "authorship_tag": "ABX9TyPejKO8l51iaC1sOzb0Aw69",
      "include_colab_link": true
    },
    "kernelspec": {
      "name": "python3",
      "display_name": "Python 3"
    },
    "language_info": {
      "name": "python"
    },
    "accelerator": "GPU",
    "widgets": {
      "application/vnd.jupyter.widget-state+json": {
        "6d45d8cc256142f38b42924f4c142f73": {
          "model_module": "@jupyter-widgets/controls",
          "model_name": "VBoxModel",
          "model_module_version": "1.5.0",
          "state": {
            "_dom_classes": [],
            "_model_module": "@jupyter-widgets/controls",
            "_model_module_version": "1.5.0",
            "_model_name": "VBoxModel",
            "_view_count": null,
            "_view_module": "@jupyter-widgets/controls",
            "_view_module_version": "1.5.0",
            "_view_name": "VBoxView",
            "box_style": "",
            "children": [
              "IPY_MODEL_b02beb89041046118b5b108cf40478c3",
              "IPY_MODEL_69add3a9b8e14ff196963458cf91af37",
              "IPY_MODEL_7baa947cdc82464da913ecf1f76ccf0d"
            ],
            "layout": "IPY_MODEL_31abc7b1730e423a96ecd2b3488310db"
          }
        },
        "a7716b96119047df9cd103f2b093bdbd": {
          "model_module": "@jupyter-widgets/controls",
          "model_name": "HTMLModel",
          "model_module_version": "1.5.0",
          "state": {
            "_dom_classes": [],
            "_model_module": "@jupyter-widgets/controls",
            "_model_module_version": "1.5.0",
            "_model_name": "HTMLModel",
            "_view_count": null,
            "_view_module": "@jupyter-widgets/controls",
            "_view_module_version": "1.5.0",
            "_view_name": "HTMLView",
            "description": "",
            "description_tooltip": null,
            "layout": "IPY_MODEL_76a1ce84482043fbb401f00af11ac307",
            "placeholder": "​",
            "style": "IPY_MODEL_b2f2b0b5c6e943e0b1f745cdb79bee16",
            "value": "<center> <img\nsrc=https://huggingface.co/front/assets/huggingface_logo-noborder.svg\nalt='Hugging Face'> <br> Copy a token from <a\nhref=\"https://huggingface.co/settings/tokens\" target=\"_blank\">your Hugging Face\ntokens page</a> and paste it below. <br> Immediately click login after copying\nyour token or it might be stored in plain text in this notebook file. </center>"
          }
        },
        "1741cf33b8df4e31a58346f41ce16877": {
          "model_module": "@jupyter-widgets/controls",
          "model_name": "PasswordModel",
          "model_module_version": "1.5.0",
          "state": {
            "_dom_classes": [],
            "_model_module": "@jupyter-widgets/controls",
            "_model_module_version": "1.5.0",
            "_model_name": "PasswordModel",
            "_view_count": null,
            "_view_module": "@jupyter-widgets/controls",
            "_view_module_version": "1.5.0",
            "_view_name": "PasswordView",
            "continuous_update": true,
            "description": "Token:",
            "description_tooltip": null,
            "disabled": false,
            "layout": "IPY_MODEL_e8dc582eb2744bc6a6bf95d9ee041835",
            "placeholder": "​",
            "style": "IPY_MODEL_24166cbc58d142b783d1bd39efc31fec",
            "value": ""
          }
        },
        "a94418e6bdeb4ee4905ca7577198fc7f": {
          "model_module": "@jupyter-widgets/controls",
          "model_name": "CheckboxModel",
          "model_module_version": "1.5.0",
          "state": {
            "_dom_classes": [],
            "_model_module": "@jupyter-widgets/controls",
            "_model_module_version": "1.5.0",
            "_model_name": "CheckboxModel",
            "_view_count": null,
            "_view_module": "@jupyter-widgets/controls",
            "_view_module_version": "1.5.0",
            "_view_name": "CheckboxView",
            "description": "Add token as git credential?",
            "description_tooltip": null,
            "disabled": false,
            "indent": true,
            "layout": "IPY_MODEL_f35a73d8f3d8434d88a28fcc6a0595ee",
            "style": "IPY_MODEL_8bcabf6e072f40e0a56f0361aca66bdc",
            "value": false
          }
        },
        "c8968cb6f80941e1944f923bb251c656": {
          "model_module": "@jupyter-widgets/controls",
          "model_name": "ButtonModel",
          "model_module_version": "1.5.0",
          "state": {
            "_dom_classes": [],
            "_model_module": "@jupyter-widgets/controls",
            "_model_module_version": "1.5.0",
            "_model_name": "ButtonModel",
            "_view_count": null,
            "_view_module": "@jupyter-widgets/controls",
            "_view_module_version": "1.5.0",
            "_view_name": "ButtonView",
            "button_style": "",
            "description": "Login",
            "disabled": false,
            "icon": "",
            "layout": "IPY_MODEL_77fe4c88721f4f689d05a5c28401802d",
            "style": "IPY_MODEL_30de85bd84bd4158bf6c91be34e8dedc",
            "tooltip": ""
          }
        },
        "376367809a3e4b6a8be44886d7e4624b": {
          "model_module": "@jupyter-widgets/controls",
          "model_name": "HTMLModel",
          "model_module_version": "1.5.0",
          "state": {
            "_dom_classes": [],
            "_model_module": "@jupyter-widgets/controls",
            "_model_module_version": "1.5.0",
            "_model_name": "HTMLModel",
            "_view_count": null,
            "_view_module": "@jupyter-widgets/controls",
            "_view_module_version": "1.5.0",
            "_view_name": "HTMLView",
            "description": "",
            "description_tooltip": null,
            "layout": "IPY_MODEL_0c0352bc5b9b440fb1c88bdbad281873",
            "placeholder": "​",
            "style": "IPY_MODEL_477c3c077a1d48bf81c58da62e5f4de3",
            "value": "\n<b>Pro Tip:</b> If you don't already have one, you can create a dedicated\n'notebooks' token with 'write' access, that you can then easily reuse for all\nnotebooks. </center>"
          }
        },
        "31abc7b1730e423a96ecd2b3488310db": {
          "model_module": "@jupyter-widgets/base",
          "model_name": "LayoutModel",
          "model_module_version": "1.2.0",
          "state": {
            "_model_module": "@jupyter-widgets/base",
            "_model_module_version": "1.2.0",
            "_model_name": "LayoutModel",
            "_view_count": null,
            "_view_module": "@jupyter-widgets/base",
            "_view_module_version": "1.2.0",
            "_view_name": "LayoutView",
            "align_content": null,
            "align_items": "center",
            "align_self": null,
            "border": null,
            "bottom": null,
            "display": "flex",
            "flex": null,
            "flex_flow": "column",
            "grid_area": null,
            "grid_auto_columns": null,
            "grid_auto_flow": null,
            "grid_auto_rows": null,
            "grid_column": null,
            "grid_gap": null,
            "grid_row": null,
            "grid_template_areas": null,
            "grid_template_columns": null,
            "grid_template_rows": null,
            "height": null,
            "justify_content": null,
            "justify_items": null,
            "left": null,
            "margin": null,
            "max_height": null,
            "max_width": null,
            "min_height": null,
            "min_width": null,
            "object_fit": null,
            "object_position": null,
            "order": null,
            "overflow": null,
            "overflow_x": null,
            "overflow_y": null,
            "padding": null,
            "right": null,
            "top": null,
            "visibility": null,
            "width": "50%"
          }
        },
        "76a1ce84482043fbb401f00af11ac307": {
          "model_module": "@jupyter-widgets/base",
          "model_name": "LayoutModel",
          "model_module_version": "1.2.0",
          "state": {
            "_model_module": "@jupyter-widgets/base",
            "_model_module_version": "1.2.0",
            "_model_name": "LayoutModel",
            "_view_count": null,
            "_view_module": "@jupyter-widgets/base",
            "_view_module_version": "1.2.0",
            "_view_name": "LayoutView",
            "align_content": null,
            "align_items": null,
            "align_self": null,
            "border": null,
            "bottom": null,
            "display": null,
            "flex": null,
            "flex_flow": null,
            "grid_area": null,
            "grid_auto_columns": null,
            "grid_auto_flow": null,
            "grid_auto_rows": null,
            "grid_column": null,
            "grid_gap": null,
            "grid_row": null,
            "grid_template_areas": null,
            "grid_template_columns": null,
            "grid_template_rows": null,
            "height": null,
            "justify_content": null,
            "justify_items": null,
            "left": null,
            "margin": null,
            "max_height": null,
            "max_width": null,
            "min_height": null,
            "min_width": null,
            "object_fit": null,
            "object_position": null,
            "order": null,
            "overflow": null,
            "overflow_x": null,
            "overflow_y": null,
            "padding": null,
            "right": null,
            "top": null,
            "visibility": null,
            "width": null
          }
        },
        "b2f2b0b5c6e943e0b1f745cdb79bee16": {
          "model_module": "@jupyter-widgets/controls",
          "model_name": "DescriptionStyleModel",
          "model_module_version": "1.5.0",
          "state": {
            "_model_module": "@jupyter-widgets/controls",
            "_model_module_version": "1.5.0",
            "_model_name": "DescriptionStyleModel",
            "_view_count": null,
            "_view_module": "@jupyter-widgets/base",
            "_view_module_version": "1.2.0",
            "_view_name": "StyleView",
            "description_width": ""
          }
        },
        "e8dc582eb2744bc6a6bf95d9ee041835": {
          "model_module": "@jupyter-widgets/base",
          "model_name": "LayoutModel",
          "model_module_version": "1.2.0",
          "state": {
            "_model_module": "@jupyter-widgets/base",
            "_model_module_version": "1.2.0",
            "_model_name": "LayoutModel",
            "_view_count": null,
            "_view_module": "@jupyter-widgets/base",
            "_view_module_version": "1.2.0",
            "_view_name": "LayoutView",
            "align_content": null,
            "align_items": null,
            "align_self": null,
            "border": null,
            "bottom": null,
            "display": null,
            "flex": null,
            "flex_flow": null,
            "grid_area": null,
            "grid_auto_columns": null,
            "grid_auto_flow": null,
            "grid_auto_rows": null,
            "grid_column": null,
            "grid_gap": null,
            "grid_row": null,
            "grid_template_areas": null,
            "grid_template_columns": null,
            "grid_template_rows": null,
            "height": null,
            "justify_content": null,
            "justify_items": null,
            "left": null,
            "margin": null,
            "max_height": null,
            "max_width": null,
            "min_height": null,
            "min_width": null,
            "object_fit": null,
            "object_position": null,
            "order": null,
            "overflow": null,
            "overflow_x": null,
            "overflow_y": null,
            "padding": null,
            "right": null,
            "top": null,
            "visibility": null,
            "width": null
          }
        },
        "24166cbc58d142b783d1bd39efc31fec": {
          "model_module": "@jupyter-widgets/controls",
          "model_name": "DescriptionStyleModel",
          "model_module_version": "1.5.0",
          "state": {
            "_model_module": "@jupyter-widgets/controls",
            "_model_module_version": "1.5.0",
            "_model_name": "DescriptionStyleModel",
            "_view_count": null,
            "_view_module": "@jupyter-widgets/base",
            "_view_module_version": "1.2.0",
            "_view_name": "StyleView",
            "description_width": ""
          }
        },
        "f35a73d8f3d8434d88a28fcc6a0595ee": {
          "model_module": "@jupyter-widgets/base",
          "model_name": "LayoutModel",
          "model_module_version": "1.2.0",
          "state": {
            "_model_module": "@jupyter-widgets/base",
            "_model_module_version": "1.2.0",
            "_model_name": "LayoutModel",
            "_view_count": null,
            "_view_module": "@jupyter-widgets/base",
            "_view_module_version": "1.2.0",
            "_view_name": "LayoutView",
            "align_content": null,
            "align_items": null,
            "align_self": null,
            "border": null,
            "bottom": null,
            "display": null,
            "flex": null,
            "flex_flow": null,
            "grid_area": null,
            "grid_auto_columns": null,
            "grid_auto_flow": null,
            "grid_auto_rows": null,
            "grid_column": null,
            "grid_gap": null,
            "grid_row": null,
            "grid_template_areas": null,
            "grid_template_columns": null,
            "grid_template_rows": null,
            "height": null,
            "justify_content": null,
            "justify_items": null,
            "left": null,
            "margin": null,
            "max_height": null,
            "max_width": null,
            "min_height": null,
            "min_width": null,
            "object_fit": null,
            "object_position": null,
            "order": null,
            "overflow": null,
            "overflow_x": null,
            "overflow_y": null,
            "padding": null,
            "right": null,
            "top": null,
            "visibility": null,
            "width": null
          }
        },
        "8bcabf6e072f40e0a56f0361aca66bdc": {
          "model_module": "@jupyter-widgets/controls",
          "model_name": "DescriptionStyleModel",
          "model_module_version": "1.5.0",
          "state": {
            "_model_module": "@jupyter-widgets/controls",
            "_model_module_version": "1.5.0",
            "_model_name": "DescriptionStyleModel",
            "_view_count": null,
            "_view_module": "@jupyter-widgets/base",
            "_view_module_version": "1.2.0",
            "_view_name": "StyleView",
            "description_width": ""
          }
        },
        "77fe4c88721f4f689d05a5c28401802d": {
          "model_module": "@jupyter-widgets/base",
          "model_name": "LayoutModel",
          "model_module_version": "1.2.0",
          "state": {
            "_model_module": "@jupyter-widgets/base",
            "_model_module_version": "1.2.0",
            "_model_name": "LayoutModel",
            "_view_count": null,
            "_view_module": "@jupyter-widgets/base",
            "_view_module_version": "1.2.0",
            "_view_name": "LayoutView",
            "align_content": null,
            "align_items": null,
            "align_self": null,
            "border": null,
            "bottom": null,
            "display": null,
            "flex": null,
            "flex_flow": null,
            "grid_area": null,
            "grid_auto_columns": null,
            "grid_auto_flow": null,
            "grid_auto_rows": null,
            "grid_column": null,
            "grid_gap": null,
            "grid_row": null,
            "grid_template_areas": null,
            "grid_template_columns": null,
            "grid_template_rows": null,
            "height": null,
            "justify_content": null,
            "justify_items": null,
            "left": null,
            "margin": null,
            "max_height": null,
            "max_width": null,
            "min_height": null,
            "min_width": null,
            "object_fit": null,
            "object_position": null,
            "order": null,
            "overflow": null,
            "overflow_x": null,
            "overflow_y": null,
            "padding": null,
            "right": null,
            "top": null,
            "visibility": null,
            "width": null
          }
        },
        "30de85bd84bd4158bf6c91be34e8dedc": {
          "model_module": "@jupyter-widgets/controls",
          "model_name": "ButtonStyleModel",
          "model_module_version": "1.5.0",
          "state": {
            "_model_module": "@jupyter-widgets/controls",
            "_model_module_version": "1.5.0",
            "_model_name": "ButtonStyleModel",
            "_view_count": null,
            "_view_module": "@jupyter-widgets/base",
            "_view_module_version": "1.2.0",
            "_view_name": "StyleView",
            "button_color": null,
            "font_weight": ""
          }
        },
        "0c0352bc5b9b440fb1c88bdbad281873": {
          "model_module": "@jupyter-widgets/base",
          "model_name": "LayoutModel",
          "model_module_version": "1.2.0",
          "state": {
            "_model_module": "@jupyter-widgets/base",
            "_model_module_version": "1.2.0",
            "_model_name": "LayoutModel",
            "_view_count": null,
            "_view_module": "@jupyter-widgets/base",
            "_view_module_version": "1.2.0",
            "_view_name": "LayoutView",
            "align_content": null,
            "align_items": null,
            "align_self": null,
            "border": null,
            "bottom": null,
            "display": null,
            "flex": null,
            "flex_flow": null,
            "grid_area": null,
            "grid_auto_columns": null,
            "grid_auto_flow": null,
            "grid_auto_rows": null,
            "grid_column": null,
            "grid_gap": null,
            "grid_row": null,
            "grid_template_areas": null,
            "grid_template_columns": null,
            "grid_template_rows": null,
            "height": null,
            "justify_content": null,
            "justify_items": null,
            "left": null,
            "margin": null,
            "max_height": null,
            "max_width": null,
            "min_height": null,
            "min_width": null,
            "object_fit": null,
            "object_position": null,
            "order": null,
            "overflow": null,
            "overflow_x": null,
            "overflow_y": null,
            "padding": null,
            "right": null,
            "top": null,
            "visibility": null,
            "width": null
          }
        },
        "477c3c077a1d48bf81c58da62e5f4de3": {
          "model_module": "@jupyter-widgets/controls",
          "model_name": "DescriptionStyleModel",
          "model_module_version": "1.5.0",
          "state": {
            "_model_module": "@jupyter-widgets/controls",
            "_model_module_version": "1.5.0",
            "_model_name": "DescriptionStyleModel",
            "_view_count": null,
            "_view_module": "@jupyter-widgets/base",
            "_view_module_version": "1.2.0",
            "_view_name": "StyleView",
            "description_width": ""
          }
        },
        "6461886e681e4a58bfd5d5cf95c0baeb": {
          "model_module": "@jupyter-widgets/controls",
          "model_name": "LabelModel",
          "model_module_version": "1.5.0",
          "state": {
            "_dom_classes": [],
            "_model_module": "@jupyter-widgets/controls",
            "_model_module_version": "1.5.0",
            "_model_name": "LabelModel",
            "_view_count": null,
            "_view_module": "@jupyter-widgets/controls",
            "_view_module_version": "1.5.0",
            "_view_name": "LabelView",
            "description": "",
            "description_tooltip": null,
            "layout": "IPY_MODEL_1213ff683bd847edb631fb4b4ad550c3",
            "placeholder": "​",
            "style": "IPY_MODEL_9c95fbc143ad4c6386012277f892d759",
            "value": "Connecting..."
          }
        },
        "1213ff683bd847edb631fb4b4ad550c3": {
          "model_module": "@jupyter-widgets/base",
          "model_name": "LayoutModel",
          "model_module_version": "1.2.0",
          "state": {
            "_model_module": "@jupyter-widgets/base",
            "_model_module_version": "1.2.0",
            "_model_name": "LayoutModel",
            "_view_count": null,
            "_view_module": "@jupyter-widgets/base",
            "_view_module_version": "1.2.0",
            "_view_name": "LayoutView",
            "align_content": null,
            "align_items": null,
            "align_self": null,
            "border": null,
            "bottom": null,
            "display": null,
            "flex": null,
            "flex_flow": null,
            "grid_area": null,
            "grid_auto_columns": null,
            "grid_auto_flow": null,
            "grid_auto_rows": null,
            "grid_column": null,
            "grid_gap": null,
            "grid_row": null,
            "grid_template_areas": null,
            "grid_template_columns": null,
            "grid_template_rows": null,
            "height": null,
            "justify_content": null,
            "justify_items": null,
            "left": null,
            "margin": null,
            "max_height": null,
            "max_width": null,
            "min_height": null,
            "min_width": null,
            "object_fit": null,
            "object_position": null,
            "order": null,
            "overflow": null,
            "overflow_x": null,
            "overflow_y": null,
            "padding": null,
            "right": null,
            "top": null,
            "visibility": null,
            "width": null
          }
        },
        "9c95fbc143ad4c6386012277f892d759": {
          "model_module": "@jupyter-widgets/controls",
          "model_name": "DescriptionStyleModel",
          "model_module_version": "1.5.0",
          "state": {
            "_model_module": "@jupyter-widgets/controls",
            "_model_module_version": "1.5.0",
            "_model_name": "DescriptionStyleModel",
            "_view_count": null,
            "_view_module": "@jupyter-widgets/base",
            "_view_module_version": "1.2.0",
            "_view_name": "StyleView",
            "description_width": ""
          }
        },
        "b02beb89041046118b5b108cf40478c3": {
          "model_module": "@jupyter-widgets/controls",
          "model_name": "LabelModel",
          "model_module_version": "1.5.0",
          "state": {
            "_dom_classes": [],
            "_model_module": "@jupyter-widgets/controls",
            "_model_module_version": "1.5.0",
            "_model_name": "LabelModel",
            "_view_count": null,
            "_view_module": "@jupyter-widgets/controls",
            "_view_module_version": "1.5.0",
            "_view_name": "LabelView",
            "description": "",
            "description_tooltip": null,
            "layout": "IPY_MODEL_55a5d3e66b234f38b4394ec044e25c84",
            "placeholder": "​",
            "style": "IPY_MODEL_12d533a9ba034b2e93e5954fe5d29676",
            "value": "Token is valid (permission: read)."
          }
        },
        "69add3a9b8e14ff196963458cf91af37": {
          "model_module": "@jupyter-widgets/controls",
          "model_name": "LabelModel",
          "model_module_version": "1.5.0",
          "state": {
            "_dom_classes": [],
            "_model_module": "@jupyter-widgets/controls",
            "_model_module_version": "1.5.0",
            "_model_name": "LabelModel",
            "_view_count": null,
            "_view_module": "@jupyter-widgets/controls",
            "_view_module_version": "1.5.0",
            "_view_name": "LabelView",
            "description": "",
            "description_tooltip": null,
            "layout": "IPY_MODEL_0671c36ee9b74a79bcd0bf0d6a46a979",
            "placeholder": "​",
            "style": "IPY_MODEL_a5bfca2caed5479c9a4b8e591a38bd4e",
            "value": "Your token has been saved to /root/.cache/huggingface/token"
          }
        },
        "7baa947cdc82464da913ecf1f76ccf0d": {
          "model_module": "@jupyter-widgets/controls",
          "model_name": "LabelModel",
          "model_module_version": "1.5.0",
          "state": {
            "_dom_classes": [],
            "_model_module": "@jupyter-widgets/controls",
            "_model_module_version": "1.5.0",
            "_model_name": "LabelModel",
            "_view_count": null,
            "_view_module": "@jupyter-widgets/controls",
            "_view_module_version": "1.5.0",
            "_view_name": "LabelView",
            "description": "",
            "description_tooltip": null,
            "layout": "IPY_MODEL_be9012febb804c35a50d7e9bb2336f9e",
            "placeholder": "​",
            "style": "IPY_MODEL_790c12c70cc642318efc3916d7c33e0b",
            "value": "Login successful"
          }
        },
        "55a5d3e66b234f38b4394ec044e25c84": {
          "model_module": "@jupyter-widgets/base",
          "model_name": "LayoutModel",
          "model_module_version": "1.2.0",
          "state": {
            "_model_module": "@jupyter-widgets/base",
            "_model_module_version": "1.2.0",
            "_model_name": "LayoutModel",
            "_view_count": null,
            "_view_module": "@jupyter-widgets/base",
            "_view_module_version": "1.2.0",
            "_view_name": "LayoutView",
            "align_content": null,
            "align_items": null,
            "align_self": null,
            "border": null,
            "bottom": null,
            "display": null,
            "flex": null,
            "flex_flow": null,
            "grid_area": null,
            "grid_auto_columns": null,
            "grid_auto_flow": null,
            "grid_auto_rows": null,
            "grid_column": null,
            "grid_gap": null,
            "grid_row": null,
            "grid_template_areas": null,
            "grid_template_columns": null,
            "grid_template_rows": null,
            "height": null,
            "justify_content": null,
            "justify_items": null,
            "left": null,
            "margin": null,
            "max_height": null,
            "max_width": null,
            "min_height": null,
            "min_width": null,
            "object_fit": null,
            "object_position": null,
            "order": null,
            "overflow": null,
            "overflow_x": null,
            "overflow_y": null,
            "padding": null,
            "right": null,
            "top": null,
            "visibility": null,
            "width": null
          }
        },
        "12d533a9ba034b2e93e5954fe5d29676": {
          "model_module": "@jupyter-widgets/controls",
          "model_name": "DescriptionStyleModel",
          "model_module_version": "1.5.0",
          "state": {
            "_model_module": "@jupyter-widgets/controls",
            "_model_module_version": "1.5.0",
            "_model_name": "DescriptionStyleModel",
            "_view_count": null,
            "_view_module": "@jupyter-widgets/base",
            "_view_module_version": "1.2.0",
            "_view_name": "StyleView",
            "description_width": ""
          }
        },
        "0671c36ee9b74a79bcd0bf0d6a46a979": {
          "model_module": "@jupyter-widgets/base",
          "model_name": "LayoutModel",
          "model_module_version": "1.2.0",
          "state": {
            "_model_module": "@jupyter-widgets/base",
            "_model_module_version": "1.2.0",
            "_model_name": "LayoutModel",
            "_view_count": null,
            "_view_module": "@jupyter-widgets/base",
            "_view_module_version": "1.2.0",
            "_view_name": "LayoutView",
            "align_content": null,
            "align_items": null,
            "align_self": null,
            "border": null,
            "bottom": null,
            "display": null,
            "flex": null,
            "flex_flow": null,
            "grid_area": null,
            "grid_auto_columns": null,
            "grid_auto_flow": null,
            "grid_auto_rows": null,
            "grid_column": null,
            "grid_gap": null,
            "grid_row": null,
            "grid_template_areas": null,
            "grid_template_columns": null,
            "grid_template_rows": null,
            "height": null,
            "justify_content": null,
            "justify_items": null,
            "left": null,
            "margin": null,
            "max_height": null,
            "max_width": null,
            "min_height": null,
            "min_width": null,
            "object_fit": null,
            "object_position": null,
            "order": null,
            "overflow": null,
            "overflow_x": null,
            "overflow_y": null,
            "padding": null,
            "right": null,
            "top": null,
            "visibility": null,
            "width": null
          }
        },
        "a5bfca2caed5479c9a4b8e591a38bd4e": {
          "model_module": "@jupyter-widgets/controls",
          "model_name": "DescriptionStyleModel",
          "model_module_version": "1.5.0",
          "state": {
            "_model_module": "@jupyter-widgets/controls",
            "_model_module_version": "1.5.0",
            "_model_name": "DescriptionStyleModel",
            "_view_count": null,
            "_view_module": "@jupyter-widgets/base",
            "_view_module_version": "1.2.0",
            "_view_name": "StyleView",
            "description_width": ""
          }
        },
        "be9012febb804c35a50d7e9bb2336f9e": {
          "model_module": "@jupyter-widgets/base",
          "model_name": "LayoutModel",
          "model_module_version": "1.2.0",
          "state": {
            "_model_module": "@jupyter-widgets/base",
            "_model_module_version": "1.2.0",
            "_model_name": "LayoutModel",
            "_view_count": null,
            "_view_module": "@jupyter-widgets/base",
            "_view_module_version": "1.2.0",
            "_view_name": "LayoutView",
            "align_content": null,
            "align_items": null,
            "align_self": null,
            "border": null,
            "bottom": null,
            "display": null,
            "flex": null,
            "flex_flow": null,
            "grid_area": null,
            "grid_auto_columns": null,
            "grid_auto_flow": null,
            "grid_auto_rows": null,
            "grid_column": null,
            "grid_gap": null,
            "grid_row": null,
            "grid_template_areas": null,
            "grid_template_columns": null,
            "grid_template_rows": null,
            "height": null,
            "justify_content": null,
            "justify_items": null,
            "left": null,
            "margin": null,
            "max_height": null,
            "max_width": null,
            "min_height": null,
            "min_width": null,
            "object_fit": null,
            "object_position": null,
            "order": null,
            "overflow": null,
            "overflow_x": null,
            "overflow_y": null,
            "padding": null,
            "right": null,
            "top": null,
            "visibility": null,
            "width": null
          }
        },
        "790c12c70cc642318efc3916d7c33e0b": {
          "model_module": "@jupyter-widgets/controls",
          "model_name": "DescriptionStyleModel",
          "model_module_version": "1.5.0",
          "state": {
            "_model_module": "@jupyter-widgets/controls",
            "_model_module_version": "1.5.0",
            "_model_name": "DescriptionStyleModel",
            "_view_count": null,
            "_view_module": "@jupyter-widgets/base",
            "_view_module_version": "1.2.0",
            "_view_name": "StyleView",
            "description_width": ""
          }
        },
        "6ad37e9b5eb84723923cd6a59a708bfe": {
          "model_module": "@jupyter-widgets/controls",
          "model_name": "HBoxModel",
          "model_module_version": "1.5.0",
          "state": {
            "_dom_classes": [],
            "_model_module": "@jupyter-widgets/controls",
            "_model_module_version": "1.5.0",
            "_model_name": "HBoxModel",
            "_view_count": null,
            "_view_module": "@jupyter-widgets/controls",
            "_view_module_version": "1.5.0",
            "_view_name": "HBoxView",
            "box_style": "",
            "children": [
              "IPY_MODEL_36995e75828b4ee385bc31463edd15de",
              "IPY_MODEL_0bf6e9ec3c0d499db83bef5085b1599b",
              "IPY_MODEL_24e6aee71e474fdb8cf7243c4b1146f8"
            ],
            "layout": "IPY_MODEL_a385ee63dbd14f1ca0a3e13ab8d1dc31"
          }
        },
        "36995e75828b4ee385bc31463edd15de": {
          "model_module": "@jupyter-widgets/controls",
          "model_name": "HTMLModel",
          "model_module_version": "1.5.0",
          "state": {
            "_dom_classes": [],
            "_model_module": "@jupyter-widgets/controls",
            "_model_module_version": "1.5.0",
            "_model_name": "HTMLModel",
            "_view_count": null,
            "_view_module": "@jupyter-widgets/controls",
            "_view_module_version": "1.5.0",
            "_view_name": "HTMLView",
            "description": "",
            "description_tooltip": null,
            "layout": "IPY_MODEL_ce76455234c04ac694cbd1de16ad8f6c",
            "placeholder": "​",
            "style": "IPY_MODEL_fa7c0ac024bf4c388ecf3d38a6d537b1",
            "value": "Downloading readme: 100%"
          }
        },
        "0bf6e9ec3c0d499db83bef5085b1599b": {
          "model_module": "@jupyter-widgets/controls",
          "model_name": "FloatProgressModel",
          "model_module_version": "1.5.0",
          "state": {
            "_dom_classes": [],
            "_model_module": "@jupyter-widgets/controls",
            "_model_module_version": "1.5.0",
            "_model_name": "FloatProgressModel",
            "_view_count": null,
            "_view_module": "@jupyter-widgets/controls",
            "_view_module_version": "1.5.0",
            "_view_name": "ProgressView",
            "bar_style": "success",
            "description": "",
            "description_tooltip": null,
            "layout": "IPY_MODEL_86563fc804a54a999eb6329aeec62f43",
            "max": 2133,
            "min": 0,
            "orientation": "horizontal",
            "style": "IPY_MODEL_d74c7dbd7bb14bd89ab2c61047f1a4c3",
            "value": 2133
          }
        },
        "24e6aee71e474fdb8cf7243c4b1146f8": {
          "model_module": "@jupyter-widgets/controls",
          "model_name": "HTMLModel",
          "model_module_version": "1.5.0",
          "state": {
            "_dom_classes": [],
            "_model_module": "@jupyter-widgets/controls",
            "_model_module_version": "1.5.0",
            "_model_name": "HTMLModel",
            "_view_count": null,
            "_view_module": "@jupyter-widgets/controls",
            "_view_module_version": "1.5.0",
            "_view_name": "HTMLView",
            "description": "",
            "description_tooltip": null,
            "layout": "IPY_MODEL_9a95c522b0ae4dbea6231f4594b388d1",
            "placeholder": "​",
            "style": "IPY_MODEL_915686ea3f1a4941a1d0a31e8a197974",
            "value": " 2.13k/2.13k [00:00&lt;00:00, 130kB/s]"
          }
        },
        "a385ee63dbd14f1ca0a3e13ab8d1dc31": {
          "model_module": "@jupyter-widgets/base",
          "model_name": "LayoutModel",
          "model_module_version": "1.2.0",
          "state": {
            "_model_module": "@jupyter-widgets/base",
            "_model_module_version": "1.2.0",
            "_model_name": "LayoutModel",
            "_view_count": null,
            "_view_module": "@jupyter-widgets/base",
            "_view_module_version": "1.2.0",
            "_view_name": "LayoutView",
            "align_content": null,
            "align_items": null,
            "align_self": null,
            "border": null,
            "bottom": null,
            "display": null,
            "flex": null,
            "flex_flow": null,
            "grid_area": null,
            "grid_auto_columns": null,
            "grid_auto_flow": null,
            "grid_auto_rows": null,
            "grid_column": null,
            "grid_gap": null,
            "grid_row": null,
            "grid_template_areas": null,
            "grid_template_columns": null,
            "grid_template_rows": null,
            "height": null,
            "justify_content": null,
            "justify_items": null,
            "left": null,
            "margin": null,
            "max_height": null,
            "max_width": null,
            "min_height": null,
            "min_width": null,
            "object_fit": null,
            "object_position": null,
            "order": null,
            "overflow": null,
            "overflow_x": null,
            "overflow_y": null,
            "padding": null,
            "right": null,
            "top": null,
            "visibility": null,
            "width": null
          }
        },
        "ce76455234c04ac694cbd1de16ad8f6c": {
          "model_module": "@jupyter-widgets/base",
          "model_name": "LayoutModel",
          "model_module_version": "1.2.0",
          "state": {
            "_model_module": "@jupyter-widgets/base",
            "_model_module_version": "1.2.0",
            "_model_name": "LayoutModel",
            "_view_count": null,
            "_view_module": "@jupyter-widgets/base",
            "_view_module_version": "1.2.0",
            "_view_name": "LayoutView",
            "align_content": null,
            "align_items": null,
            "align_self": null,
            "border": null,
            "bottom": null,
            "display": null,
            "flex": null,
            "flex_flow": null,
            "grid_area": null,
            "grid_auto_columns": null,
            "grid_auto_flow": null,
            "grid_auto_rows": null,
            "grid_column": null,
            "grid_gap": null,
            "grid_row": null,
            "grid_template_areas": null,
            "grid_template_columns": null,
            "grid_template_rows": null,
            "height": null,
            "justify_content": null,
            "justify_items": null,
            "left": null,
            "margin": null,
            "max_height": null,
            "max_width": null,
            "min_height": null,
            "min_width": null,
            "object_fit": null,
            "object_position": null,
            "order": null,
            "overflow": null,
            "overflow_x": null,
            "overflow_y": null,
            "padding": null,
            "right": null,
            "top": null,
            "visibility": null,
            "width": null
          }
        },
        "fa7c0ac024bf4c388ecf3d38a6d537b1": {
          "model_module": "@jupyter-widgets/controls",
          "model_name": "DescriptionStyleModel",
          "model_module_version": "1.5.0",
          "state": {
            "_model_module": "@jupyter-widgets/controls",
            "_model_module_version": "1.5.0",
            "_model_name": "DescriptionStyleModel",
            "_view_count": null,
            "_view_module": "@jupyter-widgets/base",
            "_view_module_version": "1.2.0",
            "_view_name": "StyleView",
            "description_width": ""
          }
        },
        "86563fc804a54a999eb6329aeec62f43": {
          "model_module": "@jupyter-widgets/base",
          "model_name": "LayoutModel",
          "model_module_version": "1.2.0",
          "state": {
            "_model_module": "@jupyter-widgets/base",
            "_model_module_version": "1.2.0",
            "_model_name": "LayoutModel",
            "_view_count": null,
            "_view_module": "@jupyter-widgets/base",
            "_view_module_version": "1.2.0",
            "_view_name": "LayoutView",
            "align_content": null,
            "align_items": null,
            "align_self": null,
            "border": null,
            "bottom": null,
            "display": null,
            "flex": null,
            "flex_flow": null,
            "grid_area": null,
            "grid_auto_columns": null,
            "grid_auto_flow": null,
            "grid_auto_rows": null,
            "grid_column": null,
            "grid_gap": null,
            "grid_row": null,
            "grid_template_areas": null,
            "grid_template_columns": null,
            "grid_template_rows": null,
            "height": null,
            "justify_content": null,
            "justify_items": null,
            "left": null,
            "margin": null,
            "max_height": null,
            "max_width": null,
            "min_height": null,
            "min_width": null,
            "object_fit": null,
            "object_position": null,
            "order": null,
            "overflow": null,
            "overflow_x": null,
            "overflow_y": null,
            "padding": null,
            "right": null,
            "top": null,
            "visibility": null,
            "width": null
          }
        },
        "d74c7dbd7bb14bd89ab2c61047f1a4c3": {
          "model_module": "@jupyter-widgets/controls",
          "model_name": "ProgressStyleModel",
          "model_module_version": "1.5.0",
          "state": {
            "_model_module": "@jupyter-widgets/controls",
            "_model_module_version": "1.5.0",
            "_model_name": "ProgressStyleModel",
            "_view_count": null,
            "_view_module": "@jupyter-widgets/base",
            "_view_module_version": "1.2.0",
            "_view_name": "StyleView",
            "bar_color": null,
            "description_width": ""
          }
        },
        "9a95c522b0ae4dbea6231f4594b388d1": {
          "model_module": "@jupyter-widgets/base",
          "model_name": "LayoutModel",
          "model_module_version": "1.2.0",
          "state": {
            "_model_module": "@jupyter-widgets/base",
            "_model_module_version": "1.2.0",
            "_model_name": "LayoutModel",
            "_view_count": null,
            "_view_module": "@jupyter-widgets/base",
            "_view_module_version": "1.2.0",
            "_view_name": "LayoutView",
            "align_content": null,
            "align_items": null,
            "align_self": null,
            "border": null,
            "bottom": null,
            "display": null,
            "flex": null,
            "flex_flow": null,
            "grid_area": null,
            "grid_auto_columns": null,
            "grid_auto_flow": null,
            "grid_auto_rows": null,
            "grid_column": null,
            "grid_gap": null,
            "grid_row": null,
            "grid_template_areas": null,
            "grid_template_columns": null,
            "grid_template_rows": null,
            "height": null,
            "justify_content": null,
            "justify_items": null,
            "left": null,
            "margin": null,
            "max_height": null,
            "max_width": null,
            "min_height": null,
            "min_width": null,
            "object_fit": null,
            "object_position": null,
            "order": null,
            "overflow": null,
            "overflow_x": null,
            "overflow_y": null,
            "padding": null,
            "right": null,
            "top": null,
            "visibility": null,
            "width": null
          }
        },
        "915686ea3f1a4941a1d0a31e8a197974": {
          "model_module": "@jupyter-widgets/controls",
          "model_name": "DescriptionStyleModel",
          "model_module_version": "1.5.0",
          "state": {
            "_model_module": "@jupyter-widgets/controls",
            "_model_module_version": "1.5.0",
            "_model_name": "DescriptionStyleModel",
            "_view_count": null,
            "_view_module": "@jupyter-widgets/base",
            "_view_module_version": "1.2.0",
            "_view_name": "StyleView",
            "description_width": ""
          }
        },
        "67abd286eabd4893a8fadb0f52fb0602": {
          "model_module": "@jupyter-widgets/controls",
          "model_name": "HBoxModel",
          "model_module_version": "1.5.0",
          "state": {
            "_dom_classes": [],
            "_model_module": "@jupyter-widgets/controls",
            "_model_module_version": "1.5.0",
            "_model_name": "HBoxModel",
            "_view_count": null,
            "_view_module": "@jupyter-widgets/controls",
            "_view_module_version": "1.5.0",
            "_view_name": "HBoxView",
            "box_style": "",
            "children": [
              "IPY_MODEL_ca4110eb815046c7bf62c3ecdf8b894a",
              "IPY_MODEL_e3834825b7b246d6926261631e13dd4d",
              "IPY_MODEL_188f18f1b410449d98c4fd7bc665324e"
            ],
            "layout": "IPY_MODEL_45466bf6a99d4fe4b21fff96c1bd5fcc"
          }
        },
        "ca4110eb815046c7bf62c3ecdf8b894a": {
          "model_module": "@jupyter-widgets/controls",
          "model_name": "HTMLModel",
          "model_module_version": "1.5.0",
          "state": {
            "_dom_classes": [],
            "_model_module": "@jupyter-widgets/controls",
            "_model_module_version": "1.5.0",
            "_model_name": "HTMLModel",
            "_view_count": null,
            "_view_module": "@jupyter-widgets/controls",
            "_view_module_version": "1.5.0",
            "_view_name": "HTMLView",
            "description": "",
            "description_tooltip": null,
            "layout": "IPY_MODEL_24ffb558b0b446e3b651feee4c4eb828",
            "placeholder": "​",
            "style": "IPY_MODEL_b63698658aa8452ea0ce81ff1bf58004",
            "value": "Resolving data files: 100%"
          }
        },
        "e3834825b7b246d6926261631e13dd4d": {
          "model_module": "@jupyter-widgets/controls",
          "model_name": "FloatProgressModel",
          "model_module_version": "1.5.0",
          "state": {
            "_dom_classes": [],
            "_model_module": "@jupyter-widgets/controls",
            "_model_module_version": "1.5.0",
            "_model_name": "FloatProgressModel",
            "_view_count": null,
            "_view_module": "@jupyter-widgets/controls",
            "_view_module_version": "1.5.0",
            "_view_name": "ProgressView",
            "bar_style": "success",
            "description": "",
            "description_tooltip": null,
            "layout": "IPY_MODEL_862a7ab83e9841c18a00a506c9641a5f",
            "max": 40,
            "min": 0,
            "orientation": "horizontal",
            "style": "IPY_MODEL_faed268a2bf04f87a0136d75349bc1ff",
            "value": 40
          }
        },
        "188f18f1b410449d98c4fd7bc665324e": {
          "model_module": "@jupyter-widgets/controls",
          "model_name": "HTMLModel",
          "model_module_version": "1.5.0",
          "state": {
            "_dom_classes": [],
            "_model_module": "@jupyter-widgets/controls",
            "_model_module_version": "1.5.0",
            "_model_name": "HTMLModel",
            "_view_count": null,
            "_view_module": "@jupyter-widgets/controls",
            "_view_module_version": "1.5.0",
            "_view_name": "HTMLView",
            "description": "",
            "description_tooltip": null,
            "layout": "IPY_MODEL_e8e2a3cd7b17468c81ea0ee070d6341a",
            "placeholder": "​",
            "style": "IPY_MODEL_ef0622e0d7a548539ed39e4ae0e0362c",
            "value": " 40/40 [00:00&lt;00:00, 17.34it/s]"
          }
        },
        "45466bf6a99d4fe4b21fff96c1bd5fcc": {
          "model_module": "@jupyter-widgets/base",
          "model_name": "LayoutModel",
          "model_module_version": "1.2.0",
          "state": {
            "_model_module": "@jupyter-widgets/base",
            "_model_module_version": "1.2.0",
            "_model_name": "LayoutModel",
            "_view_count": null,
            "_view_module": "@jupyter-widgets/base",
            "_view_module_version": "1.2.0",
            "_view_name": "LayoutView",
            "align_content": null,
            "align_items": null,
            "align_self": null,
            "border": null,
            "bottom": null,
            "display": null,
            "flex": null,
            "flex_flow": null,
            "grid_area": null,
            "grid_auto_columns": null,
            "grid_auto_flow": null,
            "grid_auto_rows": null,
            "grid_column": null,
            "grid_gap": null,
            "grid_row": null,
            "grid_template_areas": null,
            "grid_template_columns": null,
            "grid_template_rows": null,
            "height": null,
            "justify_content": null,
            "justify_items": null,
            "left": null,
            "margin": null,
            "max_height": null,
            "max_width": null,
            "min_height": null,
            "min_width": null,
            "object_fit": null,
            "object_position": null,
            "order": null,
            "overflow": null,
            "overflow_x": null,
            "overflow_y": null,
            "padding": null,
            "right": null,
            "top": null,
            "visibility": null,
            "width": null
          }
        },
        "24ffb558b0b446e3b651feee4c4eb828": {
          "model_module": "@jupyter-widgets/base",
          "model_name": "LayoutModel",
          "model_module_version": "1.2.0",
          "state": {
            "_model_module": "@jupyter-widgets/base",
            "_model_module_version": "1.2.0",
            "_model_name": "LayoutModel",
            "_view_count": null,
            "_view_module": "@jupyter-widgets/base",
            "_view_module_version": "1.2.0",
            "_view_name": "LayoutView",
            "align_content": null,
            "align_items": null,
            "align_self": null,
            "border": null,
            "bottom": null,
            "display": null,
            "flex": null,
            "flex_flow": null,
            "grid_area": null,
            "grid_auto_columns": null,
            "grid_auto_flow": null,
            "grid_auto_rows": null,
            "grid_column": null,
            "grid_gap": null,
            "grid_row": null,
            "grid_template_areas": null,
            "grid_template_columns": null,
            "grid_template_rows": null,
            "height": null,
            "justify_content": null,
            "justify_items": null,
            "left": null,
            "margin": null,
            "max_height": null,
            "max_width": null,
            "min_height": null,
            "min_width": null,
            "object_fit": null,
            "object_position": null,
            "order": null,
            "overflow": null,
            "overflow_x": null,
            "overflow_y": null,
            "padding": null,
            "right": null,
            "top": null,
            "visibility": null,
            "width": null
          }
        },
        "b63698658aa8452ea0ce81ff1bf58004": {
          "model_module": "@jupyter-widgets/controls",
          "model_name": "DescriptionStyleModel",
          "model_module_version": "1.5.0",
          "state": {
            "_model_module": "@jupyter-widgets/controls",
            "_model_module_version": "1.5.0",
            "_model_name": "DescriptionStyleModel",
            "_view_count": null,
            "_view_module": "@jupyter-widgets/base",
            "_view_module_version": "1.2.0",
            "_view_name": "StyleView",
            "description_width": ""
          }
        },
        "862a7ab83e9841c18a00a506c9641a5f": {
          "model_module": "@jupyter-widgets/base",
          "model_name": "LayoutModel",
          "model_module_version": "1.2.0",
          "state": {
            "_model_module": "@jupyter-widgets/base",
            "_model_module_version": "1.2.0",
            "_model_name": "LayoutModel",
            "_view_count": null,
            "_view_module": "@jupyter-widgets/base",
            "_view_module_version": "1.2.0",
            "_view_name": "LayoutView",
            "align_content": null,
            "align_items": null,
            "align_self": null,
            "border": null,
            "bottom": null,
            "display": null,
            "flex": null,
            "flex_flow": null,
            "grid_area": null,
            "grid_auto_columns": null,
            "grid_auto_flow": null,
            "grid_auto_rows": null,
            "grid_column": null,
            "grid_gap": null,
            "grid_row": null,
            "grid_template_areas": null,
            "grid_template_columns": null,
            "grid_template_rows": null,
            "height": null,
            "justify_content": null,
            "justify_items": null,
            "left": null,
            "margin": null,
            "max_height": null,
            "max_width": null,
            "min_height": null,
            "min_width": null,
            "object_fit": null,
            "object_position": null,
            "order": null,
            "overflow": null,
            "overflow_x": null,
            "overflow_y": null,
            "padding": null,
            "right": null,
            "top": null,
            "visibility": null,
            "width": null
          }
        },
        "faed268a2bf04f87a0136d75349bc1ff": {
          "model_module": "@jupyter-widgets/controls",
          "model_name": "ProgressStyleModel",
          "model_module_version": "1.5.0",
          "state": {
            "_model_module": "@jupyter-widgets/controls",
            "_model_module_version": "1.5.0",
            "_model_name": "ProgressStyleModel",
            "_view_count": null,
            "_view_module": "@jupyter-widgets/base",
            "_view_module_version": "1.2.0",
            "_view_name": "StyleView",
            "bar_color": null,
            "description_width": ""
          }
        },
        "e8e2a3cd7b17468c81ea0ee070d6341a": {
          "model_module": "@jupyter-widgets/base",
          "model_name": "LayoutModel",
          "model_module_version": "1.2.0",
          "state": {
            "_model_module": "@jupyter-widgets/base",
            "_model_module_version": "1.2.0",
            "_model_name": "LayoutModel",
            "_view_count": null,
            "_view_module": "@jupyter-widgets/base",
            "_view_module_version": "1.2.0",
            "_view_name": "LayoutView",
            "align_content": null,
            "align_items": null,
            "align_self": null,
            "border": null,
            "bottom": null,
            "display": null,
            "flex": null,
            "flex_flow": null,
            "grid_area": null,
            "grid_auto_columns": null,
            "grid_auto_flow": null,
            "grid_auto_rows": null,
            "grid_column": null,
            "grid_gap": null,
            "grid_row": null,
            "grid_template_areas": null,
            "grid_template_columns": null,
            "grid_template_rows": null,
            "height": null,
            "justify_content": null,
            "justify_items": null,
            "left": null,
            "margin": null,
            "max_height": null,
            "max_width": null,
            "min_height": null,
            "min_width": null,
            "object_fit": null,
            "object_position": null,
            "order": null,
            "overflow": null,
            "overflow_x": null,
            "overflow_y": null,
            "padding": null,
            "right": null,
            "top": null,
            "visibility": null,
            "width": null
          }
        },
        "ef0622e0d7a548539ed39e4ae0e0362c": {
          "model_module": "@jupyter-widgets/controls",
          "model_name": "DescriptionStyleModel",
          "model_module_version": "1.5.0",
          "state": {
            "_model_module": "@jupyter-widgets/controls",
            "_model_module_version": "1.5.0",
            "_model_name": "DescriptionStyleModel",
            "_view_count": null,
            "_view_module": "@jupyter-widgets/base",
            "_view_module_version": "1.2.0",
            "_view_name": "StyleView",
            "description_width": ""
          }
        }
      }
    }
  },
  "cells": [
    {
      "cell_type": "markdown",
      "metadata": {
        "id": "view-in-github",
        "colab_type": "text"
      },
      "source": [
        "<a href=\"https://colab.research.google.com/github/SmartGridsML/30daysML/blob/main/bilal_wav2vec2_finetune.ipynb\" target=\"_parent\"><img src=\"https://colab.research.google.com/assets/colab-badge.svg\" alt=\"Open In Colab\"/></a>"
      ]
    },
    {
      "cell_type": "code",
      "execution_count": null,
      "metadata": {
        "colab": {
          "base_uri": "https://localhost:8080/"
        },
        "id": "y731PZXZfox3",
        "outputId": "c548ab74-91df-48fa-ea85-97b037c61ee5"
      },
      "outputs": [
        {
          "output_type": "stream",
          "name": "stdout",
          "text": [
            "Repository: 'deb https://ppa.launchpadcontent.net/jonathonf/ffmpeg-4/ubuntu/ jammy main'\n",
            "Description:\n",
            "Backport of FFmpeg 4 and associated libraries. Now includes AOM/AV1 support!\n",
            "\n",
            "FDK AAC is not compatible with GPL and FFmpeg can't be redistributed with it included. Please don't ask for it to be added to this public PPA.\n",
            "\n",
            "---\n",
            "\n",
            "PPA supporters:\n",
            "\n",
            "BigBlueButton (https://bigbluebutton.org)\n",
            "\n",
            "---\n",
            "\n",
            "Donate to FFMPEG: https://ffmpeg.org/donations.html\n",
            "Donate to Debian: https://www.debian.org/donations\n",
            "Donate to this PPA: https://ko-fi.com/jonathonf\n",
            "More info: https://launchpad.net/~jonathonf/+archive/ubuntu/ffmpeg-4\n",
            "Adding repository.\n",
            "Adding deb entry to /etc/apt/sources.list.d/jonathonf-ubuntu-ffmpeg-4-jammy.list\n",
            "Adding disabled deb-src entry to /etc/apt/sources.list.d/jonathonf-ubuntu-ffmpeg-4-jammy.list\n",
            "Adding key to /etc/apt/trusted.gpg.d/jonathonf-ubuntu-ffmpeg-4.gpg with fingerprint 4AB0F789CBA31744CC7DA76A8CF63AD3F06FC659\n",
            "Hit:1 http://archive.ubuntu.com/ubuntu jammy InRelease\n",
            "Get:2 http://archive.ubuntu.com/ubuntu jammy-updates InRelease [119 kB]\n",
            "Get:3 http://security.ubuntu.com/ubuntu jammy-security InRelease [110 kB]\n",
            "Hit:4 https://cloud.r-project.org/bin/linux/ubuntu jammy-cran40/ InRelease\n",
            "Hit:5 https://developer.download.nvidia.com/compute/cuda/repos/ubuntu2204/x86_64  InRelease\n",
            "Hit:6 http://archive.ubuntu.com/ubuntu jammy-backports InRelease\n",
            "Hit:7 https://ppa.launchpadcontent.net/c2d4u.team/c2d4u4.0+/ubuntu jammy InRelease\n",
            "Hit:8 https://ppa.launchpadcontent.net/deadsnakes/ppa/ubuntu jammy InRelease\n",
            "Hit:9 https://ppa.launchpadcontent.net/graphics-drivers/ppa/ubuntu jammy InRelease\n",
            "Ign:10 https://ppa.launchpadcontent.net/jonathonf/ffmpeg-4/ubuntu jammy InRelease\n",
            "Hit:11 https://ppa.launchpadcontent.net/ubuntugis/ppa/ubuntu jammy InRelease\n",
            "Err:12 https://ppa.launchpadcontent.net/jonathonf/ffmpeg-4/ubuntu jammy Release\n",
            "  404  Not Found [IP: 185.125.190.80 443]\n",
            "Reading package lists... Done\n",
            "E: The repository 'https://ppa.launchpadcontent.net/jonathonf/ffmpeg-4/ubuntu jammy Release' does not have a Release file.\n",
            "N: Updating from such a repository can't be done securely, and is therefore disabled by default.\n",
            "N: See apt-secure(8) manpage for repository creation and user configuration details.\n",
            "Hit:1 https://cloud.r-project.org/bin/linux/ubuntu jammy-cran40/ InRelease\n",
            "Hit:2 https://developer.download.nvidia.com/compute/cuda/repos/ubuntu2204/x86_64  InRelease\n",
            "Hit:3 http://security.ubuntu.com/ubuntu jammy-security InRelease\n",
            "Hit:4 http://archive.ubuntu.com/ubuntu jammy InRelease\n",
            "Hit:5 http://archive.ubuntu.com/ubuntu jammy-updates InRelease\n",
            "Hit:6 https://ppa.launchpadcontent.net/c2d4u.team/c2d4u4.0+/ubuntu jammy InRelease\n",
            "Hit:7 http://archive.ubuntu.com/ubuntu jammy-backports InRelease\n",
            "Hit:8 https://ppa.launchpadcontent.net/deadsnakes/ppa/ubuntu jammy InRelease\n",
            "Hit:9 https://ppa.launchpadcontent.net/graphics-drivers/ppa/ubuntu jammy InRelease\n",
            "Ign:10 https://ppa.launchpadcontent.net/jonathonf/ffmpeg-4/ubuntu jammy InRelease\n",
            "Hit:11 https://ppa.launchpadcontent.net/ubuntugis/ppa/ubuntu jammy InRelease\n",
            "Err:12 https://ppa.launchpadcontent.net/jonathonf/ffmpeg-4/ubuntu jammy Release\n",
            "  404  Not Found [IP: 185.125.190.80 443]\n",
            "Reading package lists... Done\n",
            "\u001b[1;31mE: \u001b[0mThe repository 'https://ppa.launchpadcontent.net/jonathonf/ffmpeg-4/ubuntu jammy Release' does not have a Release file.\u001b[0m\n",
            "\u001b[33mN: \u001b[0mUpdating from such a repository can't be done securely, and is therefore disabled by default.\u001b[0m\n",
            "\u001b[33mN: \u001b[0mSee apt-secure(8) manpage for repository creation and user configuration details.\u001b[0m\n",
            "\u001b[2K     \u001b[90m━━━━━━━━━━━━━━━━━━━━━━━━━━━━━━━━━━━━━━━━\u001b[0m \u001b[32m542.0/542.0 kB\u001b[0m \u001b[31m4.6 MB/s\u001b[0m eta \u001b[36m0:00:00\u001b[0m\n",
            "\u001b[2K     \u001b[90m━━━━━━━━━━━━━━━━━━━━━━━━━━━━━━━━━━━━━━━━\u001b[0m \u001b[32m84.1/84.1 kB\u001b[0m \u001b[31m10.5 MB/s\u001b[0m eta \u001b[36m0:00:00\u001b[0m\n",
            "\u001b[2K     \u001b[90m━━━━━━━━━━━━━━━━━━━━━━━━━━━━━━━━━━━━━━━━\u001b[0m \u001b[32m116.3/116.3 kB\u001b[0m \u001b[31m12.8 MB/s\u001b[0m eta \u001b[36m0:00:00\u001b[0m\n",
            "\u001b[2K     \u001b[90m━━━━━━━━━━━━━━━━━━━━━━━━━━━━━━━━━━━━━━━━\u001b[0m \u001b[32m194.1/194.1 kB\u001b[0m \u001b[31m11.6 MB/s\u001b[0m eta \u001b[36m0:00:00\u001b[0m\n",
            "\u001b[2K     \u001b[90m━━━━━━━━━━━━━━━━━━━━━━━━━━━━━━━━━━━━━━━━\u001b[0m \u001b[32m134.8/134.8 kB\u001b[0m \u001b[31m14.1 MB/s\u001b[0m eta \u001b[36m0:00:00\u001b[0m\n",
            "\u001b[2K     \u001b[90m━━━━━━━━━━━━━━━━━━━━━━━━━━━━━━━━━━━━━━━━\u001b[0m \u001b[32m401.2/401.2 kB\u001b[0m \u001b[31m28.8 MB/s\u001b[0m eta \u001b[36m0:00:00\u001b[0m\n",
            "\u001b[2K     \u001b[90m━━━━━━━━━━━━━━━━━━━━━━━━━━━━━━━━━━━━━━━━\u001b[0m \u001b[32m3.4/3.4 MB\u001b[0m \u001b[31m31.4 MB/s\u001b[0m eta \u001b[36m0:00:00\u001b[0m\n",
            "\u001b[?25h"
          ]
        }
      ],
      "source": [
        "!add-apt-repository -y ppa:jonathonf/ffmpeg-4 && apt update && apt install -y ffmpeg\n",
        "!pip install --quiet datasets transformers evaluate huggingface_hub jiwer"
      ]
    },
    {
      "cell_type": "code",
      "source": [
        "from huggingface_hub import login\n",
        "\n",
        "login()"
      ],
      "metadata": {
        "colab": {
          "base_uri": "https://localhost:8080/",
          "height": 113,
          "referenced_widgets": [
            "6d45d8cc256142f38b42924f4c142f73",
            "a7716b96119047df9cd103f2b093bdbd",
            "1741cf33b8df4e31a58346f41ce16877",
            "a94418e6bdeb4ee4905ca7577198fc7f",
            "c8968cb6f80941e1944f923bb251c656",
            "376367809a3e4b6a8be44886d7e4624b",
            "31abc7b1730e423a96ecd2b3488310db",
            "76a1ce84482043fbb401f00af11ac307",
            "b2f2b0b5c6e943e0b1f745cdb79bee16",
            "e8dc582eb2744bc6a6bf95d9ee041835",
            "24166cbc58d142b783d1bd39efc31fec",
            "f35a73d8f3d8434d88a28fcc6a0595ee",
            "8bcabf6e072f40e0a56f0361aca66bdc",
            "77fe4c88721f4f689d05a5c28401802d",
            "30de85bd84bd4158bf6c91be34e8dedc",
            "0c0352bc5b9b440fb1c88bdbad281873",
            "477c3c077a1d48bf81c58da62e5f4de3",
            "6461886e681e4a58bfd5d5cf95c0baeb",
            "1213ff683bd847edb631fb4b4ad550c3",
            "9c95fbc143ad4c6386012277f892d759",
            "b02beb89041046118b5b108cf40478c3",
            "69add3a9b8e14ff196963458cf91af37",
            "7baa947cdc82464da913ecf1f76ccf0d",
            "55a5d3e66b234f38b4394ec044e25c84",
            "12d533a9ba034b2e93e5954fe5d29676",
            "0671c36ee9b74a79bcd0bf0d6a46a979",
            "a5bfca2caed5479c9a4b8e591a38bd4e",
            "be9012febb804c35a50d7e9bb2336f9e",
            "790c12c70cc642318efc3916d7c33e0b"
          ]
        },
        "id": "a2G8igQuf6x3",
        "outputId": "84be2e7a-d230-4f11-abec-e27933b348b7"
      },
      "execution_count": null,
      "outputs": [
        {
          "output_type": "display_data",
          "data": {
            "text/plain": [
              "VBox(children=(HTML(value='<center> <img\\nsrc=https://huggingface.co/front/assets/huggingface_logo-noborder.sv…"
            ],
            "application/vnd.jupyter.widget-view+json": {
              "version_major": 2,
              "version_minor": 0,
              "model_id": "6d45d8cc256142f38b42924f4c142f73"
            }
          },
          "metadata": {}
        }
      ]
    },
    {
      "cell_type": "markdown",
      "source": [
        "#Load & Prepare an Audio Dataset"
      ],
      "metadata": {
        "id": "qQpC9Z21gMou"
      }
    },
    {
      "cell_type": "code",
      "source": [
        "from datasets import load_dataset\n",
        "\n",
        "dataset = load_dataset(\"Shirali/ISSAI_KSC_335RS_v_1_1\", split=\"train\",streaming=True, use_auth_token=True)"
      ],
      "metadata": {
        "colab": {
          "base_uri": "https://localhost:8080/",
          "height": 205,
          "referenced_widgets": [
            "6ad37e9b5eb84723923cd6a59a708bfe",
            "36995e75828b4ee385bc31463edd15de",
            "0bf6e9ec3c0d499db83bef5085b1599b",
            "24e6aee71e474fdb8cf7243c4b1146f8",
            "a385ee63dbd14f1ca0a3e13ab8d1dc31",
            "ce76455234c04ac694cbd1de16ad8f6c",
            "fa7c0ac024bf4c388ecf3d38a6d537b1",
            "86563fc804a54a999eb6329aeec62f43",
            "d74c7dbd7bb14bd89ab2c61047f1a4c3",
            "9a95c522b0ae4dbea6231f4594b388d1",
            "915686ea3f1a4941a1d0a31e8a197974",
            "67abd286eabd4893a8fadb0f52fb0602",
            "ca4110eb815046c7bf62c3ecdf8b894a",
            "e3834825b7b246d6926261631e13dd4d",
            "188f18f1b410449d98c4fd7bc665324e",
            "45466bf6a99d4fe4b21fff96c1bd5fcc",
            "24ffb558b0b446e3b651feee4c4eb828",
            "b63698658aa8452ea0ce81ff1bf58004",
            "862a7ab83e9841c18a00a506c9641a5f",
            "faed268a2bf04f87a0136d75349bc1ff",
            "e8e2a3cd7b17468c81ea0ee070d6341a",
            "ef0622e0d7a548539ed39e4ae0e0362c"
          ]
        },
        "id": "7GXbLLHdfvte",
        "outputId": "2d798fc3-0a2b-4431-b554-4929b69085dc"
      },
      "execution_count": null,
      "outputs": [
        {
          "output_type": "stream",
          "name": "stderr",
          "text": [
            "/usr/local/lib/python3.10/dist-packages/huggingface_hub/utils/_token.py:89: UserWarning: \n",
            "The secret `HF_TOKEN` does not exist in your Colab secrets.\n",
            "To authenticate with the Hugging Face Hub, create a token in your settings tab (https://huggingface.co/settings/tokens), set it as secret in your Google Colab and restart your session.\n",
            "You will be able to reuse this secret in all of your notebooks.\n",
            "Please note that authentication is recommended but still optional to access public models or datasets.\n",
            "  warnings.warn(\n"
          ]
        },
        {
          "output_type": "display_data",
          "data": {
            "text/plain": [
              "Downloading readme:   0%|          | 0.00/2.13k [00:00<?, ?B/s]"
            ],
            "application/vnd.jupyter.widget-view+json": {
              "version_major": 2,
              "version_minor": 0,
              "model_id": "6ad37e9b5eb84723923cd6a59a708bfe"
            }
          },
          "metadata": {}
        },
        {
          "output_type": "display_data",
          "data": {
            "text/plain": [
              "Resolving data files:   0%|          | 0/40 [00:00<?, ?it/s]"
            ],
            "application/vnd.jupyter.widget-view+json": {
              "version_major": 2,
              "version_minor": 0,
              "model_id": "67abd286eabd4893a8fadb0f52fb0602"
            }
          },
          "metadata": {}
        }
      ]
    },
    {
      "cell_type": "code",
      "source": [
        "print(next(iter(dataset)))"
      ],
      "metadata": {
        "colab": {
          "base_uri": "https://localhost:8080/"
        },
        "id": "dkPjKnuLgvRv",
        "outputId": "abd5b82d-e254-46ae-e9c8-58996b87bf32"
      },
      "execution_count": null,
      "outputs": [
        {
          "output_type": "stream",
          "name": "stdout",
          "text": [
            "{'uttID': '5ed899a15482d', 'deviceID': 5, 'text': 'ілгеріде көшіп қонып үзілмей тұрғанда бұл даланы бұрынғылар іш жақ деп атаған екен', 'audio': {'path': '5ed899a15482d.flac', 'array': array([ 0.00000000e+00,  0.00000000e+00,  3.05175781e-05, ...,\n",
            "       -1.58996582e-02,  1.22375488e-02,  2.07824707e-02]), 'sampling_rate': 16000}}\n"
          ]
        }
      ]
    },
    {
      "cell_type": "code",
      "source": [
        "import IPython.display as ipd\n",
        "\n",
        "sample = next(iter(dataset))\n",
        "audio = sample[\"audio\"]\n",
        "\n",
        "print(sample[\"text\"])\n",
        "ipd.Audio(data=audio[\"array\"], autoplay=True, rate=audio[\"sampling_rate\"])"
      ],
      "metadata": {
        "colab": {
          "base_uri": "https://localhost:8080/",
          "height": 93
        },
        "id": "zowcI_rng2hO",
        "outputId": "4d17b594-b1a8-42c3-a69d-623e9172db85"
      },
      "execution_count": null,
      "outputs": [
        {
          "output_type": "stream",
          "name": "stdout",
          "text": [
            "ілгеріде көшіп қонып үзілмей тұрғанда бұл даланы бұрынғылар іш жақ деп атаған екен\n"
          ]
        },
        {
          "output_type": "execute_result",
          "data": {
            "text/plain": [
              "<IPython.lib.display.Audio object>"
            ],
            "text/html": [
              "\n",
              "                <audio  controls=\"controls\" autoplay=\"autoplay\">\n",
              "                    <source src=\"data:audio/wav;base64,UklGRiRgAwBXQVZFZm10IBAAAAABAAEAgD4AAAB9AAACABAAZGF0YQBgAwAAAAAAAQAAAAAAAQABAAEAAAAAAAAAAAAAAAAAAAAAAAEAAAD//wAAAAAAAP////8AAAAA//8AAAAAAQAAAAAAAAAAAAAA//8AAAAAAAAAAAAAAAAAAAAA//8AAAAAAAAAAP//AAAAAAAAAAD//wAAAAAAAAAAAAAAAAAAAAAAAAAAAAABAP//AAAAAAAAAAAAAAAAAAD//wAAAAD//wAAAAAAAAAAAAAAAAAAAQAAAP//AAAAAAAAAAAAAAAA//8AAP//AAABAAAA//8AAAEAAQD///////8AAAAAAAAAAP//AAD//wAAAAAAAP//AAABAP//AAAAAAAAAAAAAAAAAAAAAAEAAAAAAAAAAAAAAAEAAAAAAAEA//8BAAEAAAAAAAAAAAAAAAEAAAAAAAEAAAAAAAAAAAAAAAAAAAD//wAAAAAAAAAAAAAAAAAAAAAAAAAAAAABAAAA//8AAP////8AAAAAAQAAAAAAAAAAAAAAAAAAAAAAAAAAAAAAAAAAAAAA//8BAP//AAAAAAAA//8AAAAAAAAAAAEAAQABAAAAAQAAAAAA//8AAP//AAAAAAAAAAAAAAAA//8AAAAAAQD//wAAAAABAAAAAAAAAP//AAAAAAAAAQAAAAAAAAD//wEAAAAAAAAAAAAAAAAAAAAAAP//AAD//wAAAAAAAAAAAAABAAAAAAABAAAAAQAAAAAAAAAAAAAAAAABAAAAAAAAAAAA//8AAAAA//8AAAAA//8AAAAAAQAAAAAAAAD//wAAAAAAAAAAAAAAAAAA//8AAAEAAAAAAP//AQAAAAEAAAAAAP//AAD//wAAAQAAAP//AAAAAAAAAAABAAAAAQAAAAAAAAAAAAAAAQABAAAAAAAAAAAAAAAAAAAAAQAAAAAAAAAAAAAAAQAAAAAAAAAAAAEA//8AAAEA//8AAAEAAQAAAAEAAAABAAAAAQAAAAAAAAAAAAAAAAAAAAEAAAAAAAAAAAABAAAAAAAAAAAAAAAAAAAAAAAAAAAA////////AAAAAAAAAAAAAAAAAAAAAP//AAAAAAAAAQD//wAAAAAAAAAAAAAAAAAAAQAAAAEAAQAAAP//AAD//wAAAAD//wAAAAABAAAAAAAAAAAAAAAAAP//AAAAAAAAAAAAAAAAAAAAAAAAAAAAAAAAAAD//wAAAAD//wAAAAAAAAAAAAABAAAAAAAAAAAAAQAAAP//AAAAAAAAAAAAAAAAAAAAAAAAAAAAAAAA//8AAAAAAQAAAAAA/////wAA//8AAAAAAAD//wEAAAAAAP//AAAAAAAAAAABAP//AAABAP//AAAAAAAAAAAAAAEAAQAAAAAAAAAAAAAA/////wAAAAAAAAAAAQAAAAAAAAAAAAAAAAAAAAAAAAAAAAAAAAAAAAAAAAABAAAA//8AAAAAAAAAAAAAAAAAAAAAAAAAAAAAAAAAAAAAAAD/////AAAAAAEAAAAAAAEAAAD//wEAAAAAAAEAAAAAAAAAAAAAAAAAAAAAAAAAAAAAAP////8AAAAAAQAAAAAAAQABAAAAAQAAAP//AAAAAAAAAAAAAAAAAAAAAAAAAAABAAAAAAAAAAAAAAAAAAEAAAAAAAAAAAAAAAAAAAAAAAAAAAAAAAEA//8AAAAAAAAAAAAAAAAAAP//AAAAAAAAAQABAAAAAAAAAAAAAAABAAAAAQAAAAAA//8AAAAAAAAAAAAAAAAAAAAAAAAAAAAAAQAAAAAAAAAAAAAAAAAAAAAAAAAAAAAAAAAAAAAAAAAAAAAAAAAAAAAAAAD//wAAAAAAAAAAAQAAAAAA/////wAAAAABAAAAAQAAAP//AAAAAP//AAABAAAAAAAAAAAAAAD//wAAAAAAAAEAAAAAAAAAAAAAAAEAAAAAAAAAAAAAAAAAAAAAAP//AAABAAAAAAABAAAA/////wAAAAAAAAAAAAAAAAAA//8AAAAAAAD//wEAAAAAAAAA//8AAAAAAAAAAP//AAAAAAAAAAAAAAAAAAABAAAAAAAAAAAAAAABAAAAAAAAAAAAAAAAAAAAAAAAAAAAAAAAAAAAAAAAAAAAAAAAAAAAAQD//wEAAAAAAAAAAAD//wEAAQAAAP//AAABAAAAAAD//wAAAAD//wEAAAAAAP//AAAAAAEAAAABAAEA//8AAAAAAAABAAAAAAAAAAAAAQAAAAEAAAAAAAAAAAAAAAEAAAAAAAAAAAABAAAAAQAAAAAAAAAAAAAAAAAAAP//AAAAAAEAAAAAAAEAAAABAP////8BAAAAAAABAAEAAAAAAAAAAAABAAAAAAD//////////wAA//8AAAAAAQAAAAAAAAD//wEA/////wAA//8AAP//AAD//wAAAAAAAAAAAAAAAAAAAAAAAAAAAAAAAAAAAAAAAAAAAAAAAP//AAD//wEAAQD//wEAAAAAAAAAAAAAAAAAAAAAAAAAAAAAAP//AAABAP//AQABAAAAAAAAAAAAAAAAAAAAAAAAAAAAAAAAAAAAAAAAAAAAAAABAAAAAAAAAAAA/////wAAAQAAAAAAAAAAAAAAAAAAAAAAAAAAAAAAAQAAAAAAAAAAAP//AAAAAAAAAAAAAAAAAQAAAAAAAAAAAAEAAAAAAAEAAAAAAP//AAAAAAAA//8AAAAAAQABAAAA//8AAAAAAAAAAP//AAAAAAAAAAAAAAEAAAD/////AQAAAAAAAAABAAAAAQAAAAAAAAAAAAAAAAAAAAAA//8AAAAAAAAAAAAAAAAAAAAAAAAAAAAAAAAAAAAAAQAAAAAAAAAAAAAAAQAAAP//AAAAAAAAAAAAAP//AAABAAAAAAABAAAAAAD//wAA//8AAAAAAAAAAAAAAAAAAAAAAQAAAAAAAAAAAAAAAAAAAAAAAAAAAAAAAAAAAAAAAAAAAAAAAAAAAAAA//8AAP//AAAAAAAAAAAAAAAAAAAAAAAAAAAAAAAA//8BAAAAAAD//wAAAAABAAAA//8AAAAAAAAAAAAAAAAAAAAAAAABAAAAAAAAAAAAAAAAAAAAAAAAAAAAAAAAAAEAAAAAAAEAAAD//wAAAAAAAAAAAAAAAP//AAAAAAAAAAAAAAAAAAAAAP//AAD//wAAAAD//wAAAAAAAAAAAAAAAP////8AAAAAAAAAAAAAAAAAAAAA//8BAAEAAQD//wAAAAAAAAAAAAD//wAAAAD//wAAAQD///////8AAP////8AAAAAAAAAAAEAAAAAAP//AAAAAAAAAAAAAAEAAAAAAAEAAAAAAAAAAAABAAAA//8AAAAAAAD//wEAAAABAP///////wAAAQAAAAAAAAAAAAAAAAAAAAAAAAD//wEAAAAAAAEAAAAAAAAAAQAAAAAAAQAAAAAA//8AAAAAAAAAAAEAAAAAAAEA//8AAAEAAAAAAAAAAAAAAP//AAAAAP//AAABAP//AAAAAP//AAABAAAA//8AAAAA/////wAA//8AAAEAAQAAAAAAAAAAAAAAAAAAAAAAAAAAAAAA//8BAAAAAAD//wEAAAAAAAAAAAD//wAAAAABAP//AAAAAAAAAAAAAAEAAAAAAAAAAAABAAEAAQD/////AAAAAAAAAAAAAAAAAAABAP//AAAAAAAA//8AAAEAAAAAAP//AAAAAAAAAAAAAAAAAAAAAAAAAAABAAAAAAAAAAAAAAAAAAAAAAAAAAAAAAAAAAEAAAABAAAAAAAAAAAAAAAAAAAAAAABAP//AAAAAAAAAAAAAAAAAAAAAAEAAAAAAAAAAAAAAAAAAAAAAAAAAAAAAAAAAAABAAAAAQAAAAAAAAAAAAAAAAAAAAEAAAAAAAAAAAABAAAAAAAAAAEAAAAAAAAAAAABAP//AQD//wAAAAD//wAA//8AAP//AAAAAAAAAAAAAAEAAAAAAAAAAAAAAP//AAAAAAAAAAAAAP////8AAAAAAAD//wAAAAAAAP//AAAAAAAA//8AAAAAAAAAAAAAAAAAAAAAAAAAAP//AAAAAAEAAAAAAP//AAAAAP//AAAAAP//AAAAAAAAAAAAAAAAAAAAAAAAAQAAAAEAAQAAAAAA//8AAP//AAAAAAAAAQD//wAAAAAAAAAAAAAAAAAAAAAAAP//AAAAAAAAAAAAAAEAAAAAAAAA//8AAP//AAAAAAEAAQAAAAEAAAAAAP////8AAAAA//8AAAEAAAAAAAAAAAAAAAAAAAAAAAEAAAAAAAEA//8AAAAAAAAAAAEAAAABAAAAAAAAAAAAAAD//wAAAAAAAAAAAAABAAEA//8BAP//AAABAAAAAQD//wAAAAAAAAAAAAD//wAAAAD//wAAAAAAAAAAAAAAAAAAAAAAAAAAAAAAAAAAAAAAAAAAAAAAAAAAAAAAAAAA//8AAAAAAAAAAAEAAAAAAAAAAAAAAAAAAAAAAAEAAAAAAAAAAAD//wAA//8AAAAAAAAAAAEAAAD//wAAAAAAAAAAAAAAAAAA//8AAAAAAAAAAAAAAAABAAAAAQAAAP//AAD//wEAAAD//wAAAAAAAAAAAAAAAP//AAAAAAAAAAABAAAAAAAAAAAAAAAAAP//AAAAAP//AAAAAAAAAAAAAP////8AAAEAAAABAAAAAAAAAAAAAAABAAAAAAD//wAAAAAAAP//AAAAAAAAAQAAAAAAAAAAAAAAAAABAAAAAAAAAAAA//8AAAAAAAAAAAAAAQD//wAAAQABAAAAAAAAAAAAAAAAAAAAAAABAAAAAQAAAAAA/////wAAAAD//wAAAAAAAP//AAAAAAAAAAAAAP/////+//3//P/8//z/+//6//n/+f/4//j/9//3//T/9v/2//b/9v/2//f/9P/2//f/9//3//f/9v/3//b/+P/4//f/+P/4//j/+P/3//j/+f/4//j/+P/5//n/+f/6//r/+f/6//r/+v/7//v//P/9//7//v/+////AAAAAAAAAQABAAEABAADAAMABAAFAAQABAAFAAYABgAEAAUABwAHAAYABgAGAAYABQAGAAUABAAFAAYABgAEAAMABwAHAAUABgAHAAgACQAJAAwADgANABAAEgARABUAGQAZAB4AHwAfACUAJAAoAC4AKgAqADMAMwA0ADYAMwA6AD4AOAA7ADoANQA/ADwAMQA1ADMAMAAzACYAIwApABwAFwAYAAkACQAIAPn/9//0/+j/5v/c/9D/2f/G/7b/wP+//67/rf+h/8L/uf8W///+N/8h/xT/Cv8G/yr/IP8H/x//Jf8g/zX/Nv9D/13/Tf9j/33/ff+Z/7j/uv/d//b/7v8IACYAMwBWAGEAdACnALUAvADWANsA9gAiAS8BRAFRAVkBbwF4AXABkAGhAaoBxAHDAcABzwHGAcYB4gHUAdgB6AHZAdkB3QHMAcgBvgG9Ac4BwwG4AbgBqQGTAY4BkAGKAYkBfAFxAW4BVQFPAT8BJwE0ATYBJwEZAQYB9ADXAMMAvwC+ALoApgCIAHcAaQBQADkALQApABMACAABANz/y/+y/6P/m/+N/4T/e/9l/0j/OP8p/xv/Ef8K/wb/BP/p/tD+zf6x/q/+sf6j/qP+oP6M/oD+d/5m/mv+Xf5g/m/+YP5H/kX+Q/49/kP+L/4y/j7+N/4s/i7+JP4e/ij+I/4q/ir+Lf5C/hP+1f3y/QD+CP4N/hL+HP4j/iL+KP42/j3+S/5g/m7+gP6K/oz+ov63/sn+5v79/hL/MP9B/1P/af+A/57/tf/K/+j///8QACUANgBKAGEAegCQAKEAsgDBANAA3gDtAP8ADQEcAScBMgE9AUQBTAFYAWMBagFyAXoBfgGDAYkBiwGPAZIBlwGbAZ0BngGeAZ0BmwGcAZsBmAGYAZQBkgGOAYoBhQGAAXwBeAFyAW0BaAFiAVwBVAFMAUYBPgE3AS8BJgEdARYBDgEFAfwA9QDqAOIA2QDQAMkAvwC1AK0ApACcAJIAigCBAHgAcQBpAGAAWQBSAEkAQwA7ADUALQAmAB8AGgAUAAwABwACAP7/+f/z/+7/6f/k/97/2v/W/9L/z//L/8b/w/+9/7v/uP+1/7L/rv+r/6f/pf+h/6D/nP+a/5b/k/+P/47/i/+K/4n/hf+D/4H/f/99/3v/ev95/3n/d/91/3X/dP90/3X/c/90/3T/dP91/3T/df92/3f/d/94/3v/e/9+/4D/gf+D/4P/hf+I/4n/i/+N/43/kP+T/5T/l/+Z/5v/n/+g/6L/pv+l/6n/rf+u/7D/tP+2/7X/uP+5/73/vf+8/8D/wP/D/8P/xP/I/8r/zP/O/9H/0//T/9j/2v/c/93/5P/n/+n/7P/v//P/9v/5//v//v8DAAQABQANAA0AEQATABgAHgAeACMAJQAoAC0AMQA0ADMANQA4ADoAOgA9AEEARQBGAEcASQBLAEsATwBLAEwATwBOAE8ASwBKAEwATABQAE4ATgBMAEsASQBFAEQARABBAD8APgA6ADkAMwAzADgAOAA8ADwAOwA5ADYAMgAzADIALQAtACsAKgAjACMAIgAgAB0AGwAcAB0AHAAVABMAGgAUABAAFwAXABoAFAAQABMAFAAUAAwACQANAA0ACgAIAAUAAgAAAP3//f8AAP//+//9//j/+P/3//n/9v/u/+7/8P/y//D/7f/r/+v/6f/o/+v/8f/v/+//7P/p/+v/6P/v//L/7v/t/+j/6P/o/+P/4//i/+X/5f/h/+L/4//l/+j/6f/t/+b/4f/g/+X/4P/Y/9j/2//a/9n/4P/c/+D/2P/W/9f/1f/W/9r/2v/b/97/3P/l/+z/6P/v//H//v/4/+z/6f/k/+b/5P/o/+X/2P/g/+f/4//g/9r/3P/d/+L/4v/b/9r/2P/R/9P/1v/Y/9b/0P/S/9P/0v/V/9P/zP/P/87/0f/N/8//1//X/9f/1//Z/9z/3f/o/+L/3v/j/9z/5P/c/9n/2//b/9z/3P/b/+H/8P/x//n/8v/2//3/BAAGAPv/9//3//v/+v/6//z///8FAAwADgAXABsAHQAgAB0AGwAXABgAEwARABgAFAAUABIAEQAVABIAFwAXABcAFQAXAA4ACQAQAAcABQAFAAYABAADAAIA9v/3//j/9v/5//D/7f/v//b/9P/7//D/8P/5//L/8v/7//z/9/////T//f/6//T/AgACAP7//P8IAAkAEAARABQAHgAeAB4AHQAaAB0AGgAUAB8AHgAUABkAGgAfACgAIwAuADAAMAA6ADoARABHAEgARwBOAEcAUABXAFkAXABTAFIAVABfAFcAVgBZAFcAYABVAFkAXgBcAGcAawBnAGwAawB2AHoAfACAAHQAcwByAHIAcgByAGoAcQB2AHcAdgB4AHgAdQBzAG8AdQBvAF4AXgBfAFAAVQBOAEYASgBEAEYAPABDAEYANAApAB8AGwAOAA0ACAAbACIAHgAZABMAJQAeACMAIwAmABoACQAJAAAA/P/v/+L/5v/c/97/5f/g/+j/6f/k/9X/2P/l/9v/1v/S/9H/zP+9/73/vP+x/67/mf+P/5T/kf+I/3//hv+F/43/hv+P/43/mP+c/5X/mf+M/5r/i/+J/5H/kP+V/47/if+b/5r/lv+Y/5H/of+b/5X/nv+q/6v/of+n/63/pf+x/6b/qf+l/6D/pP+c/5//mf+X/4T/j/+P/4z/jv+B/4L/jf+T/5H/l/+U/5z/nP+a/6H/pf+x/7b/uP/B/8r/zP/D/8b/zP/V/93/x//b/93/5P/5//3/BAAIAA8ADQAdABsAEAAXABUAGAATAAoACAASABsAHgArADgANgAxADkAQwA9ADEAOAA9AD8AQAA0AD0AQwBKAD0ASgBcAFwAaQBcAF8AXgBiAFwAZABfAE8AWgBLAFEAVgBJAEMAKAAlABEABQAEAO//4f/R/9f/xv+9/7f/sP+n/6n/m/+O/4z/e/+L/4P/gv+J/4b/hP93/4T/lv+O/4j/g/+T/57/mv+h/5z/oP+p/7T/w//F/9b/2//W/+T/2//n/+H/7f/z//L/9v/3/wIA8f/+/+7/7P/s/+n/7P/n/+f/5f/v/+z/6P/t//H////+/wYAAAD+/w4A//8SABEALgAkACUANgAwAEoARgBWAGUAaQByAH0AkQCbAKQAsQDCANQA4wD0AOYA7gDjAPAA7wDiAO8A5wAEAfYA9gDxAO4A+QD0AP8A8QD0AAAB/QARAQEBAAH4AAMBCgHuAO0A4gDiANsA2gDaAM8AwwDLAMcAtwCqALUArACdAJsAlwCQAHwAbwBnAFcAPgBIACYAGAAVAO//8f/Z/8L/vf+p/6z/p/+h/5f/jv+R/4T/jv+U/5D/lP+O/5T/mv+a/5b/rP+s/6//sf+i/7b/qf+s/7n/rv+7/7L/uv+9/7b/3P/c/9X/4f/e//L/7P/s/9v/0v/b/8j/2v/S/8r/z//O/9L/0//O/8f/w/+//8P/xv+t/6//q/+h/6L/mv+g/6X/qv+M/47/o/+g/5X/i/+Q/5H/if9//4D/gP9y/3v/e/9+/37/b/97/3f/ev96/37/j/+R/5n/lP+c/5j/lP+e/43/mP+D/3b/fv+D/4P/bv+A/4T/iP+M/4z/l/+N/5D/o/+n/7r/t/+0/7//y//g/9n/2v/O/83/0P/K/93/5v/Z/97/7//v//P/4v/c/+b/2//V/7v/pv+w/67/sP+m/6L/m/+h/5n/j/+Z/4z/gv92/33/ev9+/4P/c/+E/4//jP+L/4z/mv+g/5//qv+i/5v/nP+a/6P/mP+h/5n/of+v/7H/uf+n/7X/sf/A/8//w//L/8L/zf/P/9H/1v/L/97/3P/l/+L/4f/m/+j/9/8GAAgA7v/9/wQACQD0////CQD0//r/+P8RAAYAAwARACAALwAyAD0ARQBOAFYAUwBTAF8AXQBiAG0AdgCAAIMAjQCYAJAAmAChAJYAlgChAK4AtgCxAMMA2gDgAOcA7gACARMBGwEbASMBJAEjATEBOAEwAS4BQQFIAU0BTQFVAWMBWwFtAVwBZQFtAW0BfAFwAYABdAFnAXQBYwFcAUkBQQFFASsBNgEeARsBEwEPAQ4B8QD3AOkA2gDcAM8AxQC4AKcAsQCnAKoAowCWAJ8AqgCyAK8AqACjALwAwACpAJwAlQCJAIYAcwBgAEMAIwASAPj/4f/H/7T/oP+J/3n/af9e/03/KP8a//3+6P7n/tP+sP6h/rD+qP6L/n3+lf6N/o/+jv6b/qn+lf6j/qL+uv6r/rH+0/67/tT+zf7c/uP+2f75/vL+8P4B//n+//7+/g//D/8I/wz/Bf8O/wb/Af/q/uv+7v7k/uD+7/7p/t3++f4G//7+Ff8t/z3/SP9V/3v/iP+k/7H/w//Y/+7/EgAJADEASAA/AGEAaQB3AHoAjQCfAJ4AoACSAJgAgwCCAJAAegBoAFUAWQBIAEEAKwAbACYADQAfAAoA9v8HAPD/+v/5//3/AAAHABoA//8eACkAKgA0ADUATgBXAGgAcQCCAIcAkACpAKIAogCtAKYApACYAIwAkgBfAF8AWQAyACAA8//e/8j/p/+A/1f/Tf8h/wj/+f7R/tX+ov6m/qn+iP6c/ob+gP6a/pj+nv6x/rn+1P7q/vz+Bf8V/yf/Jv9I/0n/Yf93/33/lf+e/8b/1f/e/+b/+P8CAP3/AQACAP3/CQD6/+v/CQAAAAUA+v/6/wUABAATABMAHAAQABcANgA/AFUAQQBWAIoAiQCWAKYAugDHANQA8gAHAQgBDwE3AUkBPwFTAVkBcAGKAV4BXQFQAUcBXQExARwB+gDyAOQAxQDEAJwAiQCDAF4AYQBQAFAAVgBAAEwAPgBVAE4AXQBfAEwAfgCGAHgAlQCUAKwAwgC4ANgAzQDlAPIA8gACAQUBAwH7AAsBCAHmAOQA3gDhAL0AsQCpAHcAdABIAEMAFQD//wUA2v/K/7z/sf+v/5//nv+O/4X/k/+Y/5H/nP+n/6b/rP/O/+P/4P/8////JQA0AEUAUwBbAGwAewB9AIIAngCXAJQApACeAIoAjgCWAIcAhgB0AGEAXgBIAEwAMwAnAAwADwAAAPD/6//O/+T/z//Z/8z/q/+7/8P/v/+p/7j/q/+Y/7D/jv+g/57/mP+g/5b/nP+f/5b/if+D/2X/ZP9V/0L/L/8k/xX/Ef/9/u3+4/7U/s/+wv7M/rH+uv7H/s3+1f7V/u3+8f78/h//Hf83/0j/R/9Y/23/jP+O/6X/sP/L/+3/AAD4/w0AIwAfACIAKQApACQAQwA2AEEARgBJAD0ARAA5ACMAIgAaABEA7//u//D/2f/E/8r/t/+6/7X/rv+q/67/pP+m/7L/uv+k/6X/zP/L/9H/wv/W//j/4v/l//j/+P8RAAEAHAAFABUAIwAXAC8ABwAmABUAFwAUAPj/DwAFAPr//v/t/+3/7f/s/9n/y//D/8f/uv+8/8b/qf+v/7L/vf+3/7f/tv/F/7b/rf+0/5b/kf+K/43/ev9w/2f/bP9g/0z/S/8//zD/G/8U/wr/BP/2/vv+//7n/vr++v4E/wr/B/8U/x3/Kf8d/yn/RP9N/1z/aP9r/5P/n/+j/7z/0v/i/+L/8f8FACcAHgAlAFMAVwBWAGAAfACDAIMAjQCHAJcAigChAKwAoADLALkA0ADMANoA5gDbAAYB9wD9AAwBFQEcARsBKwFGAUkBTwFVAWIBgAF8AYABfwGIAZcBmAGnAagBswG4AbcBxgG4AbgBxAG9AcMByAG5AcABvAHAAcwBywHDAbcBvgG2AbUBmwGYAaUBkgGGAYEBkAGhAYgBdAGDAXMBZQFeAV0BVwE/ATMBIAEgARkBAwH3AOoA3wDPAKkAiQB8AGIAUwA0ABUA/P/p/9b/t/+e/4D/dP9w/0//N/8t/xf/E//7/vj+3/7E/tD+zv7S/r7+qP6o/p3+nP6Z/p7+j/6I/nv+ev6E/mD+Yv5l/nb+Vf5I/lD+TP5P/i7+Pf49/kD+K/4v/jz+OP48/jT+UP5P/lj+UP5r/nv+dP53/oz+nf6k/p7+sP7D/s7+0f7R/vL+5v4W/wf/If85/yn/O/9G/1j/Tv9g/2T/d/9//3P/g/+V/5D/m/+c/6z/q/+e/7D/wP+5/67/wf/K/87/zf/d/+f/7v/l/+z/AgD2/wIABAAIABAAEAAZADAANQAkADIARgBGAEEAQwA+AEYATwBAADwAMgAtACAAHQAeAAYAAwAAAP//+f/y/+7/8//r/93/0f/S/8z/vP/N/7b/uv+y/87/0//A/+P/2P/z//T/AwAJAAQAGgAaADUAJgAxAEAASQA/ADwATABbAGAAVgBfAF4AZABcAGQAaABxAGEAUwByAGAAWwBpAFYAXABdAGUAUABLAGkAVQBbAF0AXwBrAGUAfgCHAHwAigCWAKoAqgCfAMgAygDIANkA1QD1AOkA+AD6APUABgHkAP8A9QD7AO4A5AABAe0A8ADXANoA4gDUANMAyQDaAMQAuADTANAA1QDKAMoA3wDNANoA3gDsAPEA0QDnAPoA+gDyAOkAAAH6APkA8QDhAP0A2wDcAOIAzQDFALEAsgCrAKEAhwB/AGcAZQBTADIAMAAXAAUA7v/o/8T/uP+6/5n/hf93/2//XP9a/0f/S/9O/zf/PP8v/zf/P/88/1L/Qf9H/0f/Z/93/17/c/9j/4X/hf+F/4v/f/+V/4r/iP+B/3b/ef96/2v/b/9l/1T/SP9L/0n/OP84/yz/KP8i/yf/Lf8d/x//H/8w/y3/J/8o/y3/Qv8z/1H/Sf9X/1f/bv9//4L/nv+c/7z/vf/W/9j/7//2/wEA/v8HABcAHgAoABcAMwA1ADEALwA/AD0AQwBEAFUAXABbAGEAagB7AIEAgACYAJwAogCnAJkAvQC0ALcAvgC8AMQAvgDDAMUAwQC/ALUAsQCsAKsAlwCRAIgAewBdAE8ASwAoACAA+//l/8X/rv+Y/3f/ZP9J/zv/Gv/8/gr/6P7i/tX+vf7E/r3+wv6w/rz+uP7C/sb+yf7k/uT+4v71/gv/D/8P/yr/M/9S/1f/V/9u/2j/ff9+/4T/iP+J/4b/i/+R/5H/iP+Q/4X/kf+P/4P/l/97/3v/dv9+/3j/Wv9e/2n/ZP9d/1P/Vf9e/0f/Uf9Y/1n/Wf9K/2P/bv9s/3v/jP+X/6n/q//F/9j/4P/w/+n/CAATABUANQAzAEEASwBbAHMAbACDAIkAlgCmAJ4ArwDCAMkA0wDZANoA7ADrAPQABQEEAQcBCwEQAScBJAEaATEBOAE/AUoBVQFZAVwBWgFgAWoBYwFZAVEBTAE8ATEBGgEKAfYA4gDDAK8AlwB7AGEAPwA5AAwA+f/n/9f/yP+n/5D/f/99/2v/Xv9f/1T/T/9d/1X/Z/9i/2X/hP95/5z/p/+r/8v/z//z//P/DgAoACQAVQBMAGIAawB3AIsAgwCqAJkAqwCfALIAwgCnAL0ApwDIALEAogCzAJ8AugChAKcAtQCeALgAnACtALcApgCzAKoAvQCxALQAvQDBANEAwgDJANwA5gDmAOoACAH6AA4BEAETAScBGAEmARsBMAEgARYBJAEiARoBCgESAfIA9gDxAN4A2gC8AL0ApwCpAKEAiQCMAIAAfgB1AHMAbwBqAGUAXgBfAFMAQwBEAEYAQwAtACkALwAZAA8ABQAAAPb/1f/P/7f/n/+J/1z/X/8r/xT/B//f/sr+nf6W/mn+V/5L/iL+H/4L/vv95/3c/d791v3R/dv92v3c/eX96v0B/gD+Ev4e/iz+NP44/lX+Wv5k/nz+f/6X/q3+q/7F/s7+3P7Y/u/+9v78/gz/Bf8U/wz/Ef8R/wn/Ef8O/wv/CP8L/wb/+P78/vz+9f7z/uj++/4K//r+Af8O/xP/Hf80/0b/Sf9Z/2v/ff+N/5j/lf+u/8v/0v/Z/+H/AwAAABEALQAyAD0ARwBLAE4AZwBcAFwAaABkAFwAYgBcAFMAUgBKAEQAOAA9ADEANAApACYAMgAvADkANAA+AE8ATgBiAGoAZwBiAHoAiACIAJMAiACOAJgAowCUAJQAigCHAJEAfAB8AGAAYgBZAEAARQAoACgAGQAHAP//7P/3/9v/2f/e/8//1//I/9z/2v/d/+z/2/8AAAMABgAKABsAMAAvAEEATwBeAGoAcAB+AJMAkACVAJ0ApgCzAKoAswC2AL4AvwC2AMEAtgC2ALwAtQC1AJ4AqwCpAJYAmACGAJkAkgCRAIIAjgCeAIYAmwCWAKIAqwC2AMwAzwDhAOQAAAEaARcBJwE8AVEBVwFjAX4BfQGHAaIBoAGoAa4BsQG3AbsBtQGwAa4BtgGgAZgBogGDAX4BeQF+AW4BVwFeAUQBQwE9ATYBMAEpASEBEgEYAQ4BAwHyAPYA6gDmAOIA0ADLALgAsQCgAJYAfQBrAF0AQAAmABQA9//r/9P/sP+e/4D/dP9Y/0f/Of8b/xH/DP/+/uj+2v7g/tT+2P7T/sr+0/7T/tP+2f7q/uf+5P78/gb/C/8M/wv/Jv8g/y//MP85/0b/Nf9E/0b/V/9G/0b/Tf9B/0P/N/8s/yr/LP8c/xf/FP8J/wD/9v4F//b+8P71/vX+/v7u/vr+AP///gz/D/8o/x//G/82/0b/T/9K/2r/af9z/4r/hv+h/6P/uP+5/8f/zP/A/97/2v/V/9D/zv/a/8b/0P/F/8D/vP+7/6//of+9/6X/o/+i/6P/l/+V/5z/mP+T/4r/nP+a/5r/kP+X/5z/lf+k/5D/lv+W/4P/j/95/4H/d/9v/2//VP9T/0f/Pv85/zD/J/8W/xf/Ef8B/wH/+v7+/vX+8v72/u3+/v77/gT/B/8K/x//KP88/zj/T/9V/1//gP+A/57/kf+m/8T/vf/c/97/7v8IAPv/EAARABsALgAfADQANAA/ADwAPABJADwASABDAEQARwA1ADsAOwA7ADIAMwA5ADgAQQA5AD4ASABAAEkAXABdAF0AZQB+AIIAhgCZAKMAuAC+AM4A3wDmAP0ACAETAS8BKQEtAUMBSgFUAVMBXAFZAVwBWAFkAWQBVAFeAU8BWgFOAUcBQgE7AToBGQEsARUBFgEHAfkAEQH5AAEB9AD1AO4A4wDiAN8A4ADOANUAvwC+ALoArACrAIkAkgB7AGQAcABEAEcAKwAmABUA+v8IAOL/4v/K/8v/vf+t/7H/n/+p/6f/mv+e/6v/rv+v/7X/xv/D/8r/z//l/+f/7//7/wQADgADABsAEwAYACAAKwApAB8ALwArACsAMwAyACYAOQA2ACgAJwAuACgAHAAcAAkAEgAFAAAA/v/v//f/2//Z/+P/w//E/7//vP+6/7r/u/+6/8b/yv/T/9z/7v/m/wUABwATACIAKQBRAEcAbwBoAIEAlQCTALcAuADLANQA1gDfAOIA6QDnAOoA9QDsAOUA4QDhANsA2QDaANEA0wDKAMcAwAC1ALUArwC2ALIAnQCkAKIAmwCNAIsAhgB8AHEAXgBcAFAANQAzACAACgABAOb/0f/C/7j/n/99/2n/av8+/yn/Gv8M//j+1f7X/rf+vf6k/pP+kP6B/nn+dP5q/m3+av5j/mj+X/5q/mr+df5v/nb+iv6D/oL+kv6R/p3+o/6g/qL+nf6w/q7+rP6y/rb+t/6y/q7+t/6r/qv+pP6Y/o/+hf6H/nX+d/54/m3+av5o/mv+Y/5k/nL+Zf5x/nL+bf6B/oj+k/6h/rL+r/7S/un+9P4f/x3/R/9P/2P/g/+M/63/rv/V/+j/+P8HABIAKAAyADMASABKAFAAXABXAF8AZABpAGIAdQByAHAAdgCBAIwAhgCJAIEApACxAKQAwQDDAM8A2wDvAAAB/AAVASABKwEwATkBQQFIAV4BUwFZAVoBUQFTAVEBVQE5ATQBKAESAQ0B8gDmAMcAwACuAIgAjgB3AF4AWgA+ADsAIwAeABsADwAVAA4ADQAcAB8AHwAwADQATwBaAHAAgACKAKcAtQDLAOAA7AAAAQYBEgEXARoBLgEmATMBLgEwAScBJwEtARcBFgECAfYA7ADbANAAxwC5AKsAowCXAIgAhgB/AIEAbABqAHQAZQB0AGwAfgB/AH0AmwCdALQAvwDcAPIA9wAVASIBMgFFAVkBWAFmAWcBZgFtAWMBXQFRAVEBQwEwARsBDQHyAOIAvwCtAIcAbwBgADsALwAMAAYA8f/g/9X/xP/F/7H/pf+t/6f/sv+l/7L/sv+2/8r/x//n/93/8f/9/wAAEwAUACAAHwAdABsADQARAAcA9v/p/9D/xP+n/5z/hP9q/1T/MP8l/wf/5v7Z/sT+vv6W/pD+lf6M/pj+jP6i/qv+t/7G/tj++v4F/yD/Rv9d/3n/j/+y/87/6//+/wgAHgAjACgAJQAoACcAGgATAP7/7f/h/8L/tP+O/3f/Wv88/yX/BP/t/tP+v/6p/pj+hf6D/nf+b/5v/nj+cP5//oT+jv6k/rL+v/7E/u3++v4K/yX/LP87/1T/ZP9q/3L/d/9//3L/fv9v/13/bf9O/0r/Of8l/x7/Af8D/97+zf7O/rn+q/6d/pn+l/6O/pj+l/6W/qX+rf7D/s7+2/7x/gD/Ff8i/zP/QP9c/23/dP+N/5b/sP+4/83/2P/b//f/8//z//z/BAAJAPP/8//5/+3/7f/X/9n/3P/O/8r/xf/Y/8j/xf/X/9r/8f/3/wUAGwA9AFEAYgCBAKMAzwDkAAwBLwFYAYUBmgG4Ad4BAAImAjoCVQJbAnECiAJ9ApACfQJ7AncCYQJVAjwCLAIIAv4B6gHMAbUBiQGAAW4BUwE+ASsBIgEKAQMB/AD0APoA8gACAQUBDgEcAScBOAFEAVABZQFxAXkBfwGHAZEBjgGRAY8BgQF0AXABUwFJATABGgH7ANAAvQCSAHMARgAeAAIA2f+u/47/df9d/z7/Jv8Z/w//+f7y/vT+6/71/vb++/4H/xz/O/9I/13/ev+L/6b/uf/P/+f/8v8JAAwAHAAuACcAMwAkACYAIwASAAMA8f/i/9H/sf+a/4b/af9J/x//Ff/t/tf+vv6o/p7+i/59/nr+df5y/n/+g/6c/qL+wv7X/vr+FP83/2//gP+m/9L/+/8gAEkAXgCGAKcAwwDWAOUA/QAGAQoBBgETAQ0B9gDuAOEAzQC/AJwAiQB8AF0ATAAzABsABQD5/+z/2//Z/9D/2//V/9r/4v/l//n//f8XACkANgBLAFkAfACJAJ4AswC+AMwA1QDXANQA1gDMAM8AuACsAJgAhwB8AF8AUAApABcADQDn/8r/wf+j/47/b/9u/1//Of9H/zL/P/8t/zT/Sf88/1j/Vf9q/3n/ef+T/57/p/+q/7T/yP/D/8X/vP/G/8T/v/+5/7T/qv+P/4j/e/9u/0//QP8v/xL///7q/tT+xP64/qP+jf6N/oD+ev5w/mj+dP5t/nr+hf6G/pb+of65/sn+2f75/gD/G/8l/z7/Uv9g/3v/if+W/6L/vP/A/9H/2P/T/+b/5v/p/+b/7P/3/+X/7v/c/+T/7P/e//f/4v/w//D/8//9//n/BQAGACIAHwA2AEsAUQBkAHYAjQCSALEAwgDTAOwA5gAAAQ4BFgEgARcBOAExAS0BJwEmATIBCAERAQoB+QDvANQAywCsAJwAigCBAHQAWQBRADsANQAvABkAFAAOAA4ABAARAA8ADAAUABwAJQAgACkAMQBBAEgATABWAF4AaABrAG0AbwBtAG0AbABnAF4AWgBPAEUAOAAkAB4ABAD2/+f/2P/C/6T/jf+J/33/Yv9a/0//Sf80/zj/Mf8o/yz/Jv8v/y3/Pf89/0z/Wv9n/3//iP+p/7D/zf/Y/+7/DgAUADEAMQBRAF8AaQCKAIsAoQCyALgAygDLAM0A2gDhAO0A7gDqAPgA7gAHAfgA/AAMAfkAEgELARsBHQEdASsBKwEzATMBQwFKAUUBVAFTAV8BXgFjAW4BZQF2AW0BeAFxAWoBcgFmAWYBWgFPAUkBLgEmARgBCwH0ANUAzQCxAKcAiQB3AGUAUAAzACUAFwDz//H/1f/P/7r/pP+n/5X/lv+J/4H/ff90/4D/bP9z/3L/bf9z/23/Z/9f/2L/Wv9i/1f/Xf9S/0j/Tv89/zn/K/8k/x//Cv8B//7+8/7o/s3+x/7B/rH+pv6Z/qD+iv6C/n3+ef6A/m/+dP50/nz+cP54/oX+iP6V/o3+ov6s/rP+uP7F/s/+2/7l/uL+9P71/vr+Cv8Q/xv/If8l/yr/O/8//z3/Sv9W/13/X/9u/3X/gf+M/5P/mP+Z/7f/t/+3/83/yv/P/9X/1//h/+H/5f/k/+3/6f/c/9r/3f/d/9D/z//R/8v/xP/F/7z/sv+2/6H/of+b/5P/lv+E/47/eP+B/3f/cv91/2//fv9g/33/bv9w/4T/f/+P/4b/oP+b/6b/uf+0/9L/2v/o/+7/9/8XABUAJwA9AE4AWgBsAIIAhQChAKwArgDIANUA2wDwAPsACwEHARIBIgElATEBLgE8AUIBOwFEAUMBRwFFATsBSgFBAUcBSgFDAUEBPAE9ATkBQQE7ATsBOAE3ATgBMQEwAS8BJAEsAR0BIAEdAREBFgH2AA8B+AD2APEA2ADnAMcAygC9ALoAtwCgAKIAmwCMAJIAiACHAIEAeACAAGsAcABmAGoAbQBcAGAAUgBQAEwASwBKAEMATAA/ADkAOwAvAC8AIwAlACAAFQAJAAUABAAFAP//+v/6/+3/+f/x//P/6f/p/+//6P/3//P/9v/u//P/9P/x//7/+f///wMAAQAFAAMADQACAP7/AQAEAAwA+/8HAAIA//8DAPv/AAD8/wAAAQD///3/AQACAPf///8DAPr/+//2/wEA8//7//v/5P/9/+b/8//l/+X/6f/L/+D/zP/M/8r/uf/B/7j/tf+v/6P/qf+m/6X/p/+f/5r/l/+J/5D/lP+F/4D/fv+E/3L/df95/3b/bv9s/3X/bP9r/2X/av9l/2r/bv9s/2//Zf9y/33/f/9//4P/hP+N/4z/i/+T/43/lP+T/4n/jP+D/4T/gf9+/3n/bf93/2P/ZP9t/2H/ZP9d/1L/VP9V/1T/S/9H/03/Tv9D/0T/T/9E/1P/Uf9K/1j/Wf9V/1f/Yf9f/2f/Z/9y/3X/cv9//3n/g/+F/4//iv+J/5z/i/+X/5v/mv+p/5X/pv+r/6v/tf+q/8D/vP+//8L/wP/B/8z/0P/Q/9b/2v/k/9j/4v/h/+//9//t////AAAJAP//BQAUAAgAFQATACMAGAAUACIAGwAoABEAFQAeABIAHgAVACIAHgARAB8AGQAjABwAHgAdABoAJgAbACUAJQApACkAOAA1ADsARAA9AF0ATABiAGsAagCBAIIAkwCeAKYArwC3AL8AyQDQAOIA6QD1APkA+QAIARMBIAEaARsBJwExAS0BKQExATcBOgE+ATQBPwExATIBQQE3AT4BMwE4ATABLQE2AS0BLgEnAScBIwEaAR4BFgEPAQ0BBwH5APwA7wDiAN8A0wDUAL8ArQCoAJsAkQB+AHEAdABZAE4AQAAtAC4AEgAFAPT/5//t/83/yP/C/6n/p/+T/5X/iv91/3j/a/9u/2X/Vv9a/1z/T/9M/0z/Sv9O/03/Vv9X/1f/YP9l/3T/bv99/47/iv+i/6L/tf/F/8b/3P/d/+//9//8/wgADAAYAB8AKgApADMAPgA6ADoAOgBPAEQARwBLAEYARAAwAD8AOAAyADYAJQArAB4AFwAYABEADgAGAAkAAQD8//L/8//s/+T/3P/b/9D/xP/F/7z/wP+r/6v/tf+q/5n/k/+Y/5f/hf99/37/ev9//3L/dv9t/2r/df9g/2//Yf9l/2r/Xf9q/1//ZP9f/1n/Y/9g/2L/aP9g/2T/Yv9p/1z/XP9d/1T/Wv9V/1f/TP9U/1L/Tv9U/0P/RP9R/0n/Uf83/0H/Rv88/0L/M/81/zn/OP82/zL/M/88/zL/PP8w/zb/Nf80/0H/Pf9C/0D/T/9R/1X/XP9o/3L/b/9+/4b/jf+e/6L/rf+4/8z/0//X//D/7f8CABIAGQArACYARABMAEsAYgBqAH4AgACNAJwApACrALQAwADDAM4A0ADWAN4A2wDmANwA5ADhANwA4ADQANUAyQDCAL0AqQCuAJkAjACKAG0AdABfAFoARwA5ADQAIwAdABMACAAJAPv/6P/s/+X/7P/Z/9f/1v/T/9L/zP/W/9P/1f/Q/9n/3v/i/+f/4v/z//j/AQADAAcAEwAVACIAHwAmADUAOQBKAEwATwBgAFYAYgBtAHIAdwB4AHgAgACFAH0AfACBAIAAgAB2AHcAdwByAG8AaQBoAFoAYQBQAEsATwBEAEgAOQAzADEAJwArABgAIAAjABMAFAAGABMADgAIAA8ACgANAAgABwARAA4AEAANAA8AFwAYABsAHAAmACkALQA0ADkARgBFAEYAUQBUAF0AWQBkAG0AbwBzAHcAhgCCAIUAkgCSAJQAowCgAK0ArQCuAL8AtgDFAMsAzADWANMA1ADcAOAA5gDhAOYA6QDlAPAA5gDjAO0A5gDnANsA2ADXAM4AywC9ALMArwCkAJ4AkwB9AHsAbwBnAFoAUABAADgAMwAgABwAEwAPAAQAAAD4/+3/7v/c/+L/5P/R/9b/y//M/8z/wv/K/7r/vf/A/7f/uf+y/7D/r/+q/63/ov+f/5b/jf+O/4j/fv91/3D/Z/9a/1z/U/9A/y//Kv8d/wj/CP/7/vH+2/7S/sH+t/6y/p7+mP6N/oT+ff5v/mP+Xf5V/lT+Tv5I/kD+P/5F/kT+PP5B/kL+Rf5B/kj+Sv5F/ln+W/5i/m3+cP5x/oz+kP6W/qP+rf6//sL+yP7S/uT+9v77/gb/G/8k/zz/Pv9G/2D/Xv91/4v/j/+b/6n/v//H/9L/4P/t/wAACQAYACoAMABEAFAAXQBxAHEAggCHAJQAoQCtALIAuADMANAA0wDVANwA1gDYANkA4gDaANgA2ADUANMAzgDPAMwAzADCAMEAvwC8ALQAuAC6AKwAswCqAKwAqQCnAK4ApgCtAKEApwCoAKMArwCnAKYAqQCnAKgApwCpAKkAqQCrAKoArgCrALIArgCuAKwAsQCzAKEArACnAKQAmwCYAJsAjQCSAIwAgQCFAIIAhwB+AHUAcQBsAGYAZQBaAFMAWQBQAFMASwBGAEEARQBHAD8APABAAEQARgBBAEMAPQA5AEUARgBDAEMATwBRAFEAWgBhAF4AZQBqAGwAcQB0AHMAfQCBAIYAhgCKAJUAkACcAJYAnAChAKQApgCnAKsArwCtAKYArwCrAKgApACtAKYAqACfAJ0AnACXAJgAjACLAIUAggB4AHUAbQBpAGQAXgBXAFAAVQBPAEgAQQA5ADkAOQA5AC0AMAAqAB0AIwAfABoAGAAUABkAFQATAAkADQAMAP3/BAD6//7/9v/x//r/8v/y//P/7f/s/+7/5f/m/+H/4P/d/+D/3P/d/+P/1f/b/+D/2//d/9n/3f/W/9v/3f/g/9P/zf/b/8z/0f/A/8r/wv/G/8b/tf+6/6//sv+q/6f/mf+Z/5f/lf+W/4r/gv+E/33/gv93/3P/bv9i/27/YP9v/13/U/9W/1b/Vv9L/07/Qv8+/zz/Pv8x/yz/Kv8n/yj/If8f/xv/EP8S/xP/E/8H/wD/Bv8B/wb/A//9/vX++/4B/wH/BP/6/vv++/79/v7+Af///vz+AP8E/wj/Cf8H/wj/Ev8V/xn/Gf8a/yT/J/8f/zT/Lf8x/zf/PP9J/z//Sv9O/1r/Xv9d/2r/Y/91/3j/gP+J/4T/lf+Y/6X/pf+s/7j/vf/M/9L/3v/e/+L/9P/9/wkABgAPABEAHAArACYAKgAuADwAQABHAE4AUABcAF0AWQBmAGAAcQBvAHQAgQBzAH4AgACHAIcAjQCOAIsAkgCbAJIAkwCRAJwAnACfAJ4AlQCdAJ0ApACmAKYApgCrALMAswCtAK8AtgDEALcAvQC9ALcAwQC/AMMAxADEAMkAxADJAMcAzwDRAMoAzwDLANoA0ADTANkA3gDbAN8A2ADVAOEA5QDkAN4A4gDYANYA2ADWANwA3wDXANwA4QDcANsA4gDiAOsA5ADrAOMA5QDqAOMA7ADXAOkA4QDZAOQA1wDgAN4A0QDQAM0A1QDKAMwAywDAAMoAuQC4AL0AtACyALEAtQCuAKYAqQChAJ0AnQCiAJgAkwCKAIcAiQCCAIEAegB4AHcAagBtAGoAXABdAFQAVABHAEoAQwA2ADYAKAAuACUAJgAdABIAEQAIAAUAAgD6//j/8v/s/9z/2f/a/8b/yP/D/8T/tv+t/6b/n/+h/5r/lf+Q/5H/i/+C/4X/gv9//3f/bv9s/2v/bP9f/2L/Xv9W/1L/Tv9W/0P/Sf9I/0P/Qf8z/zX/LP8z/y3/Lf8p/yH/Iv8g/yT/E/8U/xf/EP8Q/wn/Bf///vb+/f7t/vb+8f7r/uj+5P7q/t7+6f7o/ur+6f7p/uv+8P7x/vP+7v7x/vn+9f79/gH/BP8D/wP/BP8I/w//D/8P/yD/Ff8a/x7/Hv8l/yH/MP8p/zP/Pv85/0D/Qv9R/1f/V/9k/2D/a/9t/3b/ff9//4L/hv+X/4//mf+b/6H/qv+m/6n/rv+0/7z/wf/M/9H/0v/d/9v/6f/m//f/+f/5/wcACgAQABEAFwAiACgAJgA1ADsAQQBFAEAASwBcAFIAUQBdAGAAYQBgAHEAbABzAHoAdACFAIAAhgCGAIcAjgCQAJQAiwCSAJIAkQCTAI0AkgCbAJgAkACNAIkAiwCNAIYAhwCFAH8AgACBAIEAfwB/AHsAggCHAHgAgQB3AH4AfwB8AIcAdgB/AHYAfwB4AHMAggB7AIEAfwCAAIUAggCHAIUAiQCMAIUAiwCFAI0AiACJAJIAjgCYAI4AkgCOAJsAkQCQAJYAkACMAIoAlACLAIwAiACLAJEAhwCRAI4AkgCZAJUAmACTAJwAlwCiAKkAowCjAKgArACoAKYArwCtAKsAqgCkALEArwCxAK0AuQC5ALkAvQDDAMQAugDHAMwA0QDUANMA3gDiANoA3gDcAOEA4wDXAN4A1wDVANUAzQDJAMEAvwC2AK4AswCqAKEAnQCNAJAAkwCKAIIAegB+AHYAbABmAFcAVABLAEMAOQAlACMADAAFAAEA8//u/93/1f/W/9L/xP+1/7j/rP+q/6f/of+b/5H/lP+M/3//dP93/27/ZP9f/1L/VP9H/zP/Mv8n/yb/HP8S/xP/C/8J/wf/C/8G/wX/Af/+/v7++/78/vb+9f7y/u7+6f7l/uP+2/7f/tH+0/7Q/s3+yv7B/sf+wf7B/rv+xv7M/sz+z/7S/uD+2/7l/u7+8P79/gT/Bf8F/w//FP8e/yD/KP8v/zb/PP87/1H/Uv9R/1j/Z/9u/3L/ff+N/5D/m/+g/6b/sf+5/8j/zv/b/9v/4f/p//v/+v/8/wcAEAAUABEAIAAeAB8AKgAwADQANQA5AEkASwBLAFAAWwBsAHEAdABzAHwAewB8AH8AhgCCAHoAhgCDAIEAdwB2AIAAdABxAHMAaQBrAGEAXwBlAGAAYQBbAGIAWgBZAF0AWwBcAFMAVABQAEcARQBDADgANgA2ADYAKwAoACcAGQAfABUAFAAYABAAFwASABQAEgAXACIAHgAnACUAIgApACUAKwApACgAJQAnACoAIAAfAB0AHgAZABMAFQAPAAgABQAJAAYACQATAAkAEAATABUAIAAaACIAJgArACgAKgAvAC0ANQAlACUAKwApACsAJwAvACsAJAArACkAKQAvADYAQAA1ADsAQABHAFEAUABZAGQAaABwAHUAdgB1AHwAfwCBAIYAgwCJAIUAggCBAHoAhwCBAIIAfwB+AIUAewCGAIsAiQCHAJAAlQCQAJcAmACeAKIAnQCfAKIAmACVAJIAkwCNAIsAiwCGAIIAdwB8AHYAegB2AHMAfAB3AHwAdAB7AIIAfgCAAIcAhQB9AIIAgQB7AH0AdgByAGoAaABiAFkAUABIAEYAQABAADMAMgAuAC4AKgAdACMAGQAZABAAAwAPAAcAAgD///j/+P/r/+b/3v/W/87/w/+7/7b/rP+l/5P/mf+V/4v/jP+B/4D/dv95/3f/ef92/3//df90/2//av9q/13/Yf9W/1j/S/9J/0z/Pv89/zf/Pf83/yX/Kf8p/yr/Jf8k/yz/LP83/zD/M/87/zv/N/80/0P/Pf9A/0j/Qf9C/0P/TP9E/0T/Tf9K/0n/Q/9L/0//TP9O/0z/V/9g/1//Yv9l/23/bf9y/3f/d/96/33/hP+C/4P/f/92/3//g/+J/4j/gv+O/4z/jv+c/5n/of+g/67/sf+x/8L/xf/Z/9v/3v/s//L/+v/9/wAACAAJABQAGAAaAB0AJwAtACoALQAuADgAPABAAEMAUABPAFIAWQBaAF8AZQBkAGQAZgBoAG0AbQBzAHEAcQBpAG0AZwBiAGQAXwBeAF4AXgBgAGQAYQBlAGEAagBiAHAAawBpAGsAbABsAGcAdQBzAG8AeABsAGQAawBqAGYAXABnAF0AVABZAFkAUwBRAFAAUQBLAFYAVABKAFkATwBOAEsASgBMAEsASQBHAD8APQA9ADQAPQA2ADMANQApADEAKwApACkAIgAuAB8AKQAjACUALQAlAC4AJgAqADIAOAA2ADkAOAA4AEMAOAA7AEAAPQA1ADMAOwAtADIAMgAzADQALgAnACsAMAAvADEAKAAvAC8ANAA7ADwAPQBAAEQARwBKAEsATgBVAFIAWgBfAF0AWgBXAF0AVABgAFQAWQBbAFIAUABMAFkAUABJAFAAUQBLAEwATABRAEkASwBOAEkASgBHAEsASABDAEQARAA/ADgAOgA5ADAAOgAwADAANAAuADMAKQAvACkAMAA4AC8ANQAmACcAMAAlACsAJAAnACMAGQAaAAwADAAFAAEA9//0//H/5P/j/93/1f/R/9H/zf/N/8b/wv+9/7f/r/+0/6r/rP+l/5z/mv+V/5r/jv+I/4L/ef97/27/bf9p/2f/Y/9c/13/T/9U/0//WP9R/0z/TP9M/1X/Uf9X/1P/Vv9V/1H/Xv9a/1z/VP9S/17/WP9c/1//ZP9n/2X/av9v/2r/ev9z/3n/d/95/4n/hv+K/47/lv+c/6T/n/+u/6f/tf+5/7j/wv+9/8b/x//M/9P/0f/l/+b/6P/v/+b/+P/v//3/9v/7/wMA/v8MAAcADAAFAAwAGgAQABsAGwAfACQAHAAnACAAKAAyAC4AKwAxADMANAA1AEMAPgA1ADsAPgA1AD8ARQA8AEEAQwBAAEEASwBGAEkATgBHAEAASgBJAEwASABMAEwARwBUAFIAUABFAFIASABLAEwAUgBLAEsARAA+AEYARwA7AEEAUgAuAE8ALQA8AEUAKgBBACcAJgA5ACMAHwA8AAkAGwAmABAAIAAXABwAGQD+/x4AGAAMAB0AAAAHAAAAIgD2/xAAEAAHAAIA/f8mANv/HQD6////GwDv/wEAGgAEABUAEAAaAAMACgAoAAMARQASADoAGgApADMAPQA5AEAASwAtAG0ANgBWADkAVQA5AFYAUQBGAGcAVQBOAEcAcQAmAH8AUAA9AHIAUwBHAGYAYgA+AHUAawBUAFUAdgB2AFUAbABTAGoAXABDAI0AUgBeAFYARABXAGwALQBHAGUAHABXADAAVgA9AB4ASgA1ACAAJgAzAB4AUwACACsAGwANABcA9/86AA8AKgD6/wUA7/8gAOf///8KAPL/7P/2//D/+f/V/+7/6f+1/+L/6f8eAHn/GwCe/6f/NgB//8r/CQA+/2EAO/85AF7/hf/h/woA6v5FAG//mP/o/57+pgCg/7n+cQCb/lj/JwGk/ekA5/zuDVLlfg6NB63oRBlh70kEBQJg+nQBA/8hAt7/DfrMBi/8ov+x/sIAbgI8+HoKFvRgCsz4hQKcAUX4mApv9WwGx/7l/XoB1f+P/2r//AAY/SQE/fraBMv9xf51A6j6RQSF/dYArP9JAMX/pP9TAMT+DwLO/RUBGAB4/joC7/05AX3/g/91AVf9wAIs/pwAPAGY/Q8Cv/5aALv/yv9XAU3++QD8/03/1wD2/pgAWwC2/wAASv82AUv/v//6AK3/pv/e/yoA5v/z/5gAnv/i/1IASv8fAGEAx/+T/xMB1P4KAEkAOAC1/5//tQBG/5wAjv9sAIj/SwA4AAz/vQDo/5P/PAAEAFsAov/e/4EATf9oANL/4P9SAM//5v9QABQA7/8yALH/WgAk/xEBdf9kAFEA/v7gAT/+NwFz/xcAIwH+/gUBN/+HAPP/7f9SAMT/1ADT/8H/VABFABQA1v8IAJAAvP82AFkAr//3APD+kgBUAMr/1AAe/2MBg/8KAO8A8f5NAdD/WwAdANP/ogAjAHoAlv9WAIwACADw//AA0P+yANf/XAAdADMAvwB+/zQB4f9gAIMAnP+JAHsARQA2AAQAhgCE/wICEf8MAPoAJP+lAQj/CwEXAIkA+v+e/+sAtf/xAHL/gwCgAAQAdQBZ/9EA9v8EAHQA5v/HADYAt/9tAAoAv/9lAAcAVgDt/5cA4P8RAP7/HgAGAP3/IADP/6wAyv89ALX/FQAoAAQAf/9QALgAdf/b/ycAHwDp/4j/MwA0APj/vf+r/7IAWf/o/6r/aAASAGr/CADr/+n/hP9JALf/BwC5/5H/IgCI/7z/5//i//7/NP8nALH/+P95/8j/IwCX/yYAMv8tADf/6P/d//D/sv+g/7H/Vf9HAHj/2v+I//v/Tv+r/wMAV/8HADj/1/+5/4n/BgBt/xwAMf+k/+j/oP/y/3T/HQBu/6P/qv/Q/+X/ef8AALH/wf+1/5n/7f+I/w0Am/8XALL/lv8TAFr/NABU/zEAmP+6/+j/e/8VAIr/DwCe/8D/0f97/w8A9P9w/yoAhP8HAI//AQBpAFj/aABt/0wAm/8iAEgAxv9kAKb/QwD7//P/+/82APn/KwADACgA0/8rAAIAAQAiAB8ALwDk//L/WQAGAPf/YQCX/7oA1f82AOz/RQAFABwAZgC8/20Azf82AMX/SABhANv/TgD+/zIA2P89ADsA7/9yAMH/awC1/3MAGwAfAGYArP9eAPr/CQBfAAgAXgDe/1IAKgBq/zoBX/+yAAAA3f+nAJn/lgDM/4IAuf9dADQA6P+mAOH/UAAUAC8A9P9yAMH/kwAiAP3/ogBw/8QAXP+oAAkAEQBkAMX/XAC4/30ABAA0APr/TwDY/18AKAADAL0Acv/EAJj/kgAlAML/6gAW/0cBUv+MABgAzf/6ACf/FgGY/1QAkwCc/98Apv+LAF0A0P/TAIL/FgGb/1EAlwCf/+8Aa/+8APv/ZgBQALz/rwCb/3UAPwAOAGwA5v9WAM7/QwArADEAHgADAAoANgBQAKH/ggCh/8cAjP/i/6sA5/8QAET/DQGy/x4AFACu/94ALP8UADAAYAAGAED/9wCP/yQAjv8nAJAAK/9rAHj/mAC8/zv/mQCr/zYAWP8yABQAdv8VAJT/ZwCG/wUAcP87AOH/pf8dAK3/AgCf/ycApv8qAJz/7f/k/4v/3v8FALH//P+6/9j/2/9U/2QAl//8/+T/bv94AEf/RACf/+L/MABB/5cADv/AAEj/DgAZAFb/VwBz/xoAv//y//3/o/8TALn/hf92ABb/oABl/y4Axf+n/3EAG/+CAJH/HADK/6H/OwDF/yMA6P/C/zAAnv8lANz/OwDR/woA3f8AACkAjv+IAE7/kQCv/wcASwBv/7cAMv+JALj/8v9gAHD/hQCJ/0MAzv/c/xkAtf85AML/8f8mAK7/OACh/xAABwCf/0EAt/8bAMf/+f8RAJ7/HADs/+T/AACn/0cAq/////L/sf9DAH//GwAOAIj/YAB3/zkA8f+T/3QAX/9KAJn/GQAHALT/NgCj/1QAk/8rAAMAwP91AH3/UQDG/zYA/P/z/zYAlv9rAH//awD7/9H/MADc/wgAAwDz//T/FQDr/wAA4f8gAM7/QADg/+n/NADK/y8A0f88AAAAEwA1AOX/ZgDj/yoAGgD+/1kA5/87APn/RwARAPv/YgC7/3gA2P8rADYA0P99AMz/VAD3/x0AKQDv/0YA5v9UAAoAEQA6ABMAKQARAB4ADgAfAE4AAQAqAFoA5P9bABQALgBBAPr/cgAbAEsARgAbADoALgAdAE4AJwBAACcAJwB+AO7/QAAXAC8ANQD9/2oACQBAAOz/HwBoAOX/hwDb/1wAJAD3/2gA+P+XAOD/VwD2/0QALwAOAIcA/f9HAM3/fwAFADsARQAMAHMAlv9tADgA/v9VAND/XACq/z4AMADh/34Atv86AOP/FwAlAN7/KgDd/xcAGQD+/9z/MgAdANL/JADm/yUAtP/Y/wEANgCMAFH/JgCx/3D/NADu/7UAev+D/43/jv+nAML/WQBU/0D/u/+c/9oAzP8GADf/Tv/T/7L/sQCX/wMAYf+1/+n/u/88AKD/xP+Z/+7/8f/m/8T/4P/Q//r/tf/4/7v/jv/a/9j/EgCw/+f/eP/n/6//8/8lAKn/8v9c/97/tv/3/yQAx/8JAIr/9P+s/+P/BgDb/xQAmf/n//v/3v/h/xgA9P/i/+b/zv/s/+j/5/8UAA0A8f/H/8z/2/8yAAwA+f/5/3n/0/+1/0QADAAGAOz/bf/O/8//CQBUAOL/lv+0/6P/XwDh/4gACQDz/tz/xf9RAK4ADQBd/7z/+v/3/zQAQwDC/7n/HgAFABEAKgC8/1P/VwAdAP//CQC5//7/1/8HAAAAw////5f/uv90ABMA8/+x/+7/ov/u/zUABgD///T/7P+m/0oA8v/l/zAACgD8/+7/CADZ//v/QwDZ/zUA6P8fAMD/DwBwALD/fAB9/x4A/v/3/10A8v9yAI7/2/9XADIALgACABAA7v87AA4ACQBmABEAKgDc/3QABgDr/3cA7/9nAC0A8v8JAKcAVQDa/4kACQA2ABwAFABbABQA2AC1/0oAmwCy/20AWgAaACMARwAUAJ4A2P9aAN7/RwDEAIv/hgABACUAKQAwAGUABgDv/0gA/f9nAEgA5f9fABgAJgDd/3sAKAAdADgAKQBAAN7/ZwD4/08APQDb/3EABQA7AMz/MwBTAOn/MwDl/z8AFAAlAOb/RQD8//z/9P/y/5IA7/8bAMP/AAAOAAQAXAD3/xAAr/+c/2wAXQA0AHP/xP8VAEAAPgC0//D/0f8UAOz/VgDj/93/l/8AAEcA+f8DAFz/GQDe//r/CQDK//n/0v/G/+v/7v/0/7T/2v/r/wkA7f+Z/9j/1v8VAOj/2//u/9P/vP/p/xcA8P/t/9L/v/8HAPP/JQDZ//b/2//Y/xQA2v8fANP/9//n/wgAEQATAKX/5//u//j/RQDL//L/t/8KANf/MAADANP/9/+u/wkA6/8JAOv/5//l/97/1f8CACAA5//p/87/0//w/wYABADx//j/5P/0//3/CADB/93/DAC//ygA6//s/+3/4//y/9z/EgDP/9D/9//0//z/4P8fAL//6P8FALX/LgDd/xsAzf/b//r/0f8IAOj/9//3/+f/4P/5/9z/6f/9/+j////9/8X/AgDS/+j/FwDu/9P/5v/c//7/4f/v//3/3f8AAL//FQDc/wkA8f/l//f/w//8//D/GgDg/+n/8P/g/wwA8v8CAN3/5P/G/+3/AgAHACIAxv8BAMz/EwAdANv/8//e/+T/EAASAAUAAgDh//7/CAAeANX/+P8OABwAKwDu/wwABgAJABAA7f88APr/BAAwAAUASADo/ycADQAvADMA7v87APz/NQAZABQASwAPACsAAAA4AEMAEwA+AAMARwAMACkAKgAXADsADgAgACIAMwD7/zIAKQAbADYADgAFAB0AEQBBACYALQAjAAAAKAAPAC8AMgASAPf/LwAqADwAAQAJAA0AGwAkAB0AEwAiABIA//9KABIAJQD2/xUAHQAmABsAFQAIADMAJQAdACIADgAZAAYAJAARACUACAATAA8AMQDp/xgACQAXACAAAwAIAOH/EgD8/yAAEQDs//7/+/8QAAoA8//y/9L/EQDm/xsA/v/g/+X/6/8dAOf/6//a/+z//f/v//b/9//Q/+P/6//8/wIA9P/K/wMA2f/3//v/8f8VAMD/BwDv////DADX/wcA/P8JAAEA6f8SAOb/EgD7/w4A6f/2//b/AwAkAPL/BQDp/xAA9P8BAOv/+v/5//r/+f/z//D//f/y/wwA5v/3//D/5P8ZAND/IADT/9v/+//k//f//f/Z//n/9P8DAOn/AgD+/93/+P/P/xUA4v/6/9r/4//7/+z/8P///9X/BADM//f/4v/h/xAAv////7j//f/V//P/7//l/9f/6P/n/+z/7P/c/9r/7P/y/9H/8f/l//n/x//v/9f//f/s/+7/2f/s/9n/1//z/9f/4v/N/+z/4//z/+X/1//b//D/5v/x/9j/9P/V/wgA6f/w/+v/8/8KAOD/BwDO/wIA4v8FAOn/AADz/9r/AgDo/+//+f/t//7/5v/7//L/2f8CANb//v/g/wgA8v/4//v/9P/0/wMA5v/u//H//P8JAPj/HADm/yoA3v8eABEAAgA6APH/IgAeABMAPwAEAEgABgAfADkABwBqAAUATwAMAEQAPgA5AFIAEwBIAEAAPgBQADoAPgBMADkASQBIAFMAPABUADsAWgBDAFkAUwA/AEsALQBVAFoARABRAD0ARgA1AEAASgAoAFMACgBGACAAKQA9ABoAQQATACgAIAATADoAAgAjABwA//8mAPD/GwD3/xoA/P///xAA//8GAPf/BwD0/wwA9v/v//n/7v/z//7/7f/r/+j/4P/j/wcA1v/6/9n/5f/n/9b/+P/M//3/1v/V/93/0f/i/9n/3v/k/8b/6//O/+v/2v/d/9b/4//p/9D//f/V/+v/5f/r/9r/5f/e//H/5//x/+T/7v/p/+7/9P/5//7//P/x//f/BwDh/xEA6/8UAO7/+v/4//T/BQABAPf/AQD9//D/BADy/wYA8P8NAPH/DgD5/wIACgAFAAMA7//l////9//z/wUA7P8BAOT/7//h//r/5P/r/+z/3v/r/+T/4//x/+H/3P/i/+n/+P/r//H/7f/2/+j/7P/z//j/6/////H/BQD4//P/AgAGAAcADAACAAcABgD5/xcA9v8kAPf/CgAOAPj/EQD8/xEACQAAABgA/v8NABAAAQATAPf/HAD0/xoACQACABUA9P8MAAMACQAQAPr/DgAQAPT/FQD4/wYAAgD9/wUAAQDx//L//P8NAP//9//7//D/+v/X/+z/3v8BAOb///8SANr/6//e/93//v/g/+3//v/y/wgAvP/0/8X/2v/n/8H/DQDw/+7/8P/M/7v/p//e/wEA8P/y/7f/5/+y/5T/rP/E/wQA+f/7/+z/zP+1/5v/pP+4/8X/JABFACUA2/+t/6f/xv/W/+H/IwBqAHMAMgDy/9D/1//3/z4AbAB+AJkAeABAAPD/r//N/y8ArwCOAGEANQAmAC0A4//Q/93/RACyAMMAwgBeAPD/9/8uAGAABwBnAAwBbgHZAMj+N/+GACkA3P/Y/7UASgFmAND/Yf8n/7b/+P9QAJQAWQBPABkAv/+W/1L/IwCvAGYAKgC9/z0ARwDa/6X/ov80AIIATwBWAE8AgACvAKcAdwBn//X+n/+hAL4AQABmAHYBAQGD/vj7Dfxd/ywBvgAvAF0BXgJ+ANT9p/xJ/mQB5wIkA0QCfQEWAZb/af5p/n8ALAMUBJ4CfgBH/8L+HP5i/Zb+IAENA54COQBv/qP9sP0W/ov+JgDqAXwCVAEW/7r9AP4//2oA/QBlAbcBmwGRANL+df6W/8AAegF4AfgAHgD6/tX+8f6x/nL/EABhAC8AIf9d/hb+Yv7U/vT+df/Q/5f/O//n/uj+Qf+1//7/SQAnAAYA5P+M/6P/KQDqAA4B4wDTAJMAXAAVAOL/EABiAKMAfAAbALb/Yv9X/0n/Iv8//6D/jf+A/1L/MP8b//r+a/+k/+z/6/+0/63/YP9D/4b/2v8IAPv/IAAeANj/n/+E/8f/+/8ZANb/4v/3/67/c/9w/8f/8v/k/6b/L//o/gf/LP9+/5T/wP/z/9r/kf9f/0L/X//X/zEAQwAIAOn/vP94/yL/V//x/z8AXQApALj/qf9z/yr/eP/+/3AAlgCeAC4Ayv/W//b/FwBJAKAAvgCcAEMAyP91/7z/igDrALUAVAAAAJD/Cf8F/23/FQBCAcMBNAFWALr/wP+x/9r/lwB1Ab0BMgFpAL//V/9q/9n/iQCGASAC8wEaAfr/RP9g/9b/mwCEAUQCRgI6Aaf/cP6E/kT/QwA+Ad4BoQGTAHj/qf6i/pD/2wDDAQgClgG/ANv/PP9R/yYARAHzAfcBcwHNACcAkP9//xQA8QCjAZQB5wBPAMr/tf8YAH4A5QBRASABdADX/4r/o//8/7gAMgEZAc8AdgAvAAcA2v8gAJ4ABgENAdMAxwC3ALMAWwAJAEYAvwADAcoAUAA2AP//w/+N/6v/MAB3AHwALQC6/z//af+a/5X/wv8qAFcAGQDP/5z/qv+8/83/sP+F/9f/MwATAAMA3f/X/wQA6P/R/8X/1f/+/wEA5v/d/9H/1/+g/zf/Sv9k/3//sv+w/4j/gP/L/8v/o//g/ysAPAD0/4L/b/+M/7//2f/I/xMAPAAZAOf/gf9Y/2n/YP9A/yv/av/c/xIA/f+k/zT/4P6v/vr+ef/c/zQAEACV/xf/3P4D/x7/l/8aAD4AIgCu/y3/4P75/j//if8GAIoAmQAvAGD/uP6j/h3/wf8NAGQAjQA+ANj/Of/p/ib/sv8+AGkAdgBfAAgAuf+l/4P/o/8ZAHoAgwAbAM3/wP97/1r/t/85AJwArAB6ANP/Mf/9/hf/ef/Z/20A4QC3AA8AUf8G/xr/Uv+j//7/ZQCyAI0ACACO/2T/bP+X/8//IgBOADwABQB7/yT/G/9Z/6z/8P8OAAQA1f94/z3/EP81/7n/GQAbAB4AUQA2AML/Sf///hv/ef/z/1IAsQDXAFkAxP9W/zL/gf8TAGkAfwBtADwA3f9V/zv/of8pAHIAXwA+ABUA4P+L/1L/Wf+i/ysAXgBQABgA1f/B/6H/dP90/8//XQChAIEAdgBwAEgAFACX/2z/DQDWAD4BFwHCAEoAzf9h/0H/v/+8AJMBigGpALz/a/+Q/9P/DwCBAAQBHAGiAOH/Xf+Q/xkAUQBGAGYAswC+AEkA5P/l/ysAcwBFAAQAHABoAIYATAAyAG0AogBXAMf/nP8AAJUAygChAFYAHwDu/3X/Jf9+/0gABgFCAdMAGgCE/x7/Cv+M/2UATwHAAUcBPABX//7+MP+V/2EAagEYAuEBzACl/7n+eP4E/y0AaAE5AmgCiQG4/wz+jP2G/jIApQFOAgMCDAGY/xz+ev1S/h8A2AGCAu0BqgBI/zP+nf0B/oj/dgGaAioCoAAW/xD+yv1N/oD/MwGLAmwC7QAI/8r9o/1y/vP/aAEuAuMBlADa/sr91f3U/ksAeQH9AW4B/v+Q/tP9Jv4v/20AaQGcAQQB9P/z/m3+nv5l/1EABQEgAZgAtP8E/+/+ZP/i/zgAiACTAHIADACI/1f/l/8QAEsAOAAvABMABgAGAOL/uf+2//n/HAAaACMAGgAIAOv/wv+e/3n/zf9iAKIAlQAqAKf/Hv/2/mj/8f+WAPgAxAAmAIn/R/85/2H/wv8lAHEAgAAxALf/Xf9r/5z/tP/X/xsAVABMAPn/l/+E/8T/7v/D/67/yv8MAE4AYQBTABAAsP9U/xf/Sv///6kA4QCcACIAef/J/qj+7/7H/9kAXQEdARMA7/45/h/+0/79/xsBogE2ARgAv/7d/fP9yP7o/+cAkgGOAYcAF//6/bj9af6Z/8kAfAGDAcwAe/8z/rT9Iv5H/3gAMgFJAZwAr//Z/kX+ZP4W/xMAzAABAacArP/x/sn+Ff+B/+z/bwCgAGwAAwCL/3X/pf+t/7f//P9zAKMAUgD6/9D/yP/l/+f/BgBZAJcAaQDc/4r/sP/6/y8AXACSAJ8AUQDk/3D/Wv/X/2AApACyALMAgQDt/23/cP/e/3EA4QAGAcQASwD3/8H/wP8NAIoAAgEaAdAAWQDp/6X/r/8DAGwAxADqAM4AgQAfAMX/hP+R//D/XADAAOIAsQA5ALT/i/+2/wQASgB2AIgAcAAmALv/sv8wAKIArABwACIA7v/l/+X/8v86AK8A+QB9ALn/cv9u/5X/3v96AP8AAwF2AHb/r/7I/n3/JADDADcBOgF6AFj/gf6B/mH/dQA5AUkB5QBLAIL/5f7O/mr/cwAoAS0BngDc/0L/DP88/7b/cgAEAQYBTgBY/87+2/5T/9b/UQDWAPcAZwBv/9D+6f5o/+7/TwC0APQAuAAGACn/2v5P/wMAmAAEASwB0wAdAF3/3P75/sH/qQA4AUEB3gAPAAf/ef6u/nn/fgBpAbIBIQETAO7+Nv5X/kP/jQB/AbsBQgE4ABf/b/6M/l7/hwCFAdcBWgFZAEr/pv6d/jn/PQAYAWQBEQFXAHf/1f7B/jT/4/9yAKMAbQAFAI3/Nv8d/1//BQCNAKIAXADQ/2H/Kf8x/4L/CgCtAOwAswBEALj/Nf/+/iX/pv82ALoA4ABrAMT/JP/N/sP+O//v/30AtwBkAKv/8v6x/ub+Sf/I/1cAqQB+AOj/SP/0/ir/of///0sAfgCBACUAo/9e/17/lv/O/+3/HgBZAF8ABQCT/2D/Vv9r/5//6f81AE4ACACX/0n/Mf9d/8b/PACFAHgAKQCi/xr/7v45/8f/dAAhAW4BAwEGAPj+bv62/pv/rwB7AbEBLwEnAA//iv7Y/sT/ygBeAVgB1QAFACv/t/7R/pz/twByAZYBIgFaAHf/yP64/mP/ggB1Ac4BbgF0AH3/4P7r/pz/fABaAcMBgAGfAIH/tP6w/nv/nQCAAb4BWgFiAFL/a/5H/h7/fgC0Ae4BRwEuAAv/M/4K/tT+VgDDAUYCmgFEAAr/Pv4X/sz+OgC1AVsCrgEqAL7+Rf68/pP/jQBwAfABcgH+/4P+Af6w/uz/2ABKAT8BtgDL/8j+Yf7V/vD/6QAcAbcAHACT/yr/Gf+W/3oAOwErAW0Alv8r/0T/jf/9/6MAOQFEAZMApP8X/yL/mv8OAFwAlwCsAFsAsP88/0z/2f9UAGEAKADl/6P/Yv88/4X/PwDQANMAVAC2/0z/Pv9M/4//KwDAANYAOwCI/2P/tP8cAFoAbQBxADUArP8M//r+ov+FABYBCwGcAOn/G/+O/pH+Pf9bADQBUwHNAPf/Mf+j/qn+Wf9wAFQBlwEZAfn/6v5h/pn+ov8OARkCLgJNAfv/sv4K/lr+hP8eAUoCcwJtAej/r/4k/nf+Xf+mANkBSAKAAeb/of5D/q3+gf+SAKMBHgKlAUwA0f4o/oT+gP9yAEcBzAGhAawAPf9K/lr+Q/9OAAQBVQFBAZQAa/+E/mX+Hv8aALcA2ACcADYAof/7/rP+B//I/1cAcgA8ANb/lP94/3P/oP/6/yQA7f+L/2r/wv8ZAB4A9P/H/4v/NP8S/3D/SgDxAPAATABo/9T+rf7O/mT/RgALAVEBtACg/7z+ev7V/n3/NgDnADgBtQC6/+P+rP4l/8T/SwC0AM0AggDd/zX/+v5T/+j/SwB0AGIAVwA+APn/wP+X/4j/mv/P/woASgB/AJgAawAkAND/hv91/8L/RwCjALQAlABvACgA4/+7/+n/QQCMAKkAkQBnADMACADo/+P/7P8bAGUAoQDOAMgAmAAlAKL/XP9+//z/jAD6AAQBvAA/AM3/j/+m//7/TwB7AG0ASQAwABMA7//Y/93/+f8QADIAWQBnADkA1f+K/2j/jf/F/w8AiADuANQAKQBs//j+Af9s////gwDPAL8ARACO/xL/Kf+X/xgAdgCSAGgABQCD/xD///5Z/9z/QQB7AIUANQCP/+j+o/78/sD/egDTAKYA+P8n/6T+sv5w/28AHgEkAW0AX/90/jf+yP7t/xgBqwFOATYAG/9w/nz+J/8uAB4BjAELAdP/rf4r/o3+iv+nAFwBaAG1AJz/sP54/gv/CgDkADYB3wA2ALr/ef9+/7v/FQBVAFkAQABDAGQAbwBGAPz/xv/D/9X/GQB9AK4AnwBPANz/b/9j/8L/YADrABAByAAvAJ//QP9r/yUABwF5ASkBegC5/03/av/p/5YAHgE0AcEABACJ/4//9v+BAOwABgG5ADQAw/+W/8H/GAB7AJwAfwBGAPv/zP/E/97///8eADEAKAA4AEgAPwAaAOL/z/+r/6v/1/8PAEUAZgBUAA4AzP+P/0n/E/9D/+H/lQD7AOAAQwB3/6H+Nv6S/pX/zQCLAXsBhgAZ/+n9nv1S/rr/VAFMAgQCjgCs/kn9Gv0V/tv/mAF0AvkBXgB5/i/9Iv03/v3/gQH7AVcB4/98/rD9xv3H/iMAKQFIAaEAoP/F/m7+nf4w/9z/cACSAFAA5/+B/y//Fv9V/6//EABUAFcAGACt/0v/Lf9u/+//ZACTAGwA/P9r/yr/dv8UAKwA4gC8ADgAgv8L/yD/z//JAHoBjgHuAPD/D/+2/iz/MgBIAd0BuwHtAM3/Bf/z/o3/fABHAYEBOQGKAL//Pv9n/w8AzgBJAV4BEwFfAL//ef/B/2cA7wAuARABqQATAKL/pf8OAKoAEAEYAccANgCv/3P/of8nANcAUQE9AYYAjf/q/tv+U/80ABMBgAEiARUA/P6H/uP+xf+sADQBQgGkAKf/0P6S/hr/AgC3AP8AzAAwAG7/2P64/i//7P+RAMsAfQDK/yf/7/4p/7b/MABkACoAsv83//j+F/+R/wMAOwAyAOP/i/9G/0z/e/+4/+T/6P/K/6r/k/97/37/kP+l/43/i/+l/73/wv/D/8X/rv9+/0D/PP+A/+T/JAAtAPD/fv8c//b+PP/R/1EAkgBrAPz/YP/t/v7+dv8pAMkADgHWAC0AVf+w/rn+bP9dACYBagEYATwATf/M/g7/5P/WAGgBXQHCANP/JP8P/43/SQAAAWABRAGuAO7/Yf9P/8X/dwALAUcBHgGnACMAyv/D/xEAoAD3AO8AqwBVAA0A6f/z/xEAXwCqAOIA4wCfACMApf9R/2D/2P+HAB0BQwHiABoATv/j/hL/wP+kAC8BOgGzANr/Gv/z/m//LQDTABkB+gBaAIH/7v7Q/ib/zf9sANYA2ABvANP/R//p/tz+KP/M/3oAvAC1AF0Auv8V/7f+4v5+/0AArwCqAFcA5P95/zT/Q/+I/9H/DgAyAEAAUQAuANL/bP8S/wj/PP+t/z0ArgCyACoAU/91/jj+p/6P/4wANgFEAYgAVv9Y/gH+e/6K/68AYAFtAcQApv+2/mL+xv6r/5gAEgHfADUAdf/8/vn+av8CAHIAnABdAPH/f/9K/1X/l//2/1oAoACcAFEA2v94/1n/lP8DAIAAyAC4AFYA1v9z/4H/3P9QAKwAyQC1AF8A3P+K/4n/0/88AKkA+QDjAH0A9/+E/1z/jv8UAK8AEwHnAEgAvP9z/4z/BQCdAAsBKAHYADEAj/9O/5D/MgDwAGgBJwFwALD/M/9H/9D/fQABARsBnwDo/17/PP+L/x8AtwAFAdsAUgC1/0f/Qv+f/ykAugDwAK4AJgCW/0v/Z//C/zwAkgCDABwAkf9E/13/tf84AK0AqgA2AJr/F/8a/4P/+f9dAJEAdQANAIL/KP8q/4//+/8zADgABQDW/6X/i/99/6L/+v8PAPz/4f/c/+f/2f+v/4z/oP/X/xcARwBWACUAuf9c/zz/Yv/Q/0oAjACBABkAbf/6/vj+SP/e/20AuQCCAPv/ZP8A/xr/ef8TAKkA2wCKANv/Nf/U/v3+r/9yAPgA+QBpALf/Mv8G/0z/6f+jAAYB4wBnANr/if9p/3b/vP85AKQAtgCJACkAnP8f/xD/gf9HABcBagEbAUoAXv+n/qL+b/+cAIkByAE7ASAAFv9w/qT+mf/OAI8BgQHKALr/2/6b/jD/TABNAbABNwE5AE3/v/70/sD/vQBnAWIBxADx/zz/AP8//9v/gwDfAMUAPgCw/2f/mP8DAGIAewA0AMH/bP9t/7f/OACjAJwAIwCJ/y//Nf+h/zsAtQDWAHEAov/4/vj+j/9LAM0A5gCIAOX/Pv/q/jX/5P9rAJEAXwACAKb/V/9O/5X/8P9BAFEAFwDh/7j/o/+c/6v/4/8iAFoAWwAxAP7/sf9q/17/lf///2oAmAB/ADQAyv9f/0T/g//X/wwANgBSAF8ALgDG/2v/T/9h/4D/1v9eAL0AvABVAKb/Cf/r/kr/FwANAYYBQgFdAFH/gv5//nX/uQC0AfcBMQHV/4T+5f10/gYAvwGYAkAC6QAm/879p/3J/ooALALhAkUClQCb/kn9Y/36/gsBqwIXAzECXABV/hL9UP0g/2IBAwMqA+ABv//A/eD8av0+/3gBAAMaA84Bxf/e/Qz9pf1g/4QB+QIOA8QBxf/h/er8ff1J/18BxALcArAB7v9Q/mX9mP3z/tYARAK1AgECaACj/nH9av2a/noADgJ/AskBSgCg/qX9xv3j/mwAqQEBAkwBCADV/gj+Dv7l/g8AJgGiAUUBMgAG/0H+K/7R/tn/1gBZARIBUQB2/+X+xf4J/7L/YADDAKYAOADg/7v/nv+V/6//7/8lADkALwAdAB0AAQDb/6L/kf+3/wAAYACZAG8A7P9Y/xX/c/8MAKkABwHYAC8AXv/j/v7+rv9+AAUBBAF4AMb/Mf8P/2L/8P96AK0AjAAlAK7/ZP9j/6z/CABBADQAEwAJAAkADwAOAAcA+v/v//b/GwBMAF4APgACAOD/1//c//7/SAB2AEkA6/+j/6H/8v9ZAHoAagBPABwA5v+6/7f/9P9MAIYAaQAXANP/n/+P/83/PwCrALkAXADZ/3T/Wv+h/yYAyAAiAckA6/8Z/9f+TP80AAMBUwH1AAgA8v5P/pP+m//YAI4BRwFOADD/Wv5f/jn/cgBfAYEB2ADR/wD/uf75/qD/bADxAOsAegDv/4n/Xf9Y/3r/1f9GAJIAngBiAPf/hv8p/xf/bv8DAI4AywCSAA4AeP8b/yz/k/8vALMAzgB4ANv/XP8r/2X/4/9XAK4AqwBSANL/e/+G/9n/PQCBAHgANgDP/5n/yv8bAFsAZAAlAM//iv94/7H/QwDmAAgBoQDd/zD/+P5L/wYAyQA5AQgBPgB1/xP/K/+0/20ACwEuAdgAKgCY/3D/m//h/z8AlwC5AIkAJwDY/6n/lf+F/5z/7v9LAJYApAB8ABcAjP8f/wv/ev8jAMEAAwHHADEAhv8b/yf/nv9FAOQAAQGHAMH/QP9I/7n/UQDFANcAhQDl/1T/KP9Z/8r/QQCoALYAUwC6/0P/Pf+D/8v/DQBQAIcAgAAgALL/df+V/9j/CABeAKAAngAyAIH/+/75/pD/UwAHAVwBGQE2ACL/ev6H/jz/PQAHAVIB5wDy///+ff6y/mr/JgCgALoAfgD0/07/Af8d/7H/WgDEANkAkQABAEz/2v7t/n3/NgDFAO8ArwAtAIz/F/8c/3f/AgCFANoA0QBrANz/RP8Z/0j/ov8aAHUAmwBhAOz/l/9p/23/n//4/14ApADCAJcAKQC1/1b/Pf+B//7/mQD2APwArQADAFz/Bf8m/7v/ewAIASUBvwAGADf/5P4b/7f/hgAQAQwBdwC4/zP/IP+G/ysArQDMAH0A//+W/6D/FAB8AKIAgwA1ANz/m/+c/+j/bADLAK8ASADX/4z/i//B/ycAgwChAHYAEQDQ/8P/1v/w/wQAEAAlAFUAggB1AD4AzP9W/yj/av8YANEAPgEQAVUAe//Q/qX+K/8ZAAcBWQEKAU4Af/8I/93+Lf/H/2AA2wDjAJ0AJACu/0//HP9J/8r/WwC+ALYAPQC3/zb/6/74/n7/UgDvAAgBkgDa/zf/2f79/qn/gAAQAQoBiADG/yb/7f4i/7//ggDwAMwATgDA/2//j//s/1YAswC3ADkAlf8t/0H/wf9SAMMAxABSAKb//P68/kj/MADkABwBxwARAFb/A/81/+//vQAPAd8ALQBk//X+B/+y/6IASAE/AZAAsP8I/+n+X/8jAOkAPgHlAA8AQ////kL/zf9XAKEAuQB6APn/lf9k/4r/y/8PAGkAqgC0AG0A8/+F/zf/M/+m/1kA+AAlAb8AAgBM/+7++f5s/y8A2AARAbcABQBe/wf/HP91/wkAkgDMAJgADACO/z7/Nv9w/9f/VgCeAGgACADE/6T/m/+a/8T/7f8eACQADgARAAoAAgDZ/8H/y//a/9v/0v/w/xcALQA0ABgACAD//9z/o/+F/8z/NQBqAGcAJwDR/4b/WP+C/9b/NgCCAHMAQAD9/8P/pf+f/87/EABEAFkAVgBcAEYAAwCj/1r/cv/j/1UAkwChAHYACQB6/xr/M//K/4cA8gDiAHMA0/8o/+D+J//X/6IAGgEGAXUAsv8M/9n+OP/w/7MAEQHsAGEAuv9A/yn/i/8nANAAJAHwAEcAhv8O/wb/gv9bAA4BOwHUAAcAJ/+m/uL+pP+TAEIBVAG9AN7/Hv/i/mD/RgD1AA4BngDt/2z/P/9o//v/pwAbAfYAMQCD/zD/Uv+4/0AAwwD5ALgAAgBY/xP/Qf+w/zgAngCqAEcAnv8k/zT/qf8rAIsAmABzABsAq/9q/3//1f82AE4AMQAmACIADADr/83/xP/G/83/+P82AIYAlQBXAPf/pf+Q/4n/r/8DAFAAegBaAAYAsv97/23/g//A/xIAUQBoAFkAHwDT/7L/y/8MAFkAgAB9AFEAJADp/7r/sP/I//j/OQCCAJwAewARAJb/Lf8l/6r/YQAPAVIBAAEzAEj/p/65/or/fgAtAT0BvwAEAE7/9P4i/9f/mAAKAQIBjgD0/23/Lf9q/w0AsQAEAdoATgCe/xH/2P4z/wUA0AApAdUAEgBY//X+/v52/0UA/QAiAaQAwf/9/rT+8/60/7QAWwFFAW0AS/9v/j/+2v75/ygB2gGoAZkAS/9g/kH+5P4EAP0AXAESAUAAVf+9/rr+KP/X/20ArACYAEkA5/+Q/2j/jP/Q/ysAcwCYAJcAWwDm/2r/Wv+Z/+n/MABpAHIARQDn/4n/dv+e/73/3v8MADoARQAZAOT/sf+Z/5D/nv/X/x0ARwAgANH/if9z/6T/AQBgAI0AggA8AN7/oP+h/+z/OgBrAHcATgD+/7v/m/+j/+L/FAAYAAQA5P/O/7f/2P8EABsANAAUANz/wv/l/xsAOABHADsAIgAIAPf/+v8vAF0AMgDo/8X/0/8RAGIArACqAFoA3v9R/x3/gv9DAPAANwHlABUASP/b/vT+e/8wAL8AzwB0AOb/bf9R/3v/zP8VAHEAoACJAFcAKgAKAOn/2//l/yUAjAC5AJEAQwDs/5f/X/9y/8H/NQCXAJIARgDk/4j/Rv9C/57/IwCcANAAtQBKANb/j/93/7L/HQCMANAAtwBtAAAAj/9i/2//w/8vAIcApwBxAAYAj/9D/03/rv8kAI4AtwCGAB8Aqv9W/0v/mv8ZAGwAhQBVAOT/iv9r/4T/vf8gAHYAbAAxAPr/2v/Z//r/CgAcAC0ACgDB/73/9P8nADgAGwD7/87/t/+Z/6b/+/82ACgABADn/7f/jf+P/97/MwBnAG8APQAOANn/nv+b/9v/MgBFAEAAPgAtAPv/uP+3/9r/BQAUAP//FAAiABAA//8jAGoAZQAjANL/rf/D/+//JgB7AMIAngAeALH/g/+F/8H/JgB8AJMAcwAYAMf/sP+m/6H/0f8vAGIAawBiACUAvf9e/03/jf8bAKoA7ADUAGAAr/8W/wX/bv///5cA+gDlAGYAt/8e/+D+Lf/D/2EA5AAjAdoAHABp/9z+w/5B/woA2ABFASABVQBL/57+hv4J//b/8ABiAREBOgBA/6b+mv4x//z/zQBHAQ4BUwB1/+3+wf4Q/8D/kAAdARwBmADM/xP/vv7b/oD/VAD2AB4BtgAOAFf/8v75/oj/PADVAB0B4QBWAJ7/HP/2/kT/+v+fAAEB6gBdALn/PP8Z/1f/8f+WANkAowAlAKH/PP8w/3r/+P+CAK0AcwAGALT/f/+B/7v/EgBgAGsARgDu/7L/r//Q/w4APABQACgA4f+7/8r///8zADUAMgAQAOP/zf/H/wYARgBUACAA7//c/8T/y/8QAHYApACHACsAsP9v/2H/lv8pALcA4QCDAP7/lP9e/3P/0/9eAMgAvgAyAMD/of+u/+7/VgC1ALMAVwDr/5P/hf+0//v/OABpAF4AAgC7/6D/p//L/wQASwBpAFcADADI/73/yP/p/wgALwA1AAMA2P+2/7L/2P8eAEAASwAxAMb/dP9h/5j/6/9JAKYAgAAPAKD/P/83/47/KwCeAMIAkAAIAJv/YP9V/4b/BACIAJ8AagAHAKz/f/9w/5P/0/9PAIwAiQB1AC8A7f+h/4L/oP/5/1YAkwCpAHoAGQCh/1P/Zf/I/0cAnQC0AIsAGQCR/0b/ef/m/18AogCcAGIAAgCm/2X/if/i/0UAiQCsAJUAKwDE/3n/YP+Y/+f/QQCXAJgAWwD3/8H/sP+//+z/KQB6AIsAZwAlAPL/2v+u/6P/zf8TAFwAdgBRABQA4P+P/2f/t/8xAIsAnAB9ACoAtf99/2j/o/8tAKgAvQCOAEMAsP9H/z//jv8jAKYA5QDBAEkAtf80/zP/qf9FAKwA0ACSAAIAgv9E/4T/8v9nAJcAfABHANb/e/91/8f/NgBwAH8AQQDZ/3b/WP+h//7/TABRAC4A+/+v/4z/lf/g/xMAFAADAPb/6f/K/7f/v//Z/9X/wP/k/xUAPgA/ABMA+f/E/5r/kP/B/ykAWwBLACsADQDZ/6f/l/+8/+7/CQAjAEMARgATANL/qv+i/6D/rv/d/zMAaABQAP3/r/+Z/5f/yv8SAFcAZgAvAPj/zv/O/9H/8v8oADMALgARAP3/+v/u/+3/6f8MADMAKwAJAP7/AADe/7L/rv/Y/w0AKgAPAOD/xP+6/7T/wv/u/w4ABwD7//H/5v/h/93/4P/z/woADADz/+P/5P/g/+b/8P8NAB4ADwD0/9X/y//i/+T/8v8HABoAKQAXAAkA7f/Q/8z/1//5/ygAUgBgAE4ACgCx/3//m////2AAoQC8AI4AJADE/5P/tP8MAF8AhwCWAIUAMwDj/7f/vf/r/x8ARwBgAGIAJADP/67/qv+t/9j/DQAbAA8ABwDk/9z/9/8AAAAADgAaAP7/+P8FAAQA+P/+/w8AGgAyAEUAOgAvADAAEQDo//f/DgAtADgAIgD//9P/1v/d////OQBRACsA2v+p/6b/t//e/xQAXwB3AD8A5P+X/57/y/8FAFAArADHAHEA/P+8/8H/2v8HAEwAigCsAIIANQD+/9X/uv+2/+j/MgBTAD8AJgADAMT/ef9o/6D/8P8jACgAJgD8/7//iv+G/8v//f8RACkAQAA9AAMA1v/d//3/GgAmAEwAZQBfABwA1//t/wMABgAlAFkAaQA6AO//rv+e/8b/9v8iAFMAXgAbALv/i/9z/4z/1v8bAFYAVwAQAK7/fv+C/6D/8f9ZAIUAZgATALz/jP+i/97/KwCCAJAAVQAMANX/sf+7//L/KwBPAGEAKADG/4b/df+N/8r/GQA5ADEABwDF/4b/e/+a/9P/JABqAGEAMwABALT/j//I/zAAeACJAG8AQAD9/9j/z//w/0kAgQBsADoAEgDt/7//vP/v/x4AKwAFANr/4//x/93/zv/c/+b/0P/T//L/EAAjAPH/xP+8/8T/2v/+/zoAWQA7AOb/qf+Y/7L//P9HAJsAngA2AML/ff+I/7f/CQBsAJYAZwDy/4b/Yf99/8f/KACDAIoAHgCQ/0H/Tv+K/97/PAB7AGgABQCN/2T/j//L/wYAVwCdAIwAHQCw/4v/nP/O/wkATwCJAHQADwDA/6L/p//O/woASABiADgA5f+h/5v/yv/5/z4AbwBRAPn/p/+V/8H/BQA7AF0AWQAQALb/k/+x//v/MQBgAFsAHgDK/4X/nP/n/ysAPgA+ADQACQDP/7D/3P8RAC4AHwD0//T/+v/l/+b/DgAwACAAAQDm/+H/7P/6/xgAIAAkABAA2v/S/+H/0v/e//v/EwAEANr/zf+3/9X/FQA2ADwAKwATAOv/4P/6/xMAPwBkAGEAKgD2/9v/zf/4/x0AMwBPAFQAOAD//+L/2P/c//r/GQA1AEAAKwAAAND/0//W/+3/NABnAHQAVwARAND/yP/g//z/JgBtAHwAPQADANH/0f8MADoAUgBaAFUAEwC7/7r/6f8MABkAHQAEANP/tP+b/6H/6/8fABQA/P/k/7z/qf/V/w0APQBXAEgADwDr/9z/1/8BAC4APwAmAAoA8//Y/9P/6f8FAA4AEwABAN3/2v/H/6z/x//j//r/AgD//wUADAD7/+H/0f/m/w0AJgBAAFAAOQAJANv/2/8KADYAVABbAFwAPgD8/9H/6f8aADYAVQBIABIA6P+6/63/z/8EAB8AHQAHANz/pv+Y/7//2/8DADAAGwD3/9n/vP/H/+X/CgAlADYAMgADAOn/6//5/w4AJgA/ABwA/f/k/9X/3P///zAANgAkAAUA5//R/+n//v8RADMANAAcAPb/5v/k/9b/5P8IAB0AKAAaAPP/1f/c/+b/8v8TADwASgAyABMA8//d/+f/8/8EACcANAApABIA+v/i/+L/7f8GACgAJwAaAAAA+v8DAOH/6P/+/wkAIAAwACUADwAMAPv/9/8NACAAJgAiAB0A/P/b//D/CQASABEACADj/8X/sv+q/8z/+v8ZAAQA5f/C/4//kf/F/wIAOQBMACsA3P+n/47/qv/r/zkAbwBLAA0Aq/9c/2f/nv/o/yYAOwAKAKT/Tv81/1n/u/8bAEsARAARALj/ev+T/83/GQBPAEcAEQDc/7H/tP/r/yMASQA9ABwA5/+y/7H/z//y/xoAMwAcAPn/5//b/9r///8pADQAKgAgAAMA8/8HABMAFAAfABcA9P/r//b/+/8KABcAHgAYAAEA9//t/wEAIwAvADEALgANAPb/5v/7/xsARQBrAFUAOAAEANj/xf/t/zQAYAB7AGEAIADc/6//r//e/ysAbQB+AGgAMQDe/7f/3P8jAHEAqQCqAIYANgDb/7n/yP///0EAawBeACMA1v+R/4D/ov/d/xsARgBJABMA4P/G/9j///88AHcAjACFAEsAIAAFAP3/GgBBAGUAawBQABIA1//E/8r/4P8NAC8AKwAFAM7/mf+K/7r/EwBcAHUAZQAbAMT/mv+g/97/KwB2AIYAZQAkAMb/ov+x//r/QABqAHIAOQDj/5H/af+L/8v/BgAkABQA5/+l/4H/f/+s/+7/HQA8AD4AIwDz/9r/0//d//z/FwAnABMA5/+5/4//df90/4H/sP/c/+3/6//R/7H/k/+W/8D//f8vAEQANgAQAOD/x//K//D/JAA7AEMAHwDr/8f/qv+m/7z/3f8DABIADgD+/+f/2v/h//P/EwA2AEQAOwAuABUA/v/z//D/CgAiADgAOwApABIA7f/R/8H/yP/i//r/BQACAAEA6//R/8b/yv/O/+f/BQAdACQAEQAGAPr/BgAiAEUAbQB/AGsANQD5/7X/nP+n/8j/4//j/8v/mf95/1//cv+Z/8z/AAARABIABAD8////HgBGAGoAewB0AGEAUgBFADQAKAAXAAQA7v/E/6v/mf+Q/5z/n/+j/6r/sf+4/8r/5v/6/w4AHAApACoAHwAuAD0AUgBqAHIAawBgAEEAHgAJAPP/6P/d/9X/yv/G/8P/0v/6/x8ARgBdAGAAYgBPAEEAQQBIAFsAZABhAFMAUgA+ADAAJgAeAB4ADwDw/83/r/+X/5//u//b//j/CQATABgAEAANABkALwBXAHoAhQB3AFoAPAAlABsAGwAYAA8A9v/F/4z/XP9J/1T/cv+g/8L/5P/2/wEAEAAYACgAOQBJAFYASAA0ACAAFwAVABcAJgAqADUAMgAgAP7/2//D/7n/vP/B/8P/xP/F/8L/2v/0/yQARwBcAGoAUwBFAD0ARABcAHgAhQB3AFsANQAaAA4AGAAzADUAJQDy/7r/iP9t/33/lv/H/+L/5f/o/87/xv/D/9v/DAAzAEQAOAAnAAcA/v8BAAgAGwAfABIA8v/A/5z/gf+I/6D/xv/g//D/8P/Z/9L/0v/g/+//+f/z/+3/1//L/9r/7f8HABkAHwAZAAUA9v/o/9f/2P/c/+D/4v/n/+v/9/8CAA8AHwA7AFYAWgBaAEYAMwAZAAkABwACABIAHgAfABQAAwDz/+T/2f/T/9X/0v/F/8H/u/+3/73/xf/e//v/DgAbACMAEwARAAwABAAOAAEAAgD8//D/5f/X/87/0//d/9v/2f/S/8b/vf+//7z/zP/d/+L/8f/2//b/AAD5/////////wYACQAQAAQAAAABAAkAEAATAB4AFQAXABEAEgAYAA8AGgAYACUAJwApACoAHAAZABMACAD///L/7f/o/9r/1f/Q/87/yP/V/+H/7//8////AgD2/+b/5//l/+b/4f/a/9L/zv/P/8P/x//P/9v/5f/o/+T/3P/Z/9H/0P/Q/9P/2f/i/+L/4//j/+L/3f/i/+b/6f/w//T/9//u/+3/5f/h/+P/7P/4/wAAAwABAAAABQAQABoAKAA0ADkANAAzADAAKgAyADEANQBBAEEAPAAtAB4AGwAcABsAJwArADAAMgArACsAMQA7AEcAXwByAHQAcgBtAGkAXABUAE4ASgBKAEEAOQAkABkADgAUAB0AJwAwADwAQwBBAEAAPABHAD4AQwA8AD0AOQAzADEAMAAnAB8AJQAgABgAEwAQAAYACAACAAQABQAEAA0AHAAYABoAGQAPABcADgAQAAoADQAMAAoABQD//wgACgAUABcAFQANAAcAAgACAAEA+//6//P/+//3//T/9v/w//P//P/7//r//P/y//f/9P/m/+z/+v///wAA///5//H/6f/b/9j/0P/L/8b/vf+4/6//tf+s/7H/uP+w/6//qv+q/6T/nv+i/6f/sP+0/7X/t/+v/7L/q/+n/6b/ov+i/57/qf+j/6H/o/+i/7L/uP+8/7v/uv+//8L/uv/B/8z/zv/W/9L/2f/n/+j/7P/0//v/AwD9//T/7//l/+3/+P/3//v///8AAAUACgACAAkAEwATACYAIwAkABwAGAAfACIAKgAnACkAKQAiABoAEAAPAA0ADwAQABEACQACAAUAAAD//wEA+v/x//L/7f/o/+j/6P/n//L/8P/0//r/9v/4//b//P/4//j/7v/l/+f/2//Y/9n/0v/S/8v/y//L/8b/wf/D/8L/uv/C/8z/0P/S/9n/2f/Y/87/zf/O/8b/xP+6/6v/l/+K/5T/oP+l/7r/w//S/+H/3v/m/+D/4//p/+3/9v/n/9b/yv+6/7T/tP+6/9L/3f/p//L/9P/p/+z/9/8EABIAGQAUAAYA/P/p/+L/5f/m//n/AwAIAA4ACAAJAAQAEwAbAC8AQwA2ADEAJAAcAAgACgATABoALgAoACoAKwAgAC8AOQBOAFsAWgBbAFUAUgBAAEYARAA8AEQAPgA9AEEAOwA7AEYATwBcAGQAcAB4AHUAcwB1AHYAdQCAAIYAggB+AH0AdgBwAHcAeAB9AHwAegB7AHIAcABsAHcAeAB9AHcAawBvAGUAXwBdAF4AXQBhAF8AWgBbAFMAWgBWAFMAVgBUAFEASQBGADkAMwAmABsAGwASAA8ADgAQABIACgAIAA8ABgAGAAYAAwD9//b/9P/t/+T/4f/p//j/9P/x/+7/3f/b/9H/0P/W/8//zv/Q/9P/xv/I/8j/xP/G/8v/zf/S/8r/tv+4/6//q/+w/7b/uf/A/7n/sP+u/6D/ov+r/6r/rP+r/5z/m/+R/4j/j/+P/5X/pv+r/6T/mP+T/47/kf+l/6n/sf+5/7j/t/+1/6z/qf+n/6v/tP+t/67/ov+i/6D/q/+1/7z/yv/K/83/0f/N/7//xP+7/7r/uf+5/7v/sv+4/7v/vf/A/7v/v//B/8T/xf+8/8L/vP+6/7f/uf+4/7X/uv+6/7f/t/+7/7v/wf/D/8b/w//H/8f/w//F/8b/v/+9/8L/xv/B/7//xP/F/8b/v//F/7r/vf/C/7v/xv/D/8D/vf/C/8L/x//K/8X/y//T/8//zf/R/8//1v/c/9r/5P/k/+T/5P/l/+j/7f/u/+f/8//z/+3/7v/r/+j/7v/p/+3/9v/v/+z/6P/m/+n/8P/t/+7/8f/u/+n/5f/i/+f/8P/3//j/+//4//z//////wUABgARAA0AEgAPAAgADwAQABQAHQAgACgALQAuADQANQA4ADUANQA1ADgAOwA2ADkAOwA7ADgAOQBAAEgATwBLAEoASwBDAEYARwBIAFMAUgBaAF8AVABZAFUAVQBTAF4AYABgAGcAXQBaAFQAWQBhAGgAbQBsAGwAZABfAFoAUgBVAFIAWQBaAFoAVABVAFoAUwBRAFkAXABWAFYATwBJAEQAQAA7AEMAPAA6AD8AOgA5ADQAOQA6ADoAOQA8ADkAMwAqACoAJgAnACkALwAyACoAKAAkACcAKAAvADAAMwA1ADoAOQA6ADwAOQA2ADMANQAvACgAKQAoACYAJQAoACYAJQAjAB4AGwAaABsAHQAaABQAEQAKAAoABAD7/wAA/v/9/wAA+f/+//7//v8CAPn/AAD7//7/AQD3//j/8v/2/+v/5v/p/+X/4//j/+X/3P/Y/9b/z//Y/9X/0f/T/9D/0P/L/83/yv/D/8b/xf/H/8X/v//B/7n/tf+0/67/tv+2/7b/tP+y/7D/sv+y/7T/tf+4/7j/vP+8/7X/u/+y/7T/tP+2/7f/tv+3/7T/sv+1/7D/t/+8/73/x//K/9D/x//C/8r/yv/S/8//0v/Z/9r/2f/a/+X/5//t//b/+f/3//n/+v/4//v//v8EAAMA//8EAAAA/f/6//3/AQAFAAgADwAPAAwADwAUABUAEAAYAB4AHQAjABsAEwAfABcAFAAVABsAJQAkAB8AFQAUABQADgAYABkAGwAUAA0AEAAGAAIABgAFAAEABAD9/wEA///z/+//5//d/9r/1//O/8r/xv+9/7j/tP+q/5//of+e/5n/i/+A/37/dv97/3T/c/93/3b/d/90/2//b/90/3f/c/9y/3D/bP9y/2//b/92/3L/dP9y/3n/e/99/4P/jP+P/5X/nv+c/6H/r/+t/7T/vf/A/8j/zP/d/+D/5//z//j/AwAJABEAFwAiADEAMwA9AEUATABTAFsAZABoAG8AbwB0AHUAfgB8AIoAkQCWAKEAnwCqAK0ArQC9AMAAugDBAMIAxQDFAL4AwQDHAM0AzgDNAMkAyADLAMoAyQDHAMMAzADIAL0AvwC6ALQAtgCoAKkApgCbAJ8AlgCQAIcAhgCAAH0AdQByAGcAYABeAF0AVwBTAFAARQA8ADUAOAAuACcAHQAaAB0AFQATAAkAAAD8//b/9//x/+j/4v/j/+H/2P/T/8b/zP/E/8D/u/+2/7X/tf+v/6H/of+c/5v/mP+R/4v/jP+I/37/df92/3b/dP9z/2//a/9q/2f/af9p/2T/aP9n/2f/aP9h/1z/Xv9e/2H/YP9e/2X/av9q/2P/Xv9i/2j/af9p/2r/bf9y/3P/bv9u/2z/cv96/37/gv+B/4r/jf+V/5n/m/+k/6v/rv+v/7L/tf+9/8X/0P/N/8//1//g/+T/5P/o/+//9v/+//3/AwAKAA8AHgAdABwAIgAuACoAJwAuADYANQA4ADsAOAA1AD0ARAA7ADwAOAA7AEAARwA+AD8ARABHAEYARAA+AD8AQQA8ADoAMAA4ADsAOgA2ADEAKgAoADUAMAAjACUAJgAnAB8AHgAdABoAFwANAAcABgAOABAABwAGAAAAAQADAPr/AADz/+7/9v/s/+D/3P/g/93/3v/R/8v/zf/Q/8r/zP/B/7r/xv+4/73/uP+x/7H/qv+e/5f/lP+U/5j/hv+D/37/gv+F/33/df9w/3b/dP9s/2P/Wv9k/2P/Wv9Y/0//Vf9g/1z/Vv9a/13/ZP9f/2L/Yf9g/2//b/9v/2r/df97/3r/gv9//4P/lP+h/57/of+q/7z/x//I/9D/1//h/+3/+P/+/wEAGQAgAB8ALQA0AEYAVABgAGEAZwB8AIUAjACTAJ0ApwC0ALgAvgDHANAA1wDfAOwA7QD4AP8ABQEFAQsBEgERARcBGQEkAScBJgEkASUBJAErAScBIgEZARcBGQETARUBAwEFAQsBCgECAfwA+gD6APkA+wDqAN4A4QDeANUAygDEALoAwAC4ALMArACpAKkAogCZAJIAlQCUAIsAgAB0AHIAdwBtAGQAVQBVAFsAUgBFADQAMwA9ADoAMAAdABgAJgAoAB0ABwACAAMA///4/+v/3v/d/9v/1//O/8P/wP/B/7f/pf+p/6P/oP+T/4z/hf9+/37/c/9f/1H/WP9a/1P/R/81/zX/OP8z/yH/Cv8R/xP/Ff8M/wH/+v70/gD/9P7p/uj+6P7r/u3+5v7k/ur+7v7r/vD+8P7z/vj++v76/vr+BP8B//3+//4E/wz/Gf8c/xv/Hf8s/zj/O/87/z7/T/9Y/2P/bP9i/3D/g/+G/4v/hv+Q/5j/qf+p/67/t/+5/87/0P/T/+P/7v/7/wMACgAPAAkAHAAiACgAKgAwADkAOQBBAEYARgBLAFoAYABdAGUAawBqAHIAagBxAG0AdgB6AHAAcgBwAG0AbAByAHEAcwB0AHUAdQB7AIAAfQB1AG0AbQBsAG8AbABaAFIAXwBgAFsATwBHAE8AUwBSAEkANgA6AEAARQA9ACkAJQArADMAHQAQAAcAAQAKAAkABQABAAAA/v/9/wAA/P/3//L/6f/k/9r/3v/Q/8b/wf/E/8j/w/+2/6z/rP+1/7r/nv+T/43/m/+j/5T/e/9v/3f/fv99/2f/Uf9M/0//Yf9d/0P/P/9M/2H/Yf9W/0v/Pf9P/1f/T/9I/zj/Pv9I/1n/VP9J/0f/T/9o/3D/c/9r/2T/ff+Y/5//mv+T/5f/p/+5/7z/vf+y/6//yP/j/+P/2f/Y/+3/DgAgACUAFAAXADMAVQBbAEcANgBDAGcAeABzAGQAXgBzAKMAsQCZAIoAlgC2ANQAyQCyAK4AxQDiAOUA2ADIAMMA2ADtAOYAygDCANoA7QAEAfkA4gDVAOIA/wD9AO0AxwDEANcA7QDkALgAqACmAMQA1ADHAKMAmAC3AM4AyQCjAH0AiAC0AL0AowByAFoAcACHAIwAZgBLAFYAcwCSAH4AXwBMAFUAhwCcAIkAVQA9AF4AdABgAC4ACgAdADsAXQBHABIABgAnAF4AXAA0ABsAKQBFAFMAOQADAOT/9v8bACMA/P/Y/9b/8P8KAAkA+P/h/+3/BAAaAA8A5//Q/+f/CQAJAOT/sv+0/87/7P/a/6b/kP+y/+///v/b/7T/xP/5/xQA///G/7X/y//w//f/xP+e/63/3v/6/97/xf/B/+D/DgAJAPH/4P/o/wMAEgAJAO3/2v/i//r////X/6//qf/K//3//v/i/8b/5P8JABoADADZ/9H/6/8OAAMAuf+R/6L/2f8BANn/n/+Q/8f/BwD4/7v/j/+m/+H/9//T/4j/bf+h/+j/2f+O/1L/Vv+Y/7r/pv9r/0b/e//P/+3/sv9U/0r/jv/Q/7X/XP8s/03/mv+2/4X/Kv8k/4z/5P/T/2D/H/9N/6T/zf+T/0L/Nf+E/+H/1v9Y//z+Iv+g/+L/lv8x/xv/dP/h/+P/gf8b/0T/zP8TAMr/M////mL/6//n/4L/Gf8y/8P/HwDk/zv/AP93/wwAKQCv/yz/QP+8/y8ABwBs/wz/Zf8NADAAq/8Z/z3/2/9cADEAn/9D/4v/PACIAAYAWv9K/+H/eABiANj/U/+F/zEApgBPAIT/RP/k/7QAwAANAHD/of9rAPUArwDo/3//6f+9AAgBXgCm/7H/jgBNASYBXQDa/zUAGAGLAfkACQDh/8IAqgGoAcEAGwBrAGoB+QGHAZ0ALwDnAOQBDQIyAVsAiwCQAT8C6gHZAEoAzgDdAUoCfAF7AGYAagFdAjYCJwGKAAIB7wFFAo8BdwBAADABOwIyAiMBRgCSALgBPQKMAYkAOADqAPoBEQINAfb/CgA6AQgCfAFQAM//VgAjAT8BjADB/9H/ygCnAU0BHAB0//v/4QACAUwAlf+D/zYA5QC2AMv/MP+9/6YAzAD9/0L/Vv/2/2kANQCJ/wn/b/9IAIUAzf/q/uL+gP/h/5f/C//Z/ir/2P8uAKf/2f6i/kj/1v96/8/+jP7u/nX/nv9G/6z+kP4q/7z/ov/m/nr+yP5C/2D/EP+0/qf+Iv+k/5j/4v5F/nT+Bv8t/9X+df6V/hn/g/9y/+D+iP7H/lj/dP/z/nv+kf7j/iT/FP/U/sf+AP+G/6v/G/+H/oj+FP9p/yD/5/7y/jT/i/+I/x//qf6m/i//eP8p/8z+yv4y/2P/S/9D/1X/e/+4/8D/XP/O/oX+3f5V/2f/Xv9q/6z/zv+y/23/9f77/on/+v/g/1X/Nv+r/8z/i/9M/1X/mP/O/9z/l/8J/8f+Hf+V/9X/uf/W/yAAJwD5/4X/B//n/lX/BwAjAKL/Xf+p/xoAEgCk/4D/vP8JAEMAEADB/4H/uv8vABwA1/+y/+j/WQBTAPn/ef8y/6P/IABZABUA2/8+AKcAmQAEAHL/ev8CAIMAgwARAM3/LQCrALEAJwDR/xsAqQD3ALwAKgDK/xMAogDnAHwA8f8uAOkAFwGXAM//iv8IAM8AMwG2AAkAKgD3AHAB5wCj/4v/TADuAD4BwwAQACoA8gCdAWYBYQAHANEArAGpAdkA9/8aANwAsAG0AbQAAQBEADQBnQHiAP3////jAKoBiAGuAAcAcABkAc8BIAH6/5D/RQANAR0BigAlAIoATAGxAT8BXgACALYAswEEAjQBWgB0ADQBrAERAUYAJQDVAJ4BeQGgAPf/HAD8ALsBngHcAHsA1wBbATkBZACu/6b/ZgAuARoBRwCZ//b/HAGLAQMBOAAjAOQAhgFjAY0A5/8AAMMAEQGCAKD/Vv///54AmwDm/zb/df9wADkBEAH0/0j/mv9HAHQAlP+7/rz+hP86APP/E/+0/lr/fgDsAEMARP/t/q//iQCoALn/p/62/n//CQB5/0L+5P2X/qz/CgA2/1/+Vv5S/1QAJgAd/2n+uP6D/7j/3f7G/Yz9dv6L/6f/s/4Y/q3+5v9cANX/Cf/O/oH/MABkAIH/U/5m/jn/9v9k/+X9kv1m/qf/HwB7/67+s/6k/3cAXQBG/6P+bP8MALL/8v4N/iv+4P6j/zwAuv/q/jn/ZwApAZUAff+c/7EAVQG+AGz/wv4U/6D/xf8b/33+r/5z/yUA+v9k/yv/df9XAOYAvQDm//L+N/+w/3v/rP4U/s7+3v8bAHf/pv7T/tH/pACWABIA//85AHUA8f85/8b+mf7H/uL++v63/lT+lv4T/03/CP+x/kn/IwCgAFIAmf8i///+EP/7/sH+sP4R/4T/nv9B/+D+/P6e/wwAZwCWAN4AAQG0ACgAcP88/y//f/+n/27/Xf9O/1L/ev82/17/6P+iAHEBSAHCAC8ABgBVAGEAIgDx/wIAswCyADIAsf+w/7UARgE9AdsA/wDUAVcCAgJIAaoAwQAGASgB0QApAOn/RADyAOIAYgDv/2EAhQEaAtkB1QBkABcB1wHGAXEAmf81AFkB8gHuAPn/xf9dACIB7QCHAE4A5gAbAkMCZQFJAO3/1ABEAfoAtP/M/ij/hQBDAS0Asf5M/iUAnwFCAej/YP+JAN8BawFAAPT+Qv+8AMsB0QFFAEP/Qv+OAEMBhQCl//3/7AG4AxEDGQGp/7wAyAIKA44BxP/DAMACkQM7AjAAKgDYAfYDigQsA/QBYAGLAiQELwQjA80BtAKDBMIE4QKjAF4BcgNuBBgDCAFjAR0DxARgBDAC6wADAZECIwP2AbUA/f/qABoBpACk/07+1P4fAL0BCAGT/eH7/PxE/4v/fv2r/Fn9dP68/bD7PfoY+lb77PuY+976mfox+xn7dPqx+VH5d/ke+jn7ofrR+EX3gPdQ+YH5lfjK9/f3W/kC+oX5EPhL96r4Q/oZ+qX4+vga+0z8vvu4+iP8j/sS+HX4ZPw5/3v/Nf/e/4r+aPvT++IAcgYbB60D6gB0AZADSwZyCbEKRwk9CMQJBAyNDF0Mlg2bD74QPxDxDzcQHhKtFOMVKhUNE3QSJBQgFSwUQBJGEXMSoxMIFFkS/A+KDqUOJQ/jDcIL8AkTCisLGwrGBqQCOgEBAzoDIAGr/IP5vvgz+IP3r/Qz8q3xB/Ih8nrvtOvv6Ern5eZJ5SrjZeGx4O3g098E3fjYu9bC1zva+dqf2J3W+9bl2GHYE9XH01nVJNlT267bb9z826zbX9qu2SXcdd8U5uzsdPJz9RLy1O657hT0Ev36A98JVA73EP4RLhB5EB8Vix1WJoErty40Mbg01TY4N6A3UjpTP0FECElTTDVMDEm5RNNCBEMiRKtFpkZ6Sb1JgkUBPn42sTPsMuUxHDA9LZYrQijAIaQZ8hFwDocM/ApUCeEGegMv/t73C/HU6nzmN+Tb48DjSeHr2pbSEczpx2LF6cJTwXTBNMHwvim5vbIJr1qumK54rGKpj6jvqVOrj6lgpi2kyaJ4o0mmSquJsEyzOrXAtni3YLi9uYi/7Me2zk7TSNUU2I/b/t4D4wrnSu3d9KH8YgRwCHsJbQjMCvsRbRgqHywkAColLpcuvjCpM7g5/0DFRqBNdFGGVANY9lpIX2BhrmPWZb5o8mtBbGJrRWiJZQxk7mGFYKddN1y9WkFXU1L2SWREcz8XPC85MTOfLosoQiOuHaMVFhFwC6QGDQND/gX8sfeC82juqugt5YbgYt4i3NTY/NS2zp3JusO+vxS+0LohuD+0Z7GkrviqyKh0pd2j0KFsn8+eSZ86oYKeI5oNmnSdaKIqo5Gj+qWwp6WpVqqrrpe1dLuWwObDJ8hYzFPQ1NRS2MbdeORy6i/vxPSE/VgDQASKBOYHMA7ZE28YRBxlH0IhuyLQJCkm4ydZKuouYjSHOPE9bENDSNFLxE0NUYdUCFqRYf1nF2zMaxVqEmkJaMJnA2eDZvVmD2doZRZgK1n+UqFOyUqKRo9BQDyvN1UyZCs1IpUYwxFCDXwKYAeEArT9Svis8/DuyOkS5sHjx+Pw437hYtxc1h7SAs+HyyjIWsW5w2rCYsCSvMy2c7ACrNOqr6pxqY6mIqSIo6Oi05+em62ZfpuHniChrqKVo/6km6aup7SnvKh/rf+1e72Jwa/Da8WSyAnM7tDH163e0uQN6kXwIPaR+Oz6Tf4dBNUJrQxDD2wR7BSNGGwZdxmtGSQcrSDpI6Am0icOKcArnjAdOJ0/B0VpSO9LKFCiU9JWQ1sIYnJo9mtcbL5q+GoPbHls7muWatVqOGpFZ4piclttVRdQxEv9R+VCFz5QOBUxWilwIFMYdhEdDYYLcAkTBUL+yfem8vjuo+t+6KTns+e85rbjWN4p2V3VQ9Y/2OfVpNKwz8XLPselws69FLlUtna0g7Fvrvuq/qbmo+ehT54vm0CbTZ1In6qgd6Hhn+ueraLTp4+sqq/Asqm2Mrv9wZ7Hisvgz7jVL93n4onlsOhv8Nf5Z/15/nQA0gXDCsINihHYE9oWQBleGocbNhtAHLYe2CHZJSMnmiivKC0rhzEoN7I8WEGmSYFSNlbpWFpb4WChZ7xr9HBIdCh2qXVQczRxX23Zae5mQWVnZCZhn1qwUQNKOERhP6M6BTQFLlUngiBPGc8QHQoaA7r92/l49R3yYO1G6FXjCd5V23LZBNmQ2c/YZ9ea0xnQvc3My6/Kosimxh7FV8MMwS69E7natHWxsbDnr8euga0Dq8in1aXppB2k+6NupU6oRqpcqpypQqoorb2wdbR5uUG+UsN9yD3Nw9B50zTYeN6v5UbsC/AP80f1kfg2/+IEpgm7C8EM1g8NErIVhxmWGrEb7Rs5Hk8gzh6lHychkCJhI44hfiI4JasmmiegJy8reTFkNvg65z50QgpHvkp3TjVT0FfKXPVfMmJyZYllp2NXYRpfll93X5xdlVlWU+BNBEhaQv49Hzk5NNMtqibsH7IZ5BMmDMADc/0a+WT1afEk7XXoduOp3mvakNj12B7ZedfX1IzSz9BEz7fNUsx9ywLLg8k8xwLFdMJMv1C7xLdltjy2drURs4awt6+LrqGrY6m3qU6s4q2drbau97Ats0W0+LTauJu9McJxxnHIUsz6z+vUwNuu3+Pk9Ohj7UT1IfvqAMsCEwMzCDkNVxQaGLYXbBgGGdccDyCqIeMiyyFcIBAf8R/dIlMlCSWwISAhuCAVJc0wXznBOLIqxCKvLr9AlEwwSTJEzUktT/5TP1ZnWFxbkVdnVm9c/GXda4ZkRla1TfFN41ObVuNSKk2wRB05bS/FKSQqQClJH5oUQw1VDAgMtwMU+jTxv+so6snneOkM6yjoXeCM1ZzScNV82ara1NY61I/RhM8PzvXL3stayUrGoMMVwhHF9sQvwAK4r7Eys+C1cLfEtua0h7SzsWivnq8Ws+a3bbjDtye4RLxzw1zHZMfYxnfK2tB+1qfcleKw5l3nlOcI7AH0kPyIAWICRQL8A5gISw0ED2IMQQrFDckTQRfSFu8TcBCwDvQPAhRvF88WDRMVECgRVxWyGKQXNRNsEY0VEBwWHyMeJR6mIIwkryh/LdQzhDjtOuA890BRRyNMSU7eT2xSMVWyVvlWPVcVWNxXyVShULtNkUy8SbxE0D4VOSM0Oy5fKGQjGx4GGFoQbQnoBK4AoPxz9x7yy+0u6sXnB+bH5DbjN+AT3Ufba9v528/auddt1OHT49Qi1c7TTNAfzRjLk8kIyZfHYcTBwH696rtTu8W6/rlnt460FbPLs0m2NbbCtR64KrktuUG3iLroxebL+sqiyAjKu9It2ePcIt9i333iVuVd64jyhvWO9if1tfSz94v6F/8AAZAAiQBZ/3X/tAKSBtYInAetA6oDnwUvCQkMuAqDCdQI3glPDm8QRRLZEkMT1hRsFeAZoh9FJAMoIypwLjo02DlRP8RD0UgoTc5Qi1TDWQ5eJ2CdYXNivmWLaKlniWVuYqthSGHDXmlbKVboUU1OVUm3Q6s8EzY2MAUq4yNPHdUWlBB8CgMF/QAY/ML3Z/Xl8o7wJu0l6SHmfeNi4/jhSN5h2ybYhddV1o3Sxs1Vx+XEsMT4wsTB1r1qule42bVQtD6z6rL7sI6tRK6Mr/isr6ySrravZLH+r3GwJ7TEtX+9jsF2wBLC4b6ow8/O0dKE1yDYLdXd1rjbVuPZ52zn4+b35qfnIu2x80/1sfQk8W/wvfZ4/P7/gv6z+7r8zf/RBIAGMAcLCFkIPhCeGbMcFRdlEG8XziTvLBgspSaHKVsvlTLdN6g9AUKZQIU+7kIeSbtQQld0V+dX91jiWzZhh2PXZ0pqv2nsaVRm9GerbChsPmrqY+VgumBDXexbw1bxUTlO4UWxP685wTTIL2om2h8iGrQTwQ0GBOL8fPnR9s7yCepV4THeBtw+2WbU6c4nzCzGh8H7v7y8zbmftXux1K9freirfajWpuamK6WcpKuhWZ6Qnn6jzqJQnHGdB6A1oJ6gl6Fnoo2g6qVQqA6lbawSrdKwmreGtia51rs4xAnGM8QvyU/NO9BJz7nTJ9yy2U3eYN/K5AzvPuet6kLtNPFx+pf34/qc//T+bgiaCbMGFwvDDg4XcxlvFxYczSETI4UoxSoKL6w0nTHhNMQ6vD2HQPs/P0D2QnNFI0nsSetKMExOUIlUZVU+WC9YR1wAYMhehWKQZr1o+GqGaalrZm5EbsdvXG7YbJVrdGgTZ1BmOGO5YKlZ+FGcTSFIH0QfPbMzNCy5JVYethXPDZMGfv+M+PPv4Oif4avaYNYLzIvFPsLkvKC2tbB4rxWtSKuCpVGfxZ7enKmdM58LmhaZHZnal8qZBZzYmd6XtJm/mKKbJpyCmwmh5aGUob6hH6WNqBemmK0vs6WxMLWltby2a741vmq+k8ZSzEjIJsoW3oXsX+Qc2Ubll+8w7hbyZPh3/7cCjP/nBEoNwgyOCtIOHhzCIBQcphxPI5YooCocMeA2iTY5Nhk8Zj+xPr8/lkQNSJZFV0VfSXlMr0xvTe9NrE0pS8xMW047UPdPmknwSnNNVkkCSbRIiUZgRe5Ab0TlR3xHLkg6RvlDtEXDRwZJDEqDSGhHv0VURd9FP0QEP9w7gjqPOIc04TBDLbsmoCAtG10XuxFGCj8DnP1+9rntm+YN4MHaZdJAyL7CBb4yuuW527ijsTeom6qOrDiihJ8Ao4GkmaFBoQKlQZ01mNmc950poKCiPaEeorCjmqRzpmerJ62Irui2Ur1hvFO67Lv0vsfER8wu1HzW59IS2HPfROJN6HPrze2d84n5M/yC+QH90gGxA/QNuBGSD1gQngZYA4wTCh7KGZ0WzRrmHoUfTR/lHZseMCIXJ/Yqey2MKk4jkyelLjgusDBBM08t/Cz9ND84RTI4Lv40azk+Otg3ezDfLXgwozTlNhUzfS0QKbMnCCt7LGclgx+/ITQg3h7NH7EdihqoFnsVBxT9EBwNGg2hDbUMNgv/B5IECQQZBycIiAadA+QDxANQAw8DkAFw/Gz7B/5J/Db3fvNr8rvxQfNj7Q7ni96F1+fWTt3n56ne6sp5xHDcdwKU/2zpVuTl3hziSuEp5pzvRey+8cXuWeuX6O/YMtwl7v33SfD23gXisuXW4VrpD+p96anqnO687wbmSeoi7FnvXfym9WvuYfSB+vgBEffM8ygB7flu+TEBHgFrAa3/NQNeC1MKtwaO/MEB/AtGBhENwAhqBLQIKgOXBkwIRwKLAn4CjQXD/lv7bgWe/jL7rAHKBQkEFvn3+cgAgP7YATP9j/iA+6z7fwFIADoAoATF/Sv/cwKuAhYK9AVRBaQFJQK+CfkHEAe4DXwHFgmTB5kC/QgqBToEZgokCj8Mvwg7BfEHyQfXCxQLEwoBCOcCmAQwCD4IZwcpB28KKAp5BXgGFQr8CsULcg45D2gLJAl7DxARGQ+7DrcNCwzQDlsRoxFEE/MSHhKhFBYYHxjgFEIQpBGCFN4WHxl/GK4PTgsEDK0ORBAeD6sR2AiMBAkI5wWoCrcL5ARvAG8AVgOI/D76V/5w95f1tfhn9fHwEev17cTwvO/j7mHrI+KF1DjD8uOAKuo15RfI62DMM87V5sQGyh+7Fa/4L+Ob6Tz5MuuQ67z5FwVT/JbnZ9sV1qXZtvHF/8T2PuXr24rjA+8c/tjz7Odw49ng3eOa8cj81PoE9aDshOyW7Xz2u/kh+Sj/C/xa8Lf2oQaDBq/9GvzE/+3/rwIXAb4CMALEAxcIowWO/zf9MgbqCa8I3gFY/sL5pflcAGwKPQpz/Wz7TfxR/xL9wP0t/rj9swDj/i39iABm/hL9gwIYAEH/jAEaBqgB1/v5AcgJ1AqWB9gF1QKJCCEMLAyZCPsFFAd1B8QMfg3rDB0KAw7LEUcNNwmFCjYPThB4EIwT4g+DCIkMwQ7cDncPwxHJDG0KhQ65CggLZw69DtgKywdjCeIKUAgUBtEF+AdqBYICXQGl/mcG2w7aB/v77ACIBRr6O/vkB48I7/we+9IEBwSC+0v40vzp/tv9zP25+qP3jPnX+F/6Pv2N+OX16PmE/079yfNt7e30Zvz0+7v3YvJh+L3+AfXE8Kr6nfb58gr9bgGe9AXvT/yY/jH1HfgW/876BPie+nT6d/eF+2T6NvcQ+DTzye8z9V/6OfZ07YftePUB93D2yfTD9Br01O+f7wryq+wX7Lv5xPtO8T7u4/HU9Qn5zPrz+Y72VPgm/tz/6vw0/bgDEQPfAwYHGQJd/1kFVgytC+IGPgbFCYQLqg28DTINBgsFCzAP4g/KDycOKArPC5AP1A2hEJIRqQ6LE/AYWRJRCg4TTBglEEUOvhJxESgR/hGUD18RJBNzD4YJXQs5EBsS1xNNFjUNLQeXDi4UvxIIEG8O2wuQDaUL8gp6C1IM3Qs2DB0I9wL5AMsDqQqZCiACjP93BRIFigKK+VL4J/y7AswBv/Qe8T782f/l/o8G4P087zjyN/h09e/6KQB6/ZrziO4q7q3vkfd9/wr7Fu5j6Qfttu+R7dPvZu+n7ObsYOfd3d7nePH38Mrsj9702cjoWfDy6IjjJ+XI6NbpAvFK6ivcpuW++tbzR+YZ6rHvPvu4/u/uV+qw/JEAKPqJ/d347/LvAXAIMPpR/TYKDAShAc0IBP+E+4gLtA9TCPEFBgHf+5gILRKrBYT+agfzDKcIcQboA3UEfQ11EKsHWAH1BPILmAs+CHQIJAh6CWAGMgZaCcYIYAVbBucIggcNBwYDowZ9DgsJrf2YATwNsAdEBNQKNAUBAE8BeP1uBngTVAkT/z4GqQUFAMAL6Qs0BroLlQjO/oQC+w0kDGMGJA+bDvT/7QSoB48DRQrvESYL/wCsCP4M1AHmBOgJhQXlB+QH4v+QAvoHPQRNBdAISQlz/7f+LAW+BJwCZQQn/zEAeQSf/ez6fftiADj/9fjP+aABNf1m9eD1vvXd9p77Kvr68tz14/rP8B7wgP4J+gfx1PDR8YX3RPeE8Zjyi/ts/FXzc/ID78z0Y/5d98X1CP0P9KbyTQGl/Mbx1va9ASL3WPNH/wYBmvvR+sP7I/j1+tH/v/+T+sv9/fyT+gkAgwEN/BMBjA38+DjwYQMwAZf7HwgKAlL6WgCPASQDj/7sAUgB0v3g/vUDf/83/hIHRwTw/eH/GwQTAf0IBgjD/vP8dwk4CqYCrAUACA4HewQvBJ8FiAzDBvgFTwnNBgAEPQWIDOQTwwrE/1cGjA1HCEwF1A2/C0sKJgiXBpIOFAtpAVoR/xfwAKb8aRHsEMkG4gg+ClgJ9QdACc4H2QhyBzsGtAeWC3MEuP/qCLcGrAPzCmsFIvyCBRkJXwDT+uP/4QNM/rD9///9/M37UP3Z/03+Af6L/s/4NPhh//T3HfEeBhYFae6D9dj8bfGq+Z4DofTL8jb+lu+v7GkAZPu5+J4GN/x96bH2a/4270n6LA2N+NLppPdX9o/qxfgUBEL37fW5+d/t7Om2+Z752PPl8mrsKfOu/O3vRuZc9Nf9fvTr7d/0AvJS7//4s/nH8WD0oPgv9fb01vUG+PD5zPpE+vT1t/Rs+cIBZAQO/pb3u/lV//0A0wKpAaIBwwWNA1D99f3OBC4PxAwuAjQEggPDA/QIFw3BDL0F6ANfCokNfwezA8EHKg+QDv4FKgIdDSoN5ARXEOQRGAOgCB4VPQptBNUOBQ0pCfYS1wmXAIoOyQ00BPcQ5RDZ/+8JZRT7BGUCxg/PBRUCRBGkDH79oAfxD9kGwQZqCPsBogEqC/EKxAHUAKoHSwcHCEUFcvrB/2UJDP5N+BoBKwBO+lb+ngHi9I7znACl/jn44/kP9hHzSfgT+S30BvYY94/yRfjE95bsEPNh+93w7/E6+G/v6/FR+Yb1YfNJ8L7rUPe0ACvxAOxt+Fz3EPSw97DyCPSH/Zr5CPEs82z7f/zT/Az7EPWE9bD6H/xW/lsA9fwN/vL/fv9R/Ev+UgVNCI4FRQJNAZ4CUAYXB5AF3AbvCJoD4gDvBTMI1gVdCZIOqQpRAiUB0AZUDVkLZANBAb0GuQniBC8CuwMvBr4EFQEYAHAGNwk4BDEALQLOBk8ILAe6CuAJqf9DBBgPrAdLAgMNJAyMA7kGqQgrCDkM9gwfCe4EbwX+ASoFiw0mCsIFdAJ8/q0ADgSXAe3/RwNXBdj8zfxGAJb9cQEpBXwCdgA8AI79+wBQBU0BgfvT/UH+qPv9/7r99/pzAL3+Bvlx+df5SPmA/cQC7/tr9JT5yPr6+4oABPue8//3of9A/h739ffd/Qz9rPdl+F//H/1U+qb8dfuX+jz7vvsJAMf95fcw+Uf9K/4k+z/96P39+TL5VfqT+hT/ef+U+Nn38/zj+bf0uvx3/TL1m/ci+//2CPao9u/zY/kG/GP3HPhZ+fD3CfgR+ZT6Efmm99z46/d2+R76/vyw/nD7VfpO/bX/ufz5+rb99gGvAgT9tfpg/27/zAGDBN39yf0cBnMEbP2V/4cClwNeB+wF1/7g/o4CMAJIBkYHYgCW/ib/9/zQ/8cDwAIiAjIFIQMS/r//PQVqCykMSAVf/5wF1wyUC/AJcQh/B+EM5g1RCCAKpA0ODYYNog+iC3IINQ/mEp4MHwltCkkJfApxDQUJ3QJLBtML5AjRBtUGxQK/AyoJsAc1BPwFhQTrAYcEogUGAv4DEggUAjn8GQFtAqX+jANYBIf7lvmu/dr52fl0AO78yfXN9gf4a/Xr96P5jvQ88+n0RfDD7tD29fjJ9IPzRfAE7z/zpfZu96/3L/US8KruW/F+9MH2aPdK96jytOtC7L3xpPTL82T1tfT57s3tSe++7zH1S/uH9mbviPGb8mXwsvb++9z4Lfdu92r0K/ZE++j7sv7KAvv9d/ic/HsCXwRGBv0JlwfdBXcJUQjjB3AP4hSnE0ISpBDLDs8QwheWG60Y/Rf7GLgWmRfXGlQbBx0IH2wabBYDGREZBhhpG8ocvRcPFZ4VJBSwFCUWNROQEXoSbw+PDAkOHw7QC88L8gmOBdIDmgR9BdcEswGj/1n+4Poo+DD6vvxm+p73MfUW8bLvIPBX78fwx/AD7THrXOlE5CTiPuXO57jmCOV94qzeId734Ibg2N4r4M3hGOH13m7crNvQ30zkdOXs4h3izuFv4Xjkt+jS6ajpLelq6m7uvvDe7v3tTvJx9Z71rvPU9ev5Jvsa+XT4Ivpw/dYACAHG/oX9MwAAA8MFjQjxCTwJ9AhYCNYJoA/5FREYLRc1FskUHhi4Hvcj1ChKKhIoniV9J7IsQTGPNMMzLDJIMgcyezAHMhM1mzRyMCssJypsKXIoxSV3IrUevRuYGAkVbhGtDncL2gaZAlAAXf5I++f3UfSW8vTvS+077KHqNuim5tbls+Pn4vnimOH93/reP91s3DjdI92j2zHZj9Yn1oPXVtYj1MrTHdJnznDOM8/4y5HKxMt5yq/KAc4DzO3I2so5y5nJWM4414fa8tdl1M7S5dfO4a/pKfCL9ErxruuY7Tj1u//xCxYRaA3BCEcGqQimEIsbqiEOH6MZ6xZ3Fn4a4SDSJe4n7ifIJdAjDiWYKJYuojPnNt42YDWWNnE7F0D0RCBITUpjS25KtUkTTNNPaVFJU4lS7E7ESWRHDUaqRFpCZz8mOmQyLCvWJd0iyR3JF9oRdQv3Ax3+q/jX8xnwUOxS6EHkSuB126DYLtiQ12XVDdQG07HRdtET0tbREdEl0ZLQ9c/fz4TPwM4nzgjNusoIycrH2MVHxXnE1cDWvPa6LbuBujq6L7pYuHu2BbVKtfi2f7rzvLW8urzHvinEbcljzHbNW9Ey2O/cXeA75mfqH+6U9J76Bf7KAIMDIQf6DtcUoxdrFxYYGhpnHlYkoSemKEIq8SuvLTgwhTJaNQk7s0GCQulCcEMzRtdKTVF2VsVYn1lQWgdcuV5tYjhjtmONY0JjRmFhX7NbY1hkVipTFE6hR8dAPDogNT8vdChrIHMZSBLQCwYGVgAf+uvzjO295+TkWeLH3kLbPdip1VLUZNNg0pvRWtJg0rrQgM9iz2TQZNE70S/PKs1syw/KM8pzyovIEcR/v26897tavO+6qLaKsquvA60ErDGsRqwIrBGsXqyurCytVq5gsBi0frhwvXjCeMYSygTNu9Hw2KDgN+gf7wf1CPg9+l3+7QSDDJkTnhc5GZkZJxo1HUUhsCOYJKomPSdEJmYmsih+KRQrtC1LMYAzCjZGOa87hT5vQe5F00tRUkZWv1lcW3lcu10DYmBlxGf+aMBn7GOWX41dWls6Wl5XAFJcSSJBrDhHMowtOijSIDcYnA+2BiT/M/kr9avvburb5ELgYdzj2Q7YatYV1lTUndJv0vDT39PV00PUJdTX0gvTP9QH1ADS9s5BzajL6crlyM/GqcObv8u6CriutauzKLOwsZethqhlpzConqj5qC+rbKyQrUatZa6Ws/S7ZcNVyMrKG8u9zTHVZ+B36gTyKPXY9fL3/f15BYMNkBSTFzQX8hatF/YZCh4bIoMlKSZeJREjeSI2Jb4olSuILngxwzNENok5FD2sQMVE/ki/TkFU3ViwW0JdH18zYRhkkWeUaYlplmcCZBBgHlwkWZBWS1PeTSBGDj06NLIs5ibeIQMcwRNbClwB1/n39FXxY+1w6PDj/9/N3KvaYdq32rPaYtoB2rDZjdlB2gDbHdwL3fDd0t3/2wzZA9e71VzUpNLH0J7O5smRw8q9SbwcvBe6wbRerwysA6rIp5amP6dVqDOoKKf2pzGpM6xcr4qzpbc4vgbFrcq5zU7SE9mv38jlbexY9XP9QgNFBeYHTgteEdYWBRzSHkYhNCEqILUeBx8PIjEkECVrJGIlpyT2I78itiWYKuYwZzUHON44uTmxPO9BTEo5UjNYOFmtWAlYl1pfXstij2XUZSRjOV1YV6JTL1JAUGlMTkVEPWQ0GiwTJB8dDRfvEHIKNANb+1Dzf+yG57HkzuJa4SjfVtxP2O7VatZ+2MXa5txF3lvdu9q62K/ZNN1E4S7i2N6f2aDVAtN30rvSRNKAz2DKf8PvvPG5mrn2uF6227Kkr3OsD6qOqW+rtK5Jr0uu0K8mtvW8csECw/7DDMfIzmTZ6eOg663uou0I7DbwKPt/CrAVEhncFPMOrAoHDuIYTyZRLb8o2B3BFOUThxk1IvUoCyxNKJ0hjRz3H5IqSTYjPJE83DtdPMpAEEgbUYtYMl2yXCNbpVu/X6RjcmWtZB1h/lziWM5U8VC7TRRIRUAyOCwxUCqLI1wbrhH9CGoCIf2X94jy1ezA5v7ge9wt2kna29ou2j3Z89c/14/Xf9nS22/eReB74G3fhd9i4F/gbt8Q3mDdmtxS28nXqtPozsPKh8eMxWPD2cDHvJ+2hLB3rs2wl7OwtPKxta6NrWewQbVfvFPDgMehxwrI0ctx00bdT+WS6x/w2/Oy9az5ewB7CecPmxNUFIMV9hfDGVsbzx36IVwiVR9vGy0boxxaH+IgJCK/IawglyDzI8kqxDGGN8w51zo6PJlBTkn5UaZYK135XdZcEFxrXttix2WFZfphPl2XV+VSL07mSeFE+D6LNmctRiU+HncWxQ0vBf/9VfhG8gXsIuZA4QrcItiI1c/UItXX1W7VtNQA1T3Wjtdf2Rjc/t464X7hzODK36vft99F4PvfFd4J2mLVLtFLzq3MvMpUxy7C27xbuJK1JrTWs0CzW7GcrnGtT65ZsFmz6reEvUzBbcOyxQvKus8P1/ffDulJ79nxN/S4+GD/RwbCDDsRahTLFQEXZRisGn4coxzTG00b8hs/HL0bERkMF/0VDRfWGOoaaBymHZQfTSKZJjssdTLlNhY6Kz4SRYtM71KEVi9ZjltyXfxeAmE0Y1NjtGA6XGZXPFIwTV1Hr0HGO8A0pSvcIe8YuRAoCdIBr/pM9F3uDej44ffcV9nI1pDVQ9Va1fvVwtZJ17zYfNud3iPhEOO05HbmdujS6VfqBOqi6APmiuPI4Ujghd3w2KTTe89VzMzIvsVZw2fA6LrUtJGxg7Oet+K5rLjNtTezf7PSuEHCRsx/0TPRc8940j7aFuRf7PTyvfYm+Cz5Wf0RBTwMug9rD2cPIxEsFAoW+xYBF7EWKxUzEwgSlhEeEW8PnQ2DDHkMKwy7C9IL2A0hEQAVHBmFHRQilCaBK6EwlDbbPH1DqEnvTslSb1V4VgBXJVhgWiZcRlv6Vy5TGE6YSFtDFz7TOGIyrCoYIsAZyBHkCQoC1voS9W/wEuxl59Xi594O3LfaUNvy3NDe+N8Y4fPiPOXb5k3oY+ol7WzvSvHd8kLz3vH+7qTsfOv76qzpdefe5Ozhot2b2F3UfdFMz43NNs03zd3LpMdHw0PCRMRKyLXMCs9yzmjNr84703HYVd0f4gDmVegT63jvcfPi9AP2w/oMAU0G9QjxCckIWwbtBJ8HCA28EK8QJQ5PC0sIdwboBXwFkwOmAfEAbgLyAy4DiP8C/Pb6LP1HArQIwA4mEpMS8BHyE5YZaSHIKKsv9jW8Om08ozy0PWlA8EP4R3pLO014TBlIwEHYO3E4fTbBNDkyVC6eJ5geHhVfDWkIGgVMAq///Pyu+JDzGO8o7Afrt+sd7WTuku/B8FnxCfEg8SDyFvQ39kr4UfrL+jP4tfTR8qbxLvEy8q3yhe5h5sffXt4j3yDeC9xw2wrZrtEYzq7SK9Wo0EXN1s5c0aLR7tN82vLdOtmg0xXXBt7p3xriIekD7ubt2O3s8B/zAfGJ7wrzrPn1/l0BOAB1+1z1EfJg81D3fvtF/X/7CfYS8TDvyu+j8PXxLvRY9Yr0afMp9Ej1mfWD9ZH3sfuSALsE2gdWCp0MzQ7BEncZiSBWJmIqwi0VMdQ0aDg/PDdAd0NCRXhGq0cxSBdIQ0f0RU9EsEJsQK09QDoMNukxei5XK+AnhyQIIeocwRj3FZMTZRHfDz8OjwvYCOAHhAcYB3AH6wfYBowEIwKmARsCAQEM/6L+s/6f+2X3M/V/8lXtuOgu53TneeVc4mrfkdkC08rPic5Iz97SV9M6z9HMoMuqxizE4sc5y+3N59GX013Tv9G2y27I1M632HjeTeEb4RbcMNbX1NjY0d+a5bblVeLt33PgNuCL3uveJODa37XhlOYW6vLpOuaL4UfgJ+Ud7W31bvse+4r1H/IR87b2p/2AB8UPCRKpD+sMSQ2kEJEVWxyMJWcsNy5VLnAwkjMeNqM5Xz+mRu1M3lC+UltTgFJ2UXhSSFZBWxRfwl9DXfJYIFSVULdOLk7YTe1MmEqPRc49XDaiMO0rNihkJkAltSGiGzMUFg0fCOcEDAKJAOn/LP4t+oD01u5+6o3nneS54+nk/eIG3g/bvNcl0UrL0sj0yOvJmsrMyb7FXL7KuKe29LW7tqK6yL0GuyG3qbW7sbOtda69sFq197ucvxu9bbgFtayx2bEzvHrI2MyXyvHFucPrwzvH2sy90brUada/14Pc7ODn3xrcuNvh4LbowvIS+7z75fUA8VrxcPiQAo0Kiw7uDukL6wjxC28TURgjGTgbuh+dI2om8ilaLYcvqzGlNmE+VUZETBpP+lCfU+dXQV1oYjhmz2ioatNrAWyla1NrJmrcZ+5kEmNeYWxd3VbZT81JQ0SpPuk4nTMNLu8myB7bF04SUg07CEcDbf7u+Y72evNN8PntE+zw6Njk3eEh4aTg6N/S3ircYtie1CTR1M3/yvrJZMkhxtvBTr//vDe3R7CjrcKtpK2xr/OxSa6apmqgeJ1xn8Wl3akvqlmrtapbp+6oeK2krUiuzrSQvnfG/cjByHvJisiYxlfMPdp+5Zzpueop6QXm7uQT6IPwBfqP/8sCYQW/BKwCHgSrCA4M1g9JFvIbHx7gHVwdHB5lHzYh9CXBLak0qzdNOM048jmMPC5C+0kgUShWP1nKWrBb0V2hYUdl82e3ahJtdG2CbOVqpWj9ZUVj6WDRXpFcc1igUWxJwkHHOxU3SzLgLGom5B4YFywQQwtAB38CUP08+U/2NfOl70bsAukJ5vPjnuLf4ZTh5t//24bYzNW90lDRKdFZz8LLC8jaw0a+1bkvt4+1BLW7sj+vrquypNmfBqKqpFakBqMIoU6eT5+ypYapeKcvplSnEatssjO7y8G5wwzCQMD5wpzLn9X93LziauW55HnkKef06y3xX/U8+Pj6L/9uAygFsQWnBCADAwWWCooRHBhhHPQcsBm7FiQYax11JHIrXzD0Mf8xojOiNlc56jw2QQdGlEtyUX5Wulm4WghaZlo0XgZkP2mvbGBtcmt/aLplq2PeYhtiImASXc9YoVMuTnpHzD94OOMyoi4YKj4lsR/DGLsQwAifAhL/A/3e+kD3//KG7r/pwuVN4/Hh9uBW32Pdo9u52dvWfNMU0KrMQsohyWjJIsivwwq+H7hQsumvhLDtsLivFa00qHaiK6BVoJWgjaFWo9iln6j3p22l9aSRpyar9LHWu0PBE8GBwDnAqcLOylLUk9vi3rTgN+M35kfpDe4G8wv2+/c4/I4CzgcDCkwJIQgdCKkLaxKCGWkdGx7UHM0aEBqXHc8jsSiLKyEuHzBDMO4vPTFeNVQ6DD6lQcZGD0vsTIBN5k/vUzZYT1wnYOdjLWaqZm1mFWadZY9lamUdZfJjn2G4XF5VnE6zSflF4EG0PMI2Ty+1JlUeSheVEgMOlAj5Apn9ofht85Xu+urV5/HkTOIa4Mnej93I21HZR9bD077RYs/5zZHOWs57ySXDmcDIv5e8Bbkwtyq0SK7zqkmty64LrTupF6PrnkyffaNnq0eviKt3qFCp/qq4rcm0K7yXvMq6nL1kxXPOPdL50ZHS0tOF1hbeNuu79cL09O917mLvZvTG/sAJyg63DSoLCwo0C94OqBMCGoodNB2eHV8gkSFMIJcgDSN3JbMnoiuKMMQ02zXlNIQ0sTYlO09Bc0lIURNVJ1QyUnJSj1VRW3RiAGiPan5pVWZlYydhA2D4X9xf7l2YWoRWx1DjSDRARTjUMeoshiirJLAfERj6DQEEm/yq+NX2XfUA9PHw+esm5rzhU9/53nXfV9+G3l3d8drA14HVldJC0FnP4swkyvnJWsiKw72+BbyXuOS067TatEiygrEOsFOsiKvuqx+rcKsHrTetsq/TtHu1DrWyuAq52rhXvwXFksiXzljStNHF0/zYjtwa4KrmS+sv7evvKfKc9Kr4M/ug/BMAFQPYBC8IngwfDs8MMgxRDUgPWxPsGFMc/hvNGeIXeBfaGbkeXSQzKb0rtyvwK3AthC9MM0g6wkGARpZJgkxwTv9OyE/DUsZXQl0XYWliImKjXzVby1fRVi5XHVg0V3VTBk52R0c/STflMYwuqSsNKAojvhy7FcMNkQaEAS3+Tvzp+536wvaY8lLuUuig4/viSOTP5aDlbuLO3g/bp9Vv0VnR19JU0T7OkcwbyinF6MHDwPO+rr17vPa6e7zLvCq5xLl2uRi1i7YYu5q8+74qwDTANsELwHnAWMWWyh/NZs+P0ZrTytQv1dPWUNsJ4BPjuOZh6urqeeh96FnrB/BK9Z35dfuA+2v6pfmh+wMAOgRbBt4H+gjaCSYL5gw3DlUPixDpERsVZhncG7IcNx3dHTEfIyKiJpgr6i5KMI8xgjORNqs6pj7uQdJEBUc8SZNLRE4iUeZSvVN4VJ9UZlRjVOFTiFK0UAdPmUy7SN1EQ0EtPf04RDVlMVwtkSjJImMdXRmYFd4QigzVCCUFNwFT/kT7yfYt8vXuOetH6CfpQ+hu4zzgd91b2BbXJdfb09TRVtHNzWrLmszuyzjJeMfGxBDBksH6xUTHecRgxDHDsr6gvvrCocaKyKDGKsQCxYXFNscyy4PNLM3OzLrMLs7P0J7TmdY92BrXT9YM2OnZZ9wc4DTjXeM25KrmJOez52Dsuu9S71/yvfeV+Wf6nvx7/Uf/RwLOBDMJEw9jEegQohHiEm0TjxVJGj4fTSPrJaMmDSZWJoUn7CnkLXky1DbqOaw6pzoBPM89MT9xQZRFCUn8SrhMsk0lTeZLmUoxSltL4Ey8TSxNSkqzRTJBqT15Ozk6JTlgN+IzsC7UKCkjJR8LHYoaPxjtFQURAAt5BZsBfwDU/Wr5K/gG9QDusukL6W/nAePU39TcMdY41JPUDc+EzjnQAsncw/TEQsI5wIbChcHlvQ++Fb0guuS8T7+EvHq8Xr6SvM28VcANwhnCtcIhw7LD7sT/xkfKT8yvzPvNlc8I0FnSI9VK1nHYGdsZ3I3dMuAj4vvj0uV+5/jp7Ozr7uTxk/WE9+X4m/tG/8gB+AM8CG0MXg45EZ4U4Ba5GO0avR0WIQQkZCbCKNspXiqgKyEuOTDqMRA0ljWRNek1NDcrODg5ljqvOxk8Fz0nPq4+rD7MPrI+Tz66Ps8/kkCKQKw/Xz6XPfw8EjxmO2I7UjrFN9c1ZDQqMgAwPC7jK3ooRyXeIUMeRxtQGNoUaRFrDRUJtwQGAIr86fgY9fDxv+256P3kfeAq3ObZQNef067QVM6bygTH7MRMwxzBEMDcvlO90Lzfu1C6lLkPuiy6j7rAu/y8Hb1Rveq98b4lwXrDhsUIxyjIF8mnyjzNC9BN0n3UFdZK19fZhtzm3oHhheOE5PzlTehF633ujvAX8ufzdvVC9y36vv3iAK8CtwTxBsgI+ApdDRcQLxMTFikYUxpkHDYdCB6oIO4iwiSCJyspkSkKKngqSSvoLGcuWi+zL84vmy8gL2YvGTDmL2kvbS/KLnstSi0+LWosAyysK8Qq5ClPKY8oqCcwJ48mpiU+JXMkYCOvIswhlCDHH+MefR3jG5gahBnnFygWYBRIEgIQ7A0UDD4KDwiWBYUCe/+I/DP6TPi89SXzQ/AJ7fjpOef95B7jtOA03gPcz9ns12zWytTm0j/R+c8kz3XOwc0+zWHMWcszy6bLFMzvzJ/N3c1kzvjOC9Dr0bnTK9XT1kPYlNmm2xjeOeAS4sLjgOVi53zp2utD7jvwuvFi8/j07PYO+Q777/yE/vb/UQHzAr8ETAauBx4JYwoFDIYN0Q47EFsRPxJIE4UUrhXvFjcYexldGhEbwhttHPccsh16HkIfPiDbICIhbSGBITYhLSFfIZUhnCHJIc0hTSGiIMAf+B5AHsMdeh0hHZ0cmRsEGpEYTBcuFj0VfhTOE1sS6BCaDwQOggyLC5EKJAntB+YGxQWXBFsDDgK5AFX/E/4g/Xj8d/s6+hn5v/dE9hH1PPRw82ryU/Ek8MXugu2I7L7r6uoW6jvpOehn57Pm6OVw5RTlceQA5Ojj2uP24y3kY+RP5Hfk/OSP5T7mCOfU523oHOkz6m/rmOy17afuoO/P8CryZ/PJ9Dz2MPfm9wb5evrD+/P8EP4E/9L/sQCzAdoC1gOhBFkFCQawBk4HMQgICZcJKQrFCksLvAsoDLkMWQ3TDToOsA5AD5QP4w9kEOcQKhFPEZERshHZERMSMRJUEmwSUBIrEgMSzxGZEXoRSxHsEI8QKhCZDwQPaA7MDUMNsAzwCzwLmQrUCQoJRQiRB9UGDAYnBXcErQO3AvcBMgFSAF3/b/6a/dv8+PsP+yn6Qvky+Cj3kPbw9Rr1PPRo857ywfEv8dfwW/DZ727vDu+67nbuZ+5v7jnuGe407l7use4K70nvjO/c7zPwn/BN8erxZPLw8n7zGPTX9Lj1cPb09qb3T/jt+MT5l/pp+x38wPx7/Un+KP/2/50ATQElAvECpQOABD4FzgVdBuwGfAc3COMIWgnQCTcKgwrTCioLfguwC+gLHQw6DFgMYwxdDDEMKQwqDCEMGQwKDPQLtwt/C0cLDwv+CvIKtwp2CkMKEgrPCZ8JiAk/CeQInQhYCC4IJwgHCKsHNAe7BjYG3gXDBYYFIAWXBOYDNQOzAkoCxwEvAXYAo//f/kn+wf0o/WX8jPul+v35hPnp+Gz48vcr93P2+fWf9Vv1C/W49GT0IvTQ85fzjfN982zzXPNl83nzhPOQ86nzqvOz8+bzIvQ69Fn0kPS+9Mj09fQh9Uj1jPXR9Q72Xfa/9vX2NPeX9/X3YvgH+Zf5Ivq7+kn7wvti/Ef9G/6//nj/RgD1AKkBgwJkAycE2wSUBTYG2QaQBy4IrQgoCYgJ0gkoCoEKvwrvCgAL3wrXCu0K5QrRCsMKrgpeChQK8Am2CZAJcQlWCSEJ8QjKCIkIZAhACCcIDwj8B9gHqQeSB2MHGgfnBsMGfgYjBuYFrQVbBfoEiQQCBIEDCgOSAjsC4AFjAccAKwCk/yD/t/5u/hv+rv1G/er8jvxf/E78D/zS+6b7h/t9+3/7i/t9+1D7RPs7+zb7Xftc+0H7KPsK++D6v/qw+oT6UPoi+uX5pPlz+TL50/h4+ED4B/jb9773g/c/9xn3CPf29gL3Ivcq9z/3g/fE9w/4fPjR+CX5t/lA+rr6Vvv/+4r8Ff2m/Tj+2f5v//n/gAAEAW0BzgFHArMCBwNaA6IDyQPzAy0ESQRdBHMEdwR2BHEEbwRmBF8ESAQtBBwEAATrA+UD2APAA7cDkANkA08DSgM5AysDHQP2AtYCvgKVAmkCXgI0AuABnwGDAUcBBgHeAIkAIgDa/6H/Uf8z/x3/wv56/mb+OP4M/iH+HP7//R7+Qf5I/n/+yP7q/in/j//T/yAAjQDgACcBjAHpAS0CcwK2AuACCgNSA24DdQOPA2oDMAMtAx8D6gK/AnwCFwLIAXYBGAHkAKcAOQDg/57/Nv8A/+3+lv5p/k/+CP7f/fL97f3f/fj9Af78/TX+Vv5K/qf+8/7O/vz+jv+C/4H/LwA6AAUAnwCfAFIADwEsAdAAawGfAQgBPgG9ASIBCgEKAqoBBQHKAZoBjAAQAbEB3gDVAKEB0AA2ACsBlwDe//gArAB//4UAqgC+/mj/oQCb/rH+YgDS/jP+BP8G/qP9N/7T/c/9Cv4i/Xj8z/xD/Mz7Bf0U/Sb7svsA/Wj6O/qD/Rv8MvoU/W38cflO/Iv9e/rL/DP/PPuj+2//Nf1l/F8ATv/4/Mr/jQB1/hkAowLBAF7/LgI5Asz/KwN6BL4AtQJSBOoAhwI9BRkDwgKdBGUD9QEHBIwEKQNVBEsFggO7AuUEKAVkAjsFnAe1ArkDjAczA6kCJgjWBbQCJwdXBnUBIga9B1MCrgW1CJICoAKnB+IEzgF6BdcGMgIeAuAF0AOXAPADnARQAPYB+AOOAGYANAKUAAQARQAIANj+a/6b/mP+QP6t/Zb96vw1/KT8Xfx9+8j9d/w1+Dn8HP/F+HX7k//++Zr5jftV/Y7+I/1i/qv8XPkI/SD6+fjQ/1j8M/c1+ln4qPQW92D3hPh8+tL2rPNv9rj0bfPa91X4+fem+F72D/Uy+DP6svgE+ij93fu3+qT6qP0l/1L8gP4RAX8B0gH7/d8AYQfi/qP+ig32Bln84gceB2X/NwiwCFAEYgmHCFwD8QOqCS4KdgTXB90LiwWZBSMLBgfyBmQN8wcbBGcMEQr6A4sKRQ1xCDUHvgiSB7EFjQprDeoHcgmLCsIBswIvDeUJvgPTC1oJKf6MASAGJAVzBWoFvwMhAdcBev8B/lkEVQI8+6P+OgPt/I761QFy/Zr4uf/w+yj7fwFo+cv58/7v+PH51vuK+vX6L/pI/Lb5xvlf/MX1//ZA/Nv52/g++jL4NPbo92b3v/Wq+pr42vOA9yH2Yfd9+tH1evPq9rL31vTm9tP7/Pgv9yv2E/WM+wP7/vdQ/VP7rflT/0394/zR/v79xf3I/qT/7gALBzQENf3YAdACUP7/AGkEUQcyCscF3P/qABUEBgPmA2IKXAxHB40EgwQZBGcH7QmPCZMJHAhDB1UHSwi0CIcHmwdNB9AFAgiXCbwI7QebBDkEwQaNB0kG0gR3BW0FuQKfATMEFwdAAm3+awHm/oH/hAVbAY3/xwK5/vD7rv1f/Xb9yAIXAzYAMQDl/pP5zfbC+qIAgAJ2Aeb+s/re+Ez4dvif+04Abv9//IT7bvlK98H67PuO+Xr9w/9K+4D5Jvlo+Iz6PP1n/Hf6NP0p/ir68vlB/bz7sPkK+yH+FQH5AvQBF/5o+ob6uP2lAecFtwe/BlYDbf5E/nQA4AFiBg4JuAelBegEhQLk/jgAjQTIBuIGwwUcBD0Ctv/7/gYAugKnBa4DNgIPAfb+o//e/lP+dAH1Au0BngD3ACT/ffxQ/Tr9svzZ/5wB/P4D/u/7fPnv+Kb5gfop/Uj+TvwM+Qb4Cvcm9nL3yPls+wX7Q/mQ9nv2P/dE+PX4IvpW+ZD5BPmQ+L35Dvue+iP6tPrH/C3+AP55/gj9Nv2Y/nsAwwHsA9sEvgOcAcICzwRaBnsJYwt1CzcL3wr4CfUKBw7sED4T5xJ0EYwRsBAHEa4SGhVYFlgV+xNREzASaBIwE2kS2RA8ETQR0Q6oDAYMHgt5CSAIEweyBkoFCwN6AAf/Kf4J/cD7svq5+Yb3LvQi8pvwP/Ez8gnxAO5A6sLnl+b+5Qbm4ubk5ufjj99y3IvbWduV2hDbltzR3DLb+9ju1sjWY9aR1mrXMtv64PTj1uKB4iLis+Hc4wDpE/F6+rIBFQSoAk0BagMfCFASGh82KngvcTALLrktwDK8OkRCoErAUX9TX1EETqlLa0sBT3hSmlQEVN9Qn0jOP5w6aDj0NmA1OTG3KnwjaRvNEykNkAnUBmoEVAA4+zL1U+/h6Xjmu+Xm5mbmZuPP38LbItl813TWfdbp1zzY+NXX0GXNFcqwx8DG7cbLxm/Eer98uJuy7rDzsOqvGa9GrT2r4Kbhovag66JrpripnKutrR+wd7Fis2S5JMRpz9DX691j5Z3uF/jlAWgOmBzCKsg1OEAaS7NUXFrRX3RnbXJPfP9/o36ke3p42nPKcL9up20UajJj7ljKTthEPjySNK8uCyupJiof6BR2C2sDpv52+wT7S/uY+j735fLv78rxo/ZM+gr8V/4LAo8EpAUvBY4Gygl3DWAObQ5CDasKtwSL/1D9Ivwi+RXycunL4QDcCtXozUnHMMK0u4q0/Kxtp6qiAp9inOGaapn2lv2TG5ISk2uVkpjTm/OfNqWhrGOyzrf6vYXGJM8D2IPhk+xb+UMJXRojJoko6CPZJEszsUpsXetlPWcLZTdfyFlrWphjmW72ci9uC2S1V71I+TlSMxg3Nj1LOzstgxmbBxj8J/dy99L78/+c/tP2l+3D6Orpe+9j9sr9RQaKDF4NDQvaCpQQzxnyIiwp/St0KzsnRiEtHhEgDiN0IgcdLRWLC2MBW/cV7/7qbeiD4ufXacu7wJe5yrT+sMGtMqs6pzOhbZwom2Kc4p2Cn/Ci9KbTqcapOKm0rWe2Ob/CxRPMWtKu14/cC+SR7s/6pwQOD4MfozAsN9YvTCptNSRNfGHYafpptmjeYq1YMVOSWvtnFm2WZv1aeE8QQqswdyNjI6IrVC76IeMMdPlv7CTmFuUS6I3s4Ou65YHfMt6u3xvf0d/q57L3kwfIDdMJBwVPB0MRphzYJi0uUzG0L/8p+ySDJOcmFii7JuAjmx5+E70EnPct8sPzsfN17AXfk9AvxDC8brl+ube4vbTMrLOkhqH4oV6ir6EXo3WnUqyArsyrP6hkqWywqboRxR/N3s8cz2nP6dRQ4ETuPvkoBBsVeSeWLlAl+hnvHko4qFWOZk1oNWQwW6dOn0eZT6RiQ3AQb8Bh7VIRREQzbyTmInQt7jY2MEUanQDL7YPkq+Nv6SXym/S06wTfK9nx3dDiKOXl6dD3lwmNFFsSYAt8ClEUMiO+MXQ9J0JbP/I26DCVMLw0/DbeNOkwQy0dJJkT9QD+9PLyMPWe8hfmc9ORwU+0lq0Trdeug615pq2cq5SkkbySWZRUlyCei6UtqeempaNSpb+uN7u5xTvMEtEa1QXaP+D/6MHy8/sCBE4OfSBqM7Q6BzFXJLAlhzrmU3Fiq2OIXwBYKUwGQllDIVDPXApfYFVrRoU1ZiNWFQQVWyDfKQElZBHd+SDqDeV35+DsHfM79vPyWOx06I7pN/Ks/qYH2A0NFfUc7CDPIWclRy7vOf1BGEOSQaRAQD5IOB00tTToNIYwdCaEGXIO1wR4+u/vNunD5Drdn8+jwNu0Vq4Kq4CoMabEoxSfFJdzkbCRO5dWnXihTaOspT6o9KoVrQuykLkVwv7Ifs9D1iHc6eGv5+nuaPZ5/iQJeRvqLA8zEyohIEYj5zPyRmpTSFnOWYFSLkQOOfQ6iUdNUkJUVU2kQSkxCR/BEqwTRh12JG0fZhAK/7PyHO0U7UHx2fd8/ML6avRI8sf5TwN3B8gIRxKIIRIs8yrHJSsoPDP0PEVAb0BaQkpCDTzAM0Uv5C9BLjonihz/E4AL5f4V7xbkiuDp3nXWdsZZtzeuCKpTppqjlqIkoeubJ5WnkbqUpJpRniagfaQBq5iuF65wrly0kb7wx+rODNXF2o/eC+Ft5i/w/fpOBLAR9iOsMpUx4CKgGe8kAz4pU1JcHl3sWH9M9zxnNntAUlKFXClZ1EzDPfwr4hp5EjcYByV6KzQiyQ0a+czsQ+kT68bwpfdY+//3vPD57Gnyf/mj/JT/fQ2TIb4sqyYYGg4YliQBNZY+wkJkRElB0zVFKuwlRyplLl4s6SOKGkcPnf7d61bhoeLZ5n3haNA2vfawCKzNqE6mrKUkpgmjl50MmTyaVp5roU6imKZnr0+4MbrHt+24v8HKzP/UAdta4djoGO4J8jT3uQATDHscGy7KOi84IStiI6AtR0R0WepjQmTcXHdNZD6tOkhGHlVcXABXr0oVOiInWBaXEP4WpyFXJPcZZgZi8oXlwOEq5XHr5/FP9Sf09+3n5pLmnO/G/QgNzxhNHYgaEhYCFykh6TBvPe1ANj55OQI0OS5MK1QsrC7/LYAmORmvCg3+yfNp7YXp6uXT3WDQv8DSs8erz6cKpuekNKPRn8uaQpVdkmSS1pbXnUCm5KudrbirLqvUrmW4SMSBziPXytzu4NHj8ujg8N382wqlHXMxjz3AN5Eo0CJgMv5NImMPa8Jp/mNbV0JIU0JRTe5d1mbQYb1UMkRSMdEe9hWGG40nxyvgIJML8vbj6YTk/uRo6STwXfX49H/vEes27KTw3fVN/74OaR0JInQdGBkFHtQplDMNN0E5oDvJO0I23y22Jw0mTCVUIYUaCxLvBlb3cef53DDaRNhR0KfBmbPUqeyjsJ7imoqZ1ZkUma2Vm5J7kdCSyJY3nSSkMqv+rp+wpLIPubLCwczS1VXd4OPE6rjySfsGBKsNoBxkL7E+hj8zNlExejuTTuZeq2ZVaYVnnV1tT1FHdE36WDNfA1vwUfBFFTYvJMsYJxlwIJEjCRxVDWb9iPH16abn++k170DzxPSm8+fzyvas+S38fwIkD+IbqCLUIjYjcyiFMNg0NTXHNbY4ljpHOAQz6CyjJ+0hURsEFaQPEAfL+cPqrd8l2d/TWcquvdGyRqzDp6uhEputlYCTE5OXk12TSZQHlZiW75jpnh6muKvzrhay2LhrwabJn8+o1arcTuYq7xD4K/95B78U/if0OPA8hDRuLTg0Ckc9Wh9lmGilZdFch09dSH5Mh1e0XsJdvFX4SSY6Hil5HdUbfiE+JZIgsxJYArX0Nu1e6RjpcOzW8of26vLU6uroffISARsLhg0JDpwQhxZCHXMlFi+yNq43YTO6LnYtty16LUws3CorKUQi+BXCB2D90vZN8XfqPeLu2cnQOcU/uFuuYag3pV6hi55nnW6d65sMl/eRhZGply6gV6eIq4evdrNzt2q6Xb9qyIPUY9/m5qrtzvVK/qEEVAyXGlkv7T4uQBE4ITVhPolNaFlRYIVkkmQvXKBP3EgRTcdUclauUKFIXUDuNF8m8RlGFu8X+BdVEB0F//q481vsbuWA4ublduvi7BTqBus49JT8ff8u/Uf+XQVxEJ0aGiOXK/owOy6YJ9oleCq/MCgzgzJeLxgsTCT3FiELzAWYBHgA+/Y26jjeUNR8yju/d7Z8sZitkajSoiWeIJoSl12ThJEbleuby6DuocGhQaTQqnmzrboZwCDHX8/c1q3cAePc7Nr4PwS5DZ0a7it4OMs5wTTCNhZENVWqX2dkO2hzapRkOlnPUjRXrmAqZFpf2FUcTCNAMTNBKQgmECa8I1sbrQ8eBWz8w/PL6uPk/uRY6zDw+e4o66vsZfKT9gf3o/ii/yELAxavHDIiGyelKOElEyXnKLou/jHwMCouBixnKGMfDBTtCloG7wG3+irwKeWR22DQ68J5toyv/qrgpsCgTZtol5WU6Y8TjAuNY5IkmNCacpwPnxOlq6s7siC4zsAaybzQateN3wzptPN6/akHCheXJ04y8TJXMdo0q0APTu1Yu193ZMRjiVwEVIRRYFXuWRNbLFeSUDZHDjvTLWIlUiJ9IR4d1hQ8C8gC8fkK8OznxOWz5zjo+OZe6KXtUfAU7tfpcet38/D9ewZdDUYUGxqaG6UalBv+HicjdyYPKcMqyytEKFAgNxdoEe8NtglxA/X8bfaS7rPjMdY4y1nE4L51uDazaq+Zq4OlDZ6QmK+XpJk3mwOcfZ5+o3ynFKpkrIqwI7g1wXzJ7dCJ2Snj5+sK8zL7tAiVGoQp3S8qMNQy1jteR6NR/1nLYUVns2UyX3lauVsSXwBgEF5OW61XVk9FQwg4xTGiLW4ogyAnGkMVvA5jA+T1A+1Q6yzu7e+D7+nthO1p6zToouZz69LzLPxtAaMF7QqpDxgR5w8cERAWFBxNH0wh0yLEI+gf/hd9DzALpQkRB5wBLPsN9RHt0+E81YXLwsWnwYm8urYJskSuqqgioXabZpqdnOOeBKCZoSSlk6nwq62tQbIAu1vEucyL1Bnebuj78T/5kAI2EPQe8ShpLnI0Sz11R29PH1akXMNj42WVY/ZgB2NFZsVmgmMrX81bnFdxUBxHGUBzO7Y1hiw+IxAcBhdTELUG3fwp9wj1jfLK7nbsS+x062Poo+WZ5gbrc+9y8dTzLflW/xwCxAGqAekDZwcnCjoMWw6jEHoQ1QyPBwED0v7Z+VP1N/K88PXtJ+d83CXSP8pQxDi/0rtUumm4rLSsrnepeaYhpnqmGqjnqzuwMLMLtdu3jLwPw6jJe9Cy1yHgnehK8fn5+wFPCO0OQxggIxItMDRiObw9o0INR6tLrVCRVehXsldFV4tXHVckVXJSTVD5TqtMREgjQqc8HTcMMVoqiSRMIJMcgBfNEIAKywWVAVv9Ofqg+Gr39fRG8u3wQPIJ9BP02PL78qv0fvaz99f4gPqg+5X7l/qu+s/7KvxJ+kn3m/Rf8szvruzU6YXnJeVC4XncAthh1KTQ2sxJyiXJhsjLxkXEXsIWwm/Cq8K1w6TGScrZzGbOwdDw1EXadN8L5OLoJ+7w8vH2hftEARAHYQteDoIRChbfGjce1R+7IRwkMyYSJywnSScMKEwp3CnJKVgpfSjMJk0lrSTZJHckhiP5IdogFyDMHrgc6hpZGiEaQBlzF/QVFBXKFA4UKBMQEiER0g+2DmQOyA7wDukNOQzlCq4KuAoJChsIhAaQBQUFuQPSAfL/av6F/G75oPXb8pbxpvD57lvsQelv5X3hB95W3GLcj9xF26/YNtb11K7U09RG1V3WJNjI2YLaJtvq3PPfTONF5v3o8uvX7tTwS/K39Jz4oPwz/5gAKQIMBOUF4QabB8UITAowC+oKVgpOCn0KHQo5CcEIJglaCXIIAAeVBn0HQQisB3AGSwZfBxsIiwfBBjgHfAgqCe0IHwlkCtwLHAylCyQMyQ0WDwMP3Q4MEPQRehI1EUkQdRF7E98TMRJOEOUPFBCoD48OIA4sDhYNZQqMB3cGwgaOBtoEuwIoAZf/0vzL+Wj4R/k/+gb58vVc83ryQvKa8SDx0PFE8wf0hPPY8hzzNfTu9Fj1Mfbp93z5KPr8+Tb6Kftb/B79Z/3o/WD+mf4q/pr9d/3O/en9cv2l/PT7Qfto+nf5s/iW+NP4APmc+PD3i/eR96z30/dp+KL5vvoV+6D6NPrq+mr82f23/qD/6wDCAZ8BRQHNAXED9AR2BXUF2AWGBoQG+wXkBakGYwfVBlsFZgSQBAQFzARmBGsEXwRsA5gBZADKAPkBVgJOAQAAHv9u/pH98vxH/Tz+ZP45/bH7CPs9+2f7Wvul+6z8yv0c/uj9KP75/sf/HgCXAKAB5gLIAz0E1QSUBQkGDgYcBskGvgdeCE8IAwjKB28H+AaWBqEGqQZWBqYF7gRfBLcD5wKNAu4CfANKA0UCVQEpAXQBkwFlATkBGwG0ACkAAQBzAPcA5QA7ALb/jv8v/0z+zv1A/lH/hP9J/oL8mPvy+4T8p/w5/JX74Pov+sv5Gfra+l77Fvt9+jb6WvqS+rX6Afug+yb8+fsO+1L6bfoj+7v7sPs3+6L6PfoF+vn5AfoI+vH5/Plb+hv7q/t/+6r6DfqK+tb7Ev2T/Yz9tf1H/uj+RP9g/6D/QwBYAbQCzwM3BN0DSQNZAz4EiQVdBpkGiAaUBsEGxAaOBrgGjQedCCoJ3whSCPAHJAiaCBcJRgnDCMYH9QYEB7sHFAhQB88FnAQuBN0DLQNlAuwB1AFfAUgA3f7A/T79D/0J/e38UPw5+xj6wvlv+kv7c/vA+jX6Pfq1+hj7OPt2+/r7ePyv/ML8A/1X/Vv9K/0t/Z39AP7X/Vn9Fv06/Tj9yvx4/Kv8fP0J/sX98/xA/Cr8j/xb/Wz+Pv9r/+3+e/7I/pv/YACkAPsA4gEzA/cD1ANRA1ID8wPqBMwFVgacBpEGagY7BnsGBAeEB+QHDwg3CDIIzwdQB/8GKQeKB5gHJgdlBsUFZAUhBbwEAAQIA/gBEgF8AAUAgf/P/vL99/z2+w37cvoa+t35hPkL+ZH4HPjL96j33Pdi+Nj47fin+JH45PiF+VP6/fqH+8r74PsI/F78Af14/ZL9df2F/d39HP4Y/t/9pf1u/WH9hf3w/V/+j/5I/r/9fv2e/TL+5f64/14AoACRAGwAkgAWAd0B0wLQA5wE+wTyBNoEBAWcBWkGHweUB7kHngdfByoHKAdrB9MHLAguCM0HMQegBmEGTwY1Bt4FcQULBbgEVASkA80CEwJ7AeEAKABu/8j+GP5L/VP8nPsj+6f6yPnW+E/4QPge+KL3HPfP9sL2jPZP9nD2F/fL9/T3uvew9zf47Ph6+Qn6zPqg+9/7qfuK+xD85vxj/VD9Lv17/d/94f1+/UL9c/3Z/fH97/0i/o3+w/6e/nj+2/6v/3gA4QBQARcCzwIOA/4CfAO5BDUGEwdVB4UH+AeCCOEINAndCa8KJgsTC+QK5ArpCscKmwrFCiULPAudCqUJHgkfCR0JqwgACJAHXAcBByoGHgVMBMcDQwOOAt4BLwFlAEH/6P3x/G38DPw2+xv6PPnS+JD45Pf09h72tvWK9VL1IPUo9VX1UvX89Kj0zPRD9bj1EPZ29hL3ffdw9zX3YPch+Ob4Ovkc+QD5NvmM+aT5dvlf+ZP52vn/+Sr6Z/qo+sb6xvry+nn7KvzB/EP9A/4E/+T/VwCRACgBWALNAwUF5gWJBicHyQdvCDkJLQoaC8ULEwxEDIYM0QwHDRwNSA2DDZ4NZQ39DLQMoAyEDCgMoAssC8wKZgrRCRkJfgjrB14HvQYOBlMFeARgAzoCagHfAFcAoP+//ur9I/1T/Gz7kfr++bf5lvlh+QX5pfhI+AL46vcF+EP4g/i4+AH5Vvmm+c756fkx+qz6MPt8+5/7xPv6+w/8FvwI/Aj88vvX+8j74/sY/AT8pvtF+xH7EPsH+wH7LPuJ+9X7xPus+8b7F/xo/L38QP31/Yj+0v74/m//MQDTACYBXQHgAZMCHwNZA5ED7wNQBHQEdwSkBBwFfgWMBVkFPAVJBTIF6QS8BOMECwXbBDoEmgNqA24DMAOpAicC4gGEAd4AKgDn/+z/vf8m/2j+8/2o/Tn9rvxv/Kj87Py9/Dn81vvg+x38Ofxc/LL8If11/Zj9v/0o/qX+8f4P/0f/zP9XAJ0AjgCWANMAAgHuALgAvQD4AB0B6wCNAFwATgAiANn/ov+1/9H/nv9D/xf/OP9q/1r/Kv8V/zb/Wv9d/23/qf/6/yAAEwABAAcAKgBRAGwAoADiAAgB6wCfAIcAxwAjAUcBFwHhANEA2ADXANYA+QAiASYB7ACpAJcAqQCmAHsAXABWAEMAAgCP/0f/SP9P/yb/yv5t/ir+9f2i/WH9TP1b/Vn9OP0V/Qz9IP0k/TT9YP3B/RD+Rf6F/uj+df/a/xgATgCoACMBngH3ATkCdQKkArUCwQL9AlADjAOGA18DPgMqAwgD1wK8AskC8wLsArECagJIAkUCNwIZAuoBtQGMAXABcgGRAaIBhwExAckAfwBfAEwAIAADAP3/9v/N/2z/D//k/uf+6/7E/pj+hv5//nH+af58/qf+rP6R/nn+j/7F/sr+tv6F/nX+ev5//of+iP6K/mz+L/7s/cX9p/2R/Yb9pv3Q/er94P3E/dr9Ff5Z/oX+o/7k/kb/vP8xAJsACgFyAacByAHzASsCbwKKArcC6QIYAx4D3gK8Ar0C7gIHA/UCzwKeAnECRwJOAnsCzwISA0EDWQNyA3oDVgMeAxoDOANYA5wD6QMeBAoE3AMgAxECFQFAAKb/Uv9a/yX/1P4t/kn9Y/zZ+3v7Cvss+277DPwW/FP8QPyl/Mz8u/zx/NH8bP3E/ej+rf6C/9f/xf+S/tf90P2j/G38rPs8/Mr7yPy3/E79ev2j/Zf9mvxt/AT7cvsM++v7N/yc/Sr+Q/5g/hn+tv5I/jL/0P6V/+3/yAAGATgB8AE6AvkCnQLyApECJQOsApMC1gJFA/cDSQSOBTYGcweaB1UHcwaDBZEEpQPCAwMDDAPFAmEC2QB6/83+s/34/dX9M//a/8oAtf9//jb83vjY9nP1LPZQ+BgC7wkFEcQW5RmBFnEOJQY++/nyeuzf60rsK/Iu+Jn+mAPRBSsGwgL2/iL3gPLR7dfsDO2z8bT3xf3uBAEJdgw8C50JFQRI/4P5KfZ19fL2qPra/vkEGgiQCrsJCQjcA1EAqvxh+a342/i6+vj8oQATA8gEeAX5BCsDWgEmAC7+bf3v/e7+WwBmAokE2AX2BvwGPQaXBNYCqQBL/+L+hP5g/9cAUQK7AiwELAXMBGEE0gNAAngAj/+G/qn9uP1T/uT+gP8vAHEAPQDh/+3+Hv6i/cb87/v/+wP8MfxR/Wj+1P5h/xQA5v8p/7D+7/1a/TP9C/0Q/RX+CP9W//3/4wD0ACoABgDq/iv+L/4Y/tn9E/66/uD+HP9a/zP/Bf8J/wb+j/0R/iv+jf7M/1wBVQLWApIDVAOoAkUC3wGuAcMB4wGjAoID1AN6BAAFQQW+BNkEqAQOBPAD/APQAyoDaANMAywDCwNoA1sDUQPqAv8BqgH2AIcAPgB9AOL/yP+f/0f/mP6h/uL+P/73/dL9Uv4C/nD+Yv9xAOoAeAGBASEBTADc/pj9DvyY+pr5ffmD+aX6h/wE/9gAdAKaA30DYQK+AJj+aPzB+j35vfgJ+fH5Hfvx/F/+cP/0////IP/s/Zn9sPxh/Kv8TP3s/VP/2f/c/64AZwBy/5X+zv4B/gn+yf7G/34AQwH9Af8BHwKEAQACcgGcAcwBbAIEA1wDlwTgBOUEswQMBbcDKAOmAgkCZgHYAD4BkQAXAYQBogFIAYcBuACL/0j+VP1O/SX8e/zJ/Hr9qP0F/r79sP0S/Yn84vyo/Iv8M/1J/sP96f3i/vH+EP74/jX/RP/Q/rj/oP8v/zX/m//D/9H+Cf9v/6b/cP6c/7b/t//u/n//lv8M/xr/Zf+j/7/+B/+Z/nf+hv3i/U/+QP6O/cH9Cv+E/dX8BADa/9b9RADcArQDxgVVCSAMaQxvC4QJIgbWAgb/yPzn/C/9HP61ANACgAPVBP0EGgMJABr/Xf1k+uz7F/9NAo8FcQqSDCcN2QvZCGMEBwDJ+0X3/faz9rj3ofnh/b/+LQALAe/+vPwf+hz3A/O58hPyk/J79O/4p/ux/noCYwMtA04DkwJn/8v/dP9h/38A+wKUBOkFcggyCC8Hlwa7BBABl/8C/qj7vvoM/AD8cPyF/rL/PAA+AMMAef/b/pP9rPzn/DT9Bf6n/xMBLgLEAmQDCwSGAogCKwL7AdgAIgJNAygEpAamB8kJCgqFCQ4JGgdxBXkEfAJiAkcBawGrARwBKQFlAbsBkwA4AEwAi/+7/aj9xP1M/QL9//3m/Vf+7vwl/Pj7SfrM+RT5CPoH+hD7svzH/R3+FQCMAKv/Iv+B/nL9T/sr+6X7dv2O/RoA5wEKAsQCDwLiAewAAwFKAIH/L/+E/7j+0/63/yIAZACJAGsBDgD+/0H/9f40/lP+Lf7W/X/+2f0O/7v+Cv8I/wv/Ev8O/x7+S//x/x8ARAHMAmYF+gSJB5sKyAttDMoOqg/QDj4Obw2/C70KggkxB4AGogXHAyAC8QCY/vX8qfqa+Pb2m/Vi9LvyA/Ms9Ff0PPYR+Sv6yfuo/D38avt2+4L62/mE+1f8zv07/7UBZQLaAq4DsQLWAb8AOf8g/dP8+vtH+1H7+vzE/L39uv6N/lX+o/20/W/70/uU+636T/sL/Vv9sf14/xEAbv/7//f/o//cAKYAbACcALsBLwC8/7EBEQJQAjoEeAUiBS0FbwUSBC0DxwOLAnECbwIhAhYCVgPtA0QDmwXXBvYFHgffBwMHPgYVBkoEOALgAucBtwABApAC/gGkAu4C0ALxAvICNgGUAMz/Zf29+6z7AfwF+vz6wvus+2b79fvo/FD8xvvW+tz5Tvmy+Hb4nvmw+QD7qfuW/LX8AP3V/iD+Gf4O/m3+o/7z/Vf+sP9FANf/IwB7AWEAP/94AH3/qf4u/lj+Av7E/X79kP2Q/iv94/xB/T/9svyP/Cf+6f5o/m0AHgFoAUUCwgJ9AxoD/AP0A3AENgVcBa4FyQbGBr0G9gejCE8IRAm5CQIJmgjKB60HTwYPBngFHARvBLQDmALLAhgCLQFoAGYAP/9q/kv+Nf1c/L/73/sT+1P7xPw9/C78Hv07+476G/pM+Y74+/jp+nL7Lv2u/7QAXAE3AjoBDwDX/kn9J/z6+3X8o/xL/i4AAAFQAmQDBAMGAuwAQP7N+4v6n/k4+XX6fPz6/T//WQCbACsAzP9P/kr9y/1N/UX9C/+MAFEBcQKOAxID4wI1AywCsgBkAQgB0AAJArUDfwXeBvsHCwhQB9EFGATuAYgBFwHOALUB4AMbBdwFdAe8B6gGhQSaAwcBu/4y/rz9JP6H/rD/bwFBAtYCFQOOAmMBef7v/P36lfkx+Wr5+fqz+1H9YP53/1YAqv+M//3+o/z7+qb5UPip9iv3m/jL+ET7Kv4zANAAfQHcAbb/o/1k+1f6+/mk+LH4vvof/Bv8Zv33/y0Agv/iAAkALP9K/o79/vzJ/Bj9Df2r/uD/7QA1AkwDTQKPAioCqgB6AJAAvgBFAFsBowFhAtoD/wR+BaMGcAcYBj0FigRvAzYCCwIaAtECQQOQBC0FJAX3BfEEeATmA2ADZwP9AtQD1QPHAs0C/wGUAFQAsP8p/5j+o/5m/gP9j/2p/R/9D/1c/d38F/yx+1D7xfrq+pb7Lvtc/Ab+pP0k/pD+Xf2u/Fz7iPp++l76Dvvj+9r8Cf57/nP/zv8kAG//kP5M/qP8sftC+0X7dftQ/Fn9U/5i/5//hf+J/8P+Cv5Z/S793/1r/oX/hwDVAYgDYAN2BO4EmQTGAw8DGQMuApECDQPKA0UECwWcBXUG2wV7BlUG/wSKBJwEHgRwAy0EPgRsBGIEHgUOBU0FBAXXBFcE2QN1AkMC0gILApEBzQGAAtMA4//b/0T/5/0K/h3+Qf40/pj+Uf/z/nn/uv62/kP+MP13/AP8R/sx+lL6Rvqg+ij73PxB/tj+rv8eALn/8f6B/qf9IP05/OD7svr5+kT7Ivvs/Aj+l/+IALMB9QGxAdsAa/8p/mb8s/pd+qf6Hft0/JL+1AALAtQDbQRTBOcDngJFAf//Of+3/sr+xQClAecCzAXbBlEHCwgdCC0H6AWDBIwDyQH/AEUAegBwAcwBIQPEBG4FlgXKBVMFcAQOAhMBfv8N/SH87vsR/J38jf11/58AuADEAckBowH9/0r+Mf5T/IP6qvoP+/f6KPuD/BT+FP6k/q3/S/99/kT9Xfwx+zn6l/nM+dD6nfv0+yL9V/7A/eH9Ev5F/ov9Kv1t/VT9//xX/dP9/f3Y/qP+JP/z/zsAEABXABsBnQCk/z4AwgATAOb/RQDgAAYA9v/gAGABkwG3Ac8CdQP+AvYCCwTyA90C5wIrA/QBsAE/AuoCFAOnAycEagS6BMcD2gMWBCEDlQHTAVkB3v8w/xcAxf8W/4r/5P/Z/5j/x/+s/zYAef9y/g7+5f1n/Iv7Zvxd/KP7WPxY/Tr9pP0p/gH/K/8V/63/tv+q/zH/PP/0/m3+Vf6x/pD+1P7k/mT+Xf6J/QH9mPyE/Vf90/2E/nL/wv9///r/o//4/u39r/07/Q/90vxz/SH+AP+B//UAigKqApYDowMaAzgCTQFrAMz/uv+b/1wA3gGYAn4DawWsBZQFxgVrBYIERAP0Ag0CJwHeAKQAnwBiAcIBFANjBBsFrQW3BbsFKgTaAtIBSwBQ/qv9pv1z/df9Qf+3AFABIAK9At0C3AHiAMT/X/49/M76fPqW+g/77fsY/mT/LwB/ADQBgAFLAJr/OP8q/tr8VPyD/Hz8lfx5/U3+//61/4oAbQFvAU8BKAG3AHT/jP5r/r39DP35/PT9NP70/nYAxwGPAtACeQJcAicBY//Z/gH/Qf5T/rH/pgC7AUcCKgQOBeIE4AQkBdoDkgI5Ap4B4QC1AFsB0QEbAq8C7QMSBPoDwgOpA0EDxgGMAScBTACe/8L+Ff/o/jr+//4CAAkAdwDpAP0AAgAO/8P+ov0E/af84fxF/cT8Zv0X/un9A/6//vj+9f53/uD+5f7P/br98/0C/hT+RP7F/lT/nP4O/sj9v/3Q/Jz8kP2o/Zn9PP6K/kH+sv2f/aj97Pz//Iz96v2m/QP+pP5W/mj+/P4VAOD/PAAXAa0AUwBEAF8AtAAVAZgAyQEDAtMBYAEuApYCoAG0AV0CcwK8Af4BJAKJAloBkAHDAWYBVwFUAdYB4QFXAQEBdAEeAbIAXQENAvIBgwFVAdQAk/+k/iD+rv3S/ar9P/5O//j+f/+u/yD/nf4z/gn+//3U/Bv9Gf17/Bf86fsw/RT96vyE/jn/aP9UAO//NwGDAEP/N/9K/hr9Avx8/ML8cfzP/Vb/a//YAGYBUAHhAbIAq//M/lT9HfxB+2T7lPuJ/G7+wf/MAHsCcgJvAgUCOAHRALz/Mv+j/vv+kP8CAOYAswLKAgwDsAMUBK0DrALxA/UCqgFTAjEC0QHDASABFALeAbABAAK8AWEDGgJFAdMChAIsAW0BVAEyATAAsQA5AZwAsgF8Ad0B/gGeATYBDwG4/zD/1P4e/zX/w/5rAOYAugA+AbgBZQGIAVQA+v8mABz/mf7t/tv+/v0S/iL+0v03/s3+Qv9FADMBkgASALMAYv9G/db9Y/1v/Cj9Of34/bH+Pf8I/0r/mwB9AIUAdAIIAgwCvAEtAD8ARP+R/of+K/91AIgAlAETBIgDGAReBOYDqQPVAWcB5QGMAHQAFQEsAYUBcQFNAmsDJAR5BMQEQgTfAroAwP9l/tb9DP7E/qz/EwBRAaECeALUAr8CYAGcAJ7+I/5X/QX8JPyJ/AL9y/0g/+gBEwPBAvMCJAKu/3f90/wi/Cz8Tf1B/s3+DQCSALQAKwFNAXQBqAG5ANL+PP5g/W/7EPoY+wz94fzs/VgBpAIQAmsBCwGFANP8kvvY+/X6e/u0+gD8If7x/Mr9rv90/2wAGABEAboA4v5k/6D8EPtX+sX5kfzf/HX/1wSXBBwGWwQGA1ADxf3M/qkA7/4GAbEAtAH+Al8ATQIlAa0AeAFc/xIBYgFcAKgB9AAXAXQAkP+hAJL92f1N/hb8jP2W/sX+g/+N/8oACv8j/mL/Cf1H/RT+zPwF/jn+p/2T/p3+kv7O/Sz/H//d+1kAWAOSAUYGIgkcCuMIKAaQBdYCPgA4/lb8z/40/YP6R/6V/mv96vvL+8/5pvRL9AH1rPJP9bH41vkz/Kj84v1y/iL9Jfw6/Af+kvxU+pL9uP5P/az/6gRUB10IOQraC7IJnga5BIYDBwNNAdYALwKNAsT/MAA3Av4Bj/89AJUA9f3H/AP8OvwS+1P6kfzb/WT+egBSAJEAIAAx/1oBXAJyAf8BTgPkAzYC/wH/BCgEBAJyAxEFEAX/A44CUwIlAuUBIAGhAewBYv+a/hL/bv+c//r/lwAD/nr89Pwf/Kb9v/8RAHIC0AIAAuUB/QHuAjgARgFPAi//UQCdAUf/5v9PANL/LwDx/wIBuf8yAJMAQf7I/50BPv45/jL/T/0+/av9hP++AJMBKANcApsC1QMZAlsCLANQAzEDwAICAykB4QDFAmkCkAOmBc8EdQP5AGr+S/39/If9UP3E/fL/L/8r/roArQDE/13/QP2Q/HP8y/yG/l0AoQFaATkAyv8e/tD9xv4J/7X/k//o/8f/3f6x/70B7gHUAdwBCAHh/w//fP4y/rv+Rv1//AX9M/z2+jP7X/zA+3f8Yf7P/YL9If/y/oT/vgB9/0b/Cf9x/gX9Jv3c/gr/zQC6BPIFPAYiB0IEOAIlARsA2v6g/wcAhv8TAf0BvAPaA+wCCAK0ANQA8AFyAFwB3wD9/Gr89fvH+y38mvzM/LH88P2iALEA9P9Z/8D8VfuM+6H6q/n5+dL4XvjT+kH9iv6l/5AB8QL6AWwDMgU2Aj4B2QCV/jn/8/5E/y8BIAJ0BZgHWQjOCBsFsgObAo/+gv8s/8v9Yv6W/aL/rAHfAGUCnQKxAXgBzP+0AIf+gPrE+WD3gvQr9QT25/r+/38CRQWqAzcB4vz5+dD5Eflr+Xf5uvje+un7Xf6jAUgBhgQzBbED3AI2ATEBSv8//ab/oP/I/+kBWAF0BP8FewYPBzkEJgMnAjYBGgMwAm8BYAEE/6D+ef61AFICuwH3At8CqwEyAdr/Xv5o/NH81/1y/ET9QfxX+rP6PvpU/I7/jgAIAdX/xf+v/9X9Zv5w/aH7OvwN/N/9fABmASsDQgSkBMkEMgUwBfsCgQEAAV//VP+ZAN0BpgIoA/8DVQN8AyoDAAHQAEUAxf6G/0YAgwDI/8/+AP/G/sH+tP87AAgAJwG3AZ4B6gKuAjwAE/8m/oX9Sv1j/qn/Hf+5ANMDSgV7BlgGzQJv/4v81Pr3+m78zfzo++j8S//mAIgC0gRBBc0D5AHVAE/+APxz+rj4lvn7+6T+WwFtAzUEWgRzBLYElgNbAlQB0v/E/wAAaAC6AFUBfAItA4sDjQTzBA4EMgLsAGYBigB1/1H/Uf+g/8H/DwCDAf4BlwABAJkAUQFnAT0BRAHs/wv9X/sM/Lr8l/2k//QA1QDd/xb/5v7v/kr/Wv9Z/v79Cf2h+2f83PxT/Kn8Yv0l/d78YP1a/az8Bf15/qb/TABSAYsBBQAT/4r+Hv50/3UALwG+Ap8D6wN7AzYDLgN1ASkAUADR/wkAXwGwArkDHwSxA3ACYAGZAHb/wf7y/oL+Wv44/4H/FwDsAL8AJADF/2v/Hv+w/g3+Zv02/aL9QP5n/wsBeAJtAlMC2AHp/wD/OP4L/g7/6f6h/nb+2v3W/eP8OP3k/gP+Tf40/4r+hv42/oX9T/0O/F77mvtw/I7+0f5U/1IAFv9N/pv/kACcAJ0AfABY/2P+BP+h/5UBmQNJBEcEogMfAon/kf4//5v+6f4XAVUBLAHeAUECNwI7AgsCvQA2/xT+OfxR+x/9Yv76/7QC6APAA90C2AHu/1L+nf7m/o3/oAGDA0IF+Ab4B3wHbAaeBSEDWwHwAB8A2/8bAFUAiAA4AWQCVQNaBCcFNwQTAqH/lPxo+dP3C/ct9gj3rPga+hT8Uv6X/+3/CQBH/539Z/yY+236yPpp/AH++P+wAQYDzwOBBN4EnwOAAn4BSP+z/cr8Yfzj+5z7yvzi/Xr/QgFCAhUDigJpAXwAF/+A/if+R/5k/8r/qwBWAjMD7wNuBF8F5gYtBzkIHQnTB14HTQb0BGQFCgWIBUMG5wVGBkAF3wR+BDoCrQGUAC/+wvy++2j7U/vL+6D8Z/zr/FD9/vzi/WL+Vf5K/tn9Xf2a/L78h/2m/Rv/cQCbAJsBuwEjAfv/mv5C/l/9kf2W/nb++f6D/vL8g/xe+5P6nPrW+qn7HfxP/c3+HP+E/5kAjACuABwBXQH/AW4CmwMyBWYGbwcZCGkIxghOCBIIIwh2B0wGiQUsBW4EtQMeA+UCCgJBAfcAGQBp/1j+Nf0S/an8pfz//OT8rPzU++z7N/wA/FD9Mf7w/hwAcQBiAbUBiAFCAcH/Hv8o/o/87fyd/OT8xf3+/CT9Afyf+oj61/jG+AH5Bvg9+TL5xPmA+7X7kf3g/bz9HP9g/g//FAAgAFkCEwMMBM8F/AVyB98G9gVwBskE0ATnBIwDqQNpAn8BLQHu/zgAZ/9d/x0AkP7o/qX+7vyz/Ij7Z/uY+7f7fP3L/Rr/vQA6AFUBDgIYAjoDxQMfBEcDkQLMAdD/iv+w/2//DgA2AB4Awf/7//b/a/5L/on93Pu0+6n7BPyf/DT9F/5h/oL/oACZAKABngFwAGEASQAOADkAmgETA04DWAR1BT8FYQX2BKIDlAI6AdL/Pf6j/Wf9XPyb/N/8Q/zE/FL9PP2R/P/7iPvr+X/5dvkk+ab5z/nx+VT6Qvsb/D78yvyv/PT7j/sG+1H6l/nA+b/5e/pP/Ev9l/7r/hP+bP3l+w/77fl++Pn3yPYT9/L3sfjC+rr8i/74/wMBOwEBAAH/h/06/GP86vyN/mQAkQIABfQGgwm8CukKnAv7ChkKpAnfCHkILAiRCFwJVQq6C60MvAwNDLwK2QhIB6wFogNkAsoBTwGDAR4CcgKgAsQCsAKVAjEClgFnALb+2v0S/Sr9df5A/64ANQIkAwUE6gP8Ay8DvAFIAQ4Amf/r/5z/4f+m/4j/Qf8//rv9HPyC+gn5uvay9BjzIfIe8a/wC/Gb8L/wsPAb8ALwFe+x7lTtlesG64XpWemL6oPr7+168NLyhfQm9XP29fYs9yn4y/jY+aj7tf3j/3wCxwXuB7kJ6gu0DHwNeQ6KDooOeQ5kD6MQVRG4E4oVyhb+GHgZnBkfGrUZShmrGMAY7RjeGPgZjBrrGpwbQBwWHG4bfhuMGqcZSBnRFyAXtxYNFpwVARUhFY8UvRMJEyoRPQ8eDaIKrgc2BUUDoQA4/+/9RPyC++j56fet9f7yePAA7i3sxOqE6WDoTue55UnkuuMv4v7gaOCS3nPdVtz82mraM9r02rPb/dzX3svf2+Ay4hvj0ON45RHno+d66eLqwutl7X7uXfBO8mL1//jw+gD+Sf/n/vH/PAB5AQsD9ASLB7oInwv4DcUO2hA8EVgRYhI1E48UjxWjFg0X8BblF/AY0RkxG4Qc/xz5HXIfPyCcIQwjtyNxJIUlkSYlJ9Un6idvJ4onlyfAJ9UnJSg+KHsnoicsJ6Ql2CTlIpUgix4AHLIZ0RY6FP8R3g+lDhINrgrsB3wEVgA1/Kf42/R38fHu7uzP68/qt+nR56fkiOHR3nfcsNqC2U3YS9cr1/zWCdfI1pLV5NOO0SLQ884/zbjM0sspyzjMu808z/HPadAw0E3PSNA/0aXROtP808LUftam2ZPds+BU5bDoUerO7Wfvhu+M8GXx4fJD9fn5ff7zASoHegoUDMwOSRCjECcR5xEQEqkSmRWhF2sZOB1XH4ggzyLxI+4jOCTMJGEkLCQFJownPCkOLcUvzzEYNV43NjgjOVs6PDo1Os07EzyJPFg+TD77PRg+0z1+PIc6FDkGNbgwFy6IKc4lbyMfII8cEhnjFSkR7AyfCRsEsP9y/Br4MvQd8Uju5+rW6KDn5OQ/4/Dhwd7p27zZ39Yl1JHSttAkzgTNFcyuydzHWcZ/w/nAdb/VvJy627ljuNG2i7ZGtlC11rSEtde1ZrcBuwy9cr8Kw4TFU8jLzALRytRr2dvdz+AM5CLoB+tE7cPw2fOM9nX7kP8cAtUFGgmWClwMag4lDzoPchBxEV0SThV7GLkaPR07ICsioyPoJXYmOybLJ8woAyrMLAAwJzOcNqg6Hj7xQNtDpUUGRtRGoUfvRwlJQEpqSqVKw0r1SZVItEYrRNRAJD0VOc00tzDrLCEpUyULIpwe0hohF6IS4A1jCYYEIgAR/Hr4u/Uq8yrxPu8f7TLrluhp5fThf96l2zfZi9eV1tzVWtVQ1HfSB9ADzb7JKsYQw2zA1L3puyW65bcRtuW03LPwsoCyebIcsryxBbIqshezibWyt826xr5zwsjG3Mowz/PTTddC2y/eRt9e4jvle+h07Rzy0Pfg/N8AVQVqBy4JrwpYCm0Liw1RECITpxXiGCMb9x0aIRoigiP7I20jLCPrIgUlJidvKU8tFDDHM4E48DrGPEs+Bj90QLFBS0OfRYxHjkkrSwJMe01BTg5NR0uySBBGUUQtQrM/Az3ZOb02QTN8L70rjye8ImwdIhhsE40PtAuSB7cDPAAd/WH6aPde9LHx1O4g7MHp5ude5kPkMOKB4NPew92n3F3amNcm1ELQlcxDydPGRsRHwtbAh778vLK7BLlttsqz1LHYsMeww7FpsuCz4rVutw66er25wJDD9MURyWrMvtEp1znbpN82457mqOrJ7UHxZPTB9p35K/w8ABUE8AasCPwIwAmTC3UNQQ8NERcTmBQ9FwEbbR3dIJwiuSKLI8kkEickKWArZC21LgoyfTbFORg9vz8JQetBw0OURd5GK0kfSjxK2EvPTe9OK0/CTeJKm0cTRTRD2EAnPxU9jznQNnY08zB/LdQovSITHVQYkhQ5EXsOGAtpBzgEwAAW/Vb5IfWP8CvsOelt5yfmvOWw5NfikOHR3wvdGNor1vvRss67y8nJkchwx2PG2sP+wHe+S7svuOy0grLnsDawXLGWsfOx3rIFs+6zobW3uMu7H74Hwh/E2sXQyjnOv9GZ1jTbet9I5L7pHO2b76n0d/cH+VX9kQCCA/wGkQrfCxoNehCdETAR5BPLFOkUYReyGJoZ7RrOHVIfPiDNI4cm4yeyK6EumTAmNOM3QDsiPmZCwEXNRwpL40xNTZpOTU9HT2xPpE+ZT0FOC02aSp1GDkPWPrM5qTQOMForRye4I68fFhuFFgkRKgvYBb0AyPzV+d/39vV79LvzAvJ/7x/tLuot5x3lfuPP4Zfh+uGG4FHfh92X2srXo9QO0QLNTMqVyH/FJsOKwUW+Ebyauoe4B7dct9C3lraQtpm2nrW1tY23yrinu9TAcsbtylvP0tJD06rU69aR2PjbZ+L45j3rRO8C86b1RPiT+uf6ufsU/rEA+ALsBnkJrAs3DpAQxxG6E9cV6hbGF00ZkxsQHzQk0ShkLc0xEjayOdM8J0AgQ+tF80hvSx1Oj1GXU6FUEVUVVJVS/lACT9xLLUkyRltCJz4SOsE1XzFVLZgoFyNiHncafBVKEVoNxQiPBJQBW/55+9n5LfgW9jn0TfMe8srwLvDU7szs3utS6vLnKObE5Mjiz+CI3yrdzNpP2OfUNtG5zfPKaMdQw9LAfL46vbC+R7+kv6a/d766vLa7qruBvOG9k8Czw63H9s1O05HXyNoi3TXfMOJY5Z7oAexE8Jv0NfkI/7wDYAc5CQsJ4AeeBz4IhQm1C+QN0g/nETgUIRWTFV0VwhQpFNwU7xbtGVEeNSK3JcUo9CsXLikwNDJFNHc2tTk2PVFAzUNoRslHAkj6R3tGQ0TcQf0+9DvLOa43RDXVMvUv9CucJt4gPhqGE/sNXAmLBVoDJgJyABD+9vrA9ufxAu6J6jbo2Odv6IPplOo0667qKenf5pDjSeCZ3sHdH96p3rveot1L2x/YPNSu0DvNxsk2xyrGJcZKxy/IVsdPxOvAM76pva6/18JQxmrJfczpzq3RZtXx2DPcat9k4h/mHOu58Nb1qfkj/dj/hAKnBb4I/wrgDPcOZBAXEtMTxhSyFJEUXRT3FMYV/RZDF4AWshacFngXXBnxG6UdXh86Ibwi0SQqKJMrry67MV80yDZdOAg6SjpuOvc6oDtSPB89Kj1QOyk4rDPCLjIqwiZwIwsgLRwVGLkTWg/PCpAFIgD2+tH2jvOS8Snwxe7D7Pjpf+f55XjlteX55QvmW+Y957Loqens6QLp9+YA5dLjJePB48bkpuQJ45LgZd2M2dnVCdKKzkjME8xWzKTMcsxDy+DINMd4xlvGtsf6yTjM6M6s05/Ygd3v4UDlKucC6mTuK/Or+EX+RQL9BN8I4wzJEH8U5RYvFwAXCxj8GHUaxRw0HrwdTh1HHPQahhq8GjcaVxk/GjYbSx3oHy0iOSMEJDol2CYsKbYsFzCXMj01AzeIOLc5yTrCOkc65DmDOec4ojf5NWkz9y8CLN0nnyNiHwYbjxb0Ef4NewoaBqcB0vyc9xTzre8D7c7qruln6D/mheS74/riquI/42XjSeJ/4RngFd7w3ULfjuCJ4irkY+PR4BveStpN1u7UBNVb1UXW+NYE1UvSdc/gyzHJsMlxy+XMxc7S0MvR2tL/1CXWAdmv3Tnih+ZW6yrvPfE380P2JfpE/y8FqQkvDWAQthKLE4QUCBYWF8sYoBqyGwEd5x4MIF4gXyC6HygesBzRGzcbAxy3HuUhOCQjJhEnCiefJmImbCbkJ7IqhS1bMK0znDbQN6c3UTbTMwQxDi/aLa4t+S1FLaUq4iaOIqgdkBjFE7wOSgmdBLcAN/08+lX3jvOA71Pr5ebx4rnf/dxW2hzZ6Nl923zc5NuF2WDW9dN60uPSw9WO2cbbnNzz28XaAdmA1urTi9Kk0zjV2tZ41wjXkNWz01XSd9Ic04DTstKS0VfSRdSU10fbhN6I33Lfzd/M4M7iLOZB6kTudfJv9ZD47vyfAUkEzQU7BxEIOAguCoEPOBYtHXQgoB9kHPsYxxVpFJ0WvhpGHrYg0iGrIG4enxsEGeIW7xajGF0bQh+7Ih8kHCQpI0Mhux8uIKAiayV9KE4rQi38LRkt8iroKJYn4SZGJgImGiaYJZAjYiCzHF4YIhRZENEMgwnrBiEEFgHr/SD6Lvbd8jzwlu10677pJuji5SPky+OZ5JblEOUa4yThYeAA4I7hX+Sq5vzmNeUX43TiFOOF4zrkQOQk4/LgCeBU4J3iTuRC4wzhm92L2VTXm9n43dziw+VG5+PmEeVG4lLffuBT5f3q0/GC+JH73fvN+sT73P5uATwDugSwCA8PfhPsFvwYPhg4F/cWHBgqG0EcFBshGtEY7xinG28eKB/WHdcZ9BRNEWYQzxF+FEEYehqqGXQXuxQPEf0PzBG7E0QXiRshHVIc1RoeGDAV+RN6FhgbmR9aImcg4hrGFCoPrAwfDzATlhYGF2sUDQ6FBQj+4Pr9+hD7n/yz/YX7tfdq867uOe3D6sHnjubc5n7o9+m07LbyZvQh8G/sFee35knoaOi37Nr0zPmq/Hj81vms9JDoJuDo36joCvYM/3cDpgG88inlq9s92GLjBuxY9RYBBgD79PTqqOGg4J3mTe8A+Xb/fAWsAUP80/kE9uj1efzzAUUJtg+KElESEQ13DJAHSQblDKwRWxTEFVwOjQh2BfwDsAj+CxMRqhBiDNYHAALn/Gr8Av5xBLIJgg2vD7gKpwYsAUf+OP9CAxQJ1Q/JEu8SdA6ZCZgGvwNnBswIXg1KEPQR1xLED7QJpQdqBMMDuAQcBMwHBAjLCIMI5AQFAoT/HPty/Cn7q/uN/+cBsQQ0A/ICjf+G92T1bfeq+AYAlAFzAhIG9gXuAuT+pfv38rvvY/cUAEYFdQsXCL8BO/sX8O7rhe489aT8igcqC8MBSfUS6zfjJePP6Jv05gB4BD4EXfnY76HpWN/M4d/thvRPAGcIoQauAhr1JOjD4jPn0vF9/A0HowvNDQQF3e8P5aDhaebL+awAlAcyEBwBAfXN6o3jbuYD5inw3ALrCXIOnARD9fjvk+Kg3jPrx/4zEqMWMhJyCaL3C/Ia72Pw8gHkDZITaBqWFlwPzAZo+073sPojCPoU6R0OIJAdEhGB//f69f1PBvkVNCLeIU0hEBY1C8cHZgX/CtAO6BoTIqggeCMrJlYWbQ2vBTMAmA9lGZsi2SkGKnEf8BXUBxECWfyV+14I3hu0LXIrfh4S/7XnOua57LT9ZxhRHIYVgAtX+Kfo4t1E3HHibPoxFhge0Bap/qXWE791wDffBwQHGlMeQQzP65bSWccp0ZHhVvJ//zD6jAPu9cDfJt351HHTR+OP7DH5zPny7Hzwq9/E33fho9mx5O/vXfSf/Hb9+O9w6EbaduaJ7yr0xwOjAx8Ahf7/9i3wT/V59m0C3gD7B5YLJwRBCIsD5P8rCAwELgAhB38C1hSJE7sQSRhKEIYLyQ5qCp4PhxABDa0c6x88LFwj2xZSF/EQTQp3FhwiMyTYKHEmOCdRHHQYPhQDFEccUR6FIO4l4SgkFasM2xFBExAPmBHtHNcL1wjhBdADHhKTFlkKJwD49HHtdvW/+/QTrgZ7+qb8mPF66sjtHevS6hXxVPL5/ln3J/MH4l/TfNnt3ejqbvv/9ZfnLuEp0QTQMdCI3Ozt5fJ78IHdp8nRyNnUa96l6pjqXOyq42Pm19tV1rvl9+Fp5pvmn+2r9F3yMuWC9ML4jPAp8zLhqOsd+yX3JQIODu4CJARc7sztaP9U9HIOzhAeFfoZSv++9Gb+I/43BOYWfBrhJOkbshZqCXYDnBDEFNgfpSI5KTooqh9bFQYX0gsXGGok5xl7MYUkjBvVHZcOjA+mF8IQQBZyGvYiPx6SErwUTQ1sEJUKvAVGCTcStxHkF+MPxQzF/PHrKvP0AqAJDRLNEIP/wgjh7/3pnvKp7WPomfz3B5oL8Q3f9ZroHNWC2BjgkO75Bs8Gbu9O587ewdZP3r7cgORT6Kv0bvG45afoNdsG293eBdjC61/qRO3C9UjoO/lE6irbHOAq3pf1ewpb+ogDY/i0497tw+Zc+pQFbwqN+Ej42QGlAwsDKAV4AlcCcQZxAsIRxf7aDWcK9gNDHHcaQxU2HNsI6APgATcP6z9PH8MlZiej/s8RYBYSC44qyyyxKnMvoSNDJcQRN/txAEQPhhGTLD466C44IoQVxvXw7WQCi/1WECEffxvTHoEY3g3vAGrosu/192bxgAteGKQXchngBnbwy+Qe1wPX+e6S+/kZjiT3DjT+S9qjwarE29BF6aUMIyC7Iof60tI0uAi2bsjh4ZMLpg5jGrgDi9Lh1IHK+rgV0DbnuAxfLBMeqwiP3C+++rvSvNvi9BrfKJgrmB/L4i/Ns8WBv63swBRMMEMwMxwK+G7Q5tnL4V7yYB4RJQIoCB0T+xX2Sedv78QJxg6DJAYx7CBaD8T8M/p49zz6kxRTJMEyMzORILIIQ/D67PD7lw0HM3M62S9SHNr82/fH8TX/DxvdIegf5CE7CeT4vvtaCXX/7gs1HOgDzA+/CGHtE/RJ/6f34ApxCooOfQWf7arsIO2j96H6c/vW+MwKd/qp7wPt4uNy8Hj9X/sN9Vb48OSA5oDyvvuj+QT0bOda4bLi9+SH9vj2/gIj94/sC+uy2zfeyNw+563/VxDWEwkDcfBO3RbPFOEP7wIEehLaGOwUr/w274fg5tsc6xf5IwZVIMEvGiEM/Pzt7OMe3+b46gpUILM1Nh+pBYvvxvFU+wj5/A/lJjUuWBs+CRn9MPKj8R0OGh5IIUcuSyKJDNUBMfVm+FIH9hhJJTkc8CMQHmz4u+0I9Dn79gqDImEr9CbmFmX3JeGH4Sb2d/0QFlUpgCdgDXLz7ecP25XsgAKQAVIcMiR9/qDz0eJ02bPkIvQNCOIYrBQEC73qzNkc4FTpHPj1EX4PBPIr/aPx3t9z9d4FsvDl97zwIOjw9RoD4QMA80nz6PMt8HD2GgNP8lnyIwFkCvICdvtt7b7kCvMP+jwPyxiwDLj+Y/Do6e//v/ur/AQTXA56EecKOgLy+Vr7MvV2/2MPiBjBJzMdFAnW9tXrO+mY+n8RATEpJW4blw4+9Zr7JfVN8xcEAg+LFaEbqBugG6MI3+8p7Rn3rvn9Dw8aiRmvG/gPjPXT6NbocfXOBOcFviTtIDgK2P5c6C7Wmemn+6P+1h/WGIMIwgNy7WHn5uUj5JP01wXXDPIZOxUE/zfhctNJyBzbfgPaEu8lOCMaDWnsCNRsxg3Vtu6BDwchDBttGJT9dN4ZypbSpuc3AZUTgySsJikMpPI00xvL3tqG7oAHrSruM0ETMP9j5PvRjNnK71UH9B7gK+Md6gdC7WzfMtZ38GkMIhiLIx4jFArA91n39Omf9OP6WgkvGcUa8xc/DbkCfP7C75jq4vwuC7kfaiOVKKIPoetF3b3V8u3RCXAjIzYwKykUqvTfzwjJI+SjCUklsjZ6K3AK5egt2WPXu+PvBIIQVSDNJCwN7/kL1iTX5ezk97UJNhGeGjIQFfnn6GDjJOgX8kLyCPzoD8AQjQU2/ufw8+PB4q3jofwzENIaFxTU/mHv4eFs30HsnvcgCtAVdgkOCGD7OfLB6wboru6h/zMQ7hWID7UEgPtX6wLpk+pDAfoTXhWVDrYJCQKi86rsjezi+BsJiBweGvYYtApG8Dznpeom+iENUR73IkMVSwQm9PDrM/l4+gEIexggGPIXxApO+Wj7efet+/AKHw3sFlkYAwxh+770M/VmAMoJLhauEbAJZQN988r3X/77BbsQzwu1BDUEE/Qf+sn6Ev77DcoQXwuyAOr1NfDY+R722vsGBnYJUw40CxwB3fdE8e7nqeq5/JEJhQ/gE3EID/Zd7gjpV+eP+qwLKAt5FMcKcfSb6eDiue0p9+8HiBZCFH8K7/3w7YXqvO4y8zkDmwxuEaULcf3a9n32S+z+7cb9NAbGDoMWxw5s/Hr2z+il5rn9IAgLDikTyREcDlP/FvFF8AzpNfpVE64Q4Rk0Fhb+zfEL7v3saQA2EMIU+ReaDkAGY/jM77jyFfeLBrkT8heEF54Hq/lT8yzvRPbPA6YLKxLWD40Kqf7v8JLz5fgMA+gNdA06AnECRPoV8sX0t/vJBDQH6QiLA+0AsfaB8Wfyt/tQCdsK8wfXAPf3lPan+Ez0a/i7/OgCgAWDAuL9XPfv/N/zN/L5AOP8XwJqBwv5k/9RAFH22PuY92f8GQHvAKwCiQAw+3j2sPgW/sYBWgIyBF/8lfov+WP3awRmDtMFpQFO/H31UPUI9Mz6YAGCCnYNXgg5Adb4h+9j74f4ngHYDW8S9QsGBiv3We9h+Ej62ALaDYoN5wqnBO/92PcH+bf/vPwRATQHFQY8BRIBqPyP+pz8pgHk/ZwAwAbQ/vgACgKb+Rf4Nf4Z/Jb/0gIFAm0ASP6FAvf3TPqy/hv7MP0wAtICpwaHBCH87vug8zD5nP6P/xgIGwdf/dv8j/we+g//Df1g/Yr8IwGUCE4INwdy/5X60vfN+IX+ZQQhCTYLXgZ1A1D+EvVe+NT4s/1LDM4MMQgYB5T6w/Or8qjzgf/CBX8H0QrQBTn/Ivol8gPws/YaAHoHyQ+iCxkB5vnS9PDzifdk/4QG9gkSCOgFof5h/Sv8gPRi+A0CgQMqB74KHwJXAKr8bvIu9bX8lv9fByMIzgWcBSH7DvbV9GDzOfgLAT8F1Qw6DsADSvrt7+TtbfMa/+IK+BNOFH0N+wDn9Uf0h/erAhcRiBrRGfkTfwaD/rv+dwIoCrESWBkoHZkZCBD/C64F1gIOCA4P4hTlGvoXqA9fC1YGPwFk/scApgVpCl4KUAhiBIT7vPQn877xjfSS9tP0i/XN9HTxFO2w66bk8eB340fmS+x37bjtDu5754fiCOGk2UXeY+Q36EvxaPKx7ozoy+No4eniEudS71P2S/3Z/m/7Vfnk+Mz7kf2nB6USehotIX0iXCLNI0wlOyY9LAozozlWP2k/+D5OPMI6qzfFNYU2uDbdNZQzKzEyKj0kfRycFHQPYQx6CsAHiAKp/IP2OPCF6pjjYODP4HjiIOLI4Y3hpd282ZzXcNWk0xrU1NZL2YDcLd4j3f/VJNB2zB/J3crByYDKtcwkzbDK58VNv5q47bIVsZC17rqRvr/A4cHwwInAnb+Dv07E3csm1TvldvYpBGgLIQgeB1ULWRVxJdE0hkfjVnxbZlcBUb1Px1MZWuZgHml8bY5qUWHWVk9QK0zKRhNAljohNLAscyUkHyga+xGKB0X+h/Zu8SLvc++o8if0P/N68pDxc/CT7wDxn/Tx+jYBcwavCo0NmA3FCskIUgi+CfMKEgywDKIL0Qbx/gT3Nu+b6sbme+KJ4ELcTtVhzYXFuL6iuau2jLKBsC6wf68ir82rzagNp72l7KhGqxmvm7Uxu3rA0sHJwoLFAcjwzPXbAvJiCBcWtRQMDiMLTRCbHCovoEVTWQJhvlzDVEFR8FMzWExfZWdGbkVtgGMhWuJTxFCHTAdGoz8kOAMvUCZnIAEdkBh/Dw4FCf1M99z1+vdS/CQAGv+P+yf32PS19bP5SAKdCQQOTQ6KDGoMNwyXDHMMOwxGCxcJFwcVBeECLf7z9urvtuhP4g7cNddH07rNhsifweC6sbVcsEWuEa4VrS6qWaXlovmiU6WrqIurLax3qy6rl6zesIu3Ib4tw+/H78pwzofVneNp+BMM+hYzGe8WuhYaHKwnIjmmTYFej2USZR1jHGQPZXNlMWcmay1u8Gt+ZZFguV+4XL9UjUm7PREyPSXhGgkWnhM1D7wFvPlQ8C7pRuPd36veHN6q3OLbkN735WHuq/RK97328/Wa9cb5nQJKDZgUhRaWFhwV0hR+FQ0WNhaLEhwM9gWdAcT+Pfvu93Tz5OvL4RjXps4vyY3Ff8E1vaS4ULMPr82sSq3froSt9aoUqmOrX67WstO2qbltvFK9J76lwBvFLMty0SDYot254fTkX+ha8PP8VgzKGBQeih/WHyIjUiqFNLlAJEtMUcVSBlP0VW5aDl4/X+VekV3TWchT2U50TT5MiUjgQRc6pjI8KiAhoRmhE2sNaQWd/c74k/a/9WT1ifa697/3YPev9+v5Uf0YAZAFFgqtDQIRohRJGegd+x+sH9gdTRtzGHsW7BRVEogN7wZXADH6TPTM7nzp+OLZ2mTRJsj1wGm8V7kSuM+20rOVr4Os/KtprDCthK3xrmWy1rZlu/C/GcPBxa/Hysn4zR3Sm9bh25jgHeRM5vvnWOkk6+/t/vCD9Yf8RwRAC4ERpRW2GIwbkx9pJc0rPDLNNos5bzsuPdk/2EOfSEBNXFAhUbdOfEnbQ+g/cj3mO/46wTmPN8kzMS/fKpEmviFWHNkXghWoFDwUYxTiFN4UYxTIExEVRhhaGwAd3Bw4HJAa3BhzGP4YuRmjGKMWTxTYED0NawmgBTICe/2S96zx5use5iTidd+93GfZQNSFzuvKF8o9yWnHSsYFxUDDbcPhw9nE2sbPx3nIUcp4zGnNoc450UXUwNaY2STcOt343Ljb2dpp2zvdXN9y4b7jEuWm5Drk/eRs5jHo2erP7arwivPq9RT5bP0CAtUG7QuzEXgXyBxoITUlBykpLK8vlDRmOWA+j0JvRXxHrkiySY1KL0srS1NKU0hrRVdCTD8JPSM7DTlFN5s0mjFFLkMq4iaSI2AgEh0eGi8YuxZMFXMTLhFxDjgLCQiZBUQEUQPJAcP/Zv0Z+xH5vfe69p31OfRd8oHwT+4i7ADqOugV59DlTOSb4sfgAd+k3RDcu9oZ2qbYntbh1DnT2dGz0O/PkM89z6/O9c1zzdLMWMwpzIHMxM2Gz0PRltKE05jUh9Xr1obZ7Nz64OrkiejE60Xuv+/P8EfyEPR69if5svuJ/dT+ggAcAqIDygTOBFoERAR7BF0FOgcvCdEKNQywDPcMMA4hEFESdRR5FsgXdBhoGTIbBB7sIEsjsiQ2JeElmiZYJ14ojClwKmoq+il7KRMpWSnKKWQqZCoQKdgmuSR+IyIjeiM+I0wi3yC2HlAcqhk5FzkVhhMGEi4QLg6XCzcIdARXAFP8XvgB9THyvO8u7QDqheZq4tDeAtzp2ZfYQ9cW1r/UrdPP0qXRMtFG0ePRQNN21K3V4tY52NfZYdvs3Gfe0N8+4Vjj+uWt6Inr8O18757wrvFI8gnznvSE9if4TfmU+Un5mfkX+jb7ifyy/cT+M//m/wwBQAJZA1oE3wQ1Bf0F1AayB04JugqeC0oMkgzbDG0NTg4IDwEQfBASEJIPHw/zDlUPCBCeED0RQxF9EJ0P2w5dDi4OUA7TDnMPUxBPERcSqRKlEn0SihIBE5gTpBPXExAUBxQBFOITjRPtEiYSYBHkEI4Q7A+pDtcMiwqLCN8GfgWjBNEDygIhAT3/Rf2u+3r6NvkS+Nr22PWF9XH1F/Vh9FLzUfJn8R7xTPHU8X/yl/J68vrxZ/HV8LHwlfFe8xf15fX+9T/1mPSi9Fv1kfbc96f44vgw+ef5bfrW+jD7Z/vp+2j8Nv1D/kn/sf+G/8f+mf0u/WP9Nf5h/0YAlwD8/6v+T/1v/HP8Uv0t/p7+gv77/WX9Sf2d/T/+7v4R/+r+1f5A/ycAGwGwAToCqAIeA7UDOgTSBDMFcgX/BGwEPgRHBLcEagUUBjAGpgVXBOUC/gF8AU8BmgGpATgBrQD8/17/Rv9n/2z/b/8U/7P+bf6R/u7+LP9D/8H+Iv6G/Vf9of30/Qv+v/0q/Yr8L/w7/Kr8Qv2X/Ur9V/wZ+2H6QPqT+gX7J/vr+qH6g/pV+lP6Zvo/+gn6CvqD+oH7sfyx/Yj+9v4V/xz/5/7g/lL/NADZAMAAbwA1AFQA7gDWAbkCKAO9ArwB3wC8AK4BJQOaBNgFTQbzBQsFKgTgAy8EBwXnBbIG/QbRBnwG+AXBBbgFfgX+BJEEnQTUBAkF2QQOBM8CcwEvACj/5/4g/yT/nP6L/TD87/oG+uD5Vfru+i77q/qT+aT4cfjd+Fv5pfnQ+Z/5Tfko+TL5a/mM+X/5Aflp+GT4tfhy+TL6s/rI+jX6uPmj+Rz6Cvvq+0/8KPzO+937hfzS/Uf/TgCjAHAAMwBiAHoBMAPtBGMGIQdFB3YHpQcKCMEIdAkNCo4KFgugCywMkAyvDKsMewxGDBIMPQzVDH4N4g3QDTANLgwqC4UKnAoHC1YL8wrvCccI6wdnB/0GtwZBBoUFrQTnA0wDzwIVAi4BBwDa/v/9Wv0C/b/8NfxT+0b6KPlB+Jj3MPfR9mv2Efaw9Yf1gfXB9RX2IPbj9W/1+vSJ9GD01/SB9XH2ZPfk9wr4yfd890D3RPeW9wz4mfjq+GT5DfrR+n/7qPt0+y77U/v++xf9bf6v/5kARwHjAYICNAMkBE0FjwbIB/EI9wnSCtgLygzkDRYPFBCoEOkQJxFvEfMRmxJaExwUfRSTFIYUIBSuEw4TKRJVEa4QWhBvEKUQjxDdD28OswwrCzMKrwmECV8J+AhPCGcHgQaVBbsE7QMuA2UClQHQAC4Ak//b/hP+G/1E/Iv79/qR+k762Pnn+I33GvYD9U/0APTR85/zNfNt8kbxFPAZ707uzu1n7QLtkez/63XrJuvk6q7qeuo36uzp3ekY6mPq5Oo164Pr8eut7OTtOO928IHxT/Ic8zH0jvUy9/n4//rg/IT+8P9XAdcCSAS2BQoHXwi7CfoKDwwIDc4NXw6UDrwOBg9AD3cPhw9nDwsPjg4ZDqsNXA0cDd0MYwy/CwELBgo6CcYIcghBCCsI+geMBwoHjAYlBgQGAwYnBkMGdwalBqUGpAaWBqoGugYGB0MHdAdxByEH2waJBjkGCgb3BdIFoQU1BYEEoQPHAvABRgHiAK0AhwA1AJj/l/5n/Sv8GftM+tv5u/mO+Tj5jvim97b24fVX9Rj1EfU/9YD1mvWD9T71+fSo9Ij0o/T09HD1Dvaf9vf2NfdD90X3hPcd+N34rflE+q/6+fpZ+937fvw0/dL9VP64/hf/Zf+m/93/NACmAEkB4QFjAtUCGQNcA5cD7QNhBO0EfgUfBrYGHgdOB0cHLQcyB4AH+AeNCAQJWQlmCVwJTgk7CTsJRAlfCWcJhwl7CVUJMQn4CLMIXAgCCL0Hmgd0Bz0H9wavBlUGAwauBW8FNAXvBJsEMgT1A7MDggNCA+kChQIGAnMByAA8ANb/iP9f/1r/Pv/+/nn+1f0i/Zn8Tvwt/FL8f/yS/GH8Cvx3++/6Zfry+cv57fkz+mX6cfo1+r35F/mO+Dz4KfhH+H74m/ib+GP48/eE90H3M/dz99D3Nvh2+Gv4SPgo+Ef4nPhB+QL6w/pb+8T7A/wo/GP8vPw+/dz9lv5N/+X/WwCpAO0AOwGJAesBXgLrAmYDzgMDBBwELwRNBIME2gRFBZ4F3gXoBeAFxgWwBbEF3QUuBnwGswbYBtkGwga1BpkGlQarBsYG3AbjBtMGqAZbBvgFoAVCBeYElgRQBAYEugNDA6cC8AE/AaoABwB1/9f+Hv5U/Zr8BPyI+xn7mvr4+Tz5gvjD9xn3gvYN9sD1hvVS9fj0fPT+82vz2/J98j7yMPIu8jnyVfJf8lryMfIB8uvxBfJi8vjypPNJ9MP0J/Wm9UD2FPcQ+CL5D/q3+k374Pue/JH9nf6t/7EAfgEtAroCVAP3A5sESQXvBacGUAcGCJYIDgl7Cc4JDgpNCrAKMQvTC2IMuQy6DHIMKwwLDCMMdAzJDN0MnQwWDHAL1QpsCisKDArpCaQJNAmOCOAHQAelBhkGoAUvBbgEUgT3A5gDKAOUAuQBOQG0AFwAMgAHAL//Nf+B/uT9YP0V/ev8yPyH/Cf8p/sT+476Sfoq+hf6+fm1+WD59viV+D/4D/jz98v3nPds91r3Y/dn92X3RvcS9/H29PY295b3+vdK+HX4lPjH+Cz5wvls+h77t/sk/JD8AP2Z/XT+cP+MAJMBagILA5QDPAT7BOIFzQbIB7AIjAlICtkKYwvTCywMdwzKDDANkQ3eDQQO9w28DWQNEA3VDMIMrgyVDEcMuwsTC0sKkwkDCaMIVwj+B4QH7QY4BpYFAAV/BCYEsANSA+ICbwL/AXoBAAFsAPj/m/9B//L+iP4e/qX9FP1+/PT7gPsl+9n6mvpW+u75Y/nO+Er45vev96H3lveG92r3HPfL9pD2YvZV9l32cPaQ9rr24/YG9xT3Jfc192H3nvf393b46fhy+eD5SPq3+g77fvvw+3n8Gf2y/T3+wv49/7H/NQDQAIcBLgLCAksDyQNJBMEETAXaBVMGugYSB1IHhAfCB/wHLwhWCHEIbwhlCF0IVwhMCC8I/ge/B28HEwfLBqEGjgZzBjYGzAVNBbwEKwSvA1AD/AKlAkECzQFVAckAMwCP/93+H/5t/dL8VPwE/L77WvvL+h36a/nE+DT40PeM91P3GPfT9oL2QPYZ9v317fXW9c71r/Wb9Z/1uvX/9TX2cPao9sz26vYH9zf3iffz92L41/hV+dr5XPrK+jf7l/vw+0X8nPwU/Zb9GP6Z/gf/a//I/w4AaADDABwBiAHsAVICxgImA4kD5gNSBMQEGgV6BdAFHgZfBpMG3gYkB2AHjwejB64HswewB7gHxwe7B6cHhAdYBzcHEgcKB/oGzgaoBl0GIwblBZ8FeAU1BfgEtwRhBBUEywN5AzUD3QJ6AhoCogFHAecAmQBRAPH/mv8k/7L+TP7z/bX9gf1N/RP92PyZ/HL8O/wR/O77uPuq+5/7mPuR+2z7Tvss+wj7Cvsj+2H7nvu/++D74/vn+/j7H/x7/Nv8O/17/aj93f3//R/+Nf5j/oX+qP7E/gH/V/+m//T/IABWAIMAvQANAY8BGQKSAgADRwOJA8sDDARgBK0E6QQTBR0FPgVkBZMF7wVFBp0G2wb/Bi0HTQd/B7gH4wcYCDMIPQhRCFYITAgdCM4HYQfWBlEG8gWnBWgFNQXdBJgEKwSoA0sD7QLJAo4CWAI8Ag8CzAGLAVoBJwHYAGUAHQDd/6D/WP8h/wf/uP46/sv9gf1D/QP93fzW/LD8cvwu/AT86fu7+4H7ZftJ+xr73Pq5+sD6o/p/+lv6R/ov+vn52/no+QH68Pnx+Qz6T/qL+rj6Ivt++8/75fsE/Eb8efy0/O/8Vv2d/br90P32/TT+Xf6v/v/+Yv+x/+3/SACuAC0BiwH2AWQCrwLjAg8DTwOQA6MDpQOUA3wDYAMfAxYDJQMfA+oCvQK1AqECeQJfAnICewJlAjgCJQIJAskBlwGDAWUBIAHKAKsApgB8AF8AUQBOABEAu/+e/4P/a/85/yT/Ff/T/mr+Dv7e/a79Rf3o/L78ePwV/K37nPux+2/7NPtK+3H7aftQ+3H7xvvM+5X7lvvA++X7vfvO+0T8f/xo/Ev8i/zV/Mf8yfwt/Yz9l/1x/Zr9Bv4K/ub9DP5w/qL+YP5V/rz+/v7e/tv+RP+r/4v/dP/Y/1UAegBSAJsAHAEvAQMBKQG3AewBqwHIATUCbQJBAkMC4AJFAyoDCANDA6MDZgMKA04DrQOMAwoD9gJSAyQDrAKjAtwC5QJeAhkCeAKRAlkCJwJbAoQC7gFgAW4BiAEzAbMAoADKAFMAp/9l/17/J/+G/k/+iv6D/kz+Q/67/gb/rf5v/qP+6v7N/qH+5v47/yj/2v7i/jb/Wf8z/z7/r//r/7//rv8UAJQApgCiAAMBaAFaASUBSAGrAaABRgE2AXYBewExARUBWAF4ARsB3AABAUgBFQHvAD4BaAE2AcwAtADeAL8AewCAAMEAyACKAHMAzwABAewADwFdAa4BpQHDASYCaQJlAjoCOgIZArkBXAEuAQYBugBaACkA8v+c/3P/Xf9Z/yL/DP8q/wv/Af8G/0z/df9J/1n/df9S/yj/AP8e/yb/0P7Z/vD+3P6g/nj+wf7E/mv+dv6p/tj+pv56/t/+w/5h/jL+Of5L/vL93f0o/jT+C/74/T7+tP7E/t7+XP+v/9P/zf8MAGUATAA2ACQAAwC5/z7/8v6+/m7+Ov79/QH+H/4n/mL+m/75/l//oP/t/zkAnADqAPcAIwFCASYB5ACiAKMAhwA2ABsAKgBJADMARgDKADcBZQGyAS4CkwKnArICBwMVA+sCowJnAjEChgHyAJsANACT/+v+lv5I/sH9bf1w/W/9P/0d/VT9gf11/Y390f3x/dX9vP3q/QD+wP3H/fD9/P3J/bz98/0M/gL+Av5E/kj+H/4X/iz+Fv7o/dz99/3S/Yz9lv2Z/ZT9Yf1b/af9k/2k/f/9Uv6b/rD+H/+D/4r/v/8HADsASABBAIYAnwBTAFsAhgCCAGgARQCZALgAcACuAPYAJwEWARABbgF5AVcBVwF0AYoBWQE4AVwBPwEaARIBGQEgAQUBJQEyASwBPQFcAXYBXAFQAWYBZQESAd4A3ADeAIsALQAvAA0ArP9p/1r/Vf9I/xv/QP9o/3//hv+r/xQAKQA/AHIArwC4ALMA4ADcAL0AsQDEAJIAVwBZAFsAZABMAGYAqwDOAMsA1wAFARUBxwC1AOQArQCCAFkATgA9AN3/sf+r/3X/Uv84/03/ef9V/4z/tv+7/+b/8v8vACcAOQCOAIIAkQDCAMQA5gC/ALIA7gDEAMUAswDPAAABuQDcAB0BIgEjARsBVAF2AUMBfwGgAZYBtAGjAckBlwGAAaABTQEYAQcB1ACtAEcAFAA7AL//eP9l/zT/Dv/M/uD++v65/sf++v72/gb///5U/2X/OP9a/47/hf8v/yf/Sf/8/nn+bf6T/nD+Fv4u/pz+qP6M/sT+Sf94/3X/rv/6/xAAEADc/8X/2P+c/2f/C/8X/yr/6/71/iD/Xv+p/6//7f9eAKcA6QDhACEBeQFxAS4B8AD3ANQAGACj/6D/ev8D/4/+p/69/oT+d/63/v7+TP96/7//AwBJAKEAjAB2ALUAxwB8ACYAIwAnALv/av9D/2j/X//8/g//Tf+M/5X/g//s/0wARQAqACUAkgBdALf/zv/C/4D//f6r/uf+sf40/k/+W/5t/nD+Zf69/tL+G/8h//H+Tf9H/9L+mf53/mz+wP1Q/Vz99Pz1/L38afz2/Df9PP0//dP92P5j/nf+eP+l/4L/Uv+l/97/L/8m/xb/5v4U/2n+hv7E/oz+sP6T/vX+Pf///ob/lv+4/4UA+P9mAPQAoQDlAK4ACgE3AaoAKQENAQABkgHTACUBowFaAW8BRwHeAfIBZAHTAegB5AHGASQBoAGGAcwAwACmAP0AigAOAOcAnQB8AMgAbQDHAOwA2gC3AKAAigE3ARcAGgFvAaYAWQC/AEYBvADHAAQBrQBcAVkBEgCWAEEB1ACx/3T/2AAGAJj+9P5I/3L/uv7s/V7/8v+I/4z/sP9/AaMBkAA7ARgC9gIKAsoAugIaA4EBKQFFAScCpgF6AL0A6gDiAUoBjv8oAXkCSgENAK0AYwJbAcz/tQDEAP8AkwAR/97/wgBsAMr+w/5OAeYAkf75/50BTwGTAMIAAALIAeEBawGTANcBCALT/2L/NAAYAFn+Uf2V/jf+dv2q/Y39Zf5T/8b+Cf89AHABIAF+AEoCYgK2ATICfwGOAb8BigAMAKP/2v9+/yf+8/4L/+r+Nf/o/sb/XwBUAJsArQDPAfgB9gCUAdIBcAGsAEgAowAeAMX/qv9u/ycAAQBe/2IAsQBgAIUApwD5AG0ALgAPAFz/H/+Q/pD9cf2S/fj8Y/xf/fj9L/1s/lH/a/8eANAAXQFrAS0CWAKDAQQC6wGyAC0Arv9//9v9Ev3E/VP80vsv/OL7IPwg/CP9yv3W/ez/fgCcAEMCuQILAwMDFANrA/cBwgFzAYr/zP8T/2D9y/3X/QH90fy6/Tz+vv3Q/qL/Tv9gAJgACQBeAL0ACgA+/3//tf+b/jf+5f5m/gX+ef6u/mD++v62/37/Z//NADQBWwA6ATwC3gGeAf4BNAKLAW8BsgFZAFwAHAGL/7z+EADW/2n+qf6XAA//s/4rAcr/Nf8rAbUA+P7x/yIBRv/7/ScBf/8A/pkAAQBR/1sAjAGiAIMAuwKVAlwA3QLyAvYAJgG7AR4BU/9fAD0AUv77/gEAjf01/nD/af5x/ZP+f//J/SD+af/R/iL+JP/R/o3+gP5e/4D+GP4VAFf/Sv6b/3UATv8//2cATwB3/3oA5v90/1AAof8e/+/+Mv/x/iL+fP77/ur+Dv8T/zEAdQAuAMkBRAG7AVcDQgKDArsDSQPAAqwCRANoAhcBZgITAXcA5wAnACIAeP8GAA4Arf4mACoAq/4yACQASwDw/94AXgEW//8A0wBv/pEAsQDZ/mj/wP8CABj+Xv/4AKz+VwDHAOf/CAEOAS4BygCtAC8CVv9I/5YBuv5W/uX+6f6l/WX9Xv/d/e/9/ADY/iX/YwIwATMBVgKQA98BpQFLAz8BwQDnATIAPv/E/zP/P/57/ZD/WP4f/VH/Pv9h/ln/vQD7/5j/BAG1AO/+KwHbAAn/KAApADz/kP7I/4n/f/6W//z/sv7R/1EABgAUAFIAYgGk/xUAPQHX/8D/kQDI/1//y/8cAG3/Xf8LAa7/t/9PAdcACAHMAWICkgJsAkQD0gPPAoAD4wMaA5oC1gLVAuwAYgG1Abn/4f+vAEj/Cf/t//T/FP90/5IARv9//zoAp/8v/y//ff9i/sX9zv76/fH8z/3w/Vv9Wf23/oL+5v25/2r/mf7X/9X/2v68/uT+Of4B/Qz90vyH+5/7bvsT+zn76/uv/Iv81/2E/zH/PQD3AeABHgLcAisDLgKhAuUCGQFrAbkBSwAvALcAzwBnAC0BmgIuAv4COQQ4BGIEugRIBUUEuAOiBOkC7gGHAn8BggA1AKsABwCJ/ywB1wCJAFcCMgIwArkC5QLNArMBwAFdAY//Uf+I/vT8m/yM++D6Yfr3+Rz6zPk2+rX64vrp+xz8ofzt/Vj9vP2g/s79kv3A/Tz9K/z2+wL8sPqc+mH7l/qP+tH7E/wz/F39nv6V/jj/nwB0AF8AZwFjASAAgQDbAHL/Bf8KACv/av7M////m/8MAYUCTwIkA+QEAwXRBCUGawZbBXIFpQV8BGEDrAMAA38BewHCAa0AawChAXUBBAFNAhIDSwIjA0AEewM0AxIEvwOLAtgC2gK+AUUBgAHDAAMAXgB8AND/PgATAbEA4QDhAUAC6AF6AhUDUAIOAqcClwGgALoAvf9m/sD9gP1q/FT72ftv+3/6YPut+0b7mvuP/Ij8xPsK/S79uPt8/KX8O/sW+2j7qPqM+RX6KPrA+Fv5Efpf+Zr5uvr5+sj6Bvw4/bP8kP0b/5H+s/7Y/9n//v5s/7v/X/70/an+zP0+/Tr+eP55/qD/bwFQAk8DsQUGB2gHaAmrCqMKOQv9C5gLoQoHC9EKGwkgCWAJDgi3B3MISwiuB50IGAkRCGMIGwnTBycHoAewBhUFGQXgBDUD7QJuAx4CbQE1An8BbQDbACIBwv9n/wcA7v7y/Zv+7P1k/I38JPxr+rb5pPkY+KX2jPaH9erz1POq83rybfL68rXylfLK80X0KPRd9Tr2Lvan9p33j/eJ91b4p/hr+Ef52/kD+tz6nPsV/HP8Vv2S/Y39+/0u/h/+V/56/v7+iP8DAC0BVgKxAyIFtwZ3CMQJMgvHDFANMQ4uD/4O1w4QD+QOGQ73DTwOeg1zDS0O1g3qDcMO0A5wDqEOyA7MDQkN6AxqC/cJFwlrB6EFMwTbAgsBXf9t/sb8M/tv+i353fey9pr1TPS48ofxIfA17sTsBusD6UvnsuUv5G3iOOEj4Jvevd1D3VrcwNtg2wHbdtpA2pnaRdps2hjbONui27/c6N0d39ngF+Mj5UnncepX7Vrw+/Nw97j6LP6xAQcFLQjBCwwPsxHYFLcXbhonHQIgfiKiJBonLCnfKhIt3S4DMEwxYzLzMlUz8DMGNJ0zaDPVMrIxADE3MMYuZi0oLE4qKChPJkMksiFLH9sc9xk5F6oU7BEaD6YM4gnmBjwEjwGX/sn7AfnN9ZTyc+8g7Nno+OXC4ozfodz02UfX+9QO0/jQLc+LzdHLUMouyeHHpca5xfPENMQTxFPE0MTUxQrHiMiFyvfMlM9L0kLVIdjp2rndjeBe4x/my+hv6w7u2/AF9Dn3pfov/sMBHQWlCGsMBBB8E/YWPRpGHWIgzSMXJ1UqJS6WMRM1Ljk3PQlBFkUqSVVMI08SUgBUNVVxVn5WhVV+VONSelAOTtBLrEhcRbJCfj8PPFg5Tja/Mn4vOSxOKG4k9iDOHFwYZxTnDxsL6ga3Akv+Cvo39gzy/e1+6q7mvuJK34bbhdfh01nQq8wuyRvG5cLdv0S9frq7t2+12LI9sPit0auhqd+noKZmpeWkSKXZpT+n3amwrOCvD7S8uB+9P8LMx5bMUNGe1gXbCt/841jo2usv8Nr0dPiY/LMBsQWHCYcOnxIpFswaWx/MIiQnPyw3MPA0EjtHQHNFt0tPUchVvlpGX7Fh82PoZbRlhmSFYwxhdl16WiJXtVIxTz5MbUhMRRhDI0DxPKE6oDeuMxYwBCzBJpMhjxySFrwQngv2BXUA6/uU90jzsu+O7BrpGeZ444Lgtt0x2z7YCtXs0XvO18pcx7/DBcBovMK4DbXbsdmuxqtUqeamRaRuoieh4p+6n3SgBKHkoUKkbKaxqK6sfbCds9W3XLyav+fDNskszQvRfdaH2t/dNeMi6LTrxvAm9lb5bP3qAoYG5AkcD6YS6RRrGewdGCFZJsksSTGYNv89+UORSe9Qt1ZZWuVejGKLY+pki2ZbZXljqGIlYL5c/lqjWPdUjlJsUKRMo0ndR4dE4UBVPpQ66zVfMlQuLCnSJJYg2xqhFUsR9AvDBqcC+/0M+U71ffF47a3qDOim5OPhZN/k27fY49Xc0brNA8pFxX/A5LzpuKq08bFJrwasS6okqfqm46XJpTmkIaOVowWjHqJ/o62kFaUPqPCrh64Lszq5cr1bwi3JOs4f0hnYttxZ3/3jiei66nTuX/P39UL5u/55Am8FrArKDkIRxxVWGqYcjCBuJW4oPixHMlM3OjyIQxhKXU8vVlRc/V/hY1RnnWcSZ91mcGTYYIZeQFvfVlFU7FGKTqRMtktgSWBHOEaQQ/o/Lz0IOXgzmy71KBYiIBzCFp8QQQsOB14C7P26+hz3VPN78EXtc+lu5qnjVuCR3UXbPtgy1XvS9M4xy87H/MOjvwO8Zri0tMKxc6/nrBirA6qYqI+nhKdTpwyntac4qJCoyqmnqwKtna8FszC2+7lCv2DEmsnjz5DVctre3+bknejV7C/xhvSp96r78/4sAkAG0wmkDCoQehO8FbAYhBwPIO4jRCmsLoo03DtKQ2lKC1IYWTFemmKCZrBoZ2mqaU1o12VtY5lgUF2/WoNYt1V0UwRSRFB5ThRNxErLR19EREAOO9o1NDDUKZQjjh1WF4ERQgwTByUCcf3l+EX0JfAT7Ero9OTk4ejeZdwY2tzXltUO00TQHs2nycvF+8EkviG6MrbQssivWq0mq0KpvqeeppGlu6SFpIOkN6Tlow+kjqSZpdKm3qh9q+yuf7LNth+8Q8JKyBLO49OG2Zve3eJ35/brVfCt8x33evo8/tEBFQVRCJwLEg7GDzISQRW6GBgcKiDRJMkqajGpON5Afkk1UbJXKl3IYWFlUGfAZ3lnb2YhZJNhtF/1XZBct1t0WpJZXll5WP5Wa1b5VNJRWU6ESjtFUkDcO+Y1JDA4K2glFB+cGroVxg/+CmkGLgAy+7r3/vLK7o3slOka5ubkzeI330XdPNtT1urRs858yf3DQMCtu6q2vrNWsPSrD6rYqMOlT6OhotWgo57DnSycoZpWmq2ZyZjvmQSc150soKqkfKmGrpe0lLrmwCPH6cyw0drW4tva30XjWudN697u4vKz9q/6p/5wAlkFdQipC2oOIxG3FCsYSxsbH8siuCYtK0gwRzXNOslAgUZYTIdS+1d4XGZghWOCZd5m/WeKaNFo4Gh+aOhnX2deZqxksGJOYOBczFh8VN1P3krGRZlATTtENkoxDiwhJ2ciYh04GDQTMg4kCTYEY/+a+in25fG17d/pcuY342Pg5N2r243ZVtfV1OjRh86qym7G1cEXvU648rPOr2esYqnyprykvaK0oL6e85xPmw6aG5n+mDSZTJoKnMee8KHrpTyqx67os3q5T7+VxYTM49LU2HLeWONc5zTrXO4X8crzhfbZ+Nr7k//9ArAGnQpHDmgRohSVF/MZZhyGHj0gdiIRJfUndSvyLwU1RjrrP4JFKEuKUKZVvlo7XyhjOmaWaGFqhGvVa1JrLWpvaBtmX2MwYJhcl1g4VJ1PzEoVRkRBuDyBOEo0GTDeK2wnsyLIHbQYQBOzDfsHNwLS/NP3V/NX7/Xr3egT5p7jbeFP3yvdy9om2FfVFdJyzo7KgcbwwUO9aLipsyKv4ar5ptqjkqGrn0OeOJ29nEScHJwgnHGcCJ3pnTSfHqFJpPSnP6wtsaq2HbytwYrHlM2807fZCt/R45/oE+1P8av1Ovob/ugBwgVuCVgNqhGwFVQZ1hz6H5IiDyWdJ6cpsiumLbsv8jEYNe84Sj1CQrVH5kz1UQhXiVuTX/VitGVeZ5loUGl9aV9pOmmNaGhntGWBY/RgG14GW0tXSVPDTv5JCkUmQEA7STYdMcArKSaLIM4a/xQyD1kJjAPI/Wb4S/Pd7qjqwuYA427f+tut2JrVXNIUz6PLF8h+xAnBfb0PupK2WbMJsPesY6obqGGmCKUCpBSjk6JBoj6ibaLZohejUaPwo9KkHaYNqIOqSa1dsOizzLfju6HAgMWWypHPoNS42e/eo+Rn6tHvqfTi+Mf8pgCMBIMIGgyKD6ISpBW9GA0ceR+CIh0lLCfVKFIq8SudLUgvvjASMjszqjRtNn04vzr4PBg/DEFTQ7BFb0g4SxVOmFDUUt1UeVb1Vx5ZylncWV9ZV1gEV3FV2lPSUW9PnEw/SXpFe0FfPf44WjRvLysqjyTxHiEZWRN3DW8HYgFs+7/1c/Cg6zjnC+MI3zXbhtcX1LHQjM2Myq7HHMWvwoXAZr5kvFW6QrhItoC0rLIEsZOvJK7drJyrcqpDqT6oMKdBpoqlTaWvpdmmoKjdqqitx7BbtDS4V7xzwI3ErsjEzPXQddVD2orfAeVv6pnv5vRJ+sP/YAW4Cq0PxROdFzwb5R5EIhAlICdzKHopoyrjKz8toS70L3IxJzM7NUk3oDnVO909xj/FQftDPUbQSHBL9E1gUIRSbVQTVnlXgljFWH5YmFdeVudUCVOuULVNVkqMRnRCJj64OQs1+y+bKvEk/x7eGK8SjQxgBkAAUvqx9Ivv2+qW5rHi8t4x24fXQ9Q20WXOocvTyAHGKsOlwES+GLz6ud63xrWvs+exV7ADr+etyKy2q8GqDqq+qbSpFKptqtuqd6tYrJWtHa9AsZ2zaLaFue68nsDGxCTJnc0m0rrWX9s94JTl/OpT8IP1dPoK/2YDhAePC30PVRPXFlkaqB3DIJAjMSZpKD4qzysoLbAuTjB2MsE0ETcmOVI7vj16QDJDyUXjR/1JRkzZTrZRWVTSVolYIVoxW8Bb51tPWxVa+1dkVWpSNE/3S3FIq0S3QGs8DDhzM9wuDSrwJLYfLhrOFHMPWQpUBVcAgvuP9vbxku1/6aHlzuEo3lLa0daI05DQx806y+TIisaMxMzCYMELwKu+D71Hu265urcatsi0lbOKsrexD7HJsKuwF7G8sZCyVLMRtD+1/LZiuVy8f7+vwuTFbclbzXnR1NXa2e/d4OEQ5nXqR+9G9D/5Df6bAuAGwwq7DmgS9hXcGHEbex1WH1IhgCPEJSAoWyrdLMEvJzMKN/U6Hj+4Qu1FmEjgShBNPE+NUa1TT1XnVlZYHlqoW7Bc4Vz8W0pawFf0VKdREk40SlRGhkKVPos6mTaoMo4u9CnfJCEfLhl4Ew0OGAlABF3/mPol9jXyfe7p6lXnbOOi38rbRNjD1GfRSM41yzLIKMVkwg3AO76ZvPy69rjLtqK0CbO5sYiwTK8FrletKq2trWCuM6/4r8ewybEKsxS0KbWGtmy4vboEvaW/PsLFxRrKEs851OnYZt264YDmdevt7xL0yvdj+0v/hQNeCNQMIRE1FQEZbRw6H9ghMySLJuYoICtwLQcwBjOdNk866T3AQFRDvEXfR9lJiEsWTS1OW0+/UD1SwVPwVOJVTlYWVlBV71NHUhRQeU12SuJG50KpPmY6Nja4Mf0s8CenIi4ddxcNEnEM1gYYAXb7K/Ye8YzsL+gh5D3gRtxl2J7U/NCYzWTKasdKxEbBfL4hvEG6obg6t821fLRis5+yR7ITsrqxSLH1sACxLbGksVWyIbM0tHa1CLeTuGi6i7z0vsrBp8Ssx9zKm8710p3Xbtwv4cXlaOoo7wH0gPis/LoA4wRDCc0NrBKTF2gc7SD2JIIovCu7LpsxuDQdOKg7fT9uQ5xHu0uJT59SgFSXVUtWIVcGWMpYTFlzWZ5ZsFmaWVBZj1g+Vw5VMlLHThRLJ0cJQ6k+JTp1NfUwxCzRKNgkXyBYG5UVrQ/tCa4Exf8S+6X2ePK47k3rGOgB5c7hTN6S2tLWU9PNzzzMqMgSxYvBHL4Tu2a4K7ZxtOmyUbGer/etp6yhq+aqQqrWqcOp76nQqlSsdq6QsISylbTYto65eryWv7HCjsU6yArLe8670mvXj9wy4W3lrOlz7p7zOPhi/Oz/QQOrBpEKDg9rE24XORv1Ht0iaybyKZ0t3TGiNnw7QkCsRDtJC07OUohWsFjWWdNa/Fs/XaZe/l+jYJhgL2CGX4Ve4VyqWnBXZ1MPT8pKskZRQg8+tjkENewvTistKMolqSJKHuEYzxJqDOYFtf8++v71QvMU8WDuUusi6KTkEuC122nYdNWo0djOdNG01gfXY9DUx6vCnL9nuhm0NLCZr6qwAa8tqvKkNaEznpWZTpbflyGdw6D1obqjS6jKq0GtDbBBtmK9esAewxLHBMxZz+XSKdkC4qnqXfJG+TX+egJ+BQsIiQnuCxIQ8xT8GEIdxCLlJyErES7JM1Y760ERR+ZMmVNJWaVdg2HzZPpnG2qUa8xrQGtlajlp72bPY9JgMl7YWmRWFVLNTRdJg0NPPpQ5ADXbMFktEiqCJv8iuh8dHI4XghItDWEHEwEW+xn22fGg7WHpveVv4h/fjdvq113U7NCfzYPKXcchxP7A6b0Juyu4SrVOskSvVqxjqTGmyKJin+OcKJu4mdCYuJjLmWCb/JwMn0ahe6OgpXmnnqmrq1uurrEjtiK718Cyx2LPUNec3r3lr+sC8bb0Lfha++X+bwOYCDIOjhNEGfgeQyT+Jw8rOS67MvI3/T0CRFBKdVHCWMJf8mSjaGZrQm1wbRVs0Gn3Z9xlQGNuYL1dZlvEWLJVUVKlTnFK5EWrQJ075DbrMmwvESyTKfcngSf/JoslzyLCHnIZ+BJyC+UDN/1K90vyze0Z6vzmE+Q44VreMNti1+zS/c0EydfDs746uu62mbTWsnSxILCmrgWsLKj5ozOgZp17m/ea1ZvLneyf7qHooxemmKiMqnirEKxjrTqvcLHys463pLyJwtzIIs/t1Iva2d9v5LHouezh8FH1+vlO/wQFCAsLEawWMxxBIgcpOzDANw4/KUZZTbNUVFvbYDVls2iBa99s62wpbD1rN2qPaDZml2O3YK5dL1qAVoNSak6CSp9GHkPBP+Q8gjpZOFQ2cDSbMtIwfS59K+UnoSPTHm4Z8hPFDiQKvwVlARn9Jvl+9ZbxXe3R6DjkOd/x2XfUB88WymHF+8C0vHO4RrSFsAitmqnrpYuirZ9ynd2b7pq4mgKbApwDnUGeaJ/QoDCiVqNApDelf6ZDqN6qGK4rsqa2qbuowPXFrcup0ZPXCt0L4rnmWutD8FP1SPqk/0cFMQsTEWAXqx75JnsvrzfjP6FIf1FTWWNfFmQkaElrMG2ubYZtgG15bbBsy2oZaGpl3GLMXxJc6FfiUypQlkwdSZhFlUJZQJQ+6jxMOz06qTmZOE824zIILw8rnSa6Iakc4xdwEwIPkAodBtoB3v2j+cv0dO8q6gblwd9E2sHUic+uyhvGnsEMveS4HbVGseqsH6joo8mgmJ6dnBybS5qTml2bcZx0nYWem5+QoIuhcKKcozGlQKe3qeqsdLCOtJq4/bxowc3FB8oNzmjSHtdv3P7hzueg7aLztvkpAKMGSQ03FJwbiCOKK5QzCTwYRfRNjlWaWxdh52WhablrhGzQbMNsXWxMa7lpJWiYZsxkVWI8Xxdc/lgMVttSeU8wTF9JOEdZRb1DZEJiQVVAqT75O3g4rjTTMIYstifNIh8euhk7FZgQywvsBisCV/3y9w3yEOwI5uPfb9kH0xDNpcerwry91LgYtLKvZav9pp+i6p4XnBmapZi/l7GXPZgZmcuZaJotmxKc9Zy5nW2ePZ9LoL+hrqP+pZ+ooasjrxSzMLdxu72/OcTByHPNYtKj1yrd3OLI6NnuOvWQ+zwCXwlLEWwZcyFhKYcxCDpRQppJxE9BVR5aU15AYVpj2mQlZu9m22b6ZblkY2PGYaFfA100Wl9Xk1SfUcBOKkwTSkRIiEbhRIdDj0KyQVNATj7JOwY56zVJMpQuEivWJ24kxCAFHV0ZnhVhEZkMnwevApf9Cfg98qXsg+eo4qLdkNi203TPgMsyx4DCx71quWy1xrGzrkusu6rJqSKp1qj0qEyptanpqeqp7aloqkmrTqyWrTmvfbHjszG2TLipuki9L8DuwofFRsiEyz7PNNNj17TbYOAs5Qzq2+7f8yf53v6lBHcKNRBSFgYdBiTSKjYxhTeHPQRDrUfMS3tPn1IuVQ1XZFhfWeRZ+1mCWbpYm1cRViFUDlILUPFNfUvlSEZG8UOgQUE//Ty/Onw42zX6MrwvjixlKTAm6CKjH2scMhnrFbQSbg8cDJUIxwTPAKD8ZfgE9KrvQ+vO5knizN1Q2c7UQ9CxyxTHpMKVvuG6nbe+tFayabDmrsCt/qzBrAutxq2iroOvpLASsr6zfLVSt3W5Lrw8v6rCSsY6ylzOldLI1rrald5V4gvmcum47Mbvx/Kt9Zv4i/uW/okBhwSTB5EKoA3CEDMUoBcbG5YeRCIKJq0pJy2zMEU0tzfHOp49UEDxQnVFfUcLSTdKQEsSTG5MXUwoTORLhEucSitJaEedRZ1DGEEaPtI6fjc6NNkweS1JKlwnsCQFIlgfsxw0GrEXEBU0EjQPNQxYCYMGvwP8AEj+u/sv+ZD2zPPZ8L3tg+on57PjMOC33FDZ5NWQ0kvPF8wCyTDGz8PqwWrA7r6pvaW80rseu2K6wrlluUG5R7l3uQK6CLt0vCe+BsBEwq7EPsfcyWzM+s5a0ajTudWx17fZzdvl3QbgM+J55OvmhOky7OruqfFv9E73JPoD/dD/qAKfBZMIggtaDk8RQxRIFy4aCB3bH5kiVSUJKKcqOC3TL1kywTTmNus4tjpOPIQ9fj40P6s/DUBCQFhAQkARQLg/OT90Pn09RjzXOio5UjdTNTgz+zCbLjYspykCJzUkPyEgHuAaiRclFMQQYA0QCs8GmQNZAAz9vPmF9knzAvDD7I7pgeZp41bgWN2I2ujXWNXW0n/Qc86lzAfLk8lkyIzHI8foxgnHbccoyBzJN8pfy5jM/s1rz+fQQtKp0zDV4Nah2InapNwg39DhgOQv59fpdezp7inxMPMd9QP39fjj+q/8df5LAB4CxQM4BYMGtwfLCLUJhQo4C+cLjgwvDbYNIA51DsEOAw8tD00Pkw/nD0kQvxBCEfoRzBK4E4wUThUWFt0WihcIGGsYzBg/GbsZJBqMGv8adBvHG9wbyhuEGwUbQho6GfUXhxYCFXAT1hEnEIEO7wxsC+wJUQiUBs0E/QIhATn/O/1T+4j51Pcx9qf0SfMV8gLxAvAm73fu6e1l7efsgOw67OLreOv/6nbqBeqd6Szpvehu6Frod+iz6BrpvOmv6sbrCO1g7uTvj/FY8z31HPcI+Qj7G/0r/ysBHAMWBfYGvQhwCh0Msg02D6MQ4REXE0EUUxUsFtQWYBffFyQYJxj7F7oXdBcZF6UWKBayFUIV2BRfFOUTehMQE7sSaBInEu0RvBGAETsR9hCcEEEQ3A9mD8oOIw5mDa0M3AvyCvEJ7gjdB6cGYgUCBKcCMAG3/yb+m/wY+4H54fc39p70I/O68WPwMu8o7mDt2eyJ7ErsKOws7Fjsjeyu7MHs1ezc7NXstOxy7CHsvOtV69zqZur56aDpXOks6RHpG+lP6Zzp+els6gjrveuN7H7tfe6R77Pw7PEq83L0wfUO93H40vk4+5/8IP6I/+IAOQJ8A8wEBgYmBzoITAlOCkYLLAwADdUNnA5bDxMQsBBTEe4RnhI0E7sTOhSqFBoVaBWbFcQV4BXtFecVyRWeFVYVCxWaFAoUeBPREiASVhF7EJ8PrQ6rDaoMiwtkCjoJ/Ae0BkAFwwM9AqAA3/4B/Rb7M/lq95z10fNC8uzwye/m7h/uk+027fTst+x67EHsAOyy61rr9eqP6jTq5+my6XjpT+lA6VHpi+nS6TnqwOpg6xTs1eyv7Zruou+n8Kjxw/Lv8zL1ePbE9yD5k/oU/JP9BP9iAMcBHwNMBGcFbQZgBzoICwnFCXEKFQu6C2AM8gx2DfYNdg7nDkoPog8LEHsQ5hBOEa0REhKBEuUSLhNqE5QTrBOtE44TVBP9EpAS8xE5EWkQiA+WDn0NZwxPCz4KKAkNCPkG5AXMBKUDcAI2Afv/rf5c/fX7ivof+bj3W/b+9MDzlfKk8dzwOPC372PvK+/+7t7uvO6X7nfuRO4P7tvtrO2L7XPtee2H7b/tFu6L7iXv2++i8IvxhPKH8430n/XB9tb38vgJ+hv7RPxj/YX+t//mADQCggPbBC0GigfrCD8KjAu/DN0N3g7SD7EQhBEwEt4SjRMvFMoUTxXMFTsWmhbbFgoXJBcpFxgX9BbaFsMWnRZwFj4WCBbRFYsVJhWrFBUUaROmEs0R3xDfD8wOsQ2WDGwLUAohCfQHvQZ0BSkE3AKOASIAo/4Q/Xn74fkz+Hj2r/Ts8kLxm+8O7pjsUus16i/pUuiN5+zmSOas5RbleOTj40/jtuIk4p/hOOHv4MHgueDO4BvhleEt4tzinON15F7lW+Zf53TomenN6gzsUu2l7vrvX/HE8ib0kPX79n74+vlx+/X8af7s/2cB3gJTBKwFCgdPCIoJvQraC+8M8Q3pDtsPzRCzEY0SVRMhFOsUtBV3FiMXyRdzGAoZlxkYGpUaBxt0G80bEBxEHF0cYxxOHCUc3xuMGysbpRoMGl4ZlxjKF90W1xXBFJsTYxIYEacPHw6DDNQKFAk6B1gFbwOOAa//3P0i/Hr67/h59/f1lPQ18+TxkfA379bthewz6+Xpruhp51bmP+VE5GPjkeLl4Ubhx+BX4P3fzd+j35DflN+n39bfD+By4NbgT+Hl4Y7iU+Mt5BvlGuY551volOng6j/sqe0Y75TwFPKZ8y31wPZW+Nv5XPvc/E7+uf8SAWoCvwMPBVMGmAfSCBgKXQuZDNQN/g4pEEARRxI2Ex0U7xSoFU8W3xZlF9sXNxiGGMoY+BgJGQ8ZDhn4GNUYmRhRGPwXmhcpF54WDxZpFa4U4RP/EgoSARHpD8EOkw1jDDQLBgrfCL4HsAauBbEEqgOrArABpwCa/4H+cP1R/C37Evr4+PT37Pb29RD1LfRW84ry0PEZ8Xbw1O8+77nuQu7T7WftAu2x7HXsQewc7ArsAewM7CjsUOyL7NbsMO2Y7RvurO5a7wvwx/CV8WzyUfMy9Bv1C/YD9wL4A/kB+gD7AfwS/R3+Iv84AFIBcwKUA70E7QUUBzYITwleClULPAwRDd0Nlg44D8wPTBDNEDgRkBHeESESYxKEEqsSwxLOEs8StxKWElcSFBKyET8RuRAsEIoP0g4bDlwNjAy6C+8KHQpKCW4IkQewBr0FxQS3A6oCkgF0AFj/Mf4F/dL7rfqE+W74V/c79jD1KPQ781HyefGr8OvvSO+t7jHuuO1S7fvstOyK7FnsQOw47D/sVex17LXsBO1o7dztZO777qXvc/A58RDy+PLg89L0zvXQ9tL34fjo+f36I/xH/XH+nP/IAAECRQOEBMYFCAdRCIwJwgr0CygNOQ48D0MQKxESEuQSpRNXFPQUkRUXFpAW/RZMF5cXzhcBGB0YIBgLGN8XqBdbF/QWfhb0FUwVnxTTEwcTKhJGEV8QYw90Dn4Nfwx9C2UKVwkwCPwGwgV8BCoD0gFxABH/q/1B/Ob6iflE+Pb2tvWO9GnzVvJK8VPwZu+H7sXt/exV7LDrIuuj6iDqvele6Rnp3+iu6JPocehn6Gjod+ii6NnoF+le6bzpKuqu6j7r2et67Crt6e227pDvaPBL8TXyKPMT9A71EfYd9yv4Q/lm+ov7u/zp/Sf/XgCWAccC5AMFBRwGLQcsCDEJIwr/CucLvwyTDVEOEA/CD2sQBRGGEQYSbhLJEv8SKBNFEzoTIBPoEp8SQBLLEUkRuBAeEHcPxw4JDk0NhAywC9UK+wkkCS0IPAdABisFJAQYAwYC7QDh/8X+o/2T/Hn7b/pi+Wz4iPeu9vL1RPWo9Az0ivMO86DyT/L78bTxgvFW8TbxMvE28UzxdvGw8e7xNvKR8ubyQfOs8yb0rPQ89d71hfY/9/f3rPhm+ST63PqL+0P89vyw/WH+Jv/i/6cAeAFHAhYD4AOzBF8FEwa+BmEHAwihCDwJyglfCuIKYAvOCysMhAzKDA4NRw1wDZgNwA3jDfsNCg4SDv8N5A2/DYUNRw3zDJUMMQzMC2EL8wqBCg0KhAn4CGwI1QcwB4sG2gUnBW8EuAMCAzwCiAHEAAAAQv+B/rj99vxA/IT7yfoc+nX51Pg4+Kf3GveE9gr2hvUL9Zb0JvTG83bzOvP98tTys/KV8o3yivKP8qHytfLR8gXzO/Nz88LzKfSX9AD1cfXy9Xr2APeO9yH4sfhN+e/5l/pL+wH8vPx1/TP+6/6v/2YAIwHfAY8CSwP7A7YEZgUTBsAGaQcOCKkIRQncCWQK3wphC9ELPwygDPIMQg2IDbkN6A0JDhoOIA4XDgoO6w3DDYsNTQ0ADa8MVwzqC4ILEQuTChcKjAn5CGUIyAcXB1wGnAXPBAAELwNSAn8BqwDS///+Lf5q/an85Pss+4H63flB+az4FfiI9wL3hPYC9pL1HvWs9Ez05POS8z3z+PLC8pTycPJU8kjyQ/JR8mPyiPK48vHyPfOP8/PzYfTU9F316fWG9h73tfdd+Pz4rflX+v/6t/tp/B791P2I/kb/+P+rAGQBDwK7AmYDCgSnBEEF1gVgBuQGaQfZBz0ImgjmCCoJXwmBCZsJsgnACcQJwQm8Ca4JmQlzCU4JKQnxCLcIdQgrCOAHkwc3B9gGdgYMBqYFNwXDBFME3ANmA+wCbwL2AXwBBQGLABEAn/8z/8f+X/79/aT9TP0A/bT8afww/Oz7tvt7+0r7Ffvp+r/6mfqC+lz6UPo9+jn6MPox+jv6RfpW+mX6f/qi+sH64/oL+y37WvuE+7P74fsX/E78g/zA/Pf8Qv17/br9A/5A/nj+tv7z/ir/Z/+e/8v/+v8mAE8AdgCYALwA3gD5ABsBNwFIAV8BeQGLAaIBuwHMAeMB+AEPAiQCQQJeAnsCiwKmAsEC0ALmAu4C/wIGAwcDBwMGA/8C9ALhAtUCxAKzApwCewJzAlwCRAI2AiQCDAL3AeUB1QHHAa0BlQF8AWMBSQEnAQMB5ADCAJ0AbQBMAC8ABADW/6P/hP9U/yf/Cv/m/sz+qf6N/nv+Yv5P/jf+Lf4j/hL+CP76/fT95f3b/cb9wf28/bH9uP28/cb9yf3W/fT9Df4r/jn+Y/6A/pL+1f7//lP/p/+f/7j/2v/n/wwAHgBcAIwAjgCHAKgAzQDDAMEApwC6ANEAvwDPAAcBIgE0AT4BTQFvAXYBeAGyAe0B/QEaAh8CPAJRAjECFwIeAgwC7wHkAecB7wHOAZgBbgFSARgB6wDAALUAswB4AFIAXQBUAC4ACQDr/9v/wv+e/7H/1//M/7z/l/91/2P/KP/q/uj+1P6z/qT+nP6g/nb+KP72/dn9sf2b/ab9yf31/fT91v3l/dz9tP2Y/Zz9xf38/Sn+V/6N/qH+hv5j/mP+f/6V/rH+CP9i/5n/pf+l/6//ov+c/5r/vP8AAC0AdwDAAO4A5ACvAJIAfwCFAK8A7QAvAWQBZwFjAVABNgH7ANMA4gAAAS0BTQF2AY8BcQFFAR0B9wD3AO4A6wAVATwBSAFHATABAgG8AHUAXABHAEkASABFADEACADi/6H/ef9k/z3/Pf9O/2T/av9T/1b/Yv9N/0n/Vv99/6H/p/+4/8H/of9s/1X/Wf97/4b/i/+R/3n/M//b/qH+gv5q/l3+gf7K/v3+/P71/tX+nP5i/lP+pv4Q/27/vf/8/zgAGADB/6T/lv+v/+H/HwCYAOIA5gDmAKYAdgAzAOL/+P8yAHoAxQAAASgBDwHLAI4AaABkAHMAnQDwAEYBgAGTAZUBkgE3AdoAwwDZAAwBTwGMAc4B4QGaARoBwACFAD8ATwCxAB0BXQFcASUBtwAqAMT/g/+//y4AawCpAMMAjQAVAIj/Rv8y/z7/ef/O/zEAWQA9AP3/qv9a/x7/C/91/9z/AwAPAOb/vf+k/4j/hP+K/4z/av8z/1j/iv+L/5v/pP+Z/3X/L/8a/wn/Cf8y/0v/nP/5/woA//8KAOf/rP+V/5T/2v84AJEA1gDjAMQAYQDg/5b/mv+k/9b/XADJAM4AsgBXAMj/c/9N/33/JgDfAE0BbQEwAbMAKgD2/yAAYgC0AAQBUQFpASABngAEAI//Tf9G/6L/GABsAGkADgC1/yL/bf49/mr+9P7D/3AA5ADFACkASP+K/pX+9f6T/5wALwFxAUgBXAB1/9T+ff7B/oD/awD2APQAtQD0/y//q/5b/qb+cv87AJQAogB6ALr/DP/E/rz+RP/W/1AAugCiAFYAxP8g/w7/Bf8w/8f/XgC+AIkADQCE/8X+sP7r/j7/EwCBAGQAMwDY/0v/2P7P/hv/Xv/R////y//C/1z/1P7B/v7+f//O//n/BgDO/6X/ff9+/9v/MgCJANUA9gDUAFQACADe/6f/yv8lAH4AswCcAGcA/P+f/13/6/7o/j7/dv/D/yAAJQDA/2n/Wv9c/8H/HwACAA4AOAAbABQAWgDDALkAngDlAKkARwC3/5r+JP5t/gP/GAAAAS8BYgDK/q79Cf3z/Mv9H/9pAFEBowEhAf3/sP7E/b/9xv5aAOgB7QILAykCngBI/7r+xv56/7wADQL4AtcCvwEmAEz+6/zW/Nn9pv+rAegCLQNpAowADf5Q/CX8NP1K/y0CegQtBVME7gHw/qH86Pu2/Of+GQLaBA8GuwVMA6H/jfzj+nX7HP7qASsFEAbqBGwCx/7a+336Gvvr/X8BdgTcBVYF4gIG/9377Pr1+9P+kwKABZMGjgWsAir/wvwa/P/82P+vAxAGfwb6BIsB8f29+3T7JP0+AF8DEAX2BAIDn/9c/H36n/p5/Kb//wKFBEkEoQK4/+D8Rfs5+6f8Q/8IAukD5QRBBLYByv5x/D77n/uS/XcAzQIFBOgD6wFa/+H8tfqs+mT8ff7OAJkCAwPMAan/Qf05+1T76/zj/nIBZAOlA1MCdADH/hP9vvw4/t3/OAIuBPgDowK9AH3+8/z8/JX+/f+EATYD6ALNAZMAyv5m/ff8Nf0k/gkAKQKUAvgBOQFC/6P9F/0a/TX+JQDrAd4C9ALrAdb/sv6Y/t3+BABOAT8CZQLGAeoAev+i/rj+eP6C/9sAKQFOAdkAzP9r/qf9N/4D/2UAzwE3AWgAuf9m/vX9ev4k/+3/EQEVAtIBEwFXAAT/ef6j/o/+a/8aAeABZAGfAKP/LP5c/Rr9MP2O/hcAngCtAIgAv/8t/lf9fP3S/ab+rv9mAAoBJwE4AKn+yv2r/Xf9iv57AGABogFoAVUACf9w/nf+o/7A/9sA4AB8AQYCwwDd/rb9h/0S/k7/5AChAe8BdAHX/xP//P57/m7+Y//eAPoBGALHAfIA9v8g/5L+If9eAE8B6wFAAikCgQFTAFn/zP7j/rT/wACQARoCowE0AAr/IP6H/b39eP59/64AXgEuARIACv8q/mT97f0g/67/RACZAG0AZgBWAL//kv4n/vD9sv34/rMAigEaAssBfwA2/zj+kf1x/Wr+3P/qANoBDgIcAaf/JP4E/cv88v2f/0IBlALYAisCwgDD/kP9qfx4/aT/1wHQA1YE+ALeAHf++vwT/XD+twCbAuUDAQRhApcAsf4z/Yb97/4bAYAD1wSVBF4C5v/2/ev8Lf4lABkCWQQxBYAEvgJGAFT+Vf1o/uQACwM8BcEFJgT4ATj/n/3p/S//aAGsAxoF7wQPA/cA7v6L/cD9BP9GAW4DuAOYAs0A4v4Y/UL8XP1U/1kB5wIBA8YBc/+5/Cz7sPvl/RMAyAHjAh4Cyv9P/dX7evvL+wP9xP51ALABHAEw/y79RPvp+Un6xPya/1kBEwImATf/Vv1U+776w/uC/cf/fwGYAikC7P/r/ZH8DPzA/Er+agA2AvcCQQJgAN3+bP1c/ET9Zf9yAbIC3gINAkcAnv6I/VL9v/6TAOUBQAMDBDwDHgFI/zb+jP25/v8A2wIpBIcDZQHR/wX/RP74/VL/FgFNATIBRgHtAKsAAgBG/3f/IABXAB0AmAA0AYgA5P/8/9X/iv83/zP/1f99AKkAUQAGANL/J//d/l7/mP9C/2j/5f/T/7H/pf91/2n/S/+4/tv+4/8vALz/+f9rABIAkP8O/6b+wv5G/93/cADvAFsAmf4H/n/+8f41AEIBJAF0AKf/Fv/E/if/1f/h/6AAHAFxAG8ATgCR//z+u/41/7z/UQAEARsBewE9Abn/3P6N/rf+xv/yADgCzALyAVQAe/6Z/df9of4MAJEBygIZA98BRQDJ/mf93/w8/fP+DgEkAi8CPgE+AGz/Jv52/dD9X/4v/2gAsQFYAuMBZQBg/h79sfz5/L/+DQF7AtYC7wFcAJ3+BP2o/Gz92v7LAGoC/gIrAiMA8f2v/OP82/0I/wQBZwJVAqsB8v/x/QH9//wC/u7/DQI2A8QClgGr/8z9kf3V/Wb+NQCdAewBhwGBAI7/5/5u/l7+NP+0ADIBoQCcALUAtQC6AH4AMgC4/2T/bv/r/y0B1QG/Ac4BHAEmAP7/DwBGAJwAOAH4AdYBUgHyAM8A+AC6AKkAaQEcAgEC7ABlAMAAeABnACABqgHqAaEB1QA0AAEA/f/k/78ALAINAkkBLAF8AHb/c/8YAPIAAQJkAosBcQCQ/z7+2v2l/3YBNgKrAiECHwAg/tP8Ufxk/cX/sAG9AmIDRQJf/+z8qfuj+zv9yP9HAu8DVgSKAiz/ifw2+/r6kfyX/5UCVARgBMACyv8V/TD7kvqW/EQA6gL7A74DogF8/v/72fqV+3r+uQGBAwYEBAPH/3n8+voM+xT92gD2A9QE7QNCAWr9Gvsp+1/8YP9UA8gE2gNnAq//VvzV+lL7EP2bAN4DGQRgA1ACCP+J+8r6EPwk/i8B3QOFBLkDhwFk/X76Hfu3/Kv+agIvBZwEbAI0/377+fn2+vj8kACWBKMFAQRvAQj+pfpg+Rb7gP4jApcECwXVAxAB9fzv+cD5rvtt/gMBXANwBAADQwCt/VT8ffxn/UD/iQG6AlsC5ACB/6z+Lv6z/uv/GgFIAT8AIf97/m3+5P7B/3kBwQL/AWwANP9k/gL+Q/54/1QBwgKQAuQAmP8g/4X+M/4L/4MAbgFFAXEAev8U/xH/yP5J/1wAqgBlADUA+/+G/2H/pf8vALwAjADk/97/pf+4/s/+1/9pAJAAxACXAHcAWwBf/0H/wwALAR4APAB7AHn/hP7u/qL/ogDwAaUBnQByADD/Jv24/cz/fABMAb4CfQIDAZn/j/0m/GX9Mv84AGcCPwToArQAi//z/ez8OP4mAKoBpgMBBMsB2P99/sT8zfxW/28BhQI2A/MBkP+S/hf+sf0P/y8B5AHZAfcBEgHa/8H/hP+w/24BFgL4AKwAugDw/6r/agARATYBEQEKAJP/bwCCAD4AYgGNAt8BKQBU/23/gP+7/xIA/AArAj8BKv/N/lH/Sv9X/0MARgEvAVoAwP/r/zQAbP/M/rb/oQCHAAUAJwCRAA8ARP9L/6P/8P+w/zD/hf/H/0P/6P57/yYA7f9y/8j/9v97/0//ev/C/xMAEwDH/+z/wv+r/kn+Nv+c/zL/zP/PAOUAfwDA/9/+kf6i/uf+8v+VAd8BmADt/3P/VP4W/rr+mv9iAFAABwDb/57/dv/5/vj+rf/d/2wADQF2AML/jf+//5v/Gf+R/6gA9AAdAN/+2v5k//n+xv6y/xkBbgFzAO3/TwCcAPP/kP8KADoAUACbANQAHAHIAJD/+f5O/7L/yv89AJMA0v83/6f/9P8cAIcApgCjAKsAEwAh/3P/VwAyAPf/uADhADYACAB5/7/+Z/8fALH/pP8ZAK//OP9v/2D/8f8nAToBKwBW/+b+Av7H/Vr/6QCoAeEBggBg/uf8D/xy/JD+NwGCApwCEQLS/8/8dPtH/FT+jABvAm4DCgMXAaf9A/sh+/b8Bv8LAY4DtwTiApP/Gfz4+Uz6Z/zz/84D7QUfBYABNv3W+Ur42vnm/ZICRgZyB10FEAHi+wH40ver+nr/MwWkCBwIoQSh/uj4Pvcv+S79igKcB18JTge7At789fgk+UP7Sv6vAjYGAwd9BUUC2v25+o367Ptr/nMCLQUMBQsE3gG2/kX9mv3x/Wz/FgJFA4ED3wOQAu3/uP5O/pb9df5sAG8BgwI6A+kBXADv/6L+CP3R/Yr/1wCOAj4DYgLtAe4ATP7j/P/9r/84AckCaAMOA+gBTv+s/E38nf3+/r8A8gLkA9YClQA3/mL9r/0s/mj/LQF8AmICbgGGAKv/gf/E/1H/A//v/s/+8v+aAZQBHgGsASgB5/5d/XD9Xf4EACwBJAEGAtUCQQA8/Ur9ef6M//EA6gEYAu8BnQD7/Vz9SP9JAAcBOwJ5AkEC8gCO/jT9j/3Q/vP/YgE7A7sDRwLN/zT98Ptf/Mb92f9eAscD/gIgARX/nf2l/Z3+zv/vACcBvwCkAEUAP//n/kf/d//4/0sAPABbANv/jf5C/rf/ywCJALEAeAD5/iL+Fv6W/pMAlAIFApYAqf85/U/75/yg/6EBVAPlAjIAVf6E/U/83/wpAOoBnAHvAXMBCQBk/1D+wvxO/dP/ewFvAnMDNQJE/5v9Lf1t/eP+JQFjAi4CRgER/3D9aP5f/5j/LQGoAo4BSf8U/v/9EP+WALoA8ABzAhYCkf9i/kf+GP4w/yABpgLtA8YD2wBj/RP8cPzd/XQB1ATvBGQDIAHM/Yb7xPs2/U7/iAJuBHAD8AHS/5H86PtF/gYAGwEwAhgCKQFWANL+sP0y//YA4ABOALv/Hv+W/l/+Af8vAEEB/wCE/3z+Hf7b/eD9kf4yAKMBmgE5AJb+rv2w/UP+9P7a/6wBygINAbD+jf1g/Rf+V/+XAPQBdwLbAKT+6v0Z/uj9cf4HADgBgAEKAd3/PP93/wH/oP52/xoALwCOAMkAegD5/4r/pf9SAKgAegBwAIcAOACT/2r/HgC8AJcAggBFAZYBTgD8/gX/2P/5AGsBrgCuAN4Arf8O/+H/ngDBAJ4AdAB4ALUArgAeAO////+P/7f/6QClAZ8BiQHAACf/Nf5Y/sv/DAIDA2MCoAHIAOf+OP1S/XT+RQAiAmkCTQJ9AkoB+f4s/c38xP2J/ycBHgIcAwYDpwDi/Zb8Cf2w/pcAEALbAr8CQQEf/7v9Zf00/sH/cAFBAuUBYgGJAMz+gP3R/U7//wDMAXABLgE6Abr/YP1v/Tz/GAA6AcEC6AIEAtr/Wfwt+8X9PQDBATEEQQWSAkz/Of1Q+937Bv/fAI4CCAVlBIMBqv9d/eT6zfvG/qoADgOLBSMEwQAu/iL70vmo/LL/dQFBBPkExwG6/tf8SPs9/Av/jgBKAb4CtwKRABn/I/5N/Xv+0/97/0UADwIMAn0A0f6W/WT9Bv68/vH/7AHNAq4B+f9i/j79wfwB/av+XQEJAx0D6gF4/3f9Rf3w/e3+WQB+AbcBkgFvAKH9qfx9/pf/MQAjAREB7QCAANP+Sf6f/zsAdP+q/1UBTAGU//v+Yv9rAIQBtQBa/x0AlgBE/xf/QwDrAEIBlAHYAHT/AP8D/0r/TQH2ApkCRwIXATb+Jv3f/i4A0AAkArMCdwLrAVf/A/0N/sr/1/8oAKIBNwLUAasALP4//bn+Mf9J/1gB7gIXApwAG/+c/fv9av+P/8b/lgCYAFwANQCe/9j+Z/+6ALb/tf0N/vv+Vf8qAJ0A2ACYAYkAsP27/IH9Cf6c/kAANALhAjgCpP9c/K77u/zm/Y4A4AJHA/QC4wCl/R38Wfwb/Qb/qwELA+ADsQPWABL+B/1X/L/8IP+8AYQDkQSBA7L/ofxQ/P78ff6iAFICewNqAz4BSv5k/Vv+hv4E/6gB9AMWBDEDVQH0/jT+If6F/ej+4AFfA70DngMaArz/u/2V/I784v1eAMYCYATVBDoDGgDD/X38Svv+++T/NAQ1BroF1gJM/+D8X/sk+6/9GAJ4BDUEggPvART/Ff0n/P788f/jAQoCjwLsAlAB+f5F/ir+Wv3t/bH/XwHpAswCPwHFAMf/nPzi+qv8Yv+HATUDowPCAtQAa/6y/MX8nf3U/Xv/pgKvA+kCFALUAEL/sfz/+pD8b/9FAdMBlAKjA0ACS//a/Fz7Kvxl/er+QwJTBJ8DrgGL/2j93vt1/Ij+WwFDBD0EXALkABv+RfzJ/bv/DQFSAo4ClgHpAMX/6v1M/jP/kf5y/xgBlAHDAb4BqgDl/t/9Kv0O/Xf/SAH9ABgCCAIdAA4ADgDO/iH++/1M/mEAvAIDA8kC7QJgAJr8vfu0/Ov+FAIMA5UCwQK2AIL8Xvuf/aD/NwFXAqcBVgA0/9T9qf2Z/0YBLgFNAUEB6/7r/Nv9ov+IAFQB/QGYAaYABv/P/Kv9cwAbAX4BrAJvAvf/4fwo/Mz95//RAQ8C4AFxAQH/ofwo/NX9xv8zAFQBDgLpAIAAv/9u/iH/9/+f/wEApwAMALv/vQA2ACH/jf/l/sb++wDXAeIAUQCR/g38Gf0FACkBAwMsBBMBrv5x/v38FP3d/4kBYgHyAYYBnf6g/rkAY/+B/zcCvwDJ/rL/s/6k/Q8AIwL1AYAC3QGq/e77SP66/ov//gKSAzgChQHi/h/8Nf13/+IAeQOqBH8BYv4v/VP7CPxDAGQDKQWOBecBS/1q++n6ifvx/hsEcAaJBd0DAwAQ/Cn7cvqy+z8B0wWnBiQFhwLo/pv7e/oA+wL+QgMDBqwFeQS/AWr+qvzh/NT9pP+PAl4ESgSfAqX/8/3J/d/9uv65AOACygI8AUUAA/+n/UX9Xv7EAR8FJAWTAvH/nv2C++37Pf+0An8F8AVRA1QAk/08+437EP4jAO4B1ANqBMcCIABt/Xz7NfxY/nb/ZQGvA+cCLgFIAGr+5PxD/Uj+KgC2AiIDZwGLAIr//vyZ/F7+BQAxArgDDgNRAa7/kv2n+zj8bf6ZAN8DEQa6A4n/dPxs+o36nv1VAVgDSQNxAYz+/fzX/Vn+k/6RAEUBwv+1/0MACgCDAKkABQCU/5b/PP/m/jYAJAFzAMQA2wBA/xz+3/0k/r3+qv+5AJsBcQJiASn+F/3L/c/9If9rAekC3ALZAJr+Fv64/gH/s/64/14BTAHRAAABGgErAD7+F/3H/cr+3v9QAYYCzAJxAdn+x/yz/CH98P2/AG4DcAMBAlsAo/47/YT8Ff38/pQB4gJMAhACwQFi/2/8Yfze/bj+tQBMAoMCOgMIAvX+2f06/SP8Kv1FAKcCZwNsA4EBm/4x/U78QvyM/swA0wEzAwsEEALU/jP92PvL+4z+GQHGArYE2ARpAbb9ffzP+8H8pgAgA0ADBANfATH+xvzh/Uf+sf/qAn4CGAApAH//df3K/Yn/KQDlAMkBzQAHALgAff///bX/OgE/AC4AVAHLAMUAoQHv/yT/rwDi/+b+fgAAAdj/qf8aADD/Xf9DAb4AXACFAWr//fz3/eD+R/+QARwEYgNpATEAR/3D+7r9sP4+ADYDdgMVAhABBQBq/pb9iP4W/+3/3QHlAR0ByADu/1f/Mf9a/4P//v+AAGwAhQCQAEcA8//g/qD+lf9IAFgB6AHCASMBmP8C/sT8qv2eAF8CrANFBGgCbv/J/Nr7Ff1z/48BZQJMAz8D+AC1/+/+q/1m/cb9G/9UAaQC2ALtAlMCwP9p/H77Sv2V/20BfANMBBYDsQDh/Er7s/0YAOwBtQPHAyQChP/q/ML7O/1XACECKQOWAwAC3v+//Wn8Sf0A/5EAtgFPAnMCvQBd/87/0P7W/bz+X/97AAYCrgGiAHoAP/85/WT+kgGmAuABNQAS/hv9eP1t/pIAywNqBFUBiP52/R39d/1x/s0AGgN1AooAF//a/lX/SP9n//b/jABLAAX/Uf8gAOv+9f62AD4BDwEQAeD/oP6y/n39vPzk/yICjgFAAtACBgGi/rX8W/vq/FEAPgGLAvEEAQMU/6r8+Pqe+5H+sQGHA1gErQOi//D7fPu8+7n93QF1BPYEMwQKAZj8UfrP+l78iP/TAzYGbwWdAk7/0fvp+ZH6y/zsAEEFrAZOBY8Cpf6g+jT5jPs7/1sClgQ/BbcDOQBM/Lf5Xvox/qoBeANiBbkEJQCc/CX7V/q3/C4BoQPdBHYFnQL6/Sr8N/v4+VT9rwJjBNwEhQSjAJz8YfuS+ij75/+pAyoDYgNBA7v/I/2E/Dv83/28AMoBRgHjAbMBu/6k/dv+av6K/n4AHgEaAYABcADD/sz+Jf9p/sT+pwArAZUAEQEyAYIADACw/tr82vx6/hgAWgEUAwIEcgIJACD9q/p7+zj+7QBaBKQG9gTsAP78RvpV+kX9UQA6Ax0GjwV/ARz+jfxm+/j7Dv/+ARAELwUZA/n/x/4Q/fv6lfzJAF8DPASlBAIDdf/6+/75kfstAOgDKgUgBTwEIAFu/Mr6YfyN/mkBCwT9BKsEnQLR/ln8v/yh/Uv+hgHJBFMExwIgAfv+hP4Z/yr/XAD/AbYBkwDIAD8BngD3AEwB5P8V/9D+P/6M/4kBGwIjAhEB2v7//Sf/zADWASsC9gFDAIz+Sv7B/pgA7QIfAykC+AC8/pL8kvxf/mUAwAKnA/IBaAAE/6v8lPzj/qYA9QH2Aq4Bdv9K/+f+Qv7x/x0BewCLAHQAef8y/2v/Cf8V/9MAGQGL/6b/gf+E/qT+qP7e/iIABgHuAHwAYAD7/2j+xP1l/qT+bf8IAWcB9gD6AKb/JP7Y/l//xP6D/2gAeP99/rL+7/5VADMDhQKC/4/+2/zj+uP8PgA/AkgEKgTMAJ7+Nv5s/CT8jv/9AYUCnALyAMb+5/78/pv9Uv46ADsA6P9xAFEAb//M/v3+Qv/j/7oAPgCU/2//dP7f/Xn/RAGVAXoBOAHI/0n+qP0Z/eT9lgB9An0C4QHXAP/+1vzI+wH9m//UAX8C4QFpAYIAIP4Z/Mj8Mv/iAKAB0QITAxEBM/6f+3D7jP7EAfYCgQNxA9QAwPwD+7T78/1gASUDAAN1AtkAYP71/KP9q/7y/n4A5wGeARkCkgHD/lT9Hf08/X7/qQJ6A8IB7v8m/iX8ufz+/uAACQPpAqn/3f1L/g3+TP4jAIYBSAFtAKj+2/3b/wEBOwD7/xEAbv/K/k/+Xv4tAJoBzwB2ANEAlAD5/wr+mvyt/SX/dwDyAdICkQL6ANX+mvx7+1j91v91ASkENQXpA+oBof1x+gP88v2Y/0ADsgWsBeUDXgDX/LD7hfwh/nQAbQPOBLMD7AEH/wL9w/3B/oD/hwE2AwoDhAG8/7z+mv5Y/3IA1AGJAoEBTgD+/3T/Af+a/7YAowFRAaIAkADQAH4AZP/P/yMB1ACF/+n+lv9QAewBJAF6AUICBgE2/rX80f3L/+4ABgKaA50DRAGH/nL8EfwS/tz/JgFoA4UE2wLLAKL+J/zz+wL+9P8DArEEqARDAlwAtf35+iP8mv+hAbMCfQK3ALD/N//L/e39nQD+AeUA2P8i/5f+Xv8oAGv/zf+mAZ4B1gALAU4AtP4B/r394P1U/xkBWwGFASAC5ABj//T+Z/0u/IH9BP9VAAgC/QIZAzoCff9Y/HL7IfxU/XD/UgKiBDMFBwPI/mf7wvrT+zj9BwABBF0FzgOAAeX9k/sG/Nb85P6TAvgD0QI+ATf/jf2f/b/+1/8dAasBwgCt/0j/Vv71/Wf/pQGTAoQBIwD//tP9evxe/FX/gQOwBIMDAgLg/8j8L/oH+0z/9AICBPYD9gKeAIv9mPsq/FP+HAC6ACIBywG/AWIAev/S/rn99f0U//H/UAHaAfUA4QBBALP+TP65/nP/RQDHAFQBVQE0AFT/tv76/e39+v6pABkCJAKiAGz/3v6J/Yr8jf5kARYCXQLFAvEAFv5N/H/7yP1fAQsCCAKZA0UCP/6n/Dr9N/7a/0cBLQFDAYwBSv/v/Ir+1f+I/qv/mwGQAO3/KgCz/nb+9P+p/yz/wwA+Aa7/gv9xAJr/0f4FADAASP/W/7H/+P5mAO0At/+P/0f/cv6z/q//EAAOAAcBrQErALH+KP7M/RL/9ACIAS0CWQJ0AC7+pv0z/gj/rwAUAmMCbQIxASH/o/6R/m7+O/9rAJUBJQKIAQIAHP9k/z//Pf/OAHgBwADsAKIAoP+f/2z/k/82AfoBPwGRAKMAiAAv/3f+U//S/4wApwE9AWYB/QE/AOf++v6T/t3+WgBxAUQCewJFAeb/bP///lb+Fv/YANMBfwH2AEsArP/7/0AAEgCtAPIAxv/M/3wAPgAZAJkAJAFkAToBWQCN/zf/Kv93/0wAPwHrAdMB1ACj/7v+5/6e/yQAmAC8AMkAXQEVARcAFQAtAHv/yf4s/wkAfQAGAbUBWAGgAP3/zf6+/qD/RP8h/z0A2wCpADYA3P/z/2QA//8I/3//VwBC/3L+FP+q/30A3AA4AIkAigGHAHf+1v0n/sz9af4ZAfwCCgNWAgwAGP0w/BH8h/yL/7wCTANGArEAef7R/Dz8rPxA/2wCBgOtAbQA8f9t/g79mf2J/wcB0QF1AdkADwHE/8H9mP6b///+aP9WAPIA/AA+AKf/Ef+N/kX+r/2e/sMABgG3AOcAGAA9/zj/q/6v/s3/+v8cAP8AwAD5//n/yP+D/zn/0v7X/kL/FQBpAGQAMQHcAM3+Of7O/tz+BgByAVQBCgEiAP79Zf12/v/+CgAUAsECJAER/5D9mPzr/LT+hQCgAiYEyQK0AJj/gv3d+yP9hv8NAoED4ALXAaAASv4w/Cr8Sv7XAOQBIgK3AS4AM//C/hf+6v7//ykAAAH5AJb/lf9QAPP/pP+X/7T/9v+A/73/sQDRAMMANgCh////1v9+/xoADQDX/w8ASwCWAIsAhwCzAGYACv+x/Sb+t/9cANUAxgGUAjACOwAy/iT9Qv17/nf/4wAtAxIDYgFiANv+MP0x/UL+4/+9AWIC7gGlASkBg//w/VX+rv8bAK4AjAFtAS0BVQB7/jb++v7u/pH/DwH2AdcBLwF4ADf/Qf6e/lL/awA7AnoCTgFYAawAdP4f/h3/bv9oADABEgE8AfIADgBN/3r/NQBDAJcAzgEyAbT/DgAmAGj/cQDWAZYBnwGkADP+/P2//ur+igChAg8DagGp/67+Wv2C/Xb/DgG/AoADpQEnAH3/Af6T/b3+vf/DACQCbgIbAvgBZAAV/mT9nv2X/ncA+AFsAicCdAHs/xX+gv2p/UL+LwCaAY4BwAFRAZP/Cv/5/lP+Ef+HAO4AWQFwAVUAl/8A//r9/f14/wUB4wG2AZ4AMf9N/gL+rP4pAJABFQKnAQ8BY//h/ej9UP61/6YB3gF1AUUBzv89/rv9sP1j/iMA4wElAowB1wDu/lf91f2K/oj/mgGDAsYBFwH7/9X9QP1w/jz/nwCdAqMCZAFyANH+YP2q/bv+8f9YATQC9wH9AM3/jf6H/YL9wv4tABIBwwEgAaH/LP8D//T+e//B/9H/sQAPAUwA2P8OACAAof9B/7b/igAxAf8AYP8p/18Az/9v/68AtgDh/5b/7f7U/v3/3wAiAZsBEQGv/mD9Nv7Y/p7/2AFXA2wCewAc/nn8w/2e/xEAawGfAmUBlv8E/6/+mv5r/97/0f+MAO0ASACRAJQAZ//X/uv+HP+O/1UAHAFRAf8A5f9u/lb+8/4y/y8AaQECAfr/Y//Y/jP/YADMANkAAAFaAHn/Xv+b/8f/QADnAPoAnAACADj/+f43/23/z/+bAEQBBQFmAMz/Dv/Z/g//ev97AB0B+QDEAAwAvf4C/pb+4f8lAQICewFLAGn/3v0S/e7+BgGmARECzwGYAGv/f/6T/bn9Pv+FAJIB/gL5AskArv5o/fP83P2v/zQBdQKyAiUBLP/+/ZL9m/3o/u0A5AGzAb0AEf8m/pH++f6M/zMBCgJ4AesAJwBX/yn/Cf8s/1cAmgE8AvYB6gCw/z3+Fv2a/Xj/ZgFwAkECXAEHAFf+tvwW/bL/yQFMAjUCWgEJAIf+L/3i/UkAogGgAfIBpgFTAD3/m/6j/m//QwBVAZgCpgJUAZD/sv5j/gz+/P7uAEICvwJ9AW7/p/5H/gb+Hv/XAMsBtwHTAOb/gv9z/yH/Ev/5/+0ATQGxAdoBEgH7//P+h/5e/z8A1ADVAUMCJwGX/7f+UP74/jIAvgBMAWAB+f+d/pn+//6b/08AqQCVADsAx/8z/zP/lv+p/w8ArwABAUYB+QAdAF3/x/7Q/mf/MgAwAXUBBQFXAEL/Uv4t/pn+j//tALABlwHuAKL/Lf79/cn+8v86AZcBOgHbADAAKv+e/rf+Tf8gAO8AOQEgAcUA9v/+/sz+f//z/0kA7wA8AeQAOQAX/4T+VP/8/ysA3wA2AXcAjf8F//r+av/s/zwAsgAKAZIAuv9t/4//ZP97/wQAaACZACoAgv9K/0L/NP90/zAA2AC3ANf/Bv8T/5b/q//6/6AA1gDBADQAgv84/xv/Dv9R/9D/OwAnAOn/CgAoAPL/jv9P/0r/Qv9T/6r/WQAPAeAAKwCJ//X+of51/qX+Y/8nAI4AqgBwAAoAlP/1/oD+vf57/0gAEQFEAbwACABY/8j+pP4r/9P/VADbAKsA5/9g/zL/Gv9a/8//TADWAOwAXAC6/4j/Qf8F/x7/pv+TADwBOgHlAHgArf+Q/iz+Af8mADQB1gGrASsBpwCq/8X+6v5I/47/UQAQARUB9gCbALL/bv+Q/3D/5f/ZABoB4gDhAIoA6f/F//L/PwD6AIsBQwGRACgAjf8L/3f/CAB1AAwBKAG6AJ0AMwBs/0T/ev/L/1YAuQCuALEAqQAyANP/4//G/4z/1/9MAHUAjACNAC0AEAAjAP3/UADZANAAcQAGAG//Hv9f//T/hQAIARABSwCj/0f/z/68/kn/6/+xAD4B+QBDALv/Mv/M/jb/LQAQAYMBVwGFAGD/jP5b/uD+EQBQAbgBjwH8AMb/kP7t/RH+B/9dAHQBAQK8AbgARP/k/YL9KP4Z/0sAbwGcARsB7v+R/iD+iP5s/38AewHAATgBIgAa/7T+IP/R/28ALwGgAX4ByAC1/7j+IP46/ur+CgBxAT8CHAIbAZT/B/4i/T/9fP5aAOgBkAIiAssA8P6E/UH9/P1P/9sA6AE5AsABmAB2/8r+qf4b/+L/qwCHAdQBKwECAMT+Av4t/gX/GwAoAV0BrACF/2z+Ff54/mP/uQDJAecBFgGh/1v+Bv6W/sH/SgEnAtoBDAHD/23+6/1d/lr/oACTAbYBGQEdAAf/EP4n/ir/WwA/AXwB7gDK/3b+c/2A/eX+0QATApkCOwKQAID+Lf3c/A7+TwAtAkQDZgMDAsr/4f2x/Kf8/v34/4YBMAIEAhsBuP+K/uX9CP7u/gIArgDvANcATwDM/4j/a/+i/yQAYgBXADYA7f+K/0n/Xv/c/5UAEgETAdYAkQD5/0T/+f4H/1j/4v9RAIcAswC5AGIAz/9T//3+6/5E/8f/MgC1AP0AugB7ADoAxf+G/6n/2f8QAG0ArwCdAGAALgDu/+P////2////OQApAMH/nv+3/7D/uf/s/xIAWQCMADMAmP9P/0H/av/m/4cA9QARAfEATwCa/2H/Wf+U/z4A0wD7AOkAmAD//4L/WP9Z/6L/HwBSAGQAiABdAPv/yP+p/23/e/+9//v/bQDQAJMAJgAEANv/pf+Z/6z/8f9qALkArQCbAGoA0P9G/y//av+//z8AsQC+AKIAFwBD//X+Cv9g/w8AyAANAdYAUACx/07/Uv+4/ysAqwD8ALcALwDT/6D/n//e/ycATgBMACoAyP+A/43/uP8iAJgAwwCBAB4Az/9y/2D/m/8DAKgAIAEiAcgAFQBY/9n+2/5c/zAA5gBRAT8BmQDO/xv/zP4B/6n/ZgACAR0BzwA/AKT/N/8G/zb/uP9IAJwAwwCuAEwA3P+I/2X/jv/5/2wAvwDmANEAcQD6/4r/T/9n/6b/9v88AHIAfgBUAAgArP9c/0b/cP+4/wUAZACyALoAigAyANX/mv+P/5f/2P81AHAAlgCjAIgAQAAHANr/yP/i//P/BwAkAD0AUQBUAEkAKAD5/9b/p/94/4H/xv8aAGgAnwCYAHQAPwDr/6X/i/+l//n/WgCfAKsAcAAMAKf/YP9e/4b/1/81AHEAagAxANr/iv9y/4v/xv8GAEMAWgBFABEAyP+C/4D/o//P/wcALQA0ACIABADH/47/hf+r/+j/GgAvABUA5/+y/4X/dP+Z/8f/7v8TABQA5P+h/2z/Yv+R/+P/JQBOAFUAMwDx/5n/Zf9o/6D/+v82AFYARwACAKT/TP8h/yz/cP/Z/yoAVQBEAAoAvf+N/3b/kf/V/wYAKwA2AB0A5P+u/4z/mP/A//f/FwASAAUA3f+s/5f/r//c/xUAQwA5ABoA8v+3/5D/jv+j/87//v8cABwADAD3/8r/rv+w/8X/6P8RAEcAYQBnAEkAFADh/8L/u//E/+f/GABMAHEAYAAbAOb/uf+n/8j/CQBeAKoAywCiAEoA7v+p/5z/0f8qAJAAywDCAIIAGwC//3//i//d/04AxADxAOEAkAAdAMT/hv+L/8j/LwCVAMQAsgBtABkA0/+t/7n/7f8/AJAAtwCzAJEARwD7/9H/v//X//r/KABSAFkAVAAqAPv/z//C/9L/7P8YADoAUgBaADUACQDn/9P/zv/Y/+z/+P8NACMAIwAVAAEA7f/c/9f/5//5/w0AKAA2AC8AEwD//+j/1f/X/9v/4f/u/wMAEQAdABoAEgAFAPb/7//w/wgAJQA9AEgARAA7ABkA9//l/9P/5v///xgAMQBBAEAAHgD//+b/3f/n/wEAHgBEAFcAXABBABoA/P/l/+P/7v8DAC0AUgBpAGYAUQAvAA0A+v/t/wAAHQBDAFcAXABHACMA8f/G/7f/yP/x/yMAWgB2AH0AVwAeAOL/uf/A/97/EgBQAHcAewBaABsA1v+Y/5b/tP/r/zMAZwB2AFsAFQDS/6r/oP+4/+f/IABHAEwALQD2/7z/nP+b/6X/z//8/xIAHwAIAOf/yP+9/8H/x//k//z/AQD6/+f/y/+3/67/of+m/7H/v//E/8f/uP+1/7H/pf+m/6v/uv/H/9f/0f/M/8P/uf+t/6r/pf+1/8P/1f/d/9P/xv+y/6f/mv+g/7j/zv/X/9r/0v+//5//lf+a/63/z//x/wIA/f/2/+D/xf+1/7n/0P/2/wwADAAEAPT/3v/L/8D/0f/v/woAFAAYABcA///t/9v/2f/n/wEAEwASABIA///r/9j/1v/l//n/FwAoADEALQAYAPz/6f/i//f/FAA0AEAAQwA7ABkA9v/X/8//2f/v/w4AJAAlACYADQDz/9j/xv/T/+v/CQAgADIAMgAbAAMA8v/j/+X/7/8AABcAIAAiABwACQD+//z//v8DABMAJQAyAC4AJAATAAgADgAQAA4AEwAZABIADQAMAAcAAgARAB0AIgAtADEAKQArACQAHAAdABoAJgAqADMAMQAwACkAHQAcABwAHwAnADAAOgA8ADwAOwAwADUAMAAtADEALgAvAC0AJgAnACUAIgAuADAAMgArADIAMwA1ADwAPgBEAD8AQAA8ADMAJwAeAB4AJAAvADIAOQA9ADkAOAAuACUAKQAvADgASgBGAEQAOwAwACoAHwAcACAAMQA2ADQAOgAyACsAJgAfACMAKQAzADQAPQAzADEAKgAlACcAKQAtAC8AMAArACkAHQAZABUAGAAXABoAIAAeABgAGgAcABEAEAARABIAFwAZAB8AGAAYABIABAAFAAQACgADAAYABgD5//3/+v/9//z/+//8//b/+v/0/+v/6P/p//H/9P/x/+7/8P/u/+T/4P/c/9n/4f/j/+v/5v/d/9r/1v/X/9L/2f/Z/9v/2v/d/9b/zv/H/7//u/+6/8P/uP/B/8f/wP+2/7D/rv+y/63/r/+3/7f/wP/B/8T/uf+y/6z/qf+t/7H/uv+//7z/uv+9/6z/pv+s/6//tv+5/7n/t/+8/7j/t/+0/67/rf+0/7X/tf+7/7j/uf+8/7z/uP+6/8D/wf/F/8j/xf/I/8r/wv/H/8f/xP/A/8H/v//B/8j/0P/R/8//zv/N/8v/xP/N/9D/0f/R/8z/x//I/8f/xP/G/8z/0f/T/9X/2P/R/9X/z//W/9X/2P/e/93/6//j/9v/3P/W/9D/1//c/+P/5P/t/+//4//g/9j/3v/j/+b/6f/v//r/+f/5//b/7v/w/+3/9v/0//b/AQACAAQABAABAAAA//8EAAYACgAOAA8AGQAcAB0AGgAZABkAGQAaACMAIwAeACAAJQAqACAAKQApACYAJAAiACQAKgAtACgAMAAzADgANgAzADEAMAAyADQAOAA6ADsARgBHAEEAQwA8AEEAQwBFAEYASQBFAEQASgBFAEgARQBRAFUAVABVAFEAVQBWAFkAWQBXAFkAXABiAGgAZgBnAGsAcQBwAHAAdwB6AHsAewB+AH0AdQB1AHsAfAB7AHcAcwBvAHAAcgBxAG8AcABwAG0AcAByAHAAbABwAGsAaQBrAGwAaQBpAGQAXgBfAGIAYABeAF4AXABaAFQAUQBKAEwAQQBFAEoASABIAEkASABFAEEAPQA6ADoAOwA7AD4AOwA/ADgAMgAtACUAIAAjACUAJgAmACYAIwAeABkAEQAPAAoACAAHAAcA/f/9//z//P/4//P/8f/w/+v/5//p/+f/5P/g/+P/2f/V/87/zf/K/8L/vf+4/7f/tv+0/6//rf+n/6b/nP+a/5n/lP+R/5H/kf+G/4X/gv+C/37/ff+C/3//gv+A/4D/gP+D/4X/f/+F/3v/e/9//3r/ff97/3v/ef91/3T/dP9v/23/eP92/3n/d/9z/3n/eP94/3b/ev94/3n/ff+B/4H/fv+D/4b/f/+K/4r/iv+R/5X/kf+N/5f/lf+Y/47/kf+M/5P/lP+Q/5n/lv+V/5D/lf+R/5P/lP+N/5H/m/+Y/5r/mv+X/5n/lf+V/5X/m/+c/5n/l/+T/4//i/+U/5D/j/+O/5P/mf+f/5//mv+a/5r/oP+Y/5n/mP+c/5D/mP+j/6H/q/+r/63/sf+x/7T/tf+y/7n/vP/A/8H/xf/M/8z/zP/V/9v/3v/g/+T/7//r/+3/8f/v//T/9//7////AgAEAAcACgAEAA4AEQAXABsAHAAmAC8AMwAuADAAMgA1ADoAPwA9AEQAQABGAEkASABIAEgAVgBXAF8AXQBqAGIAZABoAGUAbwBvAHMAcQB1AHwAfAB8AIEAggCJAIgAhgCMAJcAmACcAKcAqACoAKkAtACsAKwAqwCpAKgAqACvAKoAqACtAKoArACpAKsAsgCvALMArwCxAK4AsQCpAKgAqgCmAKsAqACnAKcArACrAKkAqQCjAKEAmwCeAJcAlQCXAJkAlwCMAIwAgwCBAH8AeAB4AHwAegB1AG8AbwBrAGgAawBrAGIAZgBqAGYAZwBnAGoAYABgAF4AWgBWAE4ASwBDAEEAQQA7ADoAMQApAC0AIwAcAB4AGgAeABAADwAKAAUABwD8/wAA+//7/+7/7f/r/+P/4v/d/9f/z//L/8f/wf+//7f/sP+x/6T/pv+e/6b/mv+L/4v/f/+D/3f/dv9+/3j/dv9t/2n/av9s/2z/aP9s/2z/bf9n/2f/X/9h/2D/V/9l/1j/X/9c/1b/Wv9P/1n/VP9R/1L/Sv9R/1H/T/9P/0//Uv9S/1P/Vv9i/1b/T/9U/1r/af9n/2j/bP9t/2//ZP9k/2f/af9q/2T/a/9q/27/bP9t/23/bf97/3n/e/97/3v/hv+O/5X/j/+L/4v/kf+Y/5//oP+j/6L/qf+x/6z/uP+3/7b/xv/D/8r/x//D/8j/xP/T/8//1v/b/9f/3f/X/+H/4P/b/+3/4f/k/+//9v/2/+z/8v/p/+v/5//n/+n/5v/u/+P/6f/z/+3/8f/u//D/6//o/+v/6//2//H/7f/w//f////0/+3/+f/7/wIADAAFAAYACgAKAAwADAARABEAFwAdABIADgAPAA0AFAAdACIAIAAcAB8AHwAiAC0AMwAyAEUAQQBOAE4ASABSAEsAWgBSAF0AZwBaAFkAUgBgAGwAdAB7AHUAdABzAHEAfACDAH0AdwBxAHUAdAB3AHQAagBxAHIAdQCBAIAAdwB8AHcAfgCJAJMAnQCZAJAAkQCLAJYAigB9AIAAiQCLAIoAhwB9AHsAeACFAIoAoQCYAIoAigCZAJsAoQCmAJwAmwCUAJwAoACoAJ8AnwCfAKoAtAC2AK8AqACiAJ8ArgCtAKwAqwCZAKIApACpAKsAnACeAJYAnwCiAKYAnACSAIUAjQCHAI0AgwBtAG0AXAB1AHIAcQBxAF4AWQBcAGgAcwBgAFAATwBMAFMASABEACYAHAAYABQAKAAXAAkA+f/7//f/BAACAPP/5f/T/9z/2P/Z/9D/tP+n/57/m/+v/6D/oP9//37/hv+V/57/i/9+/3n/f/+L/4j/gP9y/1P/Wf9V/2r/a/9L/0L/Of89/07/S/9J/zP/Lf82/1H/Qf9A/xz/F/8S/xP/N/8s/zD/BP8M/xD/Mf80/zH/Gv8g/yf/Of9R/zv/S/8h/zT/Kv9T/0//Uf8+/y3/Sv9R/2T/Vf9R/0D/VP9a/3n/bf90/17/Vf9l/3f/jf99/2X/Xf9n/3P/i/91/3j/Z/9k/3r/if+V/3X/Z/9f/2L/ev+E/4L/bv9M/2H/f/+J/5H/bf9v/2X/dP+O/5r/mf+D/3j/g/+k/6f/uv+M/4z/fv+i/8L/w//C/6b/qf+q/8v/zv/H/7D/vP+r/9L/4v/l/+X/xv/e/+v/AQAEAPf/9P8KAAcAKgAoACUAHQAMABoAFAApACoAJgAlADoANQBWAE8AWgBrAHEAfwCGAH0AjACMAIwAoQCGAJkAnwCuAKgArACXAKgAigCxAMMA2QDLALIArAC5ANoA1wDgALcAvQCqAN8A1QDjAMEArQCzANkA9AAZAfQA1QDRAM4ABQH4APoA0QDDAMIABQHyAOMArgCKAIgAuQDbANoAwgBxAH0AfQCxAL4AoQByAFcAVQCTAKsAkwB+AD4AVgBkALcAvACcAH0AXwB9AJ4AngChAIMAaQCdAKEA4wCnAIoAYQBxAJcAxQDjANEApgCRAKcAsQDWAK0AzwCXAMcA0QDkAOwAtgCnAJwAuADfAPEA3wDMAJcAvACyAN8A0QCzALYAggChALMAmwCmAGkAYQCSAHsAtwCfAIEAbQBOAGgAiQBtAHgATAApAC4AHQBXADgAKQD//+b/+/8TAAMABgDm/8b/1//P/9b/sP+f/2r/d/9r/2//cP8U/yn/+/4B/yb/Cv/X/uT+lv7V/t7+u/7U/nb+sf5d/pz+e/5W/kv+G/4U/mX+HP5V/jP+5P1m/vP9gP4x/hH+Gf4b/jT+dP5I/lX+Lf4x/mj+Rf6+/mv+s/6d/sb+Cv8S/yf/Jf8T/2P/gv+J/5r/dv+Q/4v/y//R//n/4//G//n/EQA6AFEAEgAyAEUAWgCoAH0AagBLAEEARAB7AE8AaQBDACAAQQA5AFQALQAUAOP/FQAAABwA1f/E/1f/gf9k/0n/iP/8/hr/3f7c/gn/B/+s/tv+gP7i/vD+6v7g/pD+ov5q/uX+qP7F/pj+bv52/rr+gv7Z/ln+Pv5t/kz+2v5y/p7+Bf4p/ij+Pf5g/mT+6/0+/tH9Sv6Y/hz+j/7c/YX+ov7m/gD/9v7g/jT/If/N/9n/7P9JAPz/CwEXAYsByAGmAQgClAIRA60DFAQYBJIEpQRTBZ8FIAZGBn8GzAYoB9kHwAcLCK4H3Qf5B4QIdAipCIgIbAg5CCEI9wfKB7UHPAd7ByQHLQelBiAGZwVcBbkE4gSGBA0E9gM3A8wCYQL4AVwB+QA0AFEAtP+8/yH/QP7P/RP9u/yA/Aj8z/ue++r6HPsq+gz60vkD+VX5TPk1+XX5HvnE+LX4hvio+GP46vgD+Ur5ovmt+fD5/Pny+TP6svo5+wL8Pfz8/Av9iP3K/Zb+iP5n/y4AcQCoAfABWgKpAgYDNQNDBIUECgYeBhsHXQduB3QIeQg5Cb8JrgqLC1EM6wzaDZkNYw6GDgMPYRDCEOURUxKKEu4S4xIgEy0TJRNtEw0U1hMSFLQT0RK3ESgRBhDKD+sPiw4mDskMJQvECegI+QasBaoEjQOwAsMBLQCB/pj8yPkI+e/3/fYG93T0vPN38jXvT+8w7YfpY+uF6d/nGukf5r/kEuSN4EXgZuEh3sPfaN/93DHeMN3R2uPc0dpG2oXegt3+3f7ggeCL38HgSuHB46HkFugx6mPrm+xo75Lu+e6k87LyZPXk+9D6HvsMArD81P0GAkIBgQOCBlQI6Qi/CaMKyQrfCG8NVQwGDj8SsBEzEvoTMRSmEmcV1hbcF/IYMB1yHOkdQR87HmAfth/SIbMi2CTfJNckuyOBJAUiqSIjI6EhNiJFIc8fuh3BG+sYshcRFWUUqRIdEX0Nrwr+B9oEFgIJADP+z/sT+q/37vQF8Vzvr+vr6eHp3Ofg5obnu+LY39Tgm9zl2r7bQNuo2r3Z/Nof1+fTAdb30kTRgdWI0z3UJdfm0nrR9NFz00zPNdP/1ivWStlk2ZLXX9nB1tva/eAu3DXm5uZ45bDpQOcq6x7x6+7Z82j3jfd5/Fv6LQDuAKsBNgXGBZMITgkyDN4QiA0GDpMUPxOyFR4WxBm1GoMYmRtDG6QfniXAJVomaiWzI+Ql2SaLK5Eqci1ONXgvJS/MM0Iwhy3sLaAvFTIjNX02sDGrLjotJCn1KPsmuCWvJs4kviPZHo8crhrYEsUNJw7NDYgO/AsdCXcFrP9O/gH70/VK9T74/fJJ8/f0Hu6t6x/qpN684YrmCeHa5EbkwNur25HaCdSe05LVK9g+0zXWhtT80AfQeM+ryZfMP9MA0YfOedW50nzHv9d30b3KVtl82zrT/t8T3pTbAuCs3hXg/t8Q7EvssOt58SHzSe0a9jv2M/e7+6EAGgK8/YIG7QWnBVMKJQmSClURcQwcEDUR8xD7Fk0R2hTKFnsRDRczGMQUmRv9HAwc/RuFGsocthxsH+IfCCEeJnEkaCRkJvAkrSY0KfwoKCzNK8QvszD/K6QuEi7CLD0tcy0GLnUuXSy3K5InLSbtJBwijB5JHVMbrxhWGMMTwgxOC/oKu/7aAcECUPxj+Y78DvCe7bPxw+Yw5YflN+Tt34zi8N8X3XnWFdys0rLNj9fc1uPQGdNc1t7MOc1wz7jLzMUn0eHQe81C04bRCcuHyVLJbsjbzrfZq9kY0r3V9taezXLURdx329LimuRr5bDi4OKl5ozouOh/8Qn01vd8+VL1tPoc/JL7iP3xA0gG3ArRCwkOgA3LDE4LdwzQEk4SnRm/G64YHhVEFmkXmBXXGRkfySFkIa4iXh+tITEhgB6jJe0oQyqSLV8wki77LEAuVi9NL2kyeDeXOLc5zTmoNwc3KTU5MV80bDiLM0g02zOnLnYqZCm7I+ohRiHvGt8b5BgAFMwP4g0gAh0ATwPOAGT4f/sE/E3pBfX88R3f4ejT7AraveWO6yrXRN3Z2xXPQtfE5AraQtDM1rTUisZI1KjYjchJ1HzX7sv1zVLbXMltx/zWJs6xyqTcVtjewZraZ9sVytnZluL01I7cO+w02z/dCu934Hvcxfa27pPolPzR9S7uKPujAT/4If35BdwDuAGLDnYL6wPAE2oM+gipFiEZRhGWGMgaXhWsFqIZ4BsTF8EbOCIzH4Qd6CJcIF4bRSLAI8MkMSreK0QqRCd+LUosGClvL3Izki9kNKU4vDMxMQE2/TTXLUA3YTV2LxsyCTGgKcUozyvOJCUiRiUjHXAeZxtyFnYQ5RDyDNoDCAt1A+z8KwF7BGfqhv5g+Ure3fMJ8VLbB/C08PnaFt3F3MffEMxH32zgZc/d0+TaAslDxoLZLsw7x4bVadKMx57JwtZZvEHEL9uGxYPLitFY1+vE5M6C2vzP9c3R5GTOxcw64OLaoNh33hP0Utyl3iXxueYC1lT6z/LK5yD5DP4S9yft5//++/X1agEvDvj40wLbEiL8PwDqFMUIqv9LHkMSv/2QHioXbQY3F0kZcxPnGMQhDx2JGlAhbSCeGcoiQymdI/EmaSyMJ5Mnhi+GLvkr7jBBNdYwrzAYNeAw4S+1NVI04S0qNs4zDC7UL+sray0QJm4iMCOWIJEebiNmG/kVbxdvFJ4HxQVpEAcJGAD0/eYG6/Ej9+v/R+et8QDz+uHH5mfmb+Yv2/7cFeP4123S5OEY2BjFyts5ybjK1dEb1CrDIdXA26LB1MhJyyTMXbbYz9DYysjXySvc/sJqwejcTMxlz2XYW9hG1q3ZHNfD3nrWbeXn5/jarO9A82bg/OY89UjpyfBx/b345/mWBfb9TvptAq8CCQPXCLsGvRSADQERsxV8EHUVXxE8H0wV4BgHHgshzR4bIlEeuCFfI5Ae5SyuJkUqDjAgKDYnLjDbK5Mv3i37MO05zzOmNNI6OzLINvE1ozBLOLk8jDgDN79C2DPEMD032TOhKh40RjFGLswotSDVKnwcKCFFJBIYbhSBHc8Hiwf/E28APwVjAeb98gUk8A3+//XN2078EuDR5KzsFeK34jne+d9V1HLUbtU51hXHsNjn2QfBatF111e50M6m03/CQMqWzhnEs8Rn0p28xMwV193AIM2j0+TPxcVvzHvaEsg21jfifdRx3pLhwNdY4BbgAevV3GbxV/L13KH5WfdC6An3RgJc9A0EyfvjBCf84QC2Bu4CZhHuE84NZg8VE8oMchKbE/sc1BCRJ2ge2RrzJRMggh9XIQgkhiTkK9UjrTGYJe8x2i0+K9Q0Ryo1LtwudzVEK9gzzTGpMjkvnirSN3Yu2iLWNKEqmCBnL2srpChyIYEu7iWvHMsZ1SDQDqUUpyPhBYYa7hUGAY0FIQlyBnP48/nEBfXpg+9W/0nmeuag6zXlVd7Z1xfiN9lj0vrfHNQv1r3PXssCySnEb8oH0KjNQsgu0yjEobrDzDHD4rsA09TPncWkyszTT74qvVLUQcorySjTzODizvXLUdo81T7UHuHb32vXxPCE6IfVWu/t8r/oPOrl9df8fe/K+eEFgPuaAegMKf1XCKgN6gpBD2QP1BrLDt0UmB4+FTEcUiSlGr4fxyLxIrojWR7AK6smvyIfLGQrfCcXLWsnMChyMbIq/i2EL8cwHy70LTEpBy2OMqInZSuML3AvACsNLdUtnCfAJpIpmySQHSIrMyewHSElZiLXF9Ic4BwzDncalx2bClYSyBd1BwwJAwmzBxQDmvo8Bln7wvFr/Zz6VPN79sbvOOUn5njnkOTa4yvpE+WQ35bUJ9ps3RjUOdoF1aXR2ddR01jQmNaM09bREc07zK/QSNVzzYjV8twzz/3aDNyk0nfWfdpW2arh9d/T4oTqDuf24crrcO046azrtu83+d7wafyLA6P4m/PhAW3/5fgvDQILRQrcFJAMZgaZEDUSxAmvENUb4RsQEx0beiEYFOsWTxxPHlsbyiADJdIeVSDkJTUZoyDLJe0ZXh+xJ28qgRygKMwpJxkaGcIllRyRGEEqlCWIHXYaASHOE2gUPR/7FfsdJyLLE6QT9hoSEoEKHRD/EZYOlA90DkARvgoYB78HYgW+AB8AcP97/IICef1G/E37SfVH6zzymfFO6mjwJPM964nk5ut/54Di39oJ44nfldu15Wzev9wi37fSI9YC4VjXbdTv2frc3ti63BDandgZ1jjSHNrp4+jeOuGM4iLbbd6T33XqGOWp4jnvMewI50j08PO17avvC/cF8tn35Qc89ev/rAfc/Zv+7QVhChwDZQRGEGoNhApsFTQMCw/3FCYLcw4mGbMSvBEvG8QcJxXTEeQT2xUyGQwW/B1GHrAVpRWcFjwX+h1AGGgUdhmCF40RrRQbHxwY3BJeGYITyQwGGWQSugvBF+wWWw0BFPkVPQpLCw8QxgqNDGgSBQyBB20K1gz8BLIGygyyAjb99gVqAa8C/AYWAeb/ef9d+CD1w/+z+g/3hPz3+ab1n/Tf8CLvUPHi/Gn1g+ac+iL17eJc8LXp4Npz5Vjkp9586pD5cOi93JjqD9cUzM7ghuQk3pbnA+xh37vef+Nu3+ziCePG4PntOe6W5rTtIO/d8afwY/EY9aTybfK187r5mfhj/lUHjQZzBBQCA/4IAJMDrwWnCvcPPxYXCc0FOBTlCaIJ6Bj6DYgMvh2TEvUM7RkQFkkV+BgkGCAZzRhPESUUYxnlFVYdLyURGYIYKCEaEbIYGB3QF0ofxx/sH1Ac8R6zHWkXiRSHGqQclh+6HnMblCHaFwgPvhIyGU8bkhmfGh8YBhOoEWkQ2BNkE4sRww7ICpsHNAcaCCkHqQn7AZz8FPyRAp78GvUs/f73Fuz18jT31+3m8fXtFuNp6WXxmOR05d3m098B4g7bJ+AH5Jzcf9zg3ZDXjtrg3bDZZtSI1+vYptEQ37viR9hN2JbhJ9qzzvnec+dq1fTYpOXq4EPkE+OO4/zlq+uD59LjVfL78pjoQfL1/rP2VfcL+e76r/kE+Zf9dwSrC3MGDQrYDBAJBAU/DhQO2BNXJFIb/BtQI5YejBYtHoQbfB3QJnskwyRwKJwo8xq3HlYkhx9gHSkhbyGKJ8IniCEeIi4dbxy1GD8aSh8jItoc9B3yIQkdDxu1GR8ZMRRQFvoYYRjEGPUWHhNiDsAR9A0fCo4MKQlhAusCewTHA1gGDfcl9uz3XO5h7RzyUflX7zfpGOgK5ynhG+Oi4HPdNONq4Kndb9w53V/T+tIN0pbRu9Pkz7DQKtI0ymTOus2exEXTgMwCyVPLP8q51DTRXNCW1GzXD9fv01fVy99X5bjd9N9H67LtN+TE8IT1d+2S9Hv2zvjBBFgGUvyqAksIAwhtAuQK1RKxDiEQWRVDFrwXhRoLFdgb6R7WHssiUCWPJJ0kvCTyJo0qUCkbLvIvaywaLxczFzQYMxYx1TNsN7Y39TkDPEE5KjjUNkQ2XTn4OGY2JjceNs0w3TBRMk8ttihZJjYleCOmIZIfdRsrGCEUogylCQ8M3AapACYAQP2j+Nb0ou476VnmSODW3wbiWN573ErZdtMOz+3MxM0BzPfGL8fWxrTIo8gyxS7Cjb2Evhm9WbsdvQm/1L77veTAfcGGvf+8D7+swLvEocn8y23NZ87AzZvPTtYt2Z7aK97C4U/jpeZt7XDxP/Vk9f74U/6pA0YHcQkuDH8NIxEqFoQaPh0yHjId+h6hIdwmcityL4kxeDEyMxI2mDpGPZQ+B0PBRz9LC0/7UHxTqVTyVJBXSVqVWzhcL1yiXFNbc1v5WhtXflIDTsRLkUh2RPY/iDzuNgsxbCu7JF8fIhihECwKWAYVA0n8JPaT8fTqjeZN4mzbA9d6037QA81kyhnJy8XbwHi8urlEuE23sLKLsfKx7a7/rNGrgKnypX2jWqFOorSjsqNxo9ajNqO6nxGimaeHp5Oovq0rsla0d7XFukbA2sH0xgrMz9Dn1tXc/eJN5nfrkPEj9N33hv6fA5sISQx2EU4VxRe2GxEd2x5NIvomWSoQLQIyjze0OE06/Tw0QP5EEUpPTrxS1lbhWHRbz11UYIVj7mWnZMZlZ2fPZ4tmlGQcZLRhw169WlRXXVMMTi1I9kGTPHU3STEBKskiohwfFjoPmQiUAuD8dfgE9D7uveoh5nLgZ9yy2F/Vj9G2z3zNcslryEfGjcFVvea4xrYTtcCyRLLwr4Otu6oKpx2mxaR/oduf6Z/Yn26fyaCLotSh26DOoYajbaTXqI2uIrMXuNu7I7/rwnTIZs/t1L7bsOM+6AjtLvPj+G/9YwFFBhEMtxHRFeAZDR9hIu4jeiXTKNcsFDBsMwI3UTxGQBpCEUUcSExLTk7+UBxVBlnnXSth72NsZpxnoWfCZn5m7GcoaXpoYmc3ZMJhv15PWsJU0k9MS6VFKD/0OTg19y5nJxgg7xiHErsMHgYJAIj6IPeE8jXsEue14/XehNoK2J7Vp9LRz2DMcslAx6HEpsFWvsu7yrhjt++13LP2sVevlayKqsmn4qWFpfqkkaMRo6qjwKMapJKkr6UVp0KpWKthrguzXbhivNm/YMTRyPnMrtGr1lncHuMD6gDw8PPF99b8rgF5B8oNThKVFT4Z9x0nIqwm3CvHLjIx6TRNOD09GEOKR6JJuEwbUS9UbFfqW/5fzGJkZB9lHGbCZ3pptGiCaB9od2b7YrVfiV7zWyBYJVPtTWlIxEL/POQ3rDHBKhQkcR3hFmcQWAvEBa3/APk98yHu++hu5Cvgodz12M/UA9EnzRjKEcemw9bAQL1MunC3ebWZs1yx1q89rZeqoahVp+SlqKPCobygk6DeoSajkqNcpHykGKSQpAOn/6n3rc2z/LcovOq/j8OBx6bKzc9P1vTb5OG153ruofMX+Fb+pAJEBygLJBANFuYabB9wJKYn2SkALTQwfjTLOGc9DUHaQ3tHFUy+TxJUElieWqRcRF61YXZl7meLaT9pRmjQZl5lO2XUZMNja2HqXYBZ+lOOT1hLr0W6Pzc6pjQZLuongSHpGs4Tvgw/BoUAefu19brw/euW5mzh2dyn2LfTwc+/zLvJ2cXHwZ2/lbw8uf62DbVTspCvq602rJSq5aiup66lLaS9oqih9KHeoTKiMKLdor2jYKQPpgSo16kTrEWvl7Pet2u72b5OwrzFBcrbzzzWOtwh4UnnBO058uH3tP0MA6YHAw14EkYYCx70IRMlvCj4LAAxiDRgON47GT+IQutGNEvSTrFRxlSqV1Fbr16fYOBiGWXNZhloxmk2a5lrlWtia+pqu2nhZ9dlWWMaYR1edVoZVtdQPUtnRWc/GjltMuQrcCRXHVMX0RDSCaoCIPxM9WXuIuhN4q3c7NYv0T/Mr8cCw0y+KLoMtv2xp67bq3mp16ZrpFyi+Z8TnoWcAZuqmTmYfJcsl9SWrpYWlwuY55iamYyaxZt/nVOg4qOopzmrbK6PsUq1V7oGwMXFPMse0GDVFtwL4/Dp/fC29kr7HwCtBvMN9xNRGe4d/iH/JV0qQi/1M7w3eTquPX5B7UUDSp1NbFG/VPtXLFtPXm1h62OsZbFn62nIa5VsAW2AbZdtIm3ja1JqR2iEZUdiNF/SW8BXn1LRTDdHkkGkOxw1hy7PJwIhKhrgE6sNuwb5/+74XvK77A3nLeGM2zLWxtC0y3/HO8PYvm66PraYsnyvp6ztqUanRqSUoRqfE52Um4uaaZlqmLyXDpdulkeWyZZEl8qX1Jh8mqScEJ+xodqk26fcqoWuILMnuC69xMKKyKjNVdNi2UbfTOWe6+nxKfhI/k8ELgp2D70U2xlPH2QkwijaLBMx0zQTOd48rUCsRCBIu0tvT3pTHleFWpldAWApYvtkhmcFauhrRG3/bUNuPm5IbgJu7WwBa+ZoamZgYx9golyAWFJT7U30RyNCUjyBNlwwAipcI4ocpBVDD/8I5wLJ/IL2YfCA6sbkMN8f2grV28+yyhfG7sEdvm267rZBs7+vdqyJqeOmnqSVooKge57KnD+b85nNmNSXVJcllwWXPJfpl96YXJr3m/+dM6DYor6lT6lnrdmxjraJu2bA0sVPy+LQnNZt3IPiyOhb72n1dfsyAdAGNwzzEcMXcR0kIs0mhSukMMg1iDpJPzVDkEYfSmJO+1L+ViJaHF1dXwBivWT0Z5FqJ2wybbht2G7ib8lwLHEOcINuwWzMam9oxGWvYpBeyVmlVJBPTkq+RAU/KDnLMnMs6CV9HxkZ2xK3DEAG0f+U+ZDzt+0d6PvifN3E16HSxM1XyfLE4cASveu4GLWEsWmuYKtNqLKlAaOhoEyeRZy3mk6ZRJhWl3CW6JWRlbaVRpaEl/OYE5pAmy2dwp/polGm7al1rQSxW7VtugDAQMV5yofP4dTT2nXhwue37S/z3via/rsE5wq4EL4VCBr9Hm0kBSoqL+4zuzdcOyQ/7EOwSCVNh1CiU8BWI1rUXYhhwWTiZodoEWphbIBuT3AmcShxeXCHb3BuXm28a2hpSWaEYlRe+llpVXtQN0tJReg+Tjj4MdErmyVWH+0YDxJOC7UEkP7F+P3yG+0e5yzht9ud1tLRG81hyKzD976ZurO2MLOprxGsj6hhpT6imZ9DnWGbbpmJl+SVnJS4kzKT/JIfk22T45OSlJ6VOZcemYWbD54JoVGkGagdrJKwPrVGuii/QMS2ya3P3tXT29Lhg+dB7eXy8fgG/+IEGApCDyYUNBkxHh4j6ScoLD8wSDTBOEI9oUH5RQZK6026UVtVAlk3XJdfmWJWZT9ol2q0bEhuxW8QcbtxunGzcJJvG25sbG9qsGc1ZNpfO1u9Vu5R0Uz8RqZAHzqXM40tbicsIZwawBMdDa4GzgD9+vP0De8r6bTjZt5R2ZPUs8/Jyg7GmMGfvZq587VVstSul6usqCemy6OfoZyf3Z05nPKaBJpsmd+YuJivmPGYaZmHmvSbc50nn+CgW6M9pqSpa61EsVG1dbkAvivDVMjyzSzTi9gT3rHj4+mZ75L1GvuLAAgGRwuwEN0V4xokINQkpCnxLe8xSTaPOq0/LkRzSCpMfU92U2RXYlsmX6xhLWQ6ZvJoL2yZbqhwIXE0cTRxZXH9cZhxNnC3bYdqy2e2ZOhhG174WJtTqk1OSOdCQj1wN6AwECqGI1kdsReNEZcLTQX9/hX5BfOG7eXnSuIU3ZrXxtLMzRHJtMRvwJe8m7i9tBOxaa1hqounM6UPo42gRp4KnIqapZntmGeYkpfElnCWoZbyl2uZ0prvmx+dIZ8HorOlX6nWrDuw47NvuNu9hsPzyM7NstLU17bd1+Pu6YPv0vQn+s3/yAW0CzwRNRYQG9gf3ySUKTguijIHN2c70j8bRAZI4kuXT51Tg1dFW41eZmFAZE9nQmr6bMFu9G+YcBBxmXGKcRdxem8+bcVqK2iOZTViKl5eWQJUkk4HSYVDpD03N7EwGSrTI5MdShcPEYQKGwS2/V/3XvFi66zlDuCT2knV6M/kyunFPMHcvGy4QbQcsD+szqimpfCiPKCMnf6amZiylhmV15PCktyRRZEAkTuRyZHFkviTRJXNlp2Y2pp2nWug5aOqp8er669otCm5Br5Pw4nIHs6I0wDZpd525LXq5PAB9/78nwJHCM0NSBPsGPMdEiPaJ7ks3jGzNsA7XkClROhIw0zGUOtUyFiyXPpfkmO8Zqhpi2xybmVwMHHLcQhypXFdcStwx271bGVq82eSZAlh8Fz+VzFTfU04SJ9CwzwoN9Mw1CqhJFQeYhjqEd8LlQVW/3/5ZvPw7U3o7uLc3WjYfNNKzm7J+8RswIy8SrhhtJyw7KwiqmGn+KRgon+fKp3dmoaZkJixlymXFZaulaGVQJanl76YLJojm4qczp6LoVOlzKhkrOevc7P0t7a8I8Kox6XM7NHQ1ovcnuLS6Ebv7vSu+hQAogWOC00RIRdjHCshDCanKuYvIzVWOjo/XkNuRyhLjE8PVFVYbFyyX7pij2VyaHZr+m3+bx5xdXGMcWJxQnHXcLZv7G1ea4lobGUZYpNeT1pyVedPC0pBRHY+zTjzMt8sgyYTIMwZvhPZDeEHuwGP+0f1au/c6arkwd+z2sbVttDjyy/Hs8KCvmW6ebavshKv6Kv6qH+mGaS0oWqfGJ0vm4CZYpiqlzCXBZfrli2XzJfVmE2a4Ju6nb2fDqLqpDqoEaxLsKO0H7muvXbCfMfQzF3SBtip3Tfj3uiY7qD0qPqmAE0GrgvVEPUVQRuuICMmgCvQMBM2gjvFQDVGUUvoTw9U51eeWztfxGInZi9p1mv6ba1vA3HacWhyOnK2cQRx8m97bp9saGqsZ2hklGAUXD9X+lF8TM5G1UDcOqA0bi5GKDEiLhwfFvEPpglJAwv9CPc58ZjrB+aj4EPbGtYR0S7Mbcenwge+b7kwtU6xya2CqlSnQaRlobmeWpwymk6YrpYylQGUHJO1krqSJpPGk5WUhJXGln+YmZoinQugLaOIpiCqAK5dsgK3AbwawSTGVMuM0BXW5tvq4f3nBu7R86T5gf+sBeoLxBEzFxccISFxJjYsJDLpNyg97kFoRl5LPVARVVpZ5VzrX6RixWXmaCpsfG78b3xwLnBlb35uh22MbOVq32hwZrtjJ2EkXqpa/lV/UIpKq0QsP006rzUWMc0r/CXZHwwanRRzD0YKuQQq/6H5zvRS8BDsUecQ4kncktYi0ZjMfchoxM+/vrr4tcexZ65Zq3GoSKUlojefFZ2HmwWaPJiOlqqUhJNskzOUopWglnmXSpgymdyahJxan/KiCqfHq1OwTLXruWO+y8LNxnzLLNGz1/neYOUe7PvxQfjU/RQD8ghDD1QW2RxlIx0qHjHrN4Q+/UOiSWRO6VPZWLxdYmI/Zpdp22tVbZ1u6G+6cM9wq2/SbkNtH2wkah9orWXqYgtgKV1zWuhXqFTlUOdLgEaDQew8JDkPNRAxVixCJ8MhNBz3FokSAQ6oCcYEVACV+7n2ZvG36+TlRuCn2jzVFtBFy4TGE8GfuxW2U7EfrWmpAKYPo36g6p0Am7iYzJbDlUuUAJP0kdiRr5Ksk7OU+ZV6l5qZW5sTnquhIaa+qqOu9bKlt++8lMHixW3KUtB81oncf+Eb58TsHfOF+NX9sQOSClARFxeEHOoiSSpLMWk3uTwzQ6NJuE83VJBYcl1wYhhmvWimalNtP29ZcPxvm2/6b5FvNm6ya9NpfWigZstj/V/hXEZar1YDUqRMXkgxRKk/YzoyNcQwZiz3Ju8g/hqmFlwS0w36CGIEOwBf+7f1pe9J6sXl9+Au24HVN9DZy6vGOsFcu6+2obJdrvapC6aLoxuhGZ6JmuaXS5YElcGSsJA4j/+PeZDlkImQhJEFlEWWYZjlmWSdnqFtpjWquq7Qs8a5LL70wu7HzM7V1G7ap9+15fLsH/OU+Mj8fwJJCL4OhRTXG8IiVCp/Lzo11joUQiVIskwYUcJWC12EYZhktWamaaprPW36bExuMG+IcFBvFW5lbDVrKGmRZu5jTmJNYK9cOFecUYlNZ0lyRdc/Jzu6NcMwvCpRJYcgPBxfF98R0gzCCO0EdAAk+8P1y/Cd63Lm0eDo2y7XUtKbzHPGSMGnvPC45rQSsc2soKhzpK2gyJ3omzua85dClbCSUpEjkPiPAo9Fj6CPtZGNk0mW75j+m9OeSqLQpryrbrFmtjK8psF+yMnN3NJg1+rdSeU67aHzOvkI/j8DtQiqDswWbh8EKD8tgjJuOBJBj0j0TYFRjFbvXB5j/2ZOaaNrJG1/bkRupG+WcPRxv3AqbxVt42seamtnimRPY7Zj1GJyX/BYTlMYTkxL2EdgRcJBvj24N4wx8StJJ08iFh13GNcUUxJQDvEIQwHO+sf0QfAJ6wvmZeDv2qPUT85tx3bBlrtutmWyLq+2rGGoGKT0nqqb5JhZl9yV9pTck+WSxJCBj1OO4Y4wj/CPxZEflCCYW5qZnc+fOKSlqKCtl7JPuF6+asQryeDNTNIA2Nneb+Vj7JXxYffj+yACEgnNEZ0aXSMxK+8xjTcFPWFDt0rsUopZd19uY8Bm3GenaORpbmwzby1xdnF1cDduVGshaChlcGTwY/xjvGHFXk5aDVVMT5lJHUaaRN9DbUHOPEI3RjFLKyAmRyLWILgf9R2tGRgUGw4aCJQC8P0m+3r4o/Qv7l7mVd5210HRq8vYxtfCqL4gub2yyKw6qFukBqG2nRec5JoHmquWHpMDkACPSI8ZkJ2RtpLvk3mUSZXilkaaJJ6pou6m6Kzksbu2dLkxvfjB3cgS0GDWEdwO4THmROr07uHzS/vUA4gNbhUpHRwk6yrFL040/zpBRRlQ41exW+BdfWCgYmtkd2a+avluhnGGcD5uh2sqaZ1mrGRnZL5lOmbqY+FewVmBVZxRcU0WSuFILkj6RetAzzplNc4wnCxHKaYnDyfMJEsg0xnxE+oO1wqvBusCq/+M+0f1SO225V7fD9pz1P/O9slrxQfAjblns0+u+akQps+i+6BdnymdQZnWlOWR+5AukbSRGJLRksCSyJLQkkWUJZeumsSe3KK9p6Sro65ssRS2Nrwjw5PI2c2j0pbY6t0147Xo0e8a+PL/Hwd1Ds4XPSGzKNcsYTKqOqBFxU00U0dXVFxeYGxijmNBZsJp12u7a/lqOms6aqhn32I0YGVf+1/PXqVb8ldlVYxTj1C/S+xGlkMnQnlBMkDkPaQ5cjS6LiArximPKcYnTCQ+II4ciBgUE8QMhAc/BIkBOv3/9o/vvuew31vYTtJ4zTnJN8QlvkW3RbGtrEKpdKV/oaaeBJ5AnfaabpaKk4GSQ5Pdk3CUJ5VOlc+VbZbpmDmbP554oWqmaquar5KxCLTEtxy+cMRQyvHOPNNe2Jncn+E25p3tg/VQ/bcENg5AGHMgpSODJl4t/zm3RqpO4VK2VVpaHV2SX15hdGWmaXBsfWzcaxVq5WYFYrBe615yYElgDFxbVzNTfFDgTHRIF0RCQSk/0T2AO/c4HzU9MFYr8yeAJ84nFSdyI0wfOxykGQIWJxEODacKKgi5BH3/Zvkg87zsreYC4SHcC9dG0RfLr8Tmv6a7uLd4sh+tVqk2p/Ck2KGhntKcGZzbmvWYOZdOl5eXgpi2mLiaE50CoNWhlqPepdipWa5Msku2Sbpav2bDcMffytvPX9Ql2VTeZuUT7Urz7PdF/r4IQhVzHnwhnyPKKnE4sUWmTaZQEFR/WZdeEmKiZfRpgW3dbSpt023ObiJtn2cJYxJiQWNPYb1b/1UFU0ZRgE2JR1FCyz4CO6c2VjP6MucxMC24JWsgxB/1IDUgNx2VGgkZBxc7E1APNwzkCsAI5gVDAqD+ovly8gzrYOXo4c7dddg20m3NoMgQw8m7IrZmsoqwAa4vq3uo8qXcooyeoJvXmumc153dnZ2c9Zzgnaaf9aDKopSm46z6sV20CbQWtSa6tr8AxWnJO8+G0vfS6tKl1m3d7+TP6jHw7vRm+kgATwg0EWYXcBsNICYptTQcP5FEtkY8ScVO7FTzWhtfDmMNZQFm42bqZ39oxWZDZLZia2MzY25g1lo6VvZSclA9TGVHZEMdQB480DZ2MuEvNC3BKPMjRiHIIEofIxxkGGMW9BRqE8QQBQ6RC5gJaAb0AVj9hflf9czvhepq5rviN9wo1ELN68lUxwLEb74WuQK0a7BgroirpadQozeiA6JOoeSfx58Vn4+dtZyWn3ik5ad6qBqqRK8ttOO2ALiAu4zAIMZGymjOhdJB1RXXbdmt3KvgeOVF6sntm/AR9DX4sfzh/00DFAoYFPobUx7BHbofBCfDMOI4iz4AQ0tGx0cDSQVNQlQyWpRbjVv9Xctgu1/zW1FZXlpMXO9bYFi2U0dP1EmFRdlDpkMzQYk7gTSZL6gtYCzcKfglmyGVHmcdlxv9GMIVChRLE9YQsAzzCR8KRwe3AST/sQAA//L29e8G7SPqfOY75VjkduEi2PfPuc63zTrKqMeuxofFK8Dot3y4GLuetgixtLMxuOK0068Rso21bLQFtau447xovZO9SsCRxOrI3MlNyzHQctN0033VatmH3Hfd/N8g5FfmsemW7GvtdO6f8kP0G/Yz+0wA4AFDAkoFnQdCCusMWBAkFKIZgR2GIM0jVie4KUUsRDGANng7ij+RQvdD8kUUSIZJX0ovTDlOPE+qTtNNyUxhS+lJCEiwRiRHIkc4RaRC9T8UPWc7YzthOlU4tjWnM7ww8iwSKrgphygmJRoimCBHHvEYuhN5EBAOLAupCKEFOAGq+qn00u8e6xfn4+JC3y7bGtYM0ezMrch4w92/Mb9svpy7JrkzuDO3+rSis/m0nLb8tgC3ELjZuWa7Krx5vW6/0sFoxDXHAMqgy+TNK9HW1GfXqdnW3GLg/eIG5cHnROqF7DTu6u978mj1eve5+F36zPxP/2UBUAN+BfYHGwocDMwN+A+pEsoUmxZgGOQZVxsOHZoeDCDeIZkjzCR/JbQmTihWKfgpByuzLOUtZS5eLtsuky9AMIowSzDxLxUwCjDlL50vpS7PLV4t2yzcKy8rMiriKGsnJyaOJH8iIyALHjUcHBrOF24UrhBnDcYK+gfuBK4BDv7B+tH37vQL8q3vNe0z6mznl+XI42HhHt8m3cza3Njn137W0NSP0/HSH9I40anQotDg0C7REtIw0+XTodTH1cLWEdgf2rjc2N434HfhMONV5VvnPenV62fuZPBp8uj0bfdD+Rv7Of07/xYBPgM3BZwGVgc1CE4JZgpjC0oMZA19DvkOTw9yEB8R3hBUEaQTeRQCFLUUsxWCFlQWBxYAFykYmxe8Fu0WsRckFyoWyRZ3F3sW4xR3FHkUVRO8ER4RqBDQDzcOTQzrCnMJ0wdABmEEpgIsAdv/iv6c/Jr6L/nT97f2x/UX9YD0uvMO80ry4fGs8QHxP/AL8CXwKPDZ72LvB+/H7qjuje477nPuX+868JHwsPAO8U3xb/Hl8dPyDPT19Fn1qfVI9t72PfcC+Cn5Zfpv+6v8mv1W/mT/bwBPAQUCVAPyBD8G/QZjB7kHcwhkCVoKUgssDOMMkQ02Dt8Ohw/dD3gQVxF5EhETBRMaE1sTCxTCFB4VQhVAFQYV9hQsFXEVeRX+FIgUBxR8E+8SUhKDEVQQJg8hDhQNwQsHClQIIwehBfsDOQJgAKX+7Pxx+wL6Wfhs9p/0C/O68YPwUe837mjtg+xa63LqyOlB6erol+hH6ALo3ufQ53vnROdk57fnHeiF6Pfom+ll6g7rdesl7GLt1+4H8Pfw+fEr85P0zPUB92D4Hvp2+4L8Cf7Y/6IB8QIFBHgFLAdvCHkJiwqxC68MqA2lDiUPfA9KEGwRBhITEqISmBPME8oTQRQcFZEVNRXaFBYVthW7FTYV7hT5FOUUiBQOFJkTWxMpE6ESwxEFEcMQVxBsD3MOnQ3sDOwL2ArZCb8IswesBiAFmgNvAvoAQv97/Rv81/pQ+W/3ivUo9Cvzt/EX8IfuOu077Pvqsumt6OPn5Oa35YPkwOMu48XiRuKZ4TThGuEB4b7gueBW4RTiXOK24k7jAuTA5KDltubp5xzpM+oh61fsBO637ynxifI39DH2FfjP+X/7QP00/ywB+AK8BH8GMwi6CScLxgyADgQQMhFjEuYTeRXaFtoXuxj3GUkbUBwHHcgdfR40H+ofSyB2IMggJSE5ISkhOiFYIRghciDdH4ofIB+NHq8dnhyUG6UacRkHGJcWLBW0ExESZBCRDqUMoQp5CEAGVQSoAp4ADf6a+7r5+vfC9Zjz0fEW8AzuGeyP6v3oR+d05eHjqeJs4Qrgud533WnctdsO24Da6Nl32XrZp9m82b/ZBdqS2ijb0duf3IXda94/30DgfOHe4m3k1+VP5/rov+pz7ETuQ/BX8kT0Dvbs9+v5Bfzw/cP/kQGBA1gFEwfZCLMKdwwmDvgPyxFAE5gUKRbUF2oZyRomHEYdSB5aH58g1SG8IoUjTCQkJcUlQSbqJmwnwCf9JzMoTigyKPUnqidhJ98mMSZ2JZ8kmCNuIjkh5x91HtkcKBtdGV8XeBWhE60Rew9DDRoL+QjVBpAETwIaAPP9x/uU+Wz3O/UF8+Tw3u7l7O/q9+jw5h/ldOPw4Wvg3d6C3VvcbNt12ozZuNgY2L7XhddW1zHXNtdc17HXPtgD2dXZltqC277cGN6F3wLhreJf5BTm7+fs6fPr6u3Y78Px4/MB9gj4AvoN/BD+/P8JAi8EMgYMCNwJwguvDY0PSRHcEmsU1hVFF7YYARoSGxMcFR0RHgYf0B+GIB4hpSEjIrciPyNwI2IjVSNOIzsj+CJrIswhLCF3IJAfkx6DHTYc1hquGYIYBRdYFaET7hFJELYOAg0tCzgJWAeqBesDDAIRADz+ePzW+ir5TveS9fHzTvKz8DLvoe1K7CLrxek76P3mD+Yy5SfkKeNt4rzhDuF94Brght803z7fFt/S3vHeOd9Z36nfG+Cx4HjhHeKi4qjjDeVF5kDnXuij6S/r++x97tTvWfEO8/H0//bH+Gf6Pvw1/h4AOgJqBDoGzAeVCZULkw1jD+QQURLOE1AVvxb0F+0Y6xkHG+obhBxjHTkelR7wHlwfqR8QIHMgOSDWH88fmB8NH5YeEx41HVMciRuiGpcZXxgiF9cVnBR7Ex8SahDIDlANugs1CuMIGAfOBNgCgQEnAFr+Xfxh+oX44faK9Rf0XvJk8ODu6u3P7JnrB+qS6A/oz+eq5nnlCuWS5HTj4OIB48DiFOKr4a7hfeGy4Q3iNOI74vXiHeS35L/kTOUN5y/o/ehv6hDsHO0k7q3uC/Ac8531h/ZW9yr5Fvu1/DL+aQA2AgoElgVcCCQMmw1oDrIPcA1/DxIgKyb2FccOzBHNEZwmDTPRFUwKRB90ID0S0BZSIuUewBYpF98X2xohHHsRZBGNHowdBxG5EngZ0xPzDIsQ6BL+EKoQFA65Cv0JUg35CyQILgdiBKoBGwWgBH//vgB9ARv7vvhW/O/5KvYL9Rz2B/UG8jfzEPHi6afq0exH6oXppufF5ZzjqOPL5QTlSuP14TTiR+Iq4iTk+uQ75bzmMuNX5YfrHefq5KrqvO+g7YzrBfFH8wvuv+2w8bf2t/Ub9Hj6qvho9jX8O/0l//cDkwBGAX4FlgW6BW8KMg3lCs4JAA9uEmoNIw/CFbUTBxCaFwEXAhVyGoYXNBJFHcwfPBWKHgse0gt3I+dBGyY8FtchfRj9BcQNeRlUE1gUIBlUC8oGAAyzAyn/ewNTE7oNaANKDJABb/itD6kWJwshC78WgwrD9ZECFQhyC/cadw1V98/74vQK5nnl0fBK9Ov3BPRh5eDeMdaN0pPPctQQ56jpK9p24aLdLtS92ZvXmdmr5yzvKO2z9Iry0uzm6v/sUOkJ8ocAMv8S+nH9zwAa+IsBwQDP8GP9yApl+jMFuhZZDa0KsBJdFsQLRQ5IDoMB2wimFxMMbQOaDMQGlfTX+/0AmvKzBm0T4AQvB3kLaQSuAroDuAcfEO0VRxqiG2oYog9cEMcN/QqTIccjSxYsHPwZixPpFjsP+ASYDG4WKxJIB68ReRIcAG/0A/pd//D7o/4m+hX2wPpY+FTrLfBa8ZbvQPL59wb3DO0e9nr7yub455IAKvOJ6uX1tfZV+OX7+/Sa8qL4YflU8ZPy6f08+Ar5FQLl+VX4oQMD+lnwy/LP9Cj7pADU/iwCgQdd/XXzAPVD+WH28v3TBUAF/AooC9YAOP+lBb8BYADnCfkMZQa9FVQW1wIGC7MSiwczBosLIAoNDLAO4RJ+CcIOlhfbBjkJ0hQSC+0HiA0HCgkQ5xRbFr4JdgNRCEP9Uv92CXkMvg0cDxYJ7gJt/Tv9Avbt9YUBxQNJBYz+7/vK+qL0qe4g8tf0NvgZ9wT2Hfi38/rzJvN475rujvDu7R3z8+8H64H0KPl29db1qvat8SDpD+bU8Aj0xfiQ/nv8SvjG9z7z7e3k8vX4S/ZL+34DsffM+TH/Fvce89n79P4a+nX50v5l/DD6gwTdA0wA4ALGAnz8Wf+qAuoBIAKgBjQGMgaFCnwGMgEMAtEDoQF4BPcL/w1IDAcR2w2qBxAHjgQCBCMHnQhCDc4Q6w/UDAMJWAWPAUsE7waRBs4HoweEBn8GCgWDAWj9eP0U/iL/ewODAvL+ef+s/Jn5hPdD+Gv7LPjo+FL/FvuN9r71l/M79tr5gvus+Z723PWV83ry8/Wk9bf1aviz92r1fPWv9IzyD/S6+Q/7hPxq/g39avvO/joC7wHTA10GeQkxC0wOrAxbDBAP1w+aEKMUARbmFVUXQRjBFw4XahawFE8UUBM8ExESfBLyEdQQNQ+sDNEJYwipBiwIYwoQCpkITwanBDwAXPxG/Gf9SfwB/lUAIP8N/Rv8PfhO90H16+/x7ULwyvSo9DT1VPXg7qvoxOa95IXjFeMA5ifmv+ar5l/hm90822DaOd3v4EbhueED4djgfOAW4j/iDOGs4Q3ks+fn6ivsRe1w7yHw+vEX8jnyV/Qp9z77lv+5AqAEvgN3BhAJGAk0DcUPWhGLFKEZpyC2Ijsl5CmjLPYwgjP4Nh069TuHQAFE7EXpSMVJ5ElASGNFrUJPQKdAsj5vO4E5bzVrLygoayI0H5QZLxWlE54PzQrEBjUCz/z695r28vKO7zzuJey26Xrnn+b35Y7k1eM/45LibOGl3PvYcNVi06rSl9KX0tvQc80VyEvDlcBuvRa7wLnruLK5lbjxuUm5v7W7tKW2xLoGvu29JMDjwnfEXcrCzffPedXk2d7e9uTy6L3reexD8J/05vmeAt8HTAucDd4OJRJMFP8YSSGUKXwzIjzpRdVMG04LTqdMJU4uUrtWmV0KYTZknWYFZZxiTl3hVm1R8Uz0SQVI1kViQi89KTgMMa8qhya1It0e5Bm/FN4Q2wwtCSAG5AOZApn+cvzr/KD70veh9OfyS/Fl8EXxufAi7tLrTeo857Phj94027HWK9Ow0JTOCctLxoLBurwmu1q6g7YSsxmxz64frF2sM61brWSv/q9qrnCupK+NsZWye7Q3uBu8ncEIxtvHd8p0zMbNF9FV1kfbQd+H48Hm+enl7qj0xPdJ+kf+qQLMBC4HFQtDEKsXVyAKKLYxdj6lReVIHUsPTuVR1FQaWbpdSWPGak9tJmxFauFn0WMhXKlUqVDOTYJKQUXmP8E7lzbQMEIp9CIJHsMZpBVGEt0QFBBEDcEKqwl1CJIHdQXcAggCOALXAp0CoQE9At4B7AB7/qT6B/cz81PvmOqC5Szi6d3x2H7U1s/EyunE+8A5vXO5abXbsWCwXrC+r9ivcLBVsbCxOrBUr6qvwrHDs2W23rfpuWi8HsBlw3vF68juzWvSP9XY137Z+txp3lPfr+JT5wPrIO/F8Xb00Pdc+fH6AfvM/AwA+gOhCt0S+BuVJ2YyAjs+QflFD0l4SvZNCFN+WLBexGRDakZtxWwVaVlk/2DXW/RVzVFyTklLG0jTQ1Y/lzpwNV0v7ijjI+If6hxdGiMZahmJGe8WwhJWEJoPew3lCfgHRwimCRsK0QiyByIGDAOn/2H7fvZ08kPuruo15nDhf96E2nXV98/vyybH/MAFvaG6GrdJtS+0JbTztcq02bHjsaG0K7MLs7S26rgrugi90L7JvzfCxMKBw5nHxcu1ztfTm9lM3Xrf4eFh4+7jyeQQ5gXpzO1Y8174CPxEAVYEXwToA4UDeQRtBbgHBwwXEoAZNx8sIlkmBijeJ0Yp4yuFL0I0OzoyP3pDWEeDSYFJe0moSfNJxkktSWNJNEmOSE5HeUUIRWxDtT8YOwk1by8aK5gmIiP7ITghSyBsHoAatRSNETkPOwr/BuMDHAD7/o39BPum+7H7Rfv++ff2BPUh8qfst+Z25Y7lf+Tu5q3nyeLl4RbfkdfT1TnU78yNyoXLd8a6xa3L2cmcyRTOmsmcxxPLUMn0xabIjchoykPS5tfQ2D/a7drj2eDblNz13nbgiuJg487kcOgG7MDutfCw8Yf0lvnt+Rn7RvmH9/75zPt7/e0AawPwBCcFoAG+AAEBiwF5AxkGUgexCDcLIQrkCVwL1AwID9MRmxODFfUXKBppHZUgLyT9JrYpiSsJLdUtBi3PLR4vzy9BMRczIzRRNOsz5jItMZwwJi/SK3EpbCc8JRskcSPaIY0f4B38GToWkxPdD00NFAwdClQH0gTNAff/Qv02+zn6TPkd9wP1p/JW75Tr0uiK6ADp2ulG6DTlYuPm4d/bd9sq39veut9f3yzZCtgx2CrUTder3N7db97Z4MHdvNuq3BbZrNYq2RPartuV4cbmv+dr5zbqJek15cLhKN9+4Hnl1eoM7lv1e/3u+zr3+vV58+fz4/RX82L3w/uD/+IAlgHwBBQHgAZ6BJQBjgF6Ak8CGQXPBj4MbBH1EbwSIBR3FNgV+hcHGYoahB/hJBwojS23Mvs29zm9OW04cjhaOcw54zq9PlxBQkIIQj4/IjynOOQ0HTHGLA8pmyWgIScelBviGTcXwRPKD9UJCQRT/0H7qPh99wv3XfWM8uTw+O+L7uzsBerK50bnxuWu5FvmNuc15ZTiYeBK323eE9s31tbUxNWi1ITT39SW1VfToM9gzsrNYcwoyZXCBsH/xR7Hl8iS0FbTstTo1rLS88/X0CTPIc/i1L/aZ+FK58HoCere7tnxevOS9SP0LvJ58OjvQ/GM9av6dv6+AfoEhAVrBc4EXAFrAOkAJgIyBNQHlgzaEV0XmBy6ILUlCioELXkxszUHOsE8gkDFRMBHj0uOTiRPxVDlUDdPMk7QSxJJcUUzQWw8gjevMtUtOimsJW0iph5zGWkUXhC3C5MHgwPD/1/9Cvt3+Qf5mPii+b35ufdr9jz1HvRX80LyBvIz8u7xx+/O7DHsy+oF6Ojmi+RH4fPe5NqZ1hnUMNL6z9zNYMxlyovIvccDxhTFq8UvxrHGMMZBxZvFLscsyRnLhs260NzTv9YD2WfcbN/x3/HguOLj5NjnguqL7RHyGfYC+G359ftb/Qj9Vv3//eX/9QERA1cF6wfxCpwN/g+4E9kWPBmoGwod7B/9I5Yn6yyDMlY43j1fQU1EPUblRqJHokdrR6lHPUd3RoxFUkQ6Qnc/cjxtOGk0VDAzK6ElWyAwHCoYuxM4EIYNPwpvB7AEnAEZ/538ufmP92j2zfX69eL1F/Z49hP24vV09Uj0kvOT8hnxke/Y7Xvs7eoK6TXnWeUr47vgyt0e21jZGtdn1D/Sl9A6z3DO180czo/P19AT0ZvQzNB80Z3RydJJ1QrY+Np93SPgmuNL5wzq0et17V3vcPGT80X1A/eM+H75zvru+4T9UgBAArADKwUbBuwGZge/B08IcQiUCMgJCwsEDR8Q+xN6Fwsbfx/5I4Qo8SvfLRcwgTLwM2A2qTiqOlo85TyLPVo+hD5yPWI73zcQNGQwyix+KBwk5B9aGx8XUBMuEFEN2Qn+Ba8CCQDh/QH7xfdy9XLzh/Gi8Gvw/PAh8tDyh/OA9G/1aPYi9hj1VPQn8+Tx5PDH70Dvwu5z7eTrKeqQ6BvmveKK32Lcb9m513nWlNU41SjVkdU41k3XndgS2QDZIdkS2ZrZ8dq93N3eXOHG40DmGOkH7Brutu8A8cLx6vLf88L09fa3+AT6wvwA/14BlgTWBbsGKAi3B7UHQwetBe8FngUZBdcFkQZzCCEK6AqkDG0OnRDHEswTphWxF/kZjxzPHo0ikyYGKiwtbC8hMho0MjQ9NM0yFjGYL2wsQSrdKBknxiVrI+Mg8x6mG5wYvRS/D+MLgAdMAzwAlP3t+8/6Hfnx92L3F/fl9uz1OfUI9dX0BvV/9SL2+Pa69zb4efiL+OH3nvb69InydvDh7pbsVupM6CrmmOTt4sPgQd9h3THb+dkQ2cPY+tg32fTZUds63anfleF7453loudF6ojsLO4/8OXxMfMk9cD2/vhD+zb8Wv11/nn/ggCZAGQAQQAEADsAi//m/gf/Nf5d/Yr8fvtI/Mf8aPzr/M38Ov29/Rj9Tv1t/d/8ev3z/bD/KQMDBtMJ/g0wEkEXeRsyH1EiNSQCJrkmgifjKIUp5yqYK/4rqy3dLc0tqy0+KyIp6SUtIYEdeBnxFfMSjg9sDXsLnglxCIcG6gQ2A2cAy/1L+0P5BviK9sz1BPZt9+P5d/wo/4cBCgNrAw8D7gElACz+hfvo+En3BfZ+9TT1FvTF8iTx6+5z7OfpFefu46/hLOAW39PfyuCu4Q7kjOUp54/pAuuG7JHtmu3i7Ufuyu6674LwLfIA9KD1hfcG+Tr6T/up+/X6V/rM+Qv5gviX90v2oPXe9OHzmvOQ80bzT/Pv8v3x3/G08W3wTu8z7oPt2+2G7g7wcPJN9XH4Efvo/eUAnQIfBDIFYwZzCPgKtg37ENcUuBi1HHggSyOkJZonKCjdKEQpGikeKZwo3icGJ0QmgyVQJFEjECJMIAofwBwCGoMXJBQIESIOPQtcCUQI8wcACE8IWgnfCRkK0QmHCFkHnAXnA5YCsQGMAXgBkwHNAcsB8wEWAe3+wPyv+cf2afQg8sHwAvDQ7/fvAPAs8H7v/u3m6wrpeOYB5DLixODu303gGuF24uHj0ORg5iPnGOfP57nnRegF6Ujp4OpG7HLtxe767szv/+8779DuBO2u69Pq7Ojv50PnoeZM563na+hL6R7qKeso64brpetM69frreuk6xLtku4C8aLzqPWH+Fv7m/2e/xwBWAOlBckHuwoJDo8SYRelGyUgWSSZKCYsii4lMQwz0jSjNlA3wjh1Ogk71zvYO307bzsxOlU4DTZKM6Yw0C1VKyEppSaXJBoiax9EHYYa9ReJFW0SHxBFDoAMLQuVCQAIiwaxBLUChgBe/uT7X/lr94T1OPRu80TymvGz8DDv1u1J68ro8eV64q7foNwa2rLYKdfR1nLX8Nc82VPaMNsF3Pfba9uM2nPZhthd1y3XGNgL2dfa7tyT3gThWeLj4dThxOD73v3dEty62oLb8dtv3SzgpuIA5kjoXOnO6hvrVev26tTpmOrZ6mHr4u1171ny7fXS9736L/3M/gsB9wFHA/EEmgbRCX0M6w/AFPsYFR44I3UnDC3kMdA1dDk4PEI/4UGFQ/pEH0aRRwRJh0lgSl9L5UuZS0dKfUiyRhxEY0C2Oxg3vDIcLqcpMSWZIcIeSxtKGGgVWRKnD7cLigdTBMcAPP79+0L5Y/hc90H2jvWK8wfySfD97C3qreYn4/bgsN0m2y3ag9jl12PXT9Vf1DvTlNCSzlrL3Mf1xcvC5cCXwCzANMJNw0XEl8efyB7Klstgyj7LgctqymbL4suVzU7QYdIR1sHZF94P4vnj/OYG6QzqdetE60DsG+107SPvyu+O8qr1bvag+cf7Cf09ALUAqwF3A6EDHgXsBQcHZQmCCm8NcRDkEskXUxtAH10kCCjMLNEwvTOtN0o6bj3aQHlD8keWSxdPLVOpVT1Y2FlzWelY31a+U1BQDkwbSEpE9EAIPRg53zXSMZku1yqIJqMjnx7IGvwWCBEbD3EJVwLC/934tPbK9/3yOvSV86fvYPGA7dDr++3C6crowubz4hTlMeMU4G3f+tvn2BLVdtCGzbPKVsd2wiy/XL1QuwO7zrjnt1K4HLXXtE+0FrKXtDK04bKXtcC1/LfUu9+8QsC5w9HFb8nWzMHQhtZS2/PeaeM957zp2uzh7jLv8PC48brx7vOa9TP4f/yX/rwBqQWwB5cLZw61DzETBhX1FUQZtRsdHwgkECimLU00PDrUQHZHtkxWUktXVFrqXSBhaGLPZOZl0WUaZwtmamR1Y+pfRF0MWqtUX1H7TOlHTUTOP9s78zjPNAgxry18KSAltSCLG6MWgBK8DUkJ/QVSAnD/F/3g+d737fUe867wtu2/6hzoS+Rz4C3dINkZ1S3RvMz7yBbF/cCUvSy6Z7cQtYaykrAlr3utCKzpqoKpgahCqJqnfKeeqHOpQKszrQOvVbKetGW3aLuKvYrB6MUkydDO5NJj1y3dYeBD5Z7pD+zi8Ljy1fTx99j4xPsl/cz+RgIrA9cFjQhiCe4MnA6OECgTDBQ8Fy4ZAxsYIG8j6ihZL6o0ojxTQ6ZKuVEtVvxb1V/TYeVky2W5ZkRnb2bQZUxkA2OBYTteU1sQWOBTyk9FSyJHF0MSPwA7TjY8MkgutCnuJB4gxhu3FrkRTg3VCCcF0wFK/iP7Qvif9e3yPPC67VnrsOhu5Urilt6r2h3Xa9LNzajJAMX1wM68GbkztumyJLCAra+q5KgFp5alFaTVogSjVKIAotOiWaOSpNulZ6cJqhStibG8tXm6zsD6xcfKyc9h1CnYzNqM3pvhGuQv6BHr2+4x8xb2l/kO/Lb+qgGAAhEFpgdfCMcKUQw/DgURzhIMFikY7hojH/khySZlLJ0xQThdPlRFwUtaUaFX1ltFX8Vir2SUZu5nKmiYaKBno2aiZJJhA1+7W7NXw1PxT79MMUkuRslD9ECmPn87qjfAM6gvDyutJUMgbBsjFmsRfQ3pCbQGAARPAWj+ivvp+Mv18fF27mzqUOZT4jHeDtrS1d/R5c0nySTFf8FTvXm5wLUVsraukKuaqOOlaaMHolegxp6anvCeR59OoLyhG6OxpEunJqpjrRuyo7a5u+LAUMbzy5jQNtWU2Q/cIN9o4v3kSejM60vvEfNw9h76Tv3V/+wCXwR0BRwHtQhICjQMVQ7pEEcTPRdPGxAgcyZKLXM07Dv6Q9ZL4lICWW1e3WFaZA9mk2aeZptm7GXtZFxjAWLBX2pdVFtNWI9UPVH5TT9K7EZERHxBbj5dO8w38TPwL7ErRybQIHcbwBXdD/8KwQb0AoT/wvxx+m740fZg9T7z8fBG7h3qxOUx4VrcKtcj0lbNZsgexOvA5b2Nu3S5CrcjtDaxgK5Bq0Ko+KVXo/Wgmp/enkCf758PoU2iiKOCpbWnbaphrjGyULaPukm/G8UryjfQQdY721zgguQE6PjrBu8l8rb0V/co+oD8rf9vA6wG6AnfDMgOjxDiEcETMBWbF+wash6XJF8sOzVKP1RJolIdWsNfKGQzZo1m0WVfY9df9lz8WYNX7FXkVLNTAlKaUDxPwEz7StFIuUW/Qsk/jTz3OBY2xzKMLh0qayVoH5oZLRRBDn8IPwOk/lz6xfYc9Zbzk/Kg8uPx0/Bq75jte+pA5vDhhdxa1ifRN8yTxxjErMFrvzm9/ru7uvS4dre2tfmyLrDVrWyrGKncpxinBKaFpWmllKU6pv+nqqo1rRKxJ7Yiu/PAdMdozofUfNon4PXjiucL697sn+438GDxd/Jt8yb2Gvj7+hb/9AFIBQoJEQxBDw0SNxXDF5EZFR0tIBYkLCokMJg3TT/yRv1OSFVtW6hf1WF7Yz1jEGIlYYpfq15BXWJcwltrWpNZ2VcaVUJSU041SidGNkI/P/w7QznRNr8zpTAbLaQo5yPqHccXAhG/CtgEXP8R+1v3QPTZ8RTw4+4G7u7smutQ6bjmbuOT37Tb1NeZ04XPt8v3x53E3cElv3+82rnitge0P7G/roOsRarqqNGnBqdip3Ko86lUqxStFq8LsaKzKbfTuie//sMJySTOJ9R02urfEeVJ6WHsOu6I8L3yvPS39+P6ov1gAZ4FyQm8DY8RyhQlFqUXmhiwGGwZrhqMG0YdVh/jIs0mYCzsM2Y6AkL3SFhOHFODVhFZMlqfWWVZCFeEVRtV31OzU0tTuFJWUUVPxU0DS7tH+kSuQAs9JjoiN9Y0TjLmL6Ms3iewI9sdgxeuEawKNATO/XD4GPRH8Jru3Oxx66zqG+l+54rlQ+NR4J7cEdk/1UHRWc5my5zI1MXwwv+/zrwjukG3VLSmsfmurqx8q8mq86oCq8+ru6wTrdWt+62driGv06+0sda0lLmov07GJ86K1ZvczOLM53fs3+8m8gj0TPWB9vP3mPks/LH+pwGsBLMHFwvmDogSghZmGYQbsBwIHcYdex4MIMEijib6K+MyLDutRHBN01T5WV1czlyJW9hYJFYGU41Qn05eTYVNDk4HT3xPcE62TJBJ10W3QUg9cDl0Negxoi6RKw8peyYdIzkfFxosFK0NCgd6AEr64PTg74Drm+ji5qDmPecv6MLoYOjO58nlyeJY3wPbR9ZQ0RHNq8lHx/LFL8RowrbAYL6eu9+4f7bgs2qxBbDbrq6uca/AsNmxEbPls3e0rLTCtd62arifuwG/G8M2yPTOidZ43YHk3erx7q/yzfNl9Lr0Q/Xz9en2Xvpq/7wEsgtUEsMXNxxiH2sh+SHHIm8iiyGPIcoiNSTsJ2csZTGUNh49l0MeSfFOiFO0Ve5WuVZRVT9UrVOmU+9S/lOwVKlUKlVoVFZSKU+GSkdFtj7BOXA1nDGOL9UtJyyAKl0oSyUYIQ0c9RXgDUUGC/9W+DLzEO+66zvpGefS5W/kmOPo4uLgwt7v2+7YWdb20/fRl89szUzL2cjixsXEpMIvwP282rkEt+u0UbOkssCyO7PuswK1vbWrtrq3ALg6uAS5Sbo7u9m998EvxgrL6dCK1lPcU+Ky5+DrKPDS82T1Zvcg+qv7jf2LANIDDQcwC14QNhRnGL8boByDHYAeGh54HXwdDB5qHYsevyFgJdMq6DAZN2097ENqSUdNllDyUndSnFEBUSpQGlBvUO9QCFF9UNNPl00tS15IC0TsP6E7jDdQNMIxqDDoLvUsIiu4J/4jyR7dGHYSSwvyA1z81/UM8arsWOkI50/l0+Nm4hPhJ+AE333dP9uY2HvW4NOB0XzPec0OyzTIV8WWwpq/5LwFukq3XrT3sbmw6bC3sayy7LMatfi1OrbDtS62SLaetTq10rUouaS8c8KPyYfRttn54P/mv+xg8Vn0aPVp9qb3sfet+Wv9GwJhBwsN+xGdFpgZWRyKHa0exh6oHLYbYhyRHe8fkCNaKfwuOzQ9O9hBukmCTyFTMFUZVp1V2FPQUlpTW1POUghTo1M+VDRUQFMSUYdNn0jTQhU9FDkVNZUxWC+oLYUrKylSJ+4kICH3G9YUKg1MBVL9AfZH8Ansyedy5LPi5eGe4SHh6t9W3grcONkV1vnTa9Kn0CnOMcz5yZjHOMVSwmy/vrsMuJO0o7FVsIGvra5Rr/Kv1bCXsTyz4bRHte61N7YKtmW3hbkPvKXAlcYJzTXT0dpj4lfoZe5u81H2Fvns+rn76PxK/xUCKwRNCB8NixHaFi4cCSDSIsskQyXIJCAlXyWUJcYnJSsEL5Az4Tl3QBhGqUscUA5TWlWfVfRU+FMLUzBSZ1C8UH1RgFH8UYZR01DiTntLvkfKQkQ+yDmKNCYxJC4AK4colyXjIpAeQRknFHENwQY5AGf5RfQH767qYOds5PLiC+Cm3fXbatkp10DUG9JV0NbNG8wEyh7IH8cnxTTDOcHSviy8l7j7tZWzmbA0r/KtCq0Nrk6vxLH8sqq03rXXtO20T7QQs5Wzq7RgtzG7ucDyyCHQfdk24rzoUO8P9KH2Yviy+OD5efnl+bX8G/8GBbQLeRGYGOkdfCJ8JJ0kYCYlJV0lxiU9JsEoNyzIMKc2YjxgQ/tIqE3yUlhVR1f5VxFX1VW9UxRTD1OBUv9TN1TOVIZUS1KaT8tLC0gsQ5g9WzlZNeUxQS/vLAUrYSgMJSMgdhpIFGsN4wWm/j74TfLf7TXqP+e15Djitd9G3CTZ8tX/0mjQ5M0bzHHKpslYyK7GBMXMwifAjLxWuTG2NLO/sJKuL63NrAmtW63oreKuoa8isNGwXrGxsRiyurIvs5y0V7f+uonA/sYxzmPVFt2S5HzqfPDO9FH3Nfhl+Ar5VPrz/FcAkgQ2CqsP+xTwGn4g/ySHJ54onCg2KBko6igFK3subTInN6c9+kTaTKRU3VqwXzZh/GCrX21drFvTWIZXL1YQVXRUuFOCUypSH08zSzNGXUE+PAs4WDUbM1IxPy/7Lf0rjylYJTognhlqEQoJ2wDd+dfzk+4W6w3o/+UZ5FvizOHA39Ld5Np72InVX9Luz13NPstqyDPG8cMrwmLAjr2Tu5y4t7X0sj+wda+JrZmtAa7jrhKxarJgtW+3s7jEuV25lrlJuTu5ALvHvb/C8MfpzszW/94A5tLs5/Ig9+r6yfxO/9MA4wJLBTwHJQtUDugRSxbbGckduR9sImokriXwJ2cpaCymLiUxNDQ1NzI7Fz5uQR5FZ0jXS4VO4VGHVDtWyla6VklWDFXlUzNSM1GdTwFOckw1SoNIeEWMQl4/EjtEN8MyRi+TK7cnjiSnIAAdaBh6EzkOOQjIAfj6mPTl7uPpmeX04f7eEdxs2ePWb9RJ0u7PYc6VzF3LPso7yRPIIMbhw/DA5r3EutK3e7V3s7mxPLBPrzivVa8csEKx5rIptFO1V7Z9txS4Q7inuAy5SrojvMa/AsVjyzzSKtn435/mSuxJ8QP2nvmv/Ob+TwEyBOcGXAoGDt4RrhW9GBscaR/GIR8kyiWEJ8EoYCnEKicstC1xL0cxMDSjN5s78EDORspM8VGmVT5YB1kTWH5W8VPaUa9PEk5bTZhMNUwXS59JF0dsQzo/fTrzNaAxtS1WKkQnXiQsIQoePhpLFYQP5gjaAaf6t/Nt7bvnF+Mu3/fbgdlV11XVadNk0TXPIM01y6DJJsjyxt7FbsQbw0PBbr8hvUy6rLehtEmyfbCnr/WvqLAnsqyzCLVttlG3aLgiuZq5QrpGu/q8Mr/0wVbF/sibzNLQddVR22vhcucM7jf0yPnU/VABmQTuBugIIwvsDfUQUxNPFrgZthwKH8ggHSPaJHMmTyjEKvYsfC7ML4cxjjOONQU4OjviPmVC/0UjSr5NC1A9UX9RJ1F+T8lNWkwoSwtKqEjcRwtHuUXpQ6lBGD93Ow43qzJ1LmoqoyZjI14g7xwVGRoVBxF4DIsHfAKB/Tj40fJE7jXqaeaB4v3eItxJ2cbWE9Xc0+PSatHYz1nOasxnym/I7MZ0xbvDLMLwwN2/Br9UvhS+B767vcu9er6Cv77ADcLSw4XFesZzx1vIxslKy7fM5M4a0a7TWNbF2RTeBeLC5f3oHez17mzxOvRg98X6C/4iAVUEJweHCcYLZQ7CEPYS5BTgFvQYkRqMHAseQR/QH9QfnCB8IcUiSCRuJfYmuCc4KesqKS28L8cxATSONfU2mzdoOBA5tjlvOj07OzwNPc89qj7kPoE+zjxdOoQ3HTRYMVku7isSKS4mqCMiIfoeRBw9GVoViRBfC88FtADi+7/3JfTR8BLufuuG6YznseWx42zh794b3JnZOdfw1L7SZNAvzu7LUcpJyWnI6scvx37GjcWOxLPD7cKAwiPC/MEpwoPCCMOWw47E3MVwx+DIX8o7zGvO0dAs07jVL9hl2sDcmt994knlt+ct6n/s1u6S8Zb0w/cR+2L+KwKBBYsINwtaDWgPsBAZEmkT5xQvFo0XRxnoGj4cLR0RHtceah9lILQhViPdJNQmcCkfLDovwTFUNFg2BTjrOZo7xz1bP+9Af0KqQ6NErUSURHpDr0GgPyY9wzrmNyU1aDJnLzEsQyhYJOAfAxvnFb4Q+AvUBmMC+v05+qP24vJ574Lr8eca5G7gGt2q2fHWXtRR0pXQC8/dzUnM0spGyeHHpcZbxVXEacPfwk7CAsIQwg3CJ8IzwtbCrsPkxGLGwsdaydvKeswPzpXPNtHe0u/ULteM2Tfc/d4N4gTlK+gs6wbu2fDS8w73Vfp8/VIAHgPMBW8IFwuLDb4P0BG/E34V5xZGGGAZRxrLGiUbRxswG9ganhrHGnMbrRwdHs8fwSEFJIAm/ChwK6Ytmy+BMXIz8DVyOAk7Tj0QPzxAzEDuQHVAfz8XPlg8ezpCODU2TDRkMkYwli2bKtUmvSJBHgwa8xWNEW8NRAlkBakBLv4E+3z35vMA8E3sAOnw5Vjj9eD+3gTdF9tm2d/X1NbA1XPU+9JY0RDQts6/zdDMF8xty4vK98mLydfJI8pSyrbKJMvQy4LMac2mzsvPONE90nrTstQu1hzY+tlA3F/equDH4tTkNOeD6evrJe5N8LryD/Xx96v6av30/0ICegQ1BqMH3Aj1CRML8QvrDM0NdA7zDiMPng+zD98P+Q99EEwRyhI1Ff4X+BoHHighIiTMJl0pxSvbLd8v8TFnNJ427DgOO/s8fj41P1E/vT7RPW881zouOS83SDURM78way7RKwMpgiXBIdkd3hkKFjoSwQ5RC+kHrQSVAcH+p/uX+Kv1B/O68Hbuf+ye6uToMedN5W/jTuEp3+Hcydoc2XfXF9a21L7T8dIg0nvRn9DCz93OQs7uzavNwc3NzdvNLc7SztjPsNB60WzSqNMA1WbWBdiF2eLaFtxr3Qffs+DA4uzkRuej6Sns5u5X8e7zH/ZP+BT6cPvP/Pr9Kv/a/3sAMwGOAS0CvAJfA94DKQTNBEkFAQbKBhIInwk7C2wN1Q+QEnoVaRioG5oesCGXJIAnWyrgLN0vojI6NSs35ThcOi47yjvjO787Nzt+Ovs5EzkvOAs3jTW9M1MxyC7OK6coPCXXIcUenRuxGPIVYBPqEEIO8AuXCSQHpQQpAvT/o/2i+8H5DPg39kr0ofLS8PvuAu0N6wDpwObO5N/iD+Ft3+/dzNxz20raVNmN2NPXEdeV1iTW89XO1bnV9NUr1nTWxNYj14LXs9de2B/ZKtp02+LcX96Q3yjh6+L05OHmhehU6tDrc+0s793wtvIS9Cj19vXt9in4VPmE+jH7wftN/M/8c/0M/r3+X/8jAAMBDQKQAzgFFwcoCXgLBw6dEGsTRBZFGT4cWB9+IlklTChUK5ouxTGaNBk38zhlOo07jDxLPYs9ij0kPYE8nTtrOuw43DYyNBox8S2wKlAnIiQsIUIeQht4GMkV7hL+DxoNQwpZB4QE1wFP/8j8gfqg+Mj2oPRZ8jXwA+6Q6zfp+eaF5Bbi/N9e3tvccNv+2ajYLNeS1THU79Kz0V3QUM+SzvHNpM2hzanNlc2hzQTOgs4lz8bPp9DH0SjT2dSb1nHYKNoW3Evej+Cy4pvkfuZj6CXqHOwF7r/vCfE98ozzwvQc9kT3R/je+F75GPoK+038e/1//rn/PgFmA+gF0wiwC20OWhFoFMwXKBuAHrAh0CQcKJsrJy/JMjU2XjkYPH8+RUCIQWhC4EL9Qs9CjELmQfBApD8tPpg8cjq+N7w0ZzEbLt0q+ycLJQgiJh+JHBEalRcsFYcSmA+QDLEJDwd4BN4Bf/8m/cL6Q/je9U/znvDC7RDrcOiz5STjyeC23qTcn9qq2I7WYNRZ0pHQ4s4xzeDL18oHymfJK8kmyS7JUMmaySrKzMqZy4nMr83mzizQo9Em08DUfdZW2FzaUtw33hngAuIZ5BnmMOgW6rbrQu3p7rnwSvKx8/H09vXb9r/3wPjE+dv6/fsa/WP+xf98AY0D3gVICI8K6AxuD1ESRRViGIUbgh6VIfEkxCisLHcwATQTN/A5pjwbPytBhkKPQzxEuUQDRRpFA0V+RJBDVULfQAg/vzxqOvM3UTWhMvIvOi1SKoInnSTfIfwezRt+GBAV2xG8DsYL5wjhBfsCFQBk/bT66/cg9RXyBu8O7CDpWOap4yrhr95H3P/Z2tfs1RPUXNKr0DHP383jzBLMYsvmymXKHsrbyYrJWclwydvJM8q/yljL+8v7zDjO1c9t0frSt9SR1nfYXNp73Jfeh+Bk4hjk3+V95yHpvuo/7JHtwu4h8FbxnvL68zr1YfZM92r4lPnB+v37Kf2L/tD/cgGGA9IFSwi4CpANmBC9EwwXaBrjHS4hoyQmKLArOC+IMrw1sTiCO/E9CEDVQUVDi0R9RUhGuka1RpRGAkYqRexDR0IhQH091jrcN8g0iTEjLtcqYycKJLYgcB0IGowWThP+D8AMcQlIBjED7f/P/MD57fYP9BbxLu4264jo/OWZ41Hh6d6y3Jrasti01rPU4tL30DDPXs3EyznKuMiYx6bG3MUSxbnEqMSexNLEMsXTxaHGr8cKyYfKMczkzcDPy9Hg0/PV6Nft2fvbEt5L4HTikuSB5obomeqO7FXu1u9L8Wvyi/Pk9CP2OPco+DL5PPpu++z8VP65/x4BxAJ/BFQGbwilCvsMVw/1Ec8U0hf/GjEenyEOJXoo9itwL/AyUTaTOaU8rz9kQqdEw0aaSPdJyEo/S1VLAEtiSllJA0hhRldEBUKNP/c8HDoUN+EzgzAGLWsp3iUlIl8efBqRFt0SLw+kCy0IzQR8AUj+Pfs5+Ej1WfJl72HsXumU5t7jGuFs3sHbCNld1uPTitFSz0LNWcuvyTbI+cbqxQrFb8T0w5LDMsMNwyXDcMMkxAnF4sXnxmjIN8r/y9zNu8990VTTXdWj18XZwdvO3enfAOLi46zlXOf46InqDux07bnuCPCC8SzzwPQ79pL3wPju+Tj7n/wI/kT/fgDoAYIDRwVPB7EJJgyTDg8R8RMkF3oa9R1/IRYlqSgvLMwvczMGN2Q6ez1QQPZCekW5R8dJrktCTWNOG0+eT9JPqU8VTwxOpEykSmFI4EUoQzNA4TxDOXQ1vTEBLksqmSbUIvceDhtBF3UTkw+2C70HyQPc//f7J/hp9MzwQe3R6V3mCePf39/cDNpP17LUM9IN0BjOF8wrymXIz8ZaxRPEAMP/wT7B1sC1wMzADsF9we7BiMJYwz/ELMU8xlzHd8jdyX/LC82kzoLQXNIi1BHWItge2vfb4d3x39fhkuNV5QPnlOg86vDrke0V713wsfEn85z06/VJ98L4Hvps+wD9tv5HAOUBlwNyBU0HQglEC1UNmg/mEVAU3hZ9GSoc7h7fIekkACgUKyQuRDFjNJE3pTp9PSFAmELLRL9Gj0gQSjJL+kuCTOZM/Uy3TCpMW0s3SphIu0Z6RONBGD/tO4E4xzTPMMQsvii2JHMgPhwXGNwTrw+KC6MHuwOQ/3f7pfcF9DvwUezy6NvlZOLw3iPc1dl91+vUn9Kv0NnO58zgyjHJ2sejxhDFc8OswjfCYcGvwJ7A/MATwQ/BoMGdwqrDZ8QoxYLG9MfwyAXKhMsyzbbOG9CT0VfTT9Uu1/nYttqm3I7ej+C74rPkauZC6FnqjOzp7iLxUvN69Xz3hfl2+y794v7aABkDFQXnBuMITQvdDekP3BGLE0EVjRf1GUAcbh51IJYifCQ1JlEoXSryKzgt9i5eMW0zNjU4N4I5nTv0PAs+BD9DQG9Bw0GSQiRD30JLQwpEH0RDQyNC9EAhPzo9qzspOkE5NDidNl80XTHILWcpNSVMIvAgZR4wGk4cQCP/IBUZOxUpEiEKtv9q+jX4lvRm8Ajss+dv4jbZSM9cyJHFHcQ0wb6+XsJwy/rHq7vYuQG9obg3s3221Lxxvea84b5Vv9O+b7vhuZq7NrzcvCS+V7/HwJ3CNsSawqLC4Me0yHHJacuIy2DL/cqgzefQqtO82MjcpuAK5LLjQuY46ojtXvB086n6HwBmAgwGnwlIDNkLXwzzENATahhNHWAfTSGUIhYlJCcWKP8r0jBVNFU12jXjOGs5nDkqPQZBX0TDRnVJoktsS4hMM00+TMRM3k3/TxBQXk4MTiFNQUteSJ9F2kSwQso/NT2/OeY3LDVbMrIwxS0iKlslEiCfG/oWFBOiDz4MvAjAA8P/t/vg9uTyve7p6tznfOQl4RfeEtzx2MLTN9HLz8zMgMnExv7E1sHmvX27Krkut/y0ibN1s3Wxqa/drnSs0aqZqp6q6Krqqtqraa0kr1ywsLAjssKzlbVHuO+5krx1webFHsoIzh3TEdiZ2nbd79+Q4ofm1Oot8Kv2IPxeAbgFeAmRDU4RwBTtFvoalh8lIzUmJim1LIMwzzLONMo29DdlOSU6Ij0cQcxFd0uMUVNXo1tkXTJdOF3OXIlc0FybXs9fMmGbYX5gIV7IWb9Upk+ZS+lH3ERFQp1ACT7OOps2QjFwKwEmGiGIG+EWRhM9EK8M1gnCBpsCOf0q+Ifzou6Y6s7mBOSF4djfKN4o2xzXDdPbzg3Ky8QUwc2+6LtCucS2S7T0sL+tr6o/p8SkMKNloSCg3J9pn/Se2Z7wnu+emZ/ynyyga6LUpRWpjq1PssK25rtVwp3HCcrrzDXRJNYo24fgy+VW65Lws/SH+O78wv9EAeUEcwsKE24YCxx5HzAjfSYmKSIr3y2WMdA2kzwNQkVH60tsUeNWVFuWXq9hDWRAZcplJ2dVaaRq0mp6atJpqWcOY6ldiVjaUuJNzkkqRvVC7D99PF848jPTL68rRicyI4of5RwiG2YZrxZLE1gQzwzoB5kCuv2O+bz1EPIO76/s4+lD5vbhqt2Q2RDV6dAezHTH3sOrwHS9frnttbizV7KFsCiu76vqqf6m06TRo2Kjq6O9pBymxqY8p3mnTaa7o1ejNaXLqI2tw7MbuhDAl8XKyE7K/8sFzxvSaNZs3Ffju+mL7x70y/eT+zD/JAKlBFYIlAzbEJsUKhj8G7ofKyPgJt8qcC9CNNo49T1/Q75KvVG4VjNaYl13YB5iUmKGYnhjJWTkZHplMGWtYj5fTFt5VrJRD01fSClErUDMPV87fzhVNTwxLy1SKYMlpSHZHXYaeRe9FPIR/g52C5cHwgK5/fv4AfUt8crsY+mD59vlHuPB31Tc6djh1KPQ/8tKx0zDfMCVvpW8qLtCu1e6jrjwttC0N7JWsN2vv69Hr4qw+LJ/tPqyw6+WrSStGa3priCztLevvArDNclVzQfRt9P61UzZWt6T4m3lA+nF7JLw9vRW+c37Bf+aA5QH5QlXDPcOUxGgFGUYexvTHsMjyyg0LUAxTzYwOw1AHEXRSdZNllGtVFdXsFlpW0tcRVyvXNBcSVylWrJXz1P0T0hMykeqQrg+UTvSN5U0aDEGLnsqICfWI7cgwR20GngXoRQgEtcPhQ27CrUHoASLAcf9xPku9m3yqO5h6xfpxuan4ybg7Nx52ffVttKazzbMuMjixRbDZ8A/vl68UbotuXm54bqJu+i6BbmCt/W3zbg/uQ+6urt8vfq//MHCwV6/1b0MvhnAJ8bHzm7VstiF3H/hC+Ub5t3l5uUI6fPvHviV/g0DbAc1C14NNg5iD/oQMRJ+Er0TxheGHX4isiVBKK8ruzCrNdU4TTsRQCJGhUt1UJxVilmxWoZa6lmAWWBZVlhjVdhRaU/LTQpLXUZgQHI62jWhMZQsnCdYJEgi8x+BHccb4RkUFy0T+w5tC/8IEQciBPcAq/7u/EX6cfZM8qzubuuF6PHlXeML4cjefty22eDWUNRi0ePNR8olx/DE2MJvwFO+qL0hvvC9p71xvXq95b2gvhy/ar8YwA7B98Esw8jEUMUJxaXE3sT2xVrHz8hvyx7QqdXw2mbgUOUP6OPpZOxj75by4/ZO/BMBJQXjCB0MFA9wEeISmhTkFmEZohq/GxIeMyD3IeMjHCeBKxMwfzO0NtE6S0BJRb5JdE3yT6FRu1KRU35T5FKTUplSz1HvT+xMwEk0RYw/STn2M5EvHStbJjQiOR+5HBAaSRfUFBQS/Q56C24I+AXTA1cBuv5n/Gz66fcg9drxZ+4h60nomuXG4vTf2t1Y3LTaktiQ1sjUNdLzzm7LWMjFxb/D2MEEwIG+/L3xvbK+eL/8v7u/fb99wDDC7sKvwkPDcMXoyI3MRM/jzw3QAdHS0mPVhdhP25fdH+Ct4wrnHeoB7n3xA/W3+Sf/HQR7B5QJGAs7DaIQMRQKF9gZ5htFHcse7yDWIkEjFiOaI+8lkinULRwyITe2PN9C4UjoTftQqlGXUa9R5lEjUjxSLlLfURRR90+wTZNJfUN1PJI1Mi9bKeMjMh/rG4oZSheSFfATXhHDDdAJJwa3ApH/N/zm+M/2BfZa9bHzLfEa7mHq0uZw4+Lf2dyr2nPZKNlf2SjZ8te51YfSwM5Ty/3HPcTWwMK+Pr6Dvvm+X7+Ov/+/TcDOv1e/zL/SwLbB1cJxxdTIAMwezhvP+c820arSfNTC1rXZUd2k4avm+urx7Q7wTfJ49Ar3Ofqc/ZMAHAQRCF4MjhDRE0cWLxgwGhYcmB0nHxgh9CKuJEwmXCg/KuIryiykLV4vCDJONSc5Kj0oQcNE6kd/ShhM5UzQTGFM70umS+5KhEnwRp1DsT82OxQ2CDCZKe8jXB8xGwUXLRMcEHgNdAr9BpcDRAAN/cv5nPYP9B3yW/B37pjs3ery6PTm1uRe4uLf5t1s3A/bgtkR2JTWBNUp08DQN86ky0fJPceZxYXEu8PNwgHCz8EhwlDC/cE8wkDDxsQax5vJj8sxzRjPMNGl0lbTqNN/1FXW7tin22zejuHh5FDoiuuC7hjx1vNH9ur4Lfzl/84DSgdfCmYNlhDiE28W5RdHGesaJB1UH2khZyNLJRknWSgdKZYp1imwKX4p1ilCK2QtHjAjMyw2aDmyPN8/P0LDQ4VETkW/RfdFmUXkRL1DzkFtPzU8ZjibMycuXSgVI4oeShoSFmsSUw/GDDUKMAepAyUAAv0E+jT3ofRs8oXw5u5o7bfr/OmR6OzmEeU448fhr+Bp37ndI9z12uLZZNjS1rDVBNXv00jSq9Ctz/7Ov80FzK/KXcrVyoTL/8sCzaHOu9B80r/Ti9SL1R/X2thB2hXc/9544nPlZOd56S/sAO/W8OfxWPPX9T/4XPpU/Jj+ZAEoBOUGnAl9DFsPsBGME0kV2xZOGK0ZuBpBG7cblxxNHXwdhR3kHXYe1h4LHwMfdR8LILkgfSEXI84l7yhQLLsvBDMeNug4IztJPGQ8Kzy7O1g7TTqAOC82GjTLMeIuZCuUJ6UjXh/xGs8WGROMD/ALTwg4Ba4CXABr/Rz6B/eI9DbyB/DX7QTsx+pM6g7quul/6W/pTumT6InnMOb15H7jteGt3yHeNN1+3IjbT9oT2ebX0NaQ1VTUH9NH0uzRIdLX0vXTQ9Wv1irY4tnK26fdIN8G4A7hiOJs5Crmiuf46LTqquyE7uvv0/Cr8bry9fMd9Xr2HfgB+uv70P12/9UAXgKNA0EEnQRqBYYGjwddCBcJ9wkyC3MMCQ0sDTcNfw29De4NBg5dDiwPahCmET0TGRUWF0QZcxvbHS4gkCLCJL4mdChFKusrLy3hLSwuNy4JLnotWyzvKkwp2Sc1JnokdyJWIOodHBseGBUVGxIeDzoMfgk8B10F1QNGAoIAp/7W/EP7rPkA+Hj2VPWX9EP0IfTx84zz+/JY8lzxMPDY7o3tUuxU62Xqmenr6DLoSufy5ajkneO34uPhKOGs4MfgL+G84R/ia+Kz4vviH+NF45njUeRa5WHmkefo6JTqG+wy7entpu6G73zwNvEM8jPzovQv9oD3sfiu+aT6XvvU+9f7zfvH+7P7iPs8+x77J/tR+377w/sf/NT8r/2R/nX/dwChAb0CwwPMBMUFpwZyByUI3AiICUsK/AqNCyQM4gyuDWsO7g5+D0QQOxE9EgITyRObFJgVgBZAF+MXhhhRGR0a5hqtG5EcdB07Hg8f2R+XIDwhvyEnIlwilCK7IrYibCLZIR4hVyBtH08e+xyIGx0arRgfF1oViROPEYgPdg15C68J7AdFBqQEKQO5AT0Aev5m/DH6+/fL9aLzjfGZ7/3twezb6xvrZuq26TXpyOha6LXn5+Yp5lnlqeTu40XjpuIZ4r3hleGG4YvhkOGV4afhr+GT4Ujh8uB/4Bjgu99k3xPf6t713jTfZd+v3w/gq+Bp4RjizuKk46jkweXn5gPoROmb6gPsY+3X7nvwMvL18731ofeX+Zb7df1G/wsBvAJ1BBIGkgcYCaUKTQzqDYEPJxHPEowUQBb0F4MZCxuIHNAd6h78HwMh+yHgIs4j1iTpJRAnJiglKQIq2SqDK+srCCzwK84rmStLK88qPSqzKRQpVihsJ2kmSyX+I4wi4CAkH3YdqRulGYsXhRWGE3YRbg9fDVILWwmBB6QFrgPIAfD/F/4t/DP6Jvgf9hv0FfIA8PvtHuxP6q7oHeeg5SnkpuI14cbfOd6y3CLbntlK2C7XUtaa1SLV5dTw1AzVLdVb1ZfV49U91rLWOdfg173YttnC2tHb3tz73f7eA+Dy4PbhE+M95Ibl1OYu6JnpAutX7JHt2O4x8JHxAPOZ9GX2bfiY+tj8OP+nAQIEZQa2CPEKJg1VD4URqhPWFegX9hnmG7EdYh/lIEwijCOSJGclDSaNJtsm9ib9JuQm1ia6JoQmSCYBJrIlRiWuJAUkPiNeInMhgCCEH4Eejx2ZHJ8bnxqWGXQYPBf4FaIUOBOmEQQQVA6lDNkK8QjhBrcEmAJlACn+3vut+Zv3m/Wx89PxEPBh7rTsG+uF6QjopOZe5UDkOuNr4tDhTeHY4HngNeAE4NTfrN+M34Tfot/D393fBuBM4KngBOFd4eHhleJv42Xkc+Wi5vTnUum+6irsp+0h77HwZPIo9Pf1zvfL+c/72f3P/8YBtAOMBTgH0QhgCtcLLw1iDpwPyRDnEfoSChQEFfQV3xa2F2UYBxmfGQ8acBrKGisbcBu1G/0bKRxIHFccThwpHOgbpRtSG+IaXBq5Gf0YJxgtFxQW1xSdE2oSQhEwEBsPFw4hDR0MDQvfCZsIRgflBYMEHQPLAZMAdP9O/iD9+/vT+qL5WfgV9831kPRV8xTy1fCX72fuKu3k667qmumQ6Jvnw+YE5l3l0+Rn5A3kteOJ44Tjk+O84/3jYeTs5IzlPeYN5+3n7ujt6fDq8+v57AHu+O7r78vwwfG58rnzyPTZ9fL2IPhT+YP6sPvf/CH+Xv+jAPYBYwPNBD8GtAchCYwK9QtlDcIOHxB5Ec8SGBREFVAWRxcQGKEYCRlMGW4ZgRlxGUUZAxmuGE4YyhcjF3IWsxXiFPwTExMqEjcRURBhD3YOmw3KDAkMTgurChQKjgkDCXQI3gcyB3kGsQXfBPEDCgMXAhwBMQBB/0/+Rf1G/ET7QPoz+R/4CPcC9gv1EvQ081rynfH98G7wCfCw73XvWe9E7z7vQe9O71zvW+9Z70/vRe9H707vWe9p74rvse/c7wrwQ/CB8L7w+vA28X/xwfEW8nTy9PKL8zP0+vTd9dr27Pf/+BP6NPte/If9oP7H//UAMgJhA4AEpAW5Br4HrwiHCWAKGgvFC3kMDQ2TDQMOXw6fDskO7Q74DgIP/w4ADwQP/g70DuQOxg6gDmcOFg69DWcNCA2WDC4MtQsuC6gKCwpnCcYIGAhsB7cGCgZUBaME6gMkA1oCgwG8AO//Ff9W/rP9Fv2H/BX8v/t9+077MPsh+yX7Hfsh+xb7C/v8+un64Pra+uX63vrm+vr6Avv5+t/6wPqS+lz6GPrL+ZT5avlK+UL5MvlH+Wn5lPnL+SP6jPru+mb71PtU/Nv8Vf3U/Un+v/4w/47/7v9JAJ0A2QAMAUcBZwFzAX4BewGPAZUBkAGcAakBxgHSAekBAgImAkICYwKWAtUCFANUA5QD2wMoBFcEgASmBMUE3ATkBPQEAQUBBQUF/gTrBM4EnQRZBAgErwNDA8gCTgLXAV0B4wBnAAEAqv9C/+r+k/5O/gv+wP1+/UD9Ev3q/Mz8tfyq/K78u/zB/NX83/zf/Ov86vzr/N38xfyy/Jj8b/w8/BP87fu8+5/7avtF+zD7Bvvs+tH6xvrD+sX63voD+z77gfvJ+yz8hPzh/C39Z/24/fL9Jv5O/ov+z/4D/zz/ZP+i/9X/7/8BABEAJgAmADEAPwBsAJsAxwAMAVoBrgHyATICcgKrAtYC8QIDAxYDOANRA2oDiwOxA9sD8wMNBCAEGAQGBOsDxQOjA3gDQAMUA+sCygKUAm8CPAL6AcoBfwE2Ae0AnABUAAoA0P+q/3P/Tv8y/yv/Jf8f/yT/E/8K//b+4P7O/r/+nv6H/o/+l/6e/rD+w/7R/tn+5P7p/t/+1f7P/tP+3/7v/gn/Kv9Z/5P/t//c//f/DAAXAAcA9v/m/9f/u/+x/6f/nP+i/5P/gP9q/0//Lf8E/+/+0v67/rT+s/7a/vT+Gf9E/2n/mv+u/9D/4v/5/xUAIAA5AEwAbAB9AJkAwQDeAAIBDwEsATsBSAFNAVQBWwFmAXYBhwG3Ad8BCwI7AlkCiQKlAqoCrAKZAo0CcQJZAkICNQInAg4CGQIgAgEC8gHZAbsBngF5AVEBMAEcARkBFwEMASwBMwErASYBEQH8ANAAoABvAD0AEwDh/7z/ov+E/3j/Xv9B/0D/LP8L//7+//75/vL+Af/8/iH/Rv9G/3L/hv+f/6//pP+2/57/jf92/0f/R/8q/xf/Ef/9/gP/AP/z/un+6/7k/sL+uf6e/pL+hv6C/o3+nv6//s3+2f7w/vb+6v7j/uD+5/7S/sb+3f7v/gr/Kv9P/1//ev+i/6X/sP+6/6P/mP+m/6X/of+Z/6L/rf+3/7v/vf/M/8X/wv+5/7X/rf+s/7T/sv/N//7/HgA8AF8AhgCtALgAtQC+ALgAsgCxAKEArAC2AKwArwCzALQAtwCdAH8AgwBzAEkAMwAzACkAJgAoAC8ARAA0ADYAUQBUAFYAVQBLADYAOQBOAEUARQBRAF4AXwBkAGUAYABiAEkAPwA5ABsACADj/8z/x/+h/4n/ef9s/2T/Rv9D/z3/H/8W/wX///76/uv+Ev8O/yL/VP9X/1//ff+V/4X/jf+Y/5//jP9s/3f/hf+I/3n/a/+B/2P/Sv9Y/zf/Kf8O//L+EP8L/xH/Iv8l/0f/ZP+E/6v/tf/F//n/GAA6AEcAUwBqAHIAiQCWAJYAhgB3AF4ASwBUAEEAGwAJAO7/2v/E/6r/p/+a/3b/iP+p/57/ov+9/+z/+P///xQAQQBJAEgAfwChAK4AvgDCAOwAGgH4ANgA2QDgALoAjgCLAJ0AfgBZAEsATABRACsAFwADAAEAAADt/93/4f/t/wEACgAPACYARwBOAFMAdQCAAIoAegB/AKgAvACyAKgAuADBAKsAjQBtAGAAUwAjABgACQDp/9r/uf+k/7z/u/+0/9D/9/8GABwAJQBMAKAAlwCeANoA/QAQAQ0BLAE4ARcBJwEgAREB9QDFAMAAlgBpAFMAKwD7/9D/wv+q/2z/Uf9i/2j/X/9r/4//rf+w/7j/1f/8/xsAHgBWAJsAowC+AMwA5AAGAfgA0wC/AK0AdwBhAEMAFwD7/8X/ov+C/1b/Q/8i/wD/Cf8O/wT/Ef81/1T/av+R/8L/4P8DACgAQwB6AJwApgC2AM0A1wDCAJkAeABmADYA+//K/5f/Yv8w//H+yf6z/nr+Rf4n/ir+Nv4i/ij+S/5r/ov+s/7v/jn/f/+g/9v/HABBAF0AcQCFAJsAqQCjAJgAngCQAGYAMwAIAO3/sf9e/yj/Bv/a/rD+kv6e/qv+qf6x/tD+AP8V/zL/aP+g/9r/CAA5AHwAwADqABoBPAFHAVwBWQFFAScBEAEAAdsAnwBwAFEAIADj/8L/lP97/2L/Kf8//0n/Rv9f/17/g/+u/8L/3P8IAEMAdgCjAMkABwE/AV0BawF6AX0BhQFvATgBIQEGAecAnQBWAEcAKQDn/6f/e/9i/yj/xv6I/nj+d/5Z/kj+fP7Y/vj+8P49/4z/fv92/1n/X/+1/7L/zf8wAHAA9gAEAakAxABkAMj/gP9M/3b/jv8w/wj/S/9T/w7/3v7w/lH/Ev+Q/rr+6f7q/uD+6f5y/wEABQABAFEAtAC+AG8AfQDhANsAewAyAFUAfABDAO3/5f8aAPz/lf9E/0r/Z/8O/6n+x/4V/yn/BP8R/4X/6f/S/9H/MgCeAL4AswD8AJ0B6wG/AcABAgIcAvMBrAHCAQEC2AGfAZIBtQHAAV4BCAH5AAMBwgBkAGsAoADDAJgAdwCtAMAAfAAkAAAALgBFABsAOQCZAOsA8QDfAPUACwHeAIEASgBTAFUAKAARAC8AdgCLAGgAYgB2AGgAEAC4/33/PP/z/rT+rf4a/3T/lP/S//7/JwAaAND/x//L/5H/a/9T/3f/zv/c/+3/OwBtAGYAKwDp/+v/t/9f/z//K/8f/+X+nP6i/tH+0/72/jD/Y/+F/1P/Lf9N/1z/bf+V/9j/TACWANMAHQFlAYsBkwG4Ac4BxgHCAaYBsAG+AbkBygHIAbsBtQGYAXgBiAF5AVQBVQFOAUMBQwE6AWUBhgGhAc4B6QH5AfsByQGtAbIBkwFzAUUBJAEIAeMAtACQAGcAKgDl/47/Rv/5/pD+Lf71/cj9fP1G/QT90fy5/H38bPyP/Kn8yvzb/O38Iv08/VL9cf17/YP9hf1i/Vj9XP0//Tb9FP38/O78k/wr/Nf7YPv5+oz6IPry+bH5W/kK+cL4g/gs+Nz3r/eY94X3a/di93D3jfex9/D3RPi5+EL5zfmD+mX7WPxP/VD+dP+yAO0BPAOVBAIGkQcMCY4KKQzNDWUP6BBfEuETJRUsFjEX9heQGPkYGBknGR8Z7BiYGB8YmBf9FikWLhUiFOESWRGrD+UNBQwHCgIIHAZlBL8CNgHG/3X+N/3g+4L6Cfl698P14/MP8l7wwe4/7Q/sCusq6nLpvOgQ6F/ngOaA5Xrkf+OO4obhnuAZ4Lvfid+w3ybgtuBV4ffh0OKg4y/kteQm5a3lQebQ5n/ngejj6XPrPu1b76vx+/Mu9pr4Jvuo/TsA1gKuBaoIzwsvD8USiRZfGi0e+CHGJXUpxizKL5gyETUON484qzlwOsI6nTonOks5IjiRNos0WTLyLzQtGSrKJl8j2x8fHDsYcxSpEO4MbAkwBjcDewAI/vr7RvrJ+HL3QPZK9Wn0YPNT8mHxa/BL7/HtmexZ6+3pMehH5k3kPOLU3yrdQNog1/PTkNAZzZvJKcbBwpq/v7wmusW3v7VLtC+zWbLcseyxfrIxsy20uLXPtz+60ryovwXDCsc3y2/P7tO42OjdWuPh6Lru2vRS+0ACVwmOEOIXjB9vJz0vuDbuPQVFxEvQUfNWUFsPXxRiGmQWZVllEGULZB1iaV9GXKlYdVSbT09Kq0S/PpY4PDLSK2slTx+CGSQURw8LC8QHdQXUA/MCEwMJBHwFCweeCHUKPgybDXAOug7VDrEOIg4LDYELwQnKB2wFhgIe/0b79vZP8ifteOdy4VPbU9UwzyrJnMObvhe6ALZ/sr+vuq05rAerOKoCqkyq26qNq6SsPa4msF2yrLQWt9O5trydv6DCjMVuyHXLd85s0WvUiNf02pXePOIs5qzq6O+w9dz7iQL1CUkSTRt3JEAtCTbnPoZHUE/BVV5bUGBvZGZnH2n1aSNqlGn+Z21lOGJ5XvVZflQ+TpxHd0DHOKMwFih+H0gXog99CNcBOvxF+P310vSG9HX1yfcN+4T+zAE/BfYIYwz9DtAQbhIOFEIVlhU5FcIUNBQEE+UQ9A2QCrYGCAJN/Kz1i+5D583f5NfOz0fIzcEQvLm2CLKKrmWsDqsCqk+pe6m5qnKs862QrwyyQ7V1uFq7Pr6BwfTEIMjeynvNN9D90nvVkdeM2bvbH95X4GLis+Ty51DsTvGo9t38sAQpDhwYoSEDK/00QT+ISDdQiFZLXGhhKWVUZ4ZoWGmsaSdptmfZZc1jJmF/Xc5YZ1N6TcxGHT9kNhct4CMbG6QSfAomA0z9Ovnf9vj1R/bc95b6C/7KAYwFKwlgDM0OehDaESIT1BO1ExcToBKLEjYSBhELD9EMWAoaB6UC8vxb9i3vX+cL32XWus1LxWW9erbUsCqsJagspWGjsqKEoo6i8KLFo/akUqbmp52poKsYruKw5bMQt2m64b1+wfrEPch4y3vOa9EN1CDWCtgj2l3cl96J4fXlpuvF8YL4IgH3C8cXyiIoLSE4tUNZTnBWiVz2YcpmImq1a1RsqWyJbKprZWoGaTRnbGSpYCNcuVYsUIhICECJNuwrCCEBFwEOSQXL/OH1uPEI8Kfv9e9p8an0/PgC/XcA9AM8B0kJRgpdC9sMyg1wDcUMKA1qDjAPtg50DSQMuQpQCB0ESv6M9xrwBOh035zWn83lxC69tLY5sZCs2agMpiSkGaPHos6i6qIko7aj6KSwpp+obaqFrK2v2bMpuDW8RcC9xIvJKM4S0j7V+NeX2uTcj97O3zThCuND5W3o5Ox28sz47v91CMAS5h1NKLUxQDtSRZpOwFUNW7pfGmRuZ5hpJWtWbBhtW21Gbels+Wv3aZVmJmL8XLBWC09rRhc92jJpKPwetxbQDgcHlgB//Iz6u/kq+Tr5j/rH/Or+qABtAhEEFQW8BcQGSAiRCSgKmAqtC0cNjg6yDqsNBAwnCpAHLgMd/U/2Oe/F5+/f2dfRz1rI1sEDvKW257HlrXaqiqcupTGjZKHinx6fMZ+6n5mgLaLRpGaonqw1sR+2T7u+wBPGH8vMz/jTj9eS2mvdL+CZ4rXk/+bX6ULtRPEu9h38pgJMCaEQrRnKI80sNzTXO5pEGU19U+1XA1yCYJJkRmf0aJtqT2xjbY9tPm25bENrH2idY5Be/1hRUlpKlEGNOKUvTyebHzoYQBFWCwwHZATTArUB9AA2AaUCWwSJBWsGnAfhCNsJgApHC0gMIQ2FDdYNbg73Dr8Oag1eC/wIJwYRAm787vVB707omuA42PbPTsgGwfS5S7N4rbKoraT3oMGdYZurmS6Y3pYhllKWO5c0mG2Z05urnw+kWqjYrOexY7cevXHC1sbAysnO4tKp1t7Zndxz38ji7+bR6yTx6PY7/YMEQw1AFzYh/ilCMkk7z0QUTQ9Tt1dgXMtgHmSMZp5oVmqYa7Rsp20bbudtl2zzaU5myGEzXHdVrU3LRC478zG7KQUiOhrFEsUM6Ai7Bl0FAgTnAuwCFARjBfIF7AX8BS4GcAYQB/kHcgiDCDcJvApcDDoNAw3lC2kK4whLBo4BL/uJ9PHtyubZ3nfWWM7sxiDA4blAtBmvXKo/psmi3J9knQabmpjFljWWZ5azln6XQZkgnOWfR6QBqfOt07LCtyq9cMLgxkfKS83I0BzUsdYO2bjbzd4S4nvlm+lQ7xX2UPwlAtEJ9BP8HbYlQCzvM7I8eEQNSk5OpFJOV8ZbiF+HYvpkamc6aodsrG25bf1sU2tFaJpjvl2VV+FQrkguP082Xi9dKaAieBsQFqsTrhLbED8OygwlDdsNsw28DMgLSwtRC4kLoQtzC3sLQgyWDe4Ovw/rD6MP3g5CDZcK0AbLAWj7LvQV7RDmMt521T3NlcafwHe6irRrrwerFaevo7WgBJ6KmzGZjJcVl2OXwJdimEmajJ09oQulfqnfrj+0mrgivYjCgscCy5PNg9AA1BfXi9nr2wff1+Kp5vvqAfEq+Ij+ZAQPDBQW4x8jJwktLTSCPORDJklJTV5RxVUTWgxeUWGlYytm42h4a0Rtcm3MazhpgmbPYhtdP1aIT45I2UABOR8yTyy1JgAhBxynGEUWCBTNEaUP1Q2WDKALoQqcCY8IlwdVByIIOgnkCVQKXwsBDUMOxQ5jDh4NLgufCFcFFQGy+2r1Ju9y6ZrjNt2Y1kPQ5Mr9xebA0Lv+tquy6K5fqyqobqXsoiahgKB/oAehe6KTpCCnWKowri2yNrYfurG9UcE3xfPIKMyvzhzRJtRd10Ta2Nzb33/jeOeY66Xvr/NQ+Oj9bQMrCC0NcBNvGg8hAif8LKQz5jr6QVRIJ071U5FZmF4nYyxn8Gk2a95rbmxhbLlqeWe4Y91fqlv0VsFRJkxGRlFAkjpcNUwwvyrDJDYf4xooFzgTcQ8zDGMJLQf9BXgF5ATtAyUD/gKbA20EjgT2AwADbwINAgQBBf83/MP4B/Vc8aHtLemq4/PdANkX1J3OTMk/xP2+jLnjtEKx+q3XqR2lzqESoOCe1J1pnAecr536n/ChHKSXp7qrUa9tsie2YbpcvkTBUMRkyP7L98490j/Wqdrq3ovifuZr63PwOvQi90j7rAATBR0IHAwtEqwYHR5oI7ApEzFfOHg+S0SpSvdQ51VQWYBc/l9pYgBjLWPKY91jgmKYYN1eKF3KWlZXVFMaT4BKKUV0P+U5hjTzLtAoEiOzHjsbyheHFCYSkxBBD+YN/QyGDA4MJwu6CXUIEAizBzwG/QMRAsQASP/d/Jb5QfYo86rvYuvH5kjigt3P10DSGs6ZyofGvMEPvXe6prmJt+CzRLHSrz2uy6wfrM+s762fraSsU64qsuu01rVKt426B74awGjBTsRyyJnLWM0T0MvUXtlu3Pve6+Jd6A7tee9r8b/0lPhT+/f8Sv91AgEFOgdaCjYOUxLfFt8bXiEOJ5Qs0zEKNxg8fEA/RL5HMEs1ToZQjFLtVGhXMFlHWjVbwlu6WxhbuVmnV+pUyFEoTuRJPUWQQAs8kDdRM4kvMSxUKd8mayTqIdAf+h2IG2wYpRUIEwAQwwyyCdMG6AMpAXr+4/tO+eH2UPQs8f3ts+ro5pfiGN7i2eTVf9ENzafJK8d4xJLBB78dvcK7tbpvuVO4xrdht6C22rXZtW62WbcruE65Pbt2vaK/6sE5xOjG78m6zC3PEdK81aXZTd2W4B/kM+h+7P3vQvPK9gH6sPwI/xsB1wIjBB8F6AXPBukH5gjkCfYKewxlDh4QfxE8Ey0VEBcvGZYb+R1AIK8iUSUfKOcq0y3nMMcznDbAOdQ8bj+1QeRDy0XrRoVHAUj0RxpH2EWkRAND8UDPPnU8pDkiNy01qjKUL3EsRyngJY8iNx+LG5UXvRMgEHkMqAg2BTACq/7r+vD3dvV18sTuaOvR6ATmh+LQ3mTbJ9ga1fPRps7fy+jJw8dHxT3D68EAwQvAjr9EvwW/C79vv8+/bMDSwcDDocWDx9jJXcxez5jShtUv2Avb+93i4JHjweU56G7rb+5/8MTyIfX/9t/45/qh/Dr+7f8tAdoBWAIkA7wD6APIA8QDVgTvBBEFJgWgBU0G5QaFB00IEAntCQ8LrQzHDg0RPxN7FWQYxhvmHsshkiRjJy4qpSyALhwwzTE6MzQ0LDVaNmE3GziVOK04mziPOOM3bjaUNLUygzCSLScqwSbCI+Yg1h2oGtUXTRWXEvsPfw0dC0wIMgVmAsD/9/wX+kL3ePT68cnvwu2268np7ud55g3lYePE4R7gMt6R3FLb6dmV2NnXidc213LX7td12FDZAtqj2i3cj90+3iLfWuB84a3iBOQ55djm1egp6nDrvu3u71DxCvJu84z1Hfcx+Pv4t/k2+7P8Sv0N/oL/sgA9AR8CKgPWA6UERgWeBXsGCweTBmIGMAdmB+wGGwdOBx4HageEBw8HIge4B3MH2wYOB08HJAf9BjEHdwc3CNEIRQkqCkELDgwfDX8OTw8DEPUQ4RGIEnATGBR0FAQV0xV8Fs4W+BYDFyAXFRfRFkQWnhWtFJQTlhJsES0QIw8MDo8MSwuOCqkJRQgNBzkGDwUNBDUDqAF9AMH/Pv78/PH8cvwW+xT65fn7+ZX5Bfhd9sD2M/f79JrynPLR8k7yIfG67/fvQfGV8Lru1+6U8CfxZ/AF8MHwCPJY8hLyRPJm83L0y/T29Ez2CfjP+Pn42fmH+4j8wPyn/Oz8tf1a/hD+Of0t/b79uv3S/EX8aPxA/Gz7Ofq0+aj57fgn9+P1vPWM9Sf0S/Lm8bHymPIS8Tbw3vDk8Sjxhe/I7xLx9vD577/v1vAn8kLyAfJF89n1WPd798H4ovup/ZD+1/8LAnUEAQYaBx8J/gsgDm0PcBFZFMYWchjwGfUb5B3OHmcfPiBMIashFiFNIS0iOCKOIWQh1SGLIU4gih9vH0geBBx5GsoZbhhQFlsT0BG2EewPBg1gC/MKYwouCG4F3gRrBIYC0f+h/p3+If2l+rz5Pvo8+mf5Q/hZ+H75b/kc+CX4y/hk+HL3AvcB93T29fQh9Hj0x/S18xfyf/KP84/ykPBo8FTxGvEU713tou3D7tTtN+uS6v/rLezz6cLovels6mjpJOgg6Abp8ugk55nmtecd6Pzm7OWW5pbncefX5kHnhuhk6bnprOpF7NztYu8O8Y/zQfZ/+ND6vf2VAB4DSwaJCWEMLw9OEpUVuBhPG9wdBSFQJNYmbihvKgItuy4kL9wvDzFfMbIwazBsMGAw6C9oLmot6y3ILdsqwijzKFkoTSVIIjIhyyDDHnYayhf2F50XdhOFDzYPwQ9bDa8JIAiwBxgG0AISAP/9Dfx4+XX31PUd9EHyNvGn8FnuKOsr6h3s6upi5mPkPeYP59PjKd+w3szh0+H/3I7Z5NyM4IbdYdkm2//eZd4J2mvYFdt63Y3bxde52PbcV9zn1wnXd9mT2nPYGdbT1szZa9rY1/jWPtqp3efc/dpp3Arg4eHm4W7iwOVC6vLrheyt79v0cPiP+dr77QCyBRcJ1As/D7QU4xmlHCEfnCP2Jzkq/Cx8Mdo1AjnoOmc9qUCbQhRDUUNxQwpE+ESBRUVG8UWZRVdFs0PiQe0/Zj2SPM45YjiWPh9AVjo9NZUyITCXK0glUyAlIOMjoh/lFgoXkRifEvUGjP91ADQBh/rc7Y3scf6p/QrnSN7D4lXgr9Idx7HJVdBezJLB6bsAxNXDFbb9rJWvsbNgrnalDqaZrb+to6YrpEutC66MppCky6r2sAiufKt+stm3NLVstCG5xL+dvZq78cHgxsrGiMeAyx7SK9Vw1evZjeAX5e/lYOqd89r5lvyeAl8K6RE6GKYfuylrMi46f0EBSXVQiVSBVjVbfF/pYSBkEmdfajFr+Wqxa2lroWgTZFlg+V0XWT9TB1D2TFZI6EJhP+o9QDmVM3MyajIsLx0q2CZgJYUhrxymGoYZKRhZF4MX1RdsFm4UohHfDXIKtAVXAOf76fee9MfwSOwm6dXk5t4U2RjUaM5sxnrAG7zItg+z9K+FrP2q7Kgapuqj46Frn1WdK56kn8yfUKAgoUCj3aaiqHWp2qu4rgSw0rAbsuCzK7bquGO8EsHqxcrJ48010yfY7tp/3kTjd+em6ofu+fVN/z0H8A6aGd0nljQHPUlE/0t/U+hXslkfXD5f7WFBZOlmPGu2bZ1sIGveaadmcV9CV5BRL0teQxM9ATn+NRcxuyzbKhgpsiZOJN0iaCNsIzcihyBSHwYgtR/aHiAfAiDEIJIgcR88HkkbLRdSE0YPkgqWBLH/DvwG9wLxKOy+583hQdqf08zNR8fhwHS6q7TVsCeuPavSqL2nnadBp9qmQafPpyio8qf0qHaqEqvbq3ate689sZOzv7a4uYC78L1uwO7CysS7xfjGG8jgyfXLYc2+zw/U7NeF21bfjePa56brJ+8p87j4HQA5CJcQ2Rr7JzM2QkFoSR9S1Fo1YJRidGTZZl5o/WhTaips4Gzva5hq62j3ZB5e81ZWUDlJrkAIOco0VTG9LCMpwCfKJ1InMSayJugnwicxJgYlPCUWJdQj6CLMImcj0iNdI3AiYCCyHJQYzBNhDbsFZP44+NnxuOsr5qjgKtv71ebPvsiJwbu6orM9rFumu6JToJWeu556oKyiD6SHpQinTacXp8+nRKgBqCmovKrgrqGyBbcuu22/ocMRxxrK08tYzP7Nq8/D0WzTFtU92VXdL+Kg55TrAPDM87v2kvqp/PL+JgKgBqUOvBYjIGss4zncR4VRw1jzYBRmrmjYaNpo52r5akFr12y7bQxuHWsCaBplU15DVsVNV0YqPzw2DDDVLOIpPSeaJD0kBiVIJXgl9SODIkUh1h6yHEYbOhobGSkYfhlDG6YbIRo3F2oUARETDGgFcP7A+CXzF+0s6KPjHt4D2OfSn80pxg++RbeysRKszKbWomigvJ/0n1mguaCBoc2iy6PmpGmmIKcTqGGqlK0+sQG017Y0umG+JcJNxEDHAMvjzZfQ3dOf1zjbvN3M4J/j5ebo6tDus/Ms+Fj8HgETBksK+AzNDrcSrxhbH0wlvSysOORFlVAVWDJf0Gbua8Rs4msSa7BqQ2lJZyBmPGT7YEtdNFqpVSJOpUWpPi04vjDiKBoj+h9mHaYatxjnGG4aHBvnGTIZ8BkPGZUVtRJXEucRew/rDWgOUA/WDlQMngm1Bj8CXPyq9VLvC+n+4U7c2deu0/fOQMrExs3Cur1QuGKzzK5eqUGky6GHoJuf3J7Jn8qiz6V/qL+qL62nrwGxAbLZs+y1kbdwuJi71cDNxATIMssjz/zSydVM2FPadNyi35ribOZf6ort3PAT9X76Ef5ZAPoDvAcyCuULvw3hEEsTlRVyGWEflidQL0E3zUG4TedXDF5ZYmtnuWoOa41pRmjvZ/9m0mVAZUFkDWK/Xg5bolbkT5pHJT9vN6YwJSltIrEeHh2RGx8Z0hh9G0YbXRdmFAUUFROfDtoKvgkpCZgIYQfaBegEsQLy/mT66fWr8A/pTuK+3TzZ5NOVzhXLxsgmxbnAjrxZuFGzB62qp+OjA6B8nK6a5pvGnhKhdaMOpw6raq45sJuxx7OctUa3NrkNvKi/L8M6xgzKz81h0ZnUjtcY26/dP+Dq4xLoDuzT7xD0lfrK/7IDSwdPCloNRg4CD1EQfBGKE/QVJRhoGzceVSJpJiwqTi96NOQ67EEVSr9SUlmwXhNkV2ica1Zs/WuJa1NqcmnDZ0xlVmKaXrNaLVa5UDZKF0J9OvwzBy0jJoYgsR0eHNkZ4BlbHNUdLR14GwwaQxjNFEMQ6Aq3BjEEMgFC/ob77/hL9mbzxfBw7FnmKeGY3BHYndLXzFzIo8Rqwci9ILrytg+zOa99qxCoq6X1oiShfqHgowWnH6lOrIqwErR7t0e5hLoVvHm9QMD4waDD88bQyejN2dFm1J3X8Nml3eDh+ONq57jqbe/r9Z36yv8jBJgIBw7WD2gREBNzE2oVOhbLGKMcCR8wI+UllCiULFkutzCwMnk1Vju/QJxIilCSVnRd5mIaaMJqm2koaRxoJ2Z5Y/Ff/13/WjhXBlTkT3tLKUWHPTw2xy60J0ggbBnRFQoU9hJhE18VHxcCF2MWNxXXEUUM/gUHAOv65PXm8HXtxeuT6mboK+Zn5JfhQN391x3TWc6syBrDrr6/u8i55LfItra1H7Q2svmvwK2FqtGmxKORooWjIKUapzaqUa80tcO5Gr2wv9PBgsMSxArFHcaux1/Knc3c0j/YbNx84Enlruqz7gbxf/Rr+N38MQHSBGAJRQ38EHkUvBaQGEsZBxkxGnUbEhwvHLocih/XISEjryQbJlwoBiqTKzIvVDM2ONM9FURNTKlTkVl/XlxiImZtZ2dmg2TNYR1f/lo0VqJS702KSGtDzz4eOpkz+ixcJ2EigR0GGLUTBRHXDhgN2Ar3COEGzgNSAL38Fvl09ELvbevg6ILm4uNe4Tzgod+v3vPcttpp2ITV+9Fozq7K+8Y7wx/Abr4iva27HbpfuXi57bh3t4O2IrZOtnK2LrcTuUu7/b1EwRrFGsnky47N288F0m7T4NOR1H3WEdmL3HngKeVY60Hx9Pbd/LkBpwUjCGYKnww8DV4O9A9xEbcTvBUJGW4c7R6nIa0j3iVmJyMnYScBJ4ImgiZ6Jm8o3ypULuozUToGQnhJxk+LVh9chWBoYipiMGLkYJNe5lvFWEFWDVOaT7pMi0jNQ/w9mDemMdUqvyMtHcoXJRTzEOQO9w3lDCgMwwp6CIYFLgEM/Fb2BvFy7MznZeRe4krhTeFq4cfh9OF44Wzgst1j2urW2NIFz4LLDMnAx9rGpMa0xqTGPMbQxD/DbcEIv8u8ErvMuq+7Kb0+vy7CzMX2yMHKVcy2zffNjs2azTLPtNF/1MnYdd945ojsJfK/9xb8D/9+AWoDIAUkB1YJpAwqEfQUGRhjG1YeISCbIMsffx5EHfIbsBnKFxcXRhbVFVgWlhdbGR8b4x3yIZcmmyvcMNU28zyOQv1HSUztT9dS5lP5Ux9ThVGkTv5KO0cDQ+Q9jDg4MwMuxyiPIygfKxuyF+QUchIMEPwNzAt9CcEGpAMrABz8Mfh/9OHwa+1Z6jzou+Z35UTlaOV05Zvly+Uf5qLlSeSW4mDg793N2jnXGdQr0avOkMzPypbJVciAx+PGNcajxafEmMNLw6vD5cNSw0fDk8SXxYrGZcewyIjKZMwbz8HSOta02bzdIuPI6JXt4fJo94b71v/qAmcFyweOCV0LFw1ZDxsR0BFvE8wUIxZ7FmMVQhX4FN4T3RInEvQRRxGuEOYROBNBFZgXXRuDIcMnNy6bNDo7BUIxR1JKdEwzTdxMzEqJSCRG4UKMPxY8DjnyNfAxTi2kKC4kjR92GikW/xKJEKYOSw2gDPwL1QpFCVEH7wStAZz9iPkO9uTyGvDn7RPtK+2t7dDuZ/Ah8kXzDvQs9A7zGvF07u/qBufq4kDfEtxg2UnXa9U71BPT3NGj0NXO3MwCyyfJpcfMxqHGnsYOx3PIpMnIyubLisyEzZvO88/50b3UqthR3XLiwufy7G3y5/Z4+gj+4AAHA5wEHQYWCOYJgAulDAMO7A+UEPwQhRHtETcS4RFgETgR7hDjEIwQ2hAHEuUSdBTaFj0aNx4OIpcm9CvNMAg1eDjZO60+5j9IQB1AkT+UPr489DpAOew2XTRLMQUuuiruJh4jEh9dG9sXIxQyEZ8OMAzJCaIH7QUrBCUCMQB0/gf9Q/t1+cT3OPbu9Krz0vId8rrxXPE68V/xPfHO8Brw4e407QvrfOiZ5YHirN8T3QXbU9m514DW59VD1W/UCtNW0XTPTM1ty13JkccGxjLFsMW5xhvIS8oDzTvQkNMn1xXbvN5x4v7l0+ml7avwFfOc9az4ffua/WT/xgEOBLsFAAdfCKMJAQq6Cb0J9gnaCYcJWAlZCl0LuAv4C/kMmg7JD70QuBKJFaYY5xvRH+UkCSqdLtcy7DZSOqU8mD32Pas9JTz7OUU3wDQpMgUvSCyRKQInhiSxIS4fXhylGTgXIBRVEfMOygwECy0JqgeJBmgFDARTAucA0f88/pD8IPvR+QD5WvgY+Kr4NPmF+Y35wvkG+vL4MvcA9W3yr+9H7BvpQua444rhmN9Q3tXc79oh2TTXadUh04/QdM7KzMHLIstdyzbMP82Tzm/QttKt1IrWl9hk2wbeh+Ce4+fme+ry7TjxifR29zb6gPzz/U3/AwDjAD8BIwGDAZABvwEbAosCLQNjA5kDWwT1BIwF5AWJBpgHtghACjwMkQ5fEXEU5hcHHA8gByS+JxArFC6EMFsyazPDM7MzNDNLMjQx7C/DLpEtFCy/KkApxycSJjkkcSKAIHIeShwoGjgYRBY5FHkSshBAD9UNiAyLC7sK8An3CCoIpQcSBy8GdAXnBI0E9wMUA1YCegFUAMn+1Py/+lv4uvXc8unvDe3y6SDna+SC4aHeDNzQ2WXX79Su0t7QOc+ezZPMKMzgy7LLCszPzNrNI8+H0DvSa9SV1hPZrNu63tDhiORq543q0O3073/xifNY9Z32ePcF+Nj4Pvk3+Qb5NvnL+eH5xPkd+s76qftR/LH8qf3U/sP/9ABoArAEGgeJCfAMsxDyFBgZ/BzxIHwklCccKtIrUS05Ln0uki5mLkIuwS32LCMsayuVKo4pUCgnJ+YlNSSCIsEg5B76HMEauxjaFsMUBhNjEfsPkA79DN4L4wrhCdsI3QcdB2MGjAXGBBkEWwNuAiUB1f9s/lz85vlD90v0NPGs7QPqpeZe4yPguNzS2XzXV9U8007Rws9rzuDMdstLyvPIpMeBxqbFIMW/xJfE3cTCxXbHs8kuzDDPatLp1Y7Zzdwn4M7iJeVZ59XobOqr66zstu2N7tjvAvEi8sbzPfW69ij4pPlF+5j86v0o/zAARwGxApkEwQYeCQIM8w80FIwY7xxRIdsluykFLcov/jGSM5Q0VjXlNS82dza+Nh03MjczNwg3aDZvNQU0VzIjMJktJyuwKDImvyNbIUcfLh0LGwIZ7xbEFIgSLhAXDhUMLwqWCDEHOAZfBbwETgTrA20DoAJzASoAa/4Y/Iz5fvZ180vw/+zn6QHnYOT34avfld2K22bZ/tZm1N7R887Xy9LIFsbYw+nBX8CGvye/Ur+2v77ARcLYw9zFGMjIyvvNRdH41OjY9NxI4QLl3+hR7HjvY/KM9KH2X/i4+Qf7Nvxj/Yz+dP+JAGsBWgJqA34EwQUkB5UIYAqVDCAPXhLYFc0ZCR4eIpYm3ioaL8wyyjWROJQ6LDxbPQg+jT69Ps4+8D65PoA+Cj5bPWY86ToEOcs2QzSUMZUucitbKBEl+iHZHtEbwhiIFV4SRA8hDAgJIwaIA0wBUf+5/Yf8mvv7+pL6Lvq2+fr4B/i99vv02fJA8FXtLuoI5+DjvOD33Xnbftmm19zVMtR70tHQ286szDbKjccFxZ7CycCYv7q+sr5+v+fA2ML9xIfHOMrWzJXPVdIY1dDXdNpU3UvgYePL5jjqYu2C8HjzQPbj+Dn7Xf37/iAAIwEBAvUC1gPGBDoGkQdoCZ4LOw5GESYUaRerGh0enyEIJbsoTyzSLzgzYDZyORk8ez5UQL5BmULrQtVCLUJeQSdAxT4ePT47fzlaNzI1BjOYMDMuXyuQKJYlfSJ3Hy0cEBnEFWgSNQ8DDCoJNQZkA7YAEv7S+5X5rPfq9Vb02fJw8UnwNe8Y7trsUuuN6WbnuuTL4YLe8No514LTDtATzYLKcMi6xlrFZsRow2bCT8ErwAq/vr3evG28U7zvvFm+ccBPw5nGaMpyzoHSyNao2o/eM+KD5bDoqeun7pjxbfQ+9/b5ePz2/hIBGAOKBFMF4AUVBj0GagbCBrAHLgleC18OEhLOFuAbICFoJnYrOzBBNJ83XDp1PBI+Rj88QC9B00F/QvFCM0NEQ8RC7EGDQMs+ozxZOuo3YzX8Mrkwpi6oLMQqwiiUJhckDSGQHaoZZBXUEBgMoAd7A9X/3fxr+tP4mvew9iL2Y/WZ9FLzzvHm75btI+ty6LLl7eJM4N/daNv62I7WAtSD0dfOTszhybbHxsUjxODCB8KcwVXBXsFvwZPB1MFBwhPDN8TyxVjIQssUz4vTYNhl3WDiYefT687vX/N59k75ovsR/pMAFQPMBXsIQwvKDSAQDhJaE1AU+RRwFQAWzhYcGOYZbBykH1MjZyd3K30vxzJQNeM2pjfKNzM3YjZSNYg0DzTpMzw0yjRsNbk1fjXNNFszVDGgLo8raSgxJTQibR8yHVcbmBnNF8QVZxOfEFYNngmgBXMBVf2H+R/2UfMI8VnvCe4E7UrsbOuE6mHpHejD5iXlh+PL4Tfgvt4q3drbaNr42GDXodXF08PR088DzkjMpspByR7IZMfuxsfGtcapxsTGKMfFx8TI/8nHy/LNpNAJ1MLX/ttE4JTkruhS7IrvS/LD9Cr3Zvna+5j+3gGfBZcJyA3WEYMVlBgRG/IcEB6zHiAfwB+8ICQiISTTJjIqqC0xMV00GDcwOXM6Jjs4O/Y6XTqoOUM5ETkXOTg5aTl7OQc5KTi3NqA0CTIWL/MryCi4JfUieCAzHgIcqhkUFxgUpBCqDD4IiQPF/g/6p/XG8Wjuhuv96Nvm6OT64gDh497i3Mza2dgx183VztQr1MvTrdNt0+TS/dGV0NrOqcxtyibIGcaQxK/DcsOjw1TES8VGxiLHwMfhx+3HBMhJyMDItMmTy07O79FQ1k7bYOBP5QPqLO6t8Yf0lPZP+Cn6Kvxg/hABjQRuCKQMEhFnFWwZ6RzJHwsi9SOEJfkmkih0Kq8sGi/pMdQ0fzfbOcM79DxbPR49eTx/O3Q6kTn0OAw5hDlLOhw73jtiPA486jpDOfE2BzTcMKMtyCoPKKUleiN9IZgfcB37GgQYeRSeEEAMuQdQA/P+EfuG95v0APKZ73ftSusB6WnmfuN54E7dRtqM1x7VPNO00a7QHtDHz2rPv87qzejMisvyyVnI68a3xf3E0sQ0xefFzcbLx9XIzcllyrLKBsu3y3nMcM1JzybStdUT2vLePeSO6Ynu8fKe9rD5/vvw/cr/7AFtBGMH5Ar1DjATkRfHG3wfoCJHJZgniCk2K8MsaS51MOsyYzUZOO46nD2pPxBB6EH0QTdB8T9NPnU8qjr3OJo3pDb9NT81TzRVMwcyNzDuLUkreiiJJbYiHSCcHU4bKxnwFmsUgBEkDj8KAwaPAeL8cPhX9Ljwj+3d6pvoZ+Y/5Abisd8L3RHaGtdV1NHRhs9rzb7LfsqCyYLIXcckxtbEjsMuwvfAB8A9v+++S78ZwDTBisIWxI/FDccuyMDIKsmbyTrKHcuezOnOO9Kv1gLcYeGq5u7rsfDX9Bz4dvp3/KH+YwFPBOQHUwwEEfMV2RpsH1MjTCalKCMqKisfLNAsOS5GMDIzmzZ3OuE+MkN9RzNLMk5VUIVR4lF/UaFQT0+hTelLNkpcSFpGFkRxQVI+wTrPNrkyhC5nKtMm0yNVIR8fKR0lG8oY8hVZEvkNywgVAwr9/fZV8QfsQOdI4zXgnN042wnZ8Nbq1LnSS9CkzejKi8hnxqjEPcMLwhzBU8DCvwy/0708vHa6yLgwt++1GbWdtOy097Vut9m4WLrxu4e9/74YwPXAGML7w3PGdMkTzRHRqdUD2/Dg3+aO7PHx7PbY+2cAHgRPB6MKhQ6BEmgWPBoRHnIioiYiKsUs7y78MBozYTWRN9M5kTzgP4lDTEffSjlOWFEiVB5WOlebV25XplarVThUQlI+UDtObUyaSoZI/EUOQ+c/bzyBOIg0ezCDLKEoICXUIVge4RouF08T7Q4NCpwE+/53+Rr0/u4X6qrlo+EO3tHaw9ei1GvRI87syuXHKsWtwpfAD78Hvn+9GL2mvPC7+LqWuca3rbV6s6OxSLCar5KvUrDCsbCz6bUxuE261LvuvL69T76bvvO+xL+9wRDFvMlwzzLWzN2C5TPtFPTV+Vr+NwJuBTwI8woNDsIRExb+GtEflyTjKLssvS9eMn00/jW6N+s5rzzWP7NDCkipTClRGVUkWHda1VvfWxNbllnNV5JVXVOIURZQ/U4BTv1MskvzSZNHkUQXQQw9ejgENKcvpivTJ0Uk9yCHHdgZjRW+EEcLVAU4//X43fIT7e3nm+Po37jcq9m+1tTTqtBXzdfJfsYxww3AU70su5y5ULhft5C21rX0tMmzbLL5sJqvUq58rTetW63WrbquCbBksYOyY7MDtIK0ILX/tUK3B7nJu46/VMTgyRTQtNZf3Tnk3+pL8Q/3VvwsAaIFFgpyDt4SlxeKHJAhTCbkKiovBDPvNnc6kD2QQKVDuEYDSmFNoVCzU6pWUlmIW49dEl8LYJBgyGB3YMlf0F6eXVhcy1oVWfxWz1RzUrFPiUwTSWpFWEE8PQc5vzSeMIEsUSjuIzwfQxr5FHYPjQl9A3L9ZPem8RLs1eav4dDcOdi+03/PX8tix7XDaMB8vcu6U7ggtv+zF7JSsJOusKzJquyoDadxpQ+kyaK5ofugmaBnoISgzqAZoa6h0aJWpA+mAKg/qvSsHLCFs9a2SLosvsrC1seSzcLTO9ox4YXoy+9o9q78PAJwB3AMEBFaFaMZWh5GI2cohS18Mh43lDvBP3BDqUZqSRhMxU61UQBVbVjhW1pfjmKNZeNnNWl9afZozWcfZgtkomFRX0NdkFveWRNY9lVpU2dQ2kyuSONDtj6BOYU0sC8IK0UmlSEPHV4YOBOLDWMHuADk+RTzX+ze5dvfldoe1kzS3s6dy4fIhMVHwtO+HbtHt32z+a8FrXaqQqiappWlFKWmpDGkiqOfooqhUaAPn+udE53cnGid354GoYejP6YBqayrz62iryux8LIrtTm4VrxbwVzHN86a1Qnd/uP46VHvOPTd+O38IgGtBa8KJBDfFeAbjiEAJ7grDjATNLo3OjubPlFCNEZHSsZOaFMFWFlcXmD5Y8lmwmjKaThqKWp3aUxotmYZZW5j6WF2YNFe5lyBWuVX3lRRUTBNtkg+RLM/LzvINowyTi72KWIlaiD5GuoUZQ7ABygBnfoT9Pntqei84xvfnNov1qbRHs2RyOPDYb/8uuy2TrM3sIStFasKqUOni6Xno1mi2KBKn9OdrJzNm0Sb4ZqumvyatZu6nN2dVZ/9oMai8aSHp3mqza2wsUu207vxwSjIos5w1R/cMOLx56ft/fJK+GH9vwJ1CHQOOxSqGUAfbiT8KPossDAWNG039DrePvZCk0dqTEdRC1Z8Wn9eJWKKZRFo82k2a+tr2Ws3a1pq6mgnZ0tlZWNxYURfzlwjWpRX4FSqUS1OzUpzR+NDSkDFPCk5VzUIMWEscScVIh4clBUtD8IIaAIj/B72lfBa63bmmOHO3D3Yn9Mmz7HKVsYnwjO+hrrWtn6zOLAFrfOpA6dGpI6h+p63nPOa55knmayYhJjfmH6Z/Zm8mlub9pubnHudo55joOqinaXxqEGtJ7JJt9y81sLvyEXPqdXD2+rhY+i47sH06/oAAYYGBQx3EbAW6xvWIFAleykbLsoyNzffO5JAd0V6SodPM1S3WFRdaWG1ZH5n1Wlva3ls7GzBbCZsPWvqaWJoDGfFZflj6GHUX2xdt1qCV/tTDlD0S6FHCEOrPl069zWHMSQttCjSI5Me6Rj4EgIN2AaXAEr6W/TN7ovpj+SP35jatdX20DnMhscpwwi/O7u3t3+0r7H1rk2swqlgpyOlwaJpoF6ewpxrmxaa/5gSmJOXOpckl1eXsZdYmEqZrppXnE+ev6Cao/mm8KpGrzi0sLmdv9DFBswP0pTX89xq4urnM+0s8lD35/waA18JqQ8QFlkcMSJxJ5wsZTEdNt46xz/sRBdKV09zVHdZPV4xYlFlrmd1aaNqWWvRa8trjWssa8BqPGp8aaVoh2cJZvdjWGGrXqpbUlizVAZRU01ASfxEnkA2PJg3YjLELOQm4CChGk0UPA5aCJ0CDP3L997y9u3z6Mfjot5Z2fHTdc4ZyTjEtb/ou1+4HrUgskmvq6zuqSKnPqRvob2eSJxbmheZaZg9mGCY0phrmf2ZjZoMm6GbGZyGnDmdmp6hoDajw6Yyq0CwerXbuqPA1sZGzQ7TYtii3cDi7udf7TzzJ/kg/0wFmAvDEdgXjR0lI3EoLC0mMdY0yjjLPFlBJEb8SphPOlQVWRtez2KjZrFp4GsDbQ9tW2x5a39qGmmhZ/5lK2QvYiNgD156W2pYtlTHUA9NfEkCRrFCqz9yPPQ4PDUoMZMsaSfHIaobRRW1DiQIBAJb/Bz3FfJQ7a7o+ON53xzb4daS0jXO/cn5xWDCAL+3u5y4ebU1stWub6sDqH6kdqEHnw2dd5tYmuOZCZqOmiebzZuInC+d6J2+ntyfGKG4oiOlbKiVrBixX7ZNvPfC18mY0AnXAN2m4tDn0OyX8Wz2evvuAKEGbAwNEtQXhR3iIuEnZyy+MKM0mjimPOpAf0UtShtPUFReWQteTGInZktpYWuObARt/WyDbLtrt2qTaXFoJme0Zfpj72FnX3JcJFlVVVNRQk1CSVNFlEHkPR46VzZ1MlMutSmNJM8enBhNEtMLVAUQ/zr5yfOd7tTpSuXk4IjcHdh206vO0MkLxXrAZ7yeuCK1ArIsr5isTKosqKClp6J+n3mcqZk8l0eV7JNHkzKTi5NwlKyV7Zb1lxGZW5rJm5Kd7Z84o2WneqwXsiy4j741xdXLG9LG18ncf+FL5jzrDfA79dP60ADVBgQNOxMmGb4e3SPjKM4tmjI1Nyw8j0EZR31MolG1VkZbNl9sYvVk02b+Z55o0mjoaN9ovGiYaE9ozWfmZq9lDWTMYQ9f+VumWBhVeFH+TZFKBEc2Qys/6TolNtswFSsPJeEegRhCEnEMAQfNAbb87/dP867u4+nf5Nvfqdp71VDQd8vzxqTCvL4ku8m3drRBsU+uoatBqfim+6Q/o6ehQqANnyyeUp1inFybeJrpmdWZU5pJm4acE54KoHSiNaUeqEWr2a7Nsvy2rbvtwInGRMw80kPYDN5/46HoyO388h34H/1TAhgIJw4FFOAZqx9fJbQqqS+ANHk5xz4URKlJQk/FVNhZT15cYupl3GjuahBsh2zIbNVsfWzeazprmGq3aZpoRGelZbpjRWFfXi9b5Fc4VEBQSkyPSMBEm0A2PJI34DK/LUkofiKjHMYWxRD7ClsFBwDX+sP14PAP7FrnkOLB3f7YVNSez9PKJ8a4waW9wrn9tXSyNK88rG2p5aaxpJGiYqBlnvec8Zswm6CaU5pUmr+afJuXnO2deZ8Ioaeio6TopnKpEawUr5KysbZbu47ATsZ2zJzSS9iN3ZPiZ+fy6y3wYvTn+A7+xAPaCW8QKRePHS8jNSj+LJYx0zXYOfs9p0KoR8pMElKBV8FcF2FVZOdmzWjzaUJqEmoBauppzml2aTNp+GhKaMJmU2Q7YYtdU1m9VBFQpEt9R3VDmD8PPMM4NTUUMWYsZycTIkAcAxbKD9wJHARL/pD4H/P47dHob+Mf3ubYsdNpzk7JssRtwEa8L7h/tF6xeK6Pq5KozaUpo42gB56/m+eZXpgwl22WQ5aDlvqWjJdNmE+ZqppTnC6eX6D5otGlpqjKq3Kvi7Ont7W7KcAzxdnK7dAv16DdBOQj6sbvT/Uj+8gA8wX5CmkQgBbdHBcjPikvL/o0JjrvPoRDCEhjTGxQnlQ8WRZeuWL5ZmtqpW0zcJBx+3G5cSFx6W85bl5somroaKJmAWRIYYpemlv2V/ZT+0/TS3RHFUP0PjM7WzclM7YuVSrcJd4gRBtaFYMPfQlYAzj9hvc98v7s1OfM4i7eoNnj1CXQiss1x8/CX74zuqq2qLPCsAeusKvNqQuoR6aPpCGjyaFIoLCebZ3JnHycWJygnHCdm563n/GgnKLFpPmmA6kuq+OtgLG5tWK6V7+7xD/K48+f1avbqOEv5zrsHPFE9qj7EQF4BgMMrBFOF5EczyEKJ1IsKTGFNeI5Vj7AQtdGz0rqTghT3lZCWnJds2CkYwNmtGfraMZpA2rCaThppmjrZ9hmb2XUYzpiTmDGXYZa31bfUnxOzUksRehAxTyOOCk0ti8oKyYmlyByGgQUgQ3YBloAQfrT9LXvnuqF5YbgqtuE1iHR2Mu8xt7BLb3auDS1LLJ9r9OsTKoXqCymVqSBotugeZ9hnmadopxMnDKcGZyzm3WbuZtBnNmclZ0PnyShkqMDpp6ox6tGryWzLrfmu17BMsdYzeHTCtvt4fTn+uy58Y/2VfsfAAoFdQpGEDQWQBxcImMotS35McA1OznWPDVArEOFR9BLaVDHVAFZ6Vx/YGljd2X4Zi1oKGmaab5pHGqSau5qpmoCahJpvGexZepiwl84XFxYGVS+T7tL80cNRNc/kTs8N5IyZy3BJ+whxhsxFV4OpQc7AS77ZvXq767qp+Wj4IvbcNZf0UfMHMcbwnu9brnctZGykK/zrKiqZ6gXpsejjqFrn1edpJt3mtmZiJlymbaZXZpHmzWcJJ0AnuGe5J81oe6iTaUmqEKroa6QskK3ZrwSwu3HIc6C1B/bqeHC58vty/PA+YH/QAUwCyMRHxczHUojDSn6LV4yaDaJOng+JEKjRUxJI03YUHNU5ldDWx9eWGANYo9jA2U7ZihnFWjaaHZpqGliaeJo4Wc+ZvBjK2E6Xghbg1ebU65P0kvjR61DPT/1Ork2ZjKpLcAoniM4HoYYohLcDBQHIQEu+3D1JfD+6rrlbOBG223WktHYzFzIZsTHwF69P7pJt4e0vbHarvarOKnHpnykfaLmoNafG59antGdk52CnWmdV525naWe7p9loQajEqV/pwGqWKz1riKyu7VzuZS9TsJRx3rM6tHg10nefeRU6g/wFvaD/I8COAjFDXMT4xjsHdUi0SedLAIx/jTKOIY8PEC6Qw1HeErCTcZQcFMzVhRZ6lteXoJgvGLmZKhmu2dkaNdo3WhMaCdnwWVCZHpiVWDoXVlbaFjfVPxQ9UzWSFZEez+EOrY1CDE/LEInECLQHF4XahEUC6AEPf7w97bxpevp5Zbge9uf1vLRgs0vydrErMDbvJe5oLbQs1OxTK+GrcqrJqqbqC6n06V5pGOjlKI6ojaiX6LVooajfaSFpaGm3qcGqS2qTauLrPqttK+8sQm0obbauba9+8GtxtHLXtEq1xDd/uIC6eHuofT0+R7/NAQeCdoNTBLPFmgb9R9mJKco3SwAMSE1MjkGPcRAOESyR8dKuE1nUMpS01R3VglYZFmGWmhbKlzqXHldo12MXShdzFwYXBhbw1k7WJpWmVRPUrZP1UxqSYJFR0G+PP838zLVLbUooSOnHoIZexRiD1cKCQVq/8T5GfSH7gLpouN33orZ8NSH0FLMVMh2xMTALL3vufC2NrTLsbWvA655rDKrL6pYqb2oR6jqp6enoKftp3eoTKlFqnSrw6w7ru2vwrHSsxi2gLjvupW9ccBww5TG1slNzQLR79Q82Q3eZ+Ph6DfuTPM1+DH9BQKRBukKOQ+dE/UXOhyKIL4k5ijOLHYwxTOzNnQ5DDypPhpBU0MtRfVGrkhiSuhLG00lTvhOxE94UARRkFEAUlVSaVITUrFRJlGFULRPnU5dTcVLFEobSPFFgUOcQFQ9rDm7NZoxdi0hKcEkSSCrGwMXKhJJDU8IDwO2/SP4lPIv7Q/oJONg3u/ZwtXk0TfOwcqyx9zEScLcv6q9sbv0uZG4cLeatt21L7WftFO0XbSXtOW0abUytja3b7jRuWe7Or0sv0DBTMNvxZ/H/MmQzDvPC9LO1KrXndrU3UfhxOQ46L3rWO838073hPu8/8oDqwdDC7QO/xEuFRMYvBo/HaMf+CFMJKMmvyiPKgUsMy08Lh8v1y9XMLswETFSMYExkjF7MUsx8jCAMOUvQi+3LlouIy73LcMtki1hLTAtBS3KLGwswSv1KhsqSSloKGknPibpJF0jtyHzHxEe7RuSGRIXZBSiEcAO2QvpCNUFhwIz/7v7L/iV9PLwTe2c6QbmjOI+3yDcTdm+1lHUKNIw0ITOFs3xy/7KH8pxydfIf8hZyGvIqMgKyaHJaspqy5TM1s0iz2XQv9FH09/Ui9ZA2BHa99vv3ezf2uHR48XluOeg6XXrRu0270DxW/OK9cP3GPpm/K/+8AA8A3cFlgedCZwLgg1CD/sQoxJbFPQVbBe7GO0ZHRsrHPMciB3jHSAeQR5dHoIeox7IHs8e7x4qH4Qf5B8nIGYglSDZIBkhhSEEIngi6yJLI7sjKiSjJAclQCVRJUElGyXHJEskrSPhIuAhnSA8H6Qd2xvaGZwXMRVsEm0POwz5CKwFVQL1/oj7CPim9GbxWO5w67boHOan437hqt8W3sHcnduG2qPZ7dhz2CfYDtgb2DjYj9gq2fvZ+doD3CTdX96L38ng7+EO4zDkSeVn5nbnm+i+6dzqEexS7bDuDvBu8dnyR/TF9U/35/iB+if82/17/yYByQKABDgG0wdWCa4KAAwhDSIODQ/YD4wQFRGAEcUR8RH3Ed4RrBFIEbgQ6g8LDwUO8wzpC9cKyAmrCMcH8AYxBqQFNwXlBKoEmgSxBPUEdAUoBvwG9QceCV4KxQtLDeEOexAEEpQTHxWdFgsYVhl5GnsbYRwNHYMdwh3MHacdNB2HHIkbURrrGFAXqBXME+ER0A+4Da0LpQm/B7sFvQPGAeD/C/5L/LX6KvnL95D2cfV49KvzB/N38g/ytPFe8QnxxfCX8FPwKvD177zvlO9772jvT+9M70zvQO817z3vV+9+76Lv3+8u8JLwCPGH8Svy0vKK8z309fTH9aX2kPdz+Fb5Ufo3+wT8xvyJ/Sz+sv4r/4r/2P8UAD8AQQA1ABcA0f9w/wH/e/7K/Qn9UvyR+9T6HPpj+az4CPiS9zD37vbY9s/26/Yz96L3SvgL+fn5Dvs+/J79HP+9AGYCEgTjBbIHkAlwC1YNMg8CEcwSfBQSFpIX9hgoGj4bOhz+HIod8h0sHj8eFh7bHWwd3BwrHGEbexp0GWgYPRcIFrQUXxMGEpMQIQ+oDSkMpgojCa0HLga9BDoDvgFMAOv+lP0n/ND6ffk4+P720vWm9H3zbfJa8V3wde+U7sLt+exy7ATst+t661TrTetN63DrnOvZ6zLsj+wG7YPtE+687mPvC/Cu8FzxAPKi8j/zzfNO9Ln0FfVg9Zv1zPX09QH2+fX19eX10vWv9Xv1PfX49LT0Z/Qh9OrzsPN280nzJfMl8ybzQPNu87TzFPR/9C319/Xh9vv3Lfl7+un7ff0r//IA2ALTBNgG7AgTC1oNog/3EVAUpBbrGDEbbh2LH54hjiNdJfgmaCiwKcMqmCtCLKssyyy7LHEs8Ss/K14qQCnXJz0mhSSeIp0gdh42HNcZYhfqFF4Sxg8kDYMK4gdABbICKgCx/Ur7A/nQ9rL0sfK/8PHuO+2N6/bpcOgP58bliORp413icOGO4NLfHt983vbdfd0q3eLcv9yl3JPcrdzk3DDdfN3h3VvezN5r3xLgv+CC4VHiN+MS5ALl9+Xs5hPoPOln6pLrsOzN7eDu5u/i8N3xzPKr84P0VfUW9sr2efcq+ND4dPkc+s/6iftJ/BT96v3Z/tv/6QAKAk8DpAQYBpYHKQnTCo8MZA5FEDgSPBRNFmUYhBqxHNQe7yAEIwYl9CbCKHUqAyx1LbMuyC+sMF0x4zEkMjQyDTKmMQ0xKzAaL8wtRiyLKpQodCYuJMQhLx97HLIZzBbVE8cQrw2bCmkHLQTuALL9d/o/9xL06fDi7eLq+uc05Ybi8t963ULbNNlC14jV8tN/0jXRGtAvz27O4M1+zTbNKc07zXjN4c1nzhHPyc+i0JbRrdLG0/DUNNZ+19zYO9qy2zXdtt5C4MrhWePz5IfmE+iZ6R7rpewc7pbvFPGN8gH0dvXz9mH42flJ+7P8Hv6D/94APQKTA/QEUwarBwoJZQrMCyUNfw7WDzERjRLhEy0VeRbMFxoZVhqXG9kcBh4oH04gbSGCIo8jmiSgJZgmkCdlKCwp4Cl/KgkrbSu8K+wr+ivxK8Irbyv4Klkqnym5KLIngCYpJaojASI2IEQeNxz4GaMXLhWjEgYQRQ16CqMHvQTTAeD+6/vn+O71+/IJ8DXtXeqe5/7kb+IP4MzdoNuh2cLXCdZv1ArTytG60MjP+85fzuvNoc17zYzNuM0WzpzOTM8q0DDRStKJ0+vUbtb916rZqNu13czf7uEh5FHmi+i56uLs/u4T8SPzG/UM9+n4v/p//DH+xv9NAcYCLAR/BcsGAAglCT0KRwtNDEkNMQ4XD+wPsRB0ESoS4RKDEykUvhRPFd4VZRbpFmYX2xdMGLYYFRlsGbgZ/hk6Gm4amxrCGuEa9hoDGwwbEBsKGwEb8Bq6GoUaThoFGrUZUBnvGHMY+RduF9cWQhaVFeoULxRqE5gSthHZEO0P8A7kDckMnwtmCi4J4weNBjEFxwNSAtkAXv/b/Vn8y/o++bn3N/bE9FPz6vGV8EzvDe7h7MHrsOq86dXoBuhF56PmFeab5ULlBOXf5NHk2+QB5ULlkeX15W7m+eaU50ToAOnQ6azqmuuK7I3tn+6x79bw9PEe80z0gfW29ur3Ifle+or7wfz0/R//RABeAX4CkgObBJcFigZeByUI3Ah8CRcKmQoMC3cL1gsqDGYMoAzJDO4MBg0JDRMNEA0UDQsN+gzkDM0MwAyYDHwMXww9DB4M/QvbC7sLlgtvC1MLOAsWC/sK3Aq7CqYKggpuClQKMQoQCuYJuwmECUwJCwnHCHwILAjXB4AHJQe7BlsG7gV3BQMFhwQCBHcD6AJPArcBIwGHAO//Wv/K/jj+n/0d/ZT8D/yP+xD7j/oU+p35F/mo+Er46/eP9zn36fao9mL2Jfb09cb1pvWd9Y71h/WT9a318vUs9nj2yPYX93L30vdJ+Lr4QfnA+TD6wfpS++f7j/w8/d/9gf4t/9X/dAAWAasBJwKmAhoDdgPQAyQEZQSmBAQFYQWlBdoF6QUJBhsGEwYeBvgF1wXDBZoFcwVUBTsF/QTPBLYEhgRWBCgE+gPbA8cDpgN7AzkDCwPtAq8CggJlAjoCIwIcAi4CQwJLAj0CMQJFAj8CLQIZAg8CHgIrAjgCVQJlAmUCYgJmAm4CigJ8AlYCNQIAAuwB4wHcAZABRwEcAe8A7ADaALYAkgBbAC8AAgC3/3r/S/8K/9D+pf5l/kD+Fv7Z/a79hv15/VL9F/3z/NP8tPyH/JX8p/x3/F38TPxI/Bz80vu1+5P7gPt0+xv7w/qt+qj6tfq2+ub6S/s0+/L6rvpD+oL62vot+3n7dvvz+0n8KvzR/FT9KP1b/Uf+7f8/AJwAOwFvAOz/mAC2AIEAMwFkAb/86AK5FWcUcgu/CXwAL/uK/+sA/QCiBQgMpAZJAygMUwbt/MwA5gOn/2H/pQTY/g/1Ovrm+QL1Pf7fAWD9UPvj/44AbfZq9W362PXC+Lz9Bvlg+FL/vQNP+jz4DAXgByoEEgpaCfcBPgT8Bl7/d/z7B94FEftiBIgLTQFoANwGywPg/DsAXAA59tj7hv1s7jTyUgBi+gbxRflhAsP5IfYt+yL1QfiCALb2AfGd/dMBJ/U39+gDGf6x+3EE0gGB/+cFOAW7/RoBZgaE+2f5uAQIAQP6bADjBOAAIANWBeX9AwDiBkP9xvY5/rr+gfie+p//Cv6jAboGcwGfAFMH6gSo/r0BIQQq/rT+yQO6AHUB+gZ3BaIEPgo+CnUEHQdNCpYD0wC1A8cCYwEMBCEEHwJaB0MKFgUFBysMPgjuBCUG0QO6AH0D5gJp/x8ELAhrBeMGeQs7CYAGUgiVBusBhwLw/wT7a/2w/lr7F/3RA74ErAJXBAYEkgBZAKr9jvhM+db7jvjR94b9K/6q/ZYBHgOIARkDpQMX/8z8Lf2t+Nj19vj5+PX3KvwOAOf/0wEwA50AKAACAYH9ifnP+Y/5X/dH+O76Pft4/VoBqwJ2BBwH4QbdBDkE2AKuAKkAxwD0AJQDnwauCdsM0A48D78OqA5LDNYImAYUBKQCbQKdAS8BcQK0A8QDDgQeBH4CZwAF/+f8//ka+Xj4h/cn+Gj5Z/qx+yD9H/2o/Dz9bf3v+136gvm2+RL6zPqC+0j7e/wZ/gH+0/3+/eb8lPvj+uP6B/rB+bj51Pdj94j3mPbn9af2RPe69bT0BfW/86Dz+/O78mzzwfTj9Kv0w/UQ9mr0qvMB9JvzBPMr8z/zgPNJ9Gr0G/Qa9fj1qvX79Dr16vRA9O301vUv94P5ofzt/woElQhJDIQPXBMqFyEa7BzFH0si8CSPJ9IpJCzXLUwury1gLXgs0ym0Jikjph/oG9cXQxTrEIkOaQwVCoUIxgY+BCECZgBC/k38ofpg+Un5a/kR+Sn54vmr+jT7vvth/If86vvb+mv5N/iE9zr21/TW89PysPFT8J7uqewv6rnn9eXA43bhAOD03rzeKt9D32/f2eDh4t/jfOTK5OvkfuWQ5vXnuekV7Cjv0fFw9Kz3o/kW+/T8Q/4R/8b/zf88/2v+/f7G/94AyQJLA60DigR+BegFSAW5BKgEJgWsBjcIOArlDOMPfhSqGdceSSNOJoQoASodK5ErlSt3K+4qVypOKlIpIygEJ88lVCTYICAdfRjiEgAOLAnSBJIBd/9L/pr9h/6V/p79hP29/B38f/vw+iD6g/nK+vL7Rv2u/0EBxwKCBNoFxQUQBCwCiP+l/F/6Sfco9O/xyu/f7fDrPOqS56TkmeLZ38fc5dlV1iTT4dHK0TfSrdLW03PVJNeM2BLZOtmm2dDaXdt12xbcBN2v3ZveQuAc4i3kjebd6BTr4ewq7o/uNe4G79fvw/D18q70Q/ai+GD7qP1g/xsBnwKbBEQHowgLCW8KoQx/Ds0PoxEnFIQXmxsrH+MisydVLJcwuDSPOJk7uj2NPyFAB0AyQHJAvEDLQDRApT5OPCg5qzRaLxwqoCSkHroYgRMgD5YLyAiKBZECkQAf/i77k/fH817w/+zr6R/n+uSD5PHlyefj6FPoB+YG5Kbi7OCH4DXhZuEk4nPgRN7+3CPcIdzM3ELfbuBB31nd3Nqk167Xdtcf2JPcReNc5z3ocuno5TjituOP6YTwiPTH8W3sLedO52zsxfGZ+vwAHQFf/PL3A/Rc8mfzE/V0+HD+eARGBm8FjwNDA/ACXQOdBOIFGgjyCfcJmwlqCogKtArJChsMNg60EDMS3RFhEL8OIA7mDGoMxAzmDWsQqhI7EwUTzxEtEJcOLw2MDMoMHw7ZDtsOhQ5ZDp0OvQ96EXUSJRNXFIgUJRRaFAMV2hWCFv8Waxc3Gf4bzh13HjcfVR8oHo4cyxr7GHYXvxYAFlEVHBXfE0USTBE2D/sLqAhUBeIBS/73+iL4zPZW9uz06PLU8HzuKeyn6pXp+eja6LDoU+d55eHkqOS+5Frlo+X95RTna+hM6eDpFOsi7OfsKu6e7uPul/Do8frxffIq86HzlPQX9vL2Zvd1+HP4B/fF9hj4jfit+KL55fi/9hb3//dX+H355/lj+X/5wPlx94z0XPXq95X4PPlU+nH6L/rg+ZL5Wvvj/oMACABhANIC6gRZBZgG4giKCjkMuAxLDBcN9Q0JDZcNVxFyE6AU7RVuFLERsg81D1cQOBMjF48WpxOQEeMNtguzDM0OIxCQEKEQnw50DDAMcguiDI4QuBMTEyIS+hIuEzQTERTaEy4UQhaqFswWvxZgGXEZnBk0GhUXYxTiFEYVPRXCFa0T/xNoFPMPqQl+F+IgHB/XICkViQiwBnr5XeqO98sGdwqPB3QCs/ZU8ZvpkNtk34ruifVA83T0ovDd6/HnEOi/60b3wfxW8yfsLPPk+1D8IgEUADX8yPuq8s7kC+nh8Ujz5fFa8cbvZurP5vvee90056TpcuFX3vHeE+C04VPl7ekA8Lbz5ukR4OTewuLk6OrufvVQ/QIAo/z39jD15fmX/Rn+o/xO/bz9Vfvm+kL/bAV5CxML6gSdAUwA0/5q/U//6gLIBcIGdgYUCX0NwA5DDs0N6Q3SDZQLcQruDE0RcBR9Fg8ZJB0vICwhwCIvJrMoSSl3KIQnsylrLLQtpS9JMs8zfzP9LxUssSk4J6cjbR+JHAQacRdKFEQRqA/eDbQKAwcuAxsAs/wf+Nb0EfMw8kjy3PIV89ny3PHz7wfuiOz56WrnEObm45riiOJT4sPiFeMx4nzget4N3AbZatf/1srVitWd1c3WbNft1hDW+tRc1ovYEtmU2F/Y4dfQ1xXYFtkv2tzde+HG4zXmUuco6CLpP+r864HupfCo8zf22/hQ++D82vyT/Bz8cPyo/e3+iADUAecCjwORBBwFnAahB0kJiAsFDX0NJA3bC2YMUQ7KD1cSIxYXHAsiBSjALc80wzsIQstHXkwUUIBTu1WhVqZY/lpgXJRchFynWihYX1R7Tv1H5EFKPKg1sy6GKC8j/R4RG30WvxLQDjQK/wR3/xz76fdV9Z3zS/NJ88rz/PM284HyefEs77TsV+oE577kluJS4Mremd3028rZqtZj0RHLd8T3vSO3SrFhrA6p86aFpuumvKZmp1WnV6Z8pbulbqaAqAKsAbBJtGK5cb5Lw07J085T00fXG9sn3n7hQeVo6IbsuPHq9fn4vfp/+1/9OAC2ArYE2AZNCNcIewlbCscLeQ5WEFMRuhIOFGEV/hXlFjUYnBk5GxYcTR0vILEjmifSLN8yQDnLP8hG7UwFUilX/lp2Xfpf+mGBY69l+2c/aT1n32Q1YY9aW1aJUVlKcUT1PEI1dC9WKdkkZyEcHTYYNRMQD9IKfAaxAXP8tPlv9iHycvD47p7t8uxv6rTowOfY5Rvjmt792hvYntSe0YzOx8sqyRLFYMCnusi1zbF+rQiqGaYvonieKppEly6Wf5Z2mP+Z2JtcnoygWqPGppGpnKv8rAaua69sshW3srwaw4vJhM8S1U7am99B5FHosew58KXzk/YI+Wf7bf5iAs4GEwvvDv0QGRJRE9ATRRW9FhcYchn5GhkdLSD9In0lPCdfKAMppikGKyMswy8fNSY7WEO/TBxVCl0PY/dnM2xub0RxIHFBcJptt2qzZ1pkV2HEXqxaaFZLUSFLJEWvPv840zPoLh4qqiVTIQQeYRunGeAXqhVSEtYNPgn2Axv/rPo59lzyH+9F7Mzpuedy5u7kNONS4UXe59ke1TrQnMu+x7bDx75euuq2lLMnsbGuzKstqW2mGaNgoA6eOJyYm/WbqJ19oB6kqKdJq9CuErJStf23ZbmeuoG8Jb89w8rHU80l0/rY7t4K5AbpqO2P8Rz1o/iQ+5j+jgCqArgELgcGCzoOkhECFN8VGxctGBQaZxzHHagfRiAOIZ4jViVAKAor9y3uMAwzHjWvN7U6/j5OQ6BI0k7zU9pZSV6IYrlmkmnea6hsSWyFa1RpsWa/Y+xf9VwFWQ9Vv1AQTOpHLEOIPvs5YjU/MREtTij+I9QfQBxKGCgUTxAkDDAIqgOy/j364PU98Yvs0ec95C7hPt5/29jYqNYa1DbRE86xypnHDMR5wGm9G7rhtpOzjLBTrqasq6vaqvWpPalHqNen8qdyqJupfKrbq9Cttq9lsuG0rrd8ugm9YcA9w/nGE8vTziXUmdmm3oPk4Ohf7S7xC/R198r5UvzQ/YL+nv9hAJABTwO4A6EFLAdcCKsKZQukDY4PiRDfETYS1RIpFIoUahZSGGQadx1EH6Yi2CX9KaYvtTRWO9NBOUc7TaVRlFabWw1fGWNgZdNmzmcWZwlm/2MxYUBeCFpjVk1Sk00FSu5FfEKUP0U8Kjl3NW4x0i0/KSEliCBSGwsX4xFQDacIDAQcAMn7pPcL9CPwr+zn6CjlK+IF37vcJtq+15vV7dIx0CrNt8nIxiDDO784uwK3xbODsCquiaxBq/iqp6qqqmGr7avZrHmtXq6Fr1KwzrHssh21Irjwutm+RMIbxrvKlc5d0zPYbtwE4R/khufP6nTt5/A/81r2ivmX++L90/4TABUCsQKQBP0EJQWBBjkGlwf3CAIK8wvxDDwOBhCMEd4TuRUHGLEb2R+SJXIrbTGxNyI9ukLpR9pLFVDtUqlUtVZ8V7lYZFnQWE1Y01YtVR9TVlBITr9L1Eg4RuFCIUBQPS86fzeeNBEyJy84K3knIyO3HnYa6RUtElAORQpxBisCov6N+0z40fVM8y3xPO/H7JHq4ucA5f/hV96w2pbWPdLGzdPIhMR9wN+87bmWtuezcbGGr3yuiK0lrcysYqxYrPWr3atfrE6sV60WrnmvWLEks9y1QLn0vZPD+8hfzoPT2dez3G3ghORe6Dfr9+0b8ETy//Rt9vL3o/kF+3r9+f4HAVsDYgWwB+oIOQqRC2IMlA1RDioPWRDUELsRfBOvFTYZHx0PIgIoTS7eNH07u0F8RyZM808pU2xVMlfHVwRY6ld7V7hW61WqVLVTdlLsUFhPEE2oSqlHZUQiQXc9sDntNXgxli1zKWYlxiHUHfIZ6RUJEkgOZQrBBv8CnP+q/ID5xvZD9AzyGfDz7dDrbOm55sbjm+Bx3eHZ9NVr0cfMRcjAw2y/ibuCtz60WLHerh6tk6tPqjGpsKiTqFio6qeDp8ymEadnp0uo3qkvq0at+q90szK43bwPwlvHJMyD0UHWd9pj3u3gkeN75dzmwujb6fzrDO4C8EvyE/Qs9k/4+PkV/NX9DQAsAvoDQAZRCKIKDw3SD+MS4RYvG/MfhyWZK40yfjlHQElHrU0xVJpZV15wYihlJ2cMaIVo5mh9aMJnomZ1ZaxkWWPjYRpgHV6OW3VY5FQmURhNZkiGQzY+xziBMy4usSlbJVwhnB2pGdsVXRIwD0gMawkwBsYCU/89/P344vWB8iXvgev45xzkaODU3NLY9tSP0IbMOsjwwyTAUbztuLy1b7LMr5Ct46uMqoSpFqmCqGaouKhQqUWqBqu5q6Osv60hr9WwybKptbC4MbwIwLDDRshczJLQz9Q92GXbXN0M367giOGP4ufiOuPQ40DkpuU/56jpCuxu7gzx5PMM9xj6PP3x/70CnAWaCFoMahAwFbIaaSAcJ7ItOjXLPBhEgkunUY9XZFxbYOZjVGZiaGdp6Gn1aXxpKWldaIlnWmb9ZG1jsWG1XyddcloNV05TUk+aSiRGB0EWPB03BjJ0LdAoxyTXICQdxBkIFtcSbg/4C+cIfAVvAsz+Rvt8977zJfAd7Djo3eNv3/3aWtYN0srNyskBxu7BX77huuu3nbWQswqymrCbr8quI67krf2tW67/rsevabBYsUOyt7OltdW3vrpHvSzAUsOsxuzKvs550srVDdhL2hrcCN6336DgvOEu4iHjOORP5fHmlOjJ6hTtme9H8sr0bvfK+QP8//29/58BcAPYBZoICww6EOoUqxoXIXcobTBDOAtAMkfiTStUtFmEXlliEmXnZvtnmWi0aFdo3Wf4ZtxlwWRuY0Ri7mAvXxFda1o3V1JT9E74SbBEFj8POQcz3SzbJiwh3RsDF1MSFg4kCmkGCgOB/0n8G/nW9bryFe+n6/znRORt4DncHdit0zrPscovxvTBGr5buua2s7PnsKqu8KxJq/+p7KhjqFWocKj8qCOpvakmqt+q8qu9rOKtGa+msOmybLXIuHS8c8DgxITJfM4T01DXA9tp3k7hkuMz5QvmtuY759zn0+h+6c7qC+wF7qbwZfPF9vb5V/20AHwDjAY0CfILsQ4WESsUSxdFG3ofIiSUKX0vyDUJPDVCPEjkTVVT8VcCXBxfOGG7YnVj3GOkY/1iJGIQYfVfgl76XHxbW1koV25UalERThhKwkUiQVE8bjdUMkYtWCh4I8seHxqhFTsRzAx7CCkE4v+a+zb35PJ97iPq4uWu4aPdk9l21WPRRs0ryf/EwsB6vCe4ybOWr3CrzqeEpMKhn5/nndycRJw2nJ+cS51inpifzaDrob6iyKPtpICmGajpqfOrQK47sbq0yrgJvSXBYsVPyUnN8NAm1DbXnNnm2/vdwt+u4UrjHeVV57HphOw27ynySPWd+AP8Xf9RAk4FAgjOCroNuRASFIkXiRvRH64k7SmTL5k1qDuTQXRH70w8UuhWD1uTXkNhbWO3ZKBlAGb2ZahlwWS4Y0Bis2AEX+hcslr0V+RUYFF+TUJJkkTLP8A6jTVNMOMqtiV/ILUbHReMEj8OyQl5BSwB9/zd+KD0cPAa7M7nyOO/3+/b+tcY1E7Qpsw+ydfFbsIBv6K7VLgbtQayC68nrI6pP6drpfOj6qJSok+iuaJcoy+kH6Uxpoyn8aiXqs+r8Kw5rq+vsrHDs162BrkYvHa/88Laxq7KkM5a0rPVGdmq2xbeMOAA4hzksuWu54/piusL7mPwWPNM9jH5Zvw2/4ICYAVTCEILHw5uEZgULRghHGkgVCVKKr4vQjXfOotAw0VlS29QQVVyWRhdXGADY1tlGWdQaBVpR2lWaQtpd2hqZ8ZlwGMfYSheo1rqVs5Sb07dSfNEEEAcOzo2jTHlLJAoISTWH3gbChfmEqIOcQojBrIBYf0I+fT0FPFl7d3pVuYE46PfftxY2TvWKdP4z+fMu8mTxprDmcALvrW7vLn3t2q2XbW0tKC0/7SPtWm2YbeAuM655LosvDS9T75/v4vA6cFXw/vEIsdLySXMzc6j0ZDUQ9dY2urcbN+H4UTj9eQ15nvnnuiW6d7q6+uW7RXv4vC98sP0Sfem+Vr82/5rASgE1wYJCikNnxCFFGcYHR2vIRMngSwsMiI4nj1bQ3RIW03vUbdVf1lRXOhe8WBkYuxjn2SDZbhlwWWQZcVkBWSFYrVgg156W1BYO1QVUJlLyUYpQiE9gTjHM0gvDiunJpgiSh72GagV/BB8DIcHvgLU/eT4HfRM78nqZuZM4nje7dqz13fUadFszlrLdshdxWTCVb9nvK+597aqtK6yGLEXsEivGq8fr5uvf7Bxsbuyv7PktB62TrfuuES617uSvVG/q8HEw47GSck1zITPfNIA1gPZ3tu43ufgcOMw5d/mT+gY6WrqSevZ7B7uKO+c8LPxkvM09d720/hq+sT8xv45Af4DxgZ8ChIOZxLpFo8b3SAwJjssRjIwOP49NkNsSA1NflFoVatYi1ukXZJfCmFXYlZjt2MGZMpjN2MbYmlgiV7pW/9YbFVBUfJMN0iuQ/Q+OzqrNd8wdCwAKMQj0B+3G8oXihM8D9QKWAYEAn39/fhP9JzvQevu5vHi/N4k223XtNMq0JnMN8nuxZfCXr8mvBO5MrZesxSxFq+frXqsiKskq/6qhatdrFCtha6Hr9uwBbJkswq1brZfuDG6QryPvvXAFcROx+jKcs6o0f/U6dcj2yDe5uB/423lZ+c06QPr4ex77l3wIfIc9DT2+vcI+uT7Kv6JAAkDogXKBzcK8gw/EC8UJBh9HNIgeSWyKvkvpzUFO0dAKkWmSRhO/lGRVZ5YH1tZXfBeTmAfYath+WHIYU5hJWDCXuZcqVo1WExVNlKbTo9Ka0YcQgY+yDmcNW0xLC0sKT0lkiH8HUYahRaQEn0OYgozBhMCy/2e+VH1EvHr7Mvo2uTv4DHdf9no1VnSzc6Ey1DIP8Ukwta+17v2uHu2TLRWssCwbq+SrjuuXK7Nrl2vGbAPsUKynrPxtEm2ubdAuRK7CL32vvjAAMNexfnH8cr9zc/QotOI1pPZctwe33jhaeMl5fDm1OiU6irsie3U7nnwaPJ+9IX2jvi++ur8Vf/1Aa0ElgeACrcNJREAFSMZWh3/IewmNiyMMec2Mzw8QS1G5kpPTzlThVZKWYBbdV3rXu1faWBnYAZgH1/+XW1cY1rcV/ZUyVFCTnBKakYwQu09jTklNa8wNizaJ5Mjgx+GG6gX4hM2ELsMNwmqBQ8Caf7v+nb3I/S08Ebt7umu5pjjlOCb3YfabNda1EnRT85ny4jIz8URw5LALb4bvE+60bi6t9W2ULYOtie2nLY0twC43bi1ua26qLvZvOW9Br85wFvBmsLuw7PFqsekydHL6M0f0FLSi9TR1sHYvdpf3MfdEt9j4PDhkONZ5Snn0+iG6j/sXu7D8D/ztPXv91366vzy/20DOAdLC0QPoBNQGE8d0iJsKC0uvDMlOVw+NEMASHJMnFBSVGJX+ln8W6hdD18WYMRg2mBYYDVf111CXEpa81caVdhRH04uSlJGYUJgPkI6AzbPMbot3SkMJkwieB6NGqUWwxL4Dj8LhgfHA/D/EfxO+I309fB97RTqiub04oDfGNwB2Q/WM9NY0GfNrsogyPXFLsSiwkTB9L8Cv22+Ob5cvse+Z78YwO/A8cEgw27ECcbJx3jJCsuCzOzNas830SbT5dRK1oHXvthG2jHcSd4a4IvhreLE4xPlqeZH6Lfp1eqo627sbe3N7kPwzPFS86307/V792H5k/vz/XAA1gJIBfMH6QpKDgsS/hXDGYAdZyG4JVgqJi/sM3Q4mTyZQJpEq0iRTBpQDlNtVWpX+lg7Wh9bjltNW3JaDVk6VxhV11JjUJxNgUoKR1lDsD83PNI4RjV0MVotFinvJAEhMh1GGRAVuxBXDCAINARyALv8+vgz9Xnx6u2P6mTnPeQo4QPe39q716vUxdEXz7LMX8oZyNvF3sM4wgfBSMC5v0m/4b6Nvqe+Kr/+v+jA4sH/wiLEicUix/TIz8qjzK/Oq9Cu0r7Us9aW2HPafdyG3lDgA+KX4yblzuaE6Evq+etx7Z/uy+8c8Yzy9/M/9XH2avc6+Dv5jPoL/GD9j/68//oApAKsBBAHbQmZC7INzQ9QEiIVIRj8GpgdIyDBIsMlRyn2LIcw1DP0Nvo5Fj1WQHdDMUZYSPxJHkv0S7pMUU1vTetMvUv0SdJHukWeQ1lBuT58O+k3TTTdMIItIiqAJogiXB4mGjwWkBL2DkALXgdzA63/Ifzc+LT1k/Jl7yLs9+jp5QXjK+BU3XTamdfc1D/SwM9ozSjL88jWxuDEJMOCwQ/A2r7RvRO9nbxvvIm84bx4vUG+Vb+swC3CzMNzxSLH6cjsyjHNX8+L0brT39Ue2IDa9Nwz30ThYeOG5avn0Onk69HtlO8p8cHyVPTr9Xz36vhR+qb7z/z9/Vr/0ABjAukDWwWWBrsH+ghGCp4L8AwEDucOwA/DEPQRKROKFAMWkRc0Gfoa9BwjH4EhACSgJjspxCsvLpswGjOeNQg4OTobPKg9+j4eQB9BxUH5QcNBFkEYQMM+Oj15O3E5KzefNNgx9C73K/go9yXwIscfZhz6GJkVXBIlD+8LmAgZBY4BH/7t+u739vTh8cvuzuv76Gfm/eOT4SXfo9wy2uzX1dXn0wzSRtB8zrvMKsvsyfbILciOxxLHocZRxnfG+8asx2bIRclNymnLwcxVzifQ7NGp05bVw9fu2f7bGd5L4Hvii+Sk5qPoZer/65ntWu8F8Yry7vM79YX22vdF+cL6R/yu/Qn/iAAeArEDMQWXBvEHRQlpCmQLUww0DScO+w7aD7IQVhEDEq0SdRNYFEsVFxa0Fk4XExgdGeoZixpJGxMc6hyrHW8eox/0IP4hBiNdJM4lDCcbKDkpUyr8KoIrCCxNLEAs+iuiK/oq7CnRKLcnViaaJJQihSB7HkccxBlHF+8UWxJvD3QMLwoJCM4EZwG2/iv8JPmM9SPyau9M7J/oU+Vp4pHfldy52WHXGdXC0hjRyc8ZzqXMD8zXyyjLIcr1yZjKmsoVykvK+8pQyxTLLcsIzJnMzMyOzdnO7s/p0EnSGtQD1sjX19lP3IveZeBx4hvlrud/6SfrMO0g76LwD/LG85L19vYo+J75d/tC/dD+dgBzAjwEpgUuBxoJ3Ar5CxQNZQ6JDzIQvhCwEZ4S9xIuE8wTZRTCFDoVCBblFmoX/BfrGM0ZdBodG/wbxxweHUkd9h27HtIeuR4jH/AfkyDEIHQh5SI+JFclkiZUKGQqwytuLIYtqy4VL+suSy5JLbUrjimmJ4QleCK1H8cdpBt4GDwV7xTEFcYS9Q5+DnMOFQy/ByoE2gJl/yX5VfSw8KfsO+iM49Df8dw62gbZ6dda1ZDUGtZ51ijVi9Qi1vfX2NYt1WfWDNi/17XWk9bb19LYm9j22NvZmdrr2xjdhN2O3ljgCeI74+3j2eVz6E/pdeoz7QrvZ/A/8h30iPaw94r4k/uA/TH+8v+5AQ4ExgV1BgIJAQugC6QNIQ/mD/cQnBHoEnITXRINE1cUuRMuE2wT5RNBFL0ThRNSFIAUXBRKFNYT0RMAFKcTMBPyEuQSERPkEnES7RL3E0wUhhRLFXEWjRdQGJwZFxtNHM8dlB8nIYIi0CN1JSwn4SeAKLEpaSpLKqkpJCmgKA4n0STPIqEgGh5tG2IYRRVrEooPtwzVCc8GDgSPAfP++/sA+Yz2JPRQ8RvuPuse6c7m6uND4YDfJN5E3FTaKtll2LDX19YP1t3V0dVk1XPVrNV71QbWkNZ91vnWotfx1wjZHdrr2ara4dzz3Zbe7t+p4QfkkOWO5tHoQOt87TbvO/Da8lH1Mfbh9xL6zvsl/Yv+RQCVAZoCKgRzBUYGTQfDB8cI2QrpCrsKXg0cD34P9A/ZEAEVChcvFCQVuhiwGOQWpRWlFhUYCRbDE58UxRV8FfAUMRVcFvUWHhd/GPwYxReIGCQaXRm3F1UXzxiwGbcXohbyGEYbVBv6Gr4cWyA0Ii0ieSODJecmYyfFJk4mViZNJbwj2SGCH74d6BtcGdEWJhS1Ee4PVA3xCQUHugRRAuf+Rvuh+A728PKz79Hs+uqd6G/l/+Ot4ivg2N7z3Wfcb9uE2pbZaNk72XnYVNhD2T/ZztjS2WfaGNr22qzbmtvP20XcWt0N3gje8d6H4NPh3OLs4wLmiuiH6ZTqdu2b747wCPLS89j1OPcv94D4WPv1+wH8s/12/sb/zgF/AVsCjQTfBPwFZweqB9kI7QlRC4wM2gsRDdAPLhAMEMIQuhG5E4kUVxMjFFQW7Ba0FrEWnRfuGHkYuxcmGN0XKRfcFlcWuhVRFTYVyxVYFj8WbxcHGiscDB5PIKUjTieCKdAryi7YMDsyAjM8Mx8zOTLFMAUvwCwQKkcngyS2IZgeZhvHGCsWBRNIEHENagrIB4sEZgGn/lP7EPhP9V3yj+8I7Z/qkOiP5tDkbOML4g7hU+Ad3yfetd0X3bPcYdxu2+ba79pD2j3ZytjE2HjYgNcj143XMNdR1/rX6dfI2ALauNpS3Bfert+V4X3jueXq57fpl+u27b7vKPFj8gP0kvW59pT34/h4+mj7ofxN/tz/XAG7AkME5wUmBwMIxwj/CboKFAryCcQKsApwCe0IjwnJCTsJFAnnCfgKdAvSC6IMtg2UDu0Opg92EEoQfBCyEawSQBM2FCkW9hhxG7cd+yDZJGQoNivkLdwwVTOFNB81hzXkNLUzjDKGMKYtvSoCKEUlESKCHkIbUhhEFdYRSg5fC5YIJwXtAQH/MPy2+Qf3afQs8jfwTu567NTqJOmR5yXmw+Rc4+XhUuD03oHdANyE2sXYONfL1ezTIdKm0BHPgc3gy1HKL8koyEnH28aYxorGDscVyFrJwcp0zGfOlND40vrUx9ZG2aHbJt0n31rhLuMb5dHmi+jp6jntRu+48X30Cfcb+cb78P7bAEQCNQQIBlsH/gfRCNwJZAqWCu0K+gv1DB0N/g2PD2oQ/BDFERUTBxT7EywUvRQUFUcVlBV7FqUX4xjsGvsdFSH8I+ontCweMeE0cjguPI0/tUE0QypEWkTzQ/1CjEF2P848JzqUN040cTDiLIIpwSWxIYgdohkHFlwS0Q57C3gI+QW9A6MBt//v/aX8fvvl+Tj4y/ZH9YDzjPFo72jtbOtd6WXnJuX04hbhCt+83GjaDNjI1XjTstC2zRbLysg1xnvDKcGDv0q+Kb2FvIS8/LzpvSe/DcFAwwjFTsczyrXMzc7d0ADTONXi1jjY8Nmf2yTd297c4Gfj6OU76MLrRu/X8SP1BvlT/Bv/MAEhA48FqwcVCUwKyQtLDdEO5BDYEjwU6hXVF2cZwBorHFgdTx56H7cgQyKuJKInzyqDLswyrTf9PB5CXEbrSRNNrk8hUVpRuFALT89MbEqERyZEjUCZPJ44kjQzMLAr9ia0ITEc/RYNEkoNswhhBM4A9P2f+9n5dvhh92v2mfUy9eL0JvQ584zyAvJs8eLwTPBj72ruYu0s7FXq4OcK5cThV95/2njWmtK9zv7KncfNxG3CCMDovVK8F7sFun25SrnkuOK4mrkEu4y81b0zv0zB0sMDxv3HN8pqzPjNic/W0fvTkdVy163Z5Nsq3sHgheM25r7oR+tG7oDx4fPh9a34iPum/cb/YgJBBbgH5AmlDL0PhxL5FH4XcxqlHXEgcyM0JyYrAS9cM3c4gz1VQm9HrkxvUZhVE1ktXMReBmBDYF9gAGBvXvxbVlmAVvdSyk5VSnhFNUDSOkQ1yi9jKvUkwx8MG5MWNBKyDqkLaAhYBdACggBP/hn8zPmP9531HvSX8ifx3e++7tTt1+zG61zqkOh15tjj5+C/3Ubae9a50hzPu8vryIDGP8Q+wtHAEMCxv1a/8b63vgC/tb+swOrBL8NkxPTF+cdQypPM6M3MzuHP9NDV0YfSEdOQ0y/UsdVJ2PfaRN1c39Lhr+Qw5wnpr+q+6xfs3eyJ7lDwnfEn85n1svgh/Mb/kQMaB/0JjwyVD+ESqRUBGLQaYR75Io0o1S4eNUU76UHxSL1PmFUOWqNdumA6Y8VkqGUbZs5l+WQSZOJiN2HGXhNba1Z5UUxMWUbUPz452jIULUIoMySTIHEdxBqIGJYWthRWEnIPvAzgCacGxQNmAdr+Rvwo+or4Mvd59QbzcPDy7cjq4eb04hPfo9oc1nLSSM8BzMPID8YHxCvCPcCKviO9l7vPuQi5WrlUuf2427kVvEy+YMAGwyTGy8hzyjjMv86K0OLQStGq0i3U/dRV1vHYXdvD3JveDuJH5S3nwejD6oLsiu3Q7g7xu/LJ8jfz3/Uc+b/6Cfwy/pAAQwLtA20GrQjTCQwLmA0tEbUUhhiIHRYjXCgALsw00TtvQa1Fv0m0TRBRVVOGVDpVdFUVVc5U2FQFVPhRaE/nTEpK2kbXQms+2DknNXIw4CzmKYsmJCO/IF8f1R20G5UZSReUFPQRZw/lDHAK0gdzBckDYQKVAI7+Ufxg+dz1+fG37eLoduMA3hnZx9Sv0OXMocnmxnjEPsJIwEi+uLs6uXK36bVntCqztbIks1m0MLaCuCW7n70YwNbCScW5xnTHIci8yBTJXskBygXLVMwtzvDQP9Sc19Xa2t0k4Xvkd+fr6ebr0O3z70ny3vSP9xT60vwBAGoDQAZlCHIKcQwGDuoOSBCtEtIUzxYiGiofYCRSKdYufDRGOoVAt0WQSW5Mck4cUOxQOFGDUOZOtE01TBtKA0hqRfFBxD2LOZE1UjEwLTspiyULI3whzSC3IJAgpCCdIF4gyh+aHu0cPxpJFwsV/BINEUQPmQ0aDJIKDAkZBzEEjAAL/Af3SvKB7W3oXeMW36vbp9gT1vPTHdJB0FXOzMxky6zJ6ceJxt3FYcX7xETFNsZkx7rHxMfIyLvJd8mAyGzHHsbQxOzDUcNMwinBisH0wyLHaslIy3LOvtJE1y/bX95q4Tnk/+Zg6sTtL/CP8VrzLfZK+Yr8mf8WAuoDEwZOCbwMoA/IEYUTIhY1GgAf+yP8KAwuUTNAOQ1Akka/S2VPG1KcVO5WoFjwWKpXv1XuU01SxlBXTmFKf0W2QEE8szfrMpktRyjrI+AgDR8AHgcd7hsaG6IaRBp3GdQXfxWzEgAQ8A0TDDIKYwhUBiYEUAKVAB3+sPqV9jbyG+5W6trmieNd4JvdkNs+2vjYStcg1ebS9tDizuXMWcsVykXJJcmSyTvKKMvqyxfMHczJy97Kh8n7x5bGfMWwxADEjcNAw1bD4MNzxI/ENcRcxOrFrMhry/XN9dBW1CfYqdwm4e7kwOe36rzu4fJ29pj5r/xX/3EBiAP+Bd0I2QrPCywN4Q/aE+IYEh81JekqszE5OkRDLEoaTg1R5FNrVh1YjljxV5FW3lR8U3VSXlBWTDtH70FtPNs2rTHqLF0oNySFIUghPCLWIsEiUiLpIQwhUB+uHGMZXBVWEX0OlgzCCpEIUgZFBCMCmv9l/JT44POr7krqzuak43Xgn92u20zaPdlZ2NjWf9QL0l7QTM9qzo7NtMyezMHNk8+Q0T/T7NPK0xvUCNUH1cfTftJN0QHQCdBl0UPSwtGp0E/Qf9BI0YHSwNN61QfY1dvE4PDlxult66vsBO/U8B/xTvFE8vvyxfPR9fX3OPn3+SD73/wy/l7+Kv5w/yMDkQcnDP8R9BjUILopRDMDO7k//0LSRTZId0k3SWdI6keBR71GR0YURoNE1EBNPCk4cTRpMCEsGyi4JCwj6CP0JRoopCmyKo4rBSxBK94oyCV7IgIf3BuLGRQYZBb7Ew0RpA0ZCikGOQFu+5r1gvA+7OvoOuZz47rgcd553GDaoddS1PTQ6s2ByxPK9sn/yg/MdcyEzczPz9E20ijRYs+czQfN982+zpLOC87FzirRZNNl1LXTo9JB0pXRUNHE0gbVxdbF2FDdU+OJ6YvvMPPY9Mr1qfep+hz81Pt6+2X8Fv/0AH0BIgI6AzQE1QMxBJEGPwocD3oTRBdaHPwj4y0DNro5WDrzOmQ93z71PKM4RjSkMREwlC7BLN8pOCb7IawdZxr2F/0V2xMyEbYPVBFNFm4bzR2YHi8gkCPUJrcn1iWZIj8g7B7hHZ0ckBrkFxEVRhJBDxAMyQgiBGT+Svkn9s/0E/PK73DrP+h25/bmt+Tb4Pzcqdou2o/aD9qt2IrYedlL2h/b+9v722XaNdhy1mDVhdWm1d3TAdFazwTQQ9Hz0FXO/MlRx1jI4MncyaPJk8ryywLOQdLL1oHaAd7n4GLjdOdW7V/yAPUj9tf2zvhM/UwBVQEz/4j+b//FADEC6AJAAsEBDwP7BeIKIBFlFn4aISB5KKExGjpPQH9CrUIYRDlGbEbHQ5E/TDszOOc1tDIZLqYohSIIHNwWlxPcEAQOJgzuC0cNehCGFB0XqRdlF1QXmxd8F/4VdhOgEQER6xDoEFMQRQ7pClkHGQTiAEP9gvkC9i7zlfHz8Ijwbe9J7ZTqAugb5gfkUuHO3v7cWNz33JHeDeCM4MTgYOFv4kPjO+Oy4jrifOIv45fjzOK14EDeZtsY2GXUm9DOzfPMQM690G/TxdZ22g3eZOE05EnmcudB6UrsRO/q8Vr0TvYL+ET6RPyF/D37tPmJ+Jv42vmW+qv69vvV/0UGEg7AFcsbFyGNKHcySTy+QslEJUTVQ3hF8kaHRd1AwzrpNY0z+zFpLvAnRyCkGRsV4xILEtgQxw4oDSwOiBIWGJAbwxtxGh8aHRxTH8sgsh6BGlUX6RaKF0kWEhI7DP0GuANsAkQBb/7k+Un1hPKy8QXx0u4g6+zml+My4lLiauLh4DTe1dwA3qvgzeJ441jjc+O85OPmmujZ6H/nSuaD5lTnlOc959bmSOZQ5c7k1eRY5C3jyuEc4Urhm+Eg4t7ireOm5LvlyecW6qfr3eyH7l/x2vPo9PD0VfTE87rzGfQv9P/yi/HE8bjzRPa09zj4x/jB+b771f40AwsIKgx7EFQWwR2DJfArMzAAMhQyOTLyMiozuDHTLnssdSsoK6Aq0SjIJdYhIR7WG6camBklGAUXLReZGOUaPR2uHrIemB2iHFwcFRzYGqsYNhYiFNwSIRJXEX8PVwzcCN0FcQPVAOj94/q/9//04vIw8SHvEeyI6DLla+Iy4EDepdyH2wLbKtvs2/ncFt7k3hXguuHR4nPjUOSY5ZfmNOer52zn1uZj5u/lCuVt44fhE+C1393fzt9z31Hfi9+i4Djj2uaG6tHtRPH19HT4qfrT+o35V/jF9533Lvhs+QH7CP1H/zwBPwJyAlYC+gEfArIDuwe1DeoTshnoHz0naS4dMzs0czJdL4osWSroKCAomicVJ/4leySTItgftxsXFi0Quwu5CcQJugoGDBQO0BBnE+0U/RQTFI4SuxAvD4cOCQ8JEPUQeBHDEfwRPxH9DhILiwaZAp//jP3p+8H68PkU+fL3Mfaa8xfwAOxP6FflGuPo4arh++GI4o7jvORY5VrlhORn41LjqeMI5BHlcuYM6P3pIOyB7WvtK+ym6szprOmk6dTpiOoo7Bvuk+8B8drxIPJZ8krzivVW+Pr6X/3g/48CRwQ0BcYFdgWaBJIDAgNFA+kDNwRiBB4FfAawB1AINghvB80GvgZIB3AIHgoGDMMNLw8JEBcQuw8FD/EN+QyWDJgMewxMDG4MAA1+DZUNRw26DFYMMgwzDE0MnQwHDacNaA4ADykPMg86D+EOcg7wDZwNmA1mDTMNJw1VDVkNrgyxC5AKswkrCasIEQg5B08GhQW7BPgD5QKEATYA5P6L/Tf84vqM+Tz4YPcc9xj3U/dV9yz3NPc39073gPeJ9373hve59/T3Ffgo+Pb3xPfq9zH4Mvi/9xf3bPa39QT1QfTY867zffNR81jzqvPt8/zzmvPs8gDyDPET8AfvAu4G7RPsHuth6tLpYens6E3oueeJ59rnj+g26erp8eqr7LPuY/C68ZXyGfOJ8wf0rvRm9S329vaj94X4bvk5+sv6Xfv2+5X8lP3N/h4AgAH3ArAExgaoCAsKHwsyDEANKQ79DrYPhBB2EXkSWhMcFHEUfxSmFOQUJRUrFQYVwxR+FF8UdhSiFKIUNBRcE4MS0REwEc8QrxB9EFcQURA5EAAQrg8ZD4MOGQ6xDRkNaAzTC4ILXwtsC3sLSgugCloJ7gedBqsFJgXGBGUE6AMhAz0CQgE4AEP/Qv57/dX8LPyX+xP7k/oS+pX5Efl2+NH3B/cU9kf1fvRp82PylfH68GvwJvBt8LLwYPBH7yzuiu1L7U/tlu0l7rzuze6Q7pLuD+/f71Pwa/Be8E/wEPCI7zfvgu8N8IPw7fCK8XPyNfOu8yX0DvVl9qb30fgH+l375vxX/nv/sgABAtUC6gIIA7oDiQTqBO0EbgXtBsMI5Qk2Co0KHgs7C98K4wqZC4IMzQz5DCcQIRc1HSoeORobFOUNmggqBjEILQ2+EEMP0AkcBAIATv3g+9L86P+7AXAAAf79/SkBWgRnBpMHVAdMBdUBNQBZAhAGsgjhCAoITwgtCWMJ/weRBTADjgA+/lL9t/5jAWkCZQGj/9T90/sg+Z32c/XF9QT3rPfc96L5aPwW/uH9kPxI+/b5H/nx+XT8Nf/+/8f+Zv3L/Bn9XP3l+8H46vWW9ID0cPW19xD6P/pi+Hr2NPaz9gj26PRe9Yn3Wfmk+WH5o/nz+Yn5HPnc+dr7Gv3c/Iv8P/2H/v7+3v4+/2YAcgHIAeIB9wFDAmsDTgUmB14IYwjhBmEEmQIHA88FYwnWC7wMQQzQCkAJmAhMCeAKbQyRDcEObRAcEv4SthJPEVoPgQ3eC90Kcwt1DZ0PmhBKEDkPvw3aC9wJkQiGCBUJYQlACT4J6Qm7CpYKHwlIB8gFcwTrAv8BDwKsAvYCZgKpAQ8BUAAH/139IPzg+zX8mvz3/MP9rf5t/gD9evto+rf5H/nh+DP5ufkF+u755/k4+ob6dfrS+c34Dfjz9xD4L/iE+Pj4Aflm+I/34fZ79lr2mfa195/5pvvu/On8/vvU+nr5J/iG9w/4hPm++nP70/vV+2/7lPrL+Rr5jPjx+HP6tPxY/wgC5gO+A88BV/9n/dP88/0vALoCdgRSBYwFKQXkBFsFSwbPBsIGiQadBm8HhAlRDP0O0RB4EewQgg8oDnsNiQ1MDq8PcxEfE0UUpxQPFIQSrhA/D30Ocg4ZD0gQOxGhEa4RkBEjEUEQFg/YDd0MQQzyC+0L+AvjC4gLvQpqCZwHmQXGA3wCeQGCAJf/3/4Z/ub8kvs/+uL4YffI9ZX0+fPz8yr0B/SM8+nyXvLb8WvxdvHy8VPyjvL88qTzPvRJ9O7zf/MQ8/XyUvMY9AT1ofXW9WD1svSA9N70PPVx9aj1//U19g72//U99tz2Vfdo90L3YvcH+JL4QPiq94D3hfel92b4rfqa/bn/OAAe/6T9mfxs/Gf9LP9eASgDyAOYA4gDUgSgBUUGeAaGBn0GjgYBB38IlQq6DDEORw6pDTcNFg1EDXcNDg7oDmEP2A+oEP0RVBPRE4UTyhJGEl0SChNEFLEV7BZoFxYXfRb1FWEVjBSSE7AS/RFkEdMQQhCGD28O8QwWC2wJJwgiByoGMQVDBCIDywFJAKn+Lv3l+9/6DPpO+cD4Pvhn9zH2HfVV9LTzL/Ph8sPyrvKj8qbymvJz8ivyrPHK8MLv+O6Y7sHuZe9P8PXw3/Ak8CbvNe6D7VbtpO0R7pXuZ++J8KvxivLN8gzydvC97iPuAu+/8MfyiPSb9aj1QvX19Av11fUG9/v3sPjS+XD7Gf1M/jn/8f/e/xD/Iv4o/kD/8ACEAoADDQRiBHYERwRZBOUEawVcBfgEDAWvBTsGJAaGBe4EeQQQBAgEegSQBagG8AbnBtoGNAeXB9kHXAgkCQoKegqFCpcKuwq7CkoK0wkKCkUKdgqLCmUKfAoxCsgJcwnMCJoIfgg2CPsH1QcwCG0IDwhxB0EGZAV4BJwDjQMxAx0EGQTvAR8AYP4f/v79g/wg/br9Jv1N/HP6wPql+wr7L/rX+Pj4Qvnc9/H2tPY694P2VvSv81XzCPMK8hbw4O+y71vvSe9w7vjuGe+l7T/smupO6p3qiOoL62XrNOxd7G/r7OrX6rfrFeyd61Tsa+3V7sXvsO/38FLyyfKt8k/ylPPv9AH1CvWE9fz2FPiD+J/58vqV/Kn8Cvsx+h36JvuR/HD+QAJxBWIGtwUnBDQDsAJ/An4DhAWQCB0Ltwt9C0oLEQudCb8HUwcdCKoJ/QrbCzsN4g39DNoKQQjABz0IPgiwCLIJXgseDBMLwQn8CI4IiQfoBXkFfQapB6AH7AYCB9QGpAW9Ax4CBgJ/AmQCVQKgAkkDOQOeAQ0AVv/Y/gz+K/0r/RT+p/4R/qr8G/t5+aX31vUm9Qz2XPfu9273XvY79XPz/PAm787uc+8t8Izw9vCX8V7xDvBU7gTti+xD7EPsNe0D773wf/Eg8VXwOO+07VDseevR6/7sXe577zPwU/C+73XuLu2Y7A7tee488OTxG/O3857zEfOG8uHyxPOs9HX1NPZM94H4gvla+uT6hPsT/Fr8/fwj/tb/QQHWASwCRAJSAmgChQJgA38EYQWxBX0FpgXgBT4GzgZaBzMI8wiHCcEJvQnJCWcJvAhRCGkIIwn2CX0KqwodCmwJ9AitCAAJ0wnVCmwLawtzC7sL8AvxC7ELRgusCgUKdgkhCVkJxwn3CY4J1ghACHYHigb7BfgFZQa+BvQGHwf5BkoGGgXVA9oCPALeAbAByAHMAVcBtQABAF7/tv4V/s/9tv2+/cn92v3e/Z79Dv0Q/DD7gfrA+Wr5Qvlg+aT5n/ml+Wv54fhi+Pz35vdO+BP5Dfrj+k/7Xfsd+7D6dfqi+j/7S/xZ/f/9av6L/mD+FP6j/ab9F/7E/tj/FQFCAhwDRwPlAlwC5QHyAWgCVgOsBNgFgwaUBjgGlgXeBJQEnQT2BLAFZgYTB1YHQwcYB8kGVwbrBYQFYgVyBV8FUwVCBTYF9ARbBK8DIAOwAkMC7AHGAcIBtwE4AZ4APgDs/7f/bP83/zz/8/5o/uv9jP1w/Vr9LP0m/Qz9xfxM/Kf7Lfv2+t/6+fo0+5X7+fsE/Mf7fPtQ+zf7Q/uC++v7Sfx5/Ff8APyu+1r79Pp0+lD6ivqy+sT61PrO+qr6Ovrr+QL6WvrU+hb7Xfuh+6z7k/tL+0r7b/uI+7L75Ps+/Iv8n/yQ/IT8hvy9/Bb9wf2j/nD/AgAqACMAFwAzAJAAEQGxAWYCCgN+A5YDjQNwA08DPgNbA+YDygSkBTwGjgaJBkUGwAVeBX8F/gWiBhgHXAdvByYHlAbuBYkFcQV3BYQFowXNBcQFawX4BJIEKwTqA70DsgOoA3YDKwOvAhoCnAE0AdwAfwAwAPT/rf9B/7H+Kf65/Vf9A/3N/Of8Bf3k/Jb8Nvzw+6f7W/tW+5L75PsG/Oz70/u1+3n7Ifvp+hr7gfvT+xT8SPxv/FL8AvzP+8v7Jfyn/BX9if3Z/ez9xv16/Vn9TP1k/a399/1Z/qn+0P6+/nr+Wv5T/l/+pf79/mX/w//t//T/xP+O/3b/Y/+F/9L/JwBpAJQAuADHAMgAzwDrABkBZgG+AQwCQgJnAn4CggKJAqUC3gIoA3YDxwMRBDoEUARIBEcEaASoBPQENAVqBYQFegVGBRQF7QTQBMMExwTHBNQE0gS4BH8EKwTkA5QDZgM+AzADNwMcA+cCiwImAsQBWQEDAccAsgCpAIYAagBFABkA0f97/y//9f7X/r3+u/7E/sb+mf5X/hv+6P3H/a/9qf2v/cP90P3W/fX9Bf4I/gb+Cf4q/jP+TP6C/rD+1P7v/gH/G/8r/zv/SP9l/4r/mv+6/+H/HABSAGYAZwBnAF8AYQBrAIMAlwCfAKkApACUAI0AgABoAFYAPQAxACQAKAAoABoACQD6/83/k/90/2//Yv9U/1T/Tv9A/x//D/8M/xX/Fv8F//T+/f78/vP++v4K/xv/IP8p/0H/Zf97/4//pf+7/9D/3f/h/wEAJAA9AFEAXwB9AIgAiACNAIgAiACSAJsAmACZAKYAlgCHAHwAZQBKAC4AHQATAA0ABADx/9L/sf+K/2T/Sv82/zH/If8L/wP/7f7b/sb+r/6j/pn+kf6L/o3+mv6a/pb+hf5u/nD+b/52/or+l/6v/rn+vv7X/t/+7v78/gT/G/8x/0b/Vf9t/4b/l/+g/63/wv/c//r/HAA4AEUAVwBtAHYAjAChAK8AwQC3AL4AwQC/AMsAyQDNAMwAzwDaANsA4ADXAMwAwACrAKgAmACNAIkAbwBhAEkALQAYAAcA+P/o/9n/yv+6/6n/pf+X/4T/a/9U/0n/Of8x/yb/JP8f/xD/Bv/8/vX++v7t/uT+3f7b/uD+5v74/gn/EP8a/x7/Hv8t/zP/Mv80/z7/Sv9T/1b/af96/4T/jP+I/5P/nv+x/8X/0v/n/+//8v/7//b//v8BAPz/AgAJABUAKQAuADoANgAxADMAKwAyADMAPQBDAFMAYgBzAH8AkACSAJIAmwCcAKoAtwDKAN8A4QDnAPEA6wD0APQAAAESASIBNgFGAVUBWgFbAVgBTgFIAU4BRQFSAV8BagFwAWYBZwFaAVUBVQFOAU4BUgFJAU0BSgFCATkBIgERAQgBAAH0AOUA2QDWAMwAswCdAJAAfwBlAFAAOQAlAAwA9v/p/9f/xP+v/5b/f/9w/17/Uv8//zL/If8T/wf/8/7u/uL+yv7G/r7+tP6p/qP+p/6n/rH+sv6u/rn+vP64/rr+uf7H/sz+0v7i/ur++P4B/wf/Bv8W/yD/LP88/0H/Vf9s/3D/dv97/4T/m/+h/6b/tf/A/8X/1f/h/+X/7P/u//b//////wUADQANABoAIgAiACgAMAAxADgAOAA6AEMAQQBAAEMAQAA+AEUAPgA/AEEAQABEADwAQABHAE4ASgBMAFcAUgBQAEkARAA7ADwAQwA8AEAARQA+ADgALgAmABwAFwASABEAFAASABcAFQAQAAgA9//o/9z/0P/R/8//0f/d/9f/2f/R/8j/vf+v/6z/of+c/57/oP+k/6P/of+V/4X/g/93/3f/ev95/4L/if+M/4v/if+A/4H/ev97/4L/g/+O/5H/lv+P/5b/kf+Q/5j/lf+h/63/u//F/87/1v/b/93/4//y//3/BQAOABEAHwAoACsANAAzADUAOABFAEwAUwBfAGUAaABrAG0AcgByAHUAewCAAIYAiwCRAJcAmwCcAJQAkQCRAJEAlQCRAJUAlQCXAI4AiwCGAIcAhgCAAIgAfwB8AH4AeAB4AHIAaQBiAFkAVABKAEoARQBAAD4AMQAtACgAKQAlACAAIAAeABgAFQASAAkABAAHAAcACQAKAAcACAAEAAMA/f/9//3/AQAFAAgAFQASABQADwASABIAEQAaABwAJgAnACgAJwAgACIAIAAfAB0AHAAnACgAMAA6ADkAPgA4AC8ALwApAC4APAA6AD4APgA9AEAAPQA6ADoAOwA9AEMARgBIAEUAUABJAEsAQQBDAEsARQBGAEsASQBKAEgARABHAEYARgBBAEYASABBAEQARgBKAEkAQQBAADgANAA5ADAANAA7AEMARwBAAEAANgAlACIAIAAZABUAEAAKAAcA///5/+b/4//e/83/y//B/8X/wf+9/7v/rf+n/5//lf+K/4D/fv97/3v/fv94/2z/bP9q/2H/V/9X/2L/ZP9q/2j/Yf9k/13/Wf9a/1//Zf9l/2v/dP9q/2v/av9z/3b/d/99/3j/e/9z/3X/eP9+/4X/iv+P/4n/gv+D/4D/hf+M/5j/pP+r/67/pf+m/6P/pP+l/6v/sf+1/7r/tf+v/7H/rP+x/6//uP/L/9H/3P/X/9r/zv/D/8f/zv/Z/97/5v/p/+v/5v/c/9f/2f/Y/9z/6P/u//T/+f/v/+j/4//S/9H/3P/h/+f/6f/r/+3/4v/P/8H/wf+7/8D/vf+//8b/wv/B/7b/rv+q/6X/qf+n/6T/n/+e/5r/mP+X/47/gv94/3X/ef97/4L/hv+L/5P/j/+C/3v/ev93/3v/jP+b/6D/oP+a/4n/gf97/4T/k/+i/7X/uv+9/7n/tv+0/7f/vf/G/9X/5f/y//r/+P/8///////9/wEAEQAcACkAOwBIAFEAUgBWAFcAXABrAGoAfgCQAKAAqACpAKcAogCcAJwAqgC2AMkA0QDaANoA1QDRANMA1ADXAOAA6gD2AAoBCAECAQAB8ADvAPIAAAENARYBGgEYAQsBAAH9AAABCgEaASMBHgEaARUBDAEOAREBFQEXARwBHgEXARMBDgEIAfsA8AD7AP0A+gD3APIA5ADbANcA0ADTAM8AywC9ALQArwCvAKgAqQCkAJ4AlwCNAIYAgAB/AHsAfAB8AGsAXwBIADQALQAXAAQA9P/9///////9/+n/1//E/7H/n/+e/6//tP+4/7X/l/9+/2L/Wf9l/3v/hv+I/4D/Yv9H/yv/Kf9A/2D/dP90/2f/Sf8k/wr/D/8x/2L/kP+t/6P/d/8z/wH/9v4e/1n/if+t/63/gv8+/wX/9v4W/1P/lf+//7//lv9G/wP/6f72/i3/ff/A/9X/qv9Y/wn/3v7t/iH/dP/M//n/5v+U/zL/5P7J/vn+Uf+2//j/7P+x/1j//P7J/tf+Jv+G/93/BADp/5f/PP/t/tH+D/91/8//AgABALf/Uf/8/uL+CP9e/8L///8CAM3/af8O//b+E/9o/8r/DAAUANj/b/8J/9f+/P5J/7L/+P8AAND/bv8b//P+C/9W/7D/8v/8/8z/f/8w/wf/EP9I/5T/3v8GAP3/vf9n/zL/Kv9e/6z/BwBKAFUAHADE/3n/Tv9g/7D/FwBiAHsAXwAJAKz/c/9t/5n/9v9ZAJUAlQBnAB8Ay/+c/6H/2f8oAHgAogCiAHQALQDm/73/z/8NAFUAgwCeAIsAUwAPANf/0f/0/yYAUgBwAIYAZwAuAAQA7//r//f/HwBJAGcAcwBbADoAGwAGAAEADAAnAEkAfQCfAJ4AewBIABwABwASADwAhQDOAPYA3gCbAEcAAADd//b/UQDCABwBOgEIAZMADwC1/7b/IAC9AEMBgwFtAf8AVQDH/5f/3f+GADEBogG7AWcBwwAKAJ7/rv8/AAYBrgEGAuMBKwEqAH3/ZP/X/64AkAEgAhcCWQFIAFT/+f5Y/zIANwEDAjcCpgGQAGv/xP7r/rL/zADSAUMC5QHXAJP/tv6Z/kn/ZwB0ARUC8gEKAb//xP54/uL+0v/pAKMBmwHQAKn/qf5C/pH+bP92AD0BWgGcAID/hf4b/mX+PP9BAAEBHQGMAJv/xP5l/ob+Jf/6/6cA2ACMAOL/LP+0/qL++/6e/1sAyQCpACsAgf/8/tP+E/+k/1cAxwC5AFUAuP9A/wf/H/+G/yYAqgDAAIoADgCf/0j/M/92/+f/WgCXAIYAPQDj/5D/S/9C/4n/3v8iADMAMAAYAOH/n/9j/0r/Z/+J/7X/9P8pACgA3P+X/1//Nv8f/zf/g//i/xgAEADb/6r/YP8A/97+Kf+k/wMALgATANv/ev8R/9z+Cv94/9f//v/6/9D/aP/2/qj+tP4T/3//xv/i/87/gv/6/n3+ZP6x/j7/t/8EAAMAr/8O/3L+Jv49/tT+i/8dAGQAIgB0/7D+K/4y/qv+gP9AAJYAagC5/+j+Wv5b/tn+m/9MALMAlgAAAEH/sf6d/gn/vP+BAOEAvwA6AIP/Fv8L/3//MADQAB0B0AAaAHD/Jf9l/x4A7gBdATkBqwDO/yv/Qv/Z/70AiAHCAVEBdgCw/zL/V/8VAO8AnwHVAV4BggDL/3f/hP8SAAMBlQGVAUQBvgA/ABwALgBTALMAFwELAakAbwBdAGYAlwDnABIBBgG+AC4A4f8gAIAA5ABoAb8BawGhANL/Zf/L/64AbgHnAQMCawFJAFb/Gv+M/3IAVQHCAdcBXwFRAFH/BP+A/yQAzwByAasBYAGUAJ7/Lf9u/+T/WQDVAC8BHAGyACkAxP/B//v/LQCOABIBSQEHAaAAZwA8AEkAWwCJAOIAAAG+AFwASgBzAJMAsgCyALEAogBHAA8ARgCXALEAmwB7AFsAPQAwAC8AdQDQAJcACgDj/yUAaQCfANgA1AC2ADQAdf9i/xEAwQAAARkBFwG+AAYAP/8H/6n/fADuACIBPgH9AB8AM//r/lL/BwChAAoBWAFGAX4AVv+e/r/+T//8/9AAegGGAakARP8+/jP+6/7b/9UAtAHGAcIAQP8g/t79cf5w/4gAgAG/AeMAYf82/s/9AP63/tP//QCWASwB3P9w/p79Vf3K/SH/swChAWoBKQBx/i790fxl/f7+yQCrAT8B7v9U/g39y/yH/fL+qQCJAe8Alv8+/kr9GP3M/QP/MQAAAbUAc/9k/uf9uv0m/hz/7v89ACcAuP8L/9X+0/6r/v3+tP8FAPb/4f+W/z3/Qf9J/yj/X/+9/9L/2f/j/7H/jf+n/33/H/8v/2n/mv/8/1cAVQD6/4r/7/6P/un+pf9mAAoBLgFpAE//av7m/Vj+t//0AIUBcwGZAEj/Rf7z/Wv+q//7AGQBGAFmAED/Zv5a/sb+af8vAJ4AgAA0ALz/AP+s/ub+RP+8/2QAowBKAPz/lf8P/wH/bP+y//L/OwAXALz/u//Q/9L//v8GALb/gv+g/8r/+v9kALkAnQA7AJ7/Hv/8/kH/7v+oAEwBegH5AC0Agf8d/zj/xf+RAF0B7gHRAe8AHgCn/3f/kP/6/9gA2gFdAv4BEgFgAMT/Pf9y/4gA3QGdAokCsAGeAOX/Wf9M/ygAVwEcAj0C9gFgAakACABt/3X/cQCoAUECPwLSARUBKwBL/xf/+f9IAfoBEQLzAVIBOAA0/9r+gf+5AK4B9wHGAeUAkf/b/h3/7/8FAdMBhAGeAN3/Vf8q/7b/dwDyABsBoQC2/2L/u//m/wQAdwChABwAnv9v/47/DwBzAGwAUQD+/zL/kP7w/rb/SQDvAD4BkgBJ/07+AP5P/m3//wDcAcgB3AAh/9H9uv04/kP/IQF3Au0ByADQ/3D+fP3U/Tz/3wAKAi4CdAFkAMr+c/24/S3/lACgATkCwwFKAMf+Df5u/mL/LwDlAJABUgFHAIb/Nf/l/vP+wv+kAEUBbQHUAA8AUf+M/sH+4f+3AAABFQG3AMX//f7B/uP+iP81AHwA4QD0AAkA8P6a/rr+CP/G/4sAwQCeABsAR/+2/ob+j/4F/+3/rQAKAdEA4f+3/rH9hv2F/uf/DQGIAcIABv+k/VX95/0h/1wAqQA1ALH/Hv9//mD+wf7k/uj+Sf/W/1YAogAVANL+5/2e/Zf9df5RAIcBeAHQAGn/fP1x/Kz8B/5eAH4C9QLOAZP/8vyC+zD8K/6KAMQCpwOGAun/Rf3r+wP8Sv28/6MCcAQKBIoBX/7n+9D66vta/1IDXwXfBFwCnf5h+4z6efzv/0IDDwWNBE4CE/8D/If7if3X/98BvgMZBBMCU/+R/Tz9Tv4OAFkBMAJiAhgBjf92/7D/BP81/0gAMQAAABsB2gGJAc8Aef9x/sf+cP/w/3QBIAOPArQAsP/6/ir+af4GALcBiwK9AvIBRQD8/l3+Of5e/x0BLgL8Aj4DpwHn/pr9xP1H/v//tgJQBAIECgLk/pT8z/y//ucAZQMdBZQDKgBC/o/9nv3K/1cCzAJ+AgAC+P+5/qH/v/9z/w8B7wEBARABiAFbAGz/+f/g/73/GgGWAYgA3gDxAGf/fv+JAC4AUABmASkBZQCFAEkAAQC5ALoA7/8OAHUAUQC9ALEBpQGnAI//cf5y/h0A4wHIAvAC1QHE/1P+7P2k/rwAzQJQAwwD5AGV//r9jP0k/pMAVAP7A1IDEwJp/yX9Ov1Q/rb/CgLIA4cDagLVAPb9pvsm/DH+IAGSBGcFEwNDAIb9nfp2+jn++wHjA7wEIwOw/9/8Hvt6+5v+1wHeAtwCUALz/1j9wvxE/fb9bv8QAUQCggLnAGb+fvzc++j8Xv8NAnUDPQJo/yj94/sd/Gb+QQGuAl4CyABk/rn8ZPz4/CT/9wGzAp0BWwBo/qb8t/yX/TD/tgHdAvIBdQCZ/r/8bfyH/YD/JwKBA2oCKgD//X38Lfy//Z0AtAIDA2AB7f62/Wz9YP1a/mgA6AEvAqkBvP/R/Wz9Q/0g/rkAkgLGApwBO/9Q/cz8Nf3Z/okBQwNuAqMAPf/B/Rv90v3K/koA4QG0AfAAwwCe/6H9fv1f/ob+zf8gApkCigFbAAn+UPxg/XD+Kv91AUQCugAjANr/8/3j/Mf9hP5//58BhwK0AfUA1/7d+wD8L/6c/8gB6AN5AlP/3P39/E78mf3X/5YBJQN8Aq//T/4Q/hT9hv3s/1MBTgJmAl0ANP+u/tz8Sv01ALQB4QKxA8cBA//X/er83/zo/ykD7QNgAwoCdf8b/Yf8sf3P/4kClgQGBA4Crv9o/Az7ff0EAY0DHQWnBDkBX/3t+178kf4/ApsEpQQLA9v/sPyn/Af/SQCzAJACTgPxAHP/+v89/8b9jv4oAJoBWgMqA5QA9f7O/kz9Uf0eArME8wH2AKMATP3W/LD/sQCmAVcDywHF/rb+d/8l/1kAnAEaACX/2QCPAYYA7AAxAe/+gP1q/tL/uQGjA2gDswBi/uv8/Pqb/D0CkATIAzgDzP97+3777/yS/TQBVQU+BG0BYQCu/eL6FPwK/v7+iQJWBkkELwBH/uX6g/j5+50AcQOuBl8GvgCe/GT7uvkE+4AAWwTSBYUFsgGt/VD8c/uF+7L+ygKwBKcEWwNnAGP9Rfx7/OD9FQHYA7EEOQTcAQf++vsD/dj+oQAgA7AEcQNrALz9Pv01/uT+hwDTAhwD4AEuALv+TP67/mH/dwAVAg8CIgBk/63/uf60/psApgEkAacATgDX/3r/Lv6v/XYAnQLKAYsBGAEs/ob8i/3B/kMBsQMVAqb/Tv/0/T/9HwA5AuwAiP91/17/2f97AQkCKAEdADf+e/y6/fwA1ALjApUCLAEr/hf8Pfxf/oYBcgN9AzgC/P+b/bH70vsZ/ywCxAKSAmQBCP+X/e/84/zv/vUA+wCKAcMBZP+p/fH95/3a/f3/PAJ7AQUAPP/c/Ur9hv62/9gA5wHKAID+pv1D/qX+8P5PAMMB9gDz/r/+/P42/mD+DAB6AYQB1AD6/1T/6f4y/pD+dgD6AcgBgwBRADAAVv7F/QD/fv92ACkCnQJmAV7/B/4w/bb9fv/XAGMDLgSrAKP+Zf5H/Cb8v//EAj8EewS5AQL+fvxw+6X7cQAcBdUFWATWAFH9BvvS+Yb8AgL+BIEEQwOoAcX93/rS+4792v9AA6IE1gNBAjv/EPx7+3v9uv8OAksEJARqAdH+Kf5H/X38YP/VAp8DlgNZAVf+6v25/ZT9tf+6AlgDjAFGAP3+3/0O/0T/f/5mAIcBkwBmAS0CAwBd/pH+ov2C/QgBPgPDAW8BawFj/nv80P2a/n//RAI3A1QBuQC4/9T8t/yw/pv/GQE7A0MD/QD9/tL90vwJ/l0A7AD0AXYDRQL0/xz/gf47/Sn+4gAXAgMD8ANWAiH/Y/3J/Jr8lf8YBCkFiAOUAa/+7vu1+2r+RQLRBB8FwAIB/3P8BPxN/eb/5QLFA78C1gHb/9T8Rvy+/rj/BQDIAo4DnQFpAMz9qfsn/gAA8v8zAwsFswAJ/d39M/57/qEBCQPVAUUBBv9F/LL+OQGx/6IAEwPGAQP/E/4X/14AaQBRALsBLgKF/0f+PP/X/0EB5wEAARcBfAAG/nf9AwC3AeYAlAG9AmgAgf4E/xv+RP4NAfQBJAL0AoUAwf0B/vL93P2E/0QCfgMwAuEAFP9i/Sv9oPwm/s4BHAMjA9oCSACn/Mb6nvsn/mIBxwMMBDYCiP80/dr6xPoZ/mcA6gL5BVUDoP4v/SD8r/q9/GoBIQMjA/YCm/+e/K/81PyM/WQA5wEgAZABcAEx/0n+yf3z/OL+2QCrASUDqAE4/h/+KP4u/Qr/dwD3AP4C6wFc/77+sf0C/fT9kwB7AqUC/ALyACb94ftG/H/++gAfAt0CVwKgAKn+9Py2+0T8Hf/9AdoEtAUtAhr/v/zK+bD6uv4/Aj4F/AW5AzUAsvvq94H56v6pAksFygYcBakAUPvx+FX7sP9LAokDMQUnBO3/4fxz/Jj8Z/0t/3QB0AQrBhgDhv+w/GH5Jvon/1cDLwbCBj4D1f7U+5X5RPoR/qECUgZ5BlcEGAEo+8P3I/oc/hcCsgVbByQFDQDh+8T52flA/RYCnARKBdUEMAH6/C38Ffwr/AMAjwRuBUAEGgL9/iD85/tM/u4AAQRyBeoCFQBv/qz8j/zd/scCyATQA80CQwCW/G788P6pANIB+ANWBDkB0v6r/bb9w/8tAVsBtAGzAhgCX/6k/d7/If93/0wCrgKAAfsAm/9J/eb8vf5OAAQD/wTfARH/2/7q+4D66P5sAoED+gQaA73+Kf1Y+175xf0UBEMFBwWXAyv/DfvZ+SX80v5/AR8FNQU9Ai4ADP1h+vv62PwBAEIElAXFA+IBov7s+lL6mvsU/wgEPgUzBJkC6P6G+1f6ufun/m8BtwPyA3sCYAAI/Uv7JfzQ/V4ALQPGBCADjP+d/T38x/sF/sAAwgIeBI8DewAz/Tj86Pun/EQA9gJ8BCUFqwFk/Tr7f/ou/Mb/ZgM4BfgDAgEo/rD8KP3F/eX+kAGhAkQCqQL3AMb9OP39/Yb+BQElAzUC+QACAAL+LP3B/hEA1QCfAf4BRgGF//3+2P67/eL+BgHFADcBMQJsAHr/ewBW/8T9VP7x/hH/MQGjAxMDNgGP/+r8WPtY/XAAyQICBGgCnv+w/bz83P0MABwB1wBPAYYBkf+R/iz/PP5F/l0AJgEGAnoCuQC2/gT9Dfwp/Q8ACgN7BNADDwEh/jX8y/tc/QAABANWBLMDiQKU/xz8kfsM/Vb/fwJpBOoC/AAvAKL9hvwR/xIAkQBxAv0BVABLAJkAYf/2/S7+/f4mAE0CPgNmAqsAtv2c+yb8pv7HAfsDvgQ+A/P/QP0t+//6IP6PAZgD2gQHBDwBzv06+/X6kfzo/6QDBQUWBCMCb//4/HH70vva/j0CuwOzA6AC/v97/MT7m/3g/qMBLgTiAocBngAr/Zf7mv1Z/1QBAQQhBMQB3P+c/T/7cfs0/soBIATfBKED6f/4/H38ZfzL/RgBXAIpAkwC8gDf/kH+g/69/qH/qQC/ACYAmf/p/38AZADI/8r/HwB9/9/+xP74/vL/BAHAAEEAvgBKAPz+Dv9K/7v+gf8hAfQAZQAYAcUAA//q/tL/x/44/1UBDAFzAPUAoP9J/sj/4ABvALgAwwBV/+b+rf8z/5j/7QEfAqQAUADd/2X+gf4YAGgA4QAaAjIBxf82AKH/a/76/54BdAC2/1oA9P85/2oA6gF2ASUBBwGb/g39av4h/34AhQPQA4UBagBM/zD9BP1x/vH/WAKRA4gCygF2AA7+7vz9/Of9TgDXAk8EygPCAcL+Afup+kn+fQETBLUFEAQxAFv8b/oS+yj+JQNSBo0F1QLC/tr6NPpe/AH/4QHtBIEF/wL7/yP9rfrN+jz9UwC6AyYFbgN9AS//APwb+6/8M///AQgEhgMpAbT/Fv6+/Ib93P7tABcD2wIhAW//Cv5a/Xj9O/+5AbYCggI3ATX/nf3T/A790P63AQ0DnQLcAfP/vf1S/bL9Mv7E/xkBTgFRAckAIwDP/zn/Yv6Z/V/+RQBIAZUBogGiAPT+hf1d/Yz+TgAAAhkCtQDx/nr9Uf2j/noA+QG5Ai8C1v/U/Un9vPxv/X8ADwNnA9YC2wAv/vj8iPzT/H3/nAIFBIMDcwGC/7r9Tfzz/Ef/cgEEA+oDmwKE/7L97/zY/Kz+gQH2Ap8ChwHa/0X+0f3g/Tr+MwBHArICLAIHAUn/kf3b/GT9SP9LAucDcAPCAab+TfxQ/Er9if/aAj0EcwOgAbz+R/wi/Gf9NP/qAb8DQwOVAY3/df1Y/Cn93v7JAKQCRQN5AuQAyf4o/cn8p/2w/6kBkwMcBOgBKf/6/OP7CP3w/+ECdAQABGsBEv4J/HD8mP76ACoD4AMZAt3/rP6p/fH9zv+1APYAXgEOAYMAdQABAAz/DP+K/8z/RwASAaoBOAEiADL/kv6O/oD/vgDLATYCOgG3/2b+pv0p/pf/9QAGAh8CwgA4/1/+IP53/n7/nQC8ADwARABSACoAfwBEAJj+tv10/l3/yQCQAqgCMwGC/2f9f/xw/t4ANwL+AiECpP+6/Wj9RP5JAEECXAKbAZUA6/4T/vD+9P9ZADAB3AGMASQBqgDE/0H/N/8h/+L/mAGNAgECCwEJANP+a/4q/14AqgFfAs4BcwAc/2L+2v7d/+8A/gHhAbkAjP9Y/uX9+P6KAJMBAgKpAWcAO//G/of+C/9AAMQA2QAdAfEAOQC9/0j/pv7t/tr/YgALAaIB4QDL/2L/zf6e/on/cgDCADcBJgEkAE3/xv6n/i//EQDnAHQBRgEiAMP+HP5B/ib/cgA5AWkBEQGD//394f1H/g//gwCOAVkBeAAG/439T/33/TP/ugBqASsBOADJ/sT9k/1M/oP/fQDgAMEAHQD7/vr93v2V/sb/yQA5ARMB8/+F/p39wf0J/1wATgHaAVMB1/+H/gX+Tf4M//r/yQBVAW8BzgANAG3/z/6Q/hv/VACFAQACtwGuAFf/YP5Y/pT/OQETAuUBzAA//1T+bP6X/0cBMgLkASgBFADH/oX+Jv/7/wEBcAEoAfkAagCa/2v/kP+q/+j/iADuAPsA1wA0AJz/gf+g//D/rQAiAbgAQQD6/3T/VP/w/2AAzwAyAeQASwDE/zH/z/44//j/oQB9AZUBmACk/97+bv7z/u7/owAuARgB/v88/2L/df+P/xkASADe/47/f/+Z/xEAgwBMAOP/hv8O//P+Z/8FAIwAzQB7AJX/1/6i/vD+zP+iAOMA4wBZACH/jf7z/lz/7f/VAAEBqQB1ALv/5/7t/j//pf+JAEgBKQHNAEYANv+E/uP+rv+WAHMBoQE2AXIAiP+8/sP+a/8NAOwAwQHCAR0BOgA2/4j+mv5L/2oAjwEEAqsB7QDn/97+gf7b/rD/rQCdATsCDwL/AGj/K/7b/Xb+zv+lASADHgOnAbH/7P0I/Z/9ef/AAXMDqgNeAisA2/13/ND80f5zAW0D/wPnAoAA5/1W/Lb8of4QAQoDngOjApQAb/4u/VH9jf5GAPoBxAJIAgIBbv8o/rP9RP6h/y8BGwILAiYBx/+G/s/9DP4k/4EAjAHXATQB6f+6/iz+Pf7z/ggA2QA4ARwBVQBU/5P+Nv5t/lb/ewAwAVQBuABq/z7++v2D/q3/CAGaASgBHADm/iz+gv5v/10AIQEzAYIApP/x/q3++/6j/1AArgCbABcAfv8v/zj/f//7/1kAdwBLAOv/vP+8/8T/8P8bAAIA5P/o/97/4f8BABQAEAABAPr/2f/g/xcALgAnADEAEQC3/5n/rP/W/ysAcwBUACcA/f+b/03/Q/+O/xkAvwD/AMEAOgB6/8T+ov4x/yYAGwGSASEBFAAV/3z+pP5l/2AAHQFZAe0AFABS/+3+8v5M/+H/ggDvAOQAWQCu/xb/2/4m/8H/dQAAASIBtQAKAGr/Fv8x/6n/SAC8APEAwQA1AJ7/WP9c/6b/OAC4APUA1wBiAL3/Uf9G/4n//v+IANEAswA4AG//0/7N/j//BQDIABcB1AAiADj/mv6d/jD///++ABEBxQAnAHP/yv6R/vr+uf+JACgBPgHBAOj/+f58/sf+of+jAFkBYwHqACgATP/g/vT+e/82AOQAOQEiAeAAQwCI/w7///5p/ykA9gBkAVoB2QDy/w7/ov7U/ov/kgBfAZIBKwFOADz/lv6p/k3/VgBCAZsBRgF1AHD/pv6A/gX/AQD1AHQBPAFsAG7/u/6j/h3/AQDnAFQBIAGKAMr/Of8g/2n/6/9zANQA2QCrAFUA2v92/1b/jf/0/3MA7QAXAeAAYADN/13/V/+8/1UA4gA0ASkBrwAMAHX/Iv9L/+z/qwAwAVgBBwFnALD/MP8n/5P/OgDVAC0BGAGZAOn/R//5/ir/wf+BABkBNgHOABwAX//4/hP/lf9MANwA7ACUAAkAd/8f/yL/dv/s/2gAngCFAD4A3v9z/zP/TP+e/w8AfwCnAHAA/P9n/+7+4P5A/9z/hgDlAMEAMwCD//L+vP4E/8D/jAASARIBigC8/+r+e/6V/kH/MAD7AFIBBwFEAE7/mP5l/tj+yP++AF0BUgGsAKf/rv4v/l/+NP9OAEEBkAEiATUAJf9y/mH+9v7t/+IAawFRAaMAuP/q/of+t/5h/0YA+ABEAfgAPQBh/7D+i/4D/9r/vwBSATgBiACR/8b+jv71/tP/vgBUAUUBkgCu/+T+nP4D/9D/pgAxAUgBzAD+/0f/4P7//qf/egAWAVgBCwFJAG3/2/7R/lT/OQAEAV8BJgFzAJH/5f7Y/mX/OQD9AFABDwFlAKT/Ff/y/kb/5/+QAPIA4gB7AOb/Xv8l/0L/xf9qAOEA8QChAAgAav8d/zD/mP8fAIYAjQBBAM7/Uf8a/zX/jf/9/1wAhgBSAPn/lv9R/1b/kf/x/zoAVAAuANX/gf9U/2T/oP/i/xkAHgD5/9P/xv/F/87/4P/o//L/9v/s/93/3P/m/+//+P/x/+z/6P/5//b/9/8JABoAMQA8ADsAGgAKAAUABgAPAC0AQwBFAEAAGgD//wIAHQA1AEEARwA7ACYAKAA4AEsATgBBACgACAD9/wEAGAA6AFYAWQA2AA8A9v/k//P/EwA0AEkASwBDABgA7P/O/8v/6P8UAE4AWgBFABsA7P/T/8//5P8XAD8ATABDACQAAADj/9z/7/8NADgASQBVAEkAJgAIAPL/AAAbAEsAdAB+AGsASAAZAAQAEQA5AGQAegBrAE8AOgAwADgAVQB6AIkAiQBtAEkAMwA4AFAAcwCGAIMAYgAkAOL/sv+5/+n/QACDAI4AXQD0/37/M/9G/5r/FwB6AJYAVgDa/0D/x/67/gb/mP8rAHUAZwD5/2P/3P6a/sn+R//u/3MAnwBbAL3/G/+y/rD+Ff+3/0YAqgCmADgAn/8R/+D+Ev+T/zkAtQDsAMEAPACn/y//Gf9k//z/lgD0AP8AoAAHAHL/Hf83/63/VQDvAC4B+gBtAMP/Of8X/2H/+f+iAAwBBQGTAOf/Sf/2/hP/jf8oALIA6QC6ADUAjP8Q/+P+Gv+c/zMAqQC9AGwAz/8s/8z+0P4+/+H/cwCsAHwA/P9W/+D+yf4e/7D/RACoAKYAOwCq/yf/5/4W/5D/JwCYALoAdQD8/3X/Lf9E/6b/RAC/APYA1wBsAOv/i/9y/63/KgCiAO8A9ACpADIAy/+V/6v//v9xAMsA4gC+AFcA8v+l/5//3P8xAIcArwChAF4AAAC4/5r/rf/0/zoAZwBhAD4A+v+u/43/kP+5/+3/GgAoABUA7v+1/5X/mv+4/+T/CgAbABEA+P/Y/7j/rf/G/+j/EgAoAC8AHgABAOv/4f/u/wMAKQBMAFwAWQA7ACAABwAAABQALwBQAGwAdwBnAEoAKAARAA8AJwBFAGEAcQBpAFAAKQAMAPf//f8aADUARwBAACYACADk/9b/1v/s/xAAJgAjAAUA4v+9/6f/sv/G/+7/AQAAAOn/wv+b/4T/k/+p/8j/4v/s/+T/xv+2/6n/of+0/8//5v/u/+//7P/g/9b/zv/T/+b/+f8FAAQA/v/+////BAANABAAEgAcACAAJQAoADgASwBUAFAARAAzACAAJAA0AEsAZAB0AHMAYQBIACoAFwAaAC0ATABqAHYAagBDABgA9v/n//j/EwA6AFkAVwA6AAUA1v+v/6v/0P8AACoAOgAqAPz/xf+R/37/kP+9//f/HQAiAAAAy/+V/3X/dv+Z/9j/BwAnABgA6f+0/3//cv+M/8X/BQA1AEQAJQDr/7X/kf+b/8T/AgA9AF8AUAAZANr/tv+p/8P//f80AGQAXwBGAAcA0v/A/8r/+P8pAFQAYQBGABkA4v+5/6//wP/0/ycAQQA+ABsA7P+4/6X/rv/R/wAAHwA0AB8A/P/N/57/nv+v/93/CQAqADEADgDv/8X/sv+7/9n/DAAuADIAKgAKAOb/1f/R/+b/BAAgADwAPQAkAAUA6f/m/+7/BQAkADgAQQAvABgA+//t//L/BgAcAC0ANgAxACAAEAADAP7/BwAXACcALwAwAB8AEwAPAAYADwAaACQAIwAcAA8AAgD5//r/BQAPABMADwAEAPf/7v/i/+b/8////wUAAAD2/97/3P/a/9X/3v/m/+7/6P/c/9L/xf+9/8j/1f/k/+v/5//e/9X/zf/F/87/3v/s/+//8f/l/9b/0P/O/9n/3v/u//r/9P/n/+T/4f/g/+D/8////wUAAgDx//D/5v/p//j//v8OABEABQABAPP/6f/y/wEACQATABwAGAAKAP7/+P/3//7/DAAdACUAKQAjABMACgACAAQAEgAoADMAOwA4ACgAHAATABEAGgAmADoARgBBADQAIgAbABMAGgApADYARwBKAEMANAAqACAAIwAuADgARQBIAEEANAAnAB8AGwAiACQAMwA4ADIAMAAdABIAEQAOABgAIgAmACoAHwAUAAYA/P/4//j/BAAGAAgACgD///b/8P/x//D/9P///wAA///4/+3/5f/g/+T/5//s//f/9//2//H/5//l/+b/7f/x//L/+f/7//f/6P/j/+P/4v/p//D/9v/8//j/8f/t/+X/3P/e/+v/7f/x//T/9v/z/+v/6//k/+b/7v/x//f/8P/3//L/8f/2/+z/8P/z/////v8CAAMA/f////T/9P/4////BQADAAQAAAAAAAEA/P/+/wEACgAOAA4ACgAHAAYAAgABAAYACgAOABcADgAPAAkAAQAEAAYACgANABIAGAAbABgADQAJABMADwAaABUAEgAUAA8ADgABAP7/AQAHAAUAAwACAPj/9v/x/+j/7f/u/+v/5f/g/9j/zf/I/8D/vP+//7b/uf+3/6r/p/+g/5//mf+b/6D/ov+g/5T/lf+U/4j/j/+W/5r/mf+V/5r/mv+Z/5//oP+p/6v/t/+5/8D/xP/D/8j/zf/W/9z/6f/y//f///8DAAYADAARABoAIgAqADYAOAA0AD0AQwBDAEgAUQBWAFkAVQBVAFUATABRAFYAVgBaAFIAVQBQAE4ATABGAEgARgBGAD8AQwA/ADwANgAxADYAMwA0ADYAMQAuACoAKgAnACUAJgAkACYAJgAjACQAJgAjACAAHQAdAB8AJQAnACIAIwAfABwAIgAgACYAIwAnACsAKAAiACIAIwAnACoAKAAtAB4AIwAlACAAJQAeACUAJgApACgAHgAlACAAHgAnACQAHQAcAB0AGgAVABUAEAAPAA8ADQARAAYABgADAAAA/v/7//3/+//6//v/9v/w/+7/4//j/+L/4f/Z/9f/1f/R/8r/y//Q/8z/zf/N/8//zf/O/9D/zv/P/9L/0f/V/8//0//b/97/5P/m/+b/5//v//P/+f/4//7/AQAGAAMABwAIAAwADgARABUAFwATABgAGgATABMAFAAeABwAHAAZABcAEwAMAAoADQAHAAQABAABAAAA/P/5//r/+P/0//D/5v/s/+n/4//k/+T/5P/d/+P/4f/c/97/1//W/9f/2f/a/9b/3f/c/9n/3v/X/9v/3P/X/9z/2//g/9z/3v/e/93/3P/d/+P/5f/m/+j/5P/o/+b/5f/r/+X/6f/t//D/8v/w/+7/8//0//H/+P/6//P/8//z//H/9v/5//3//P////7/+v/+////BAD//wIAAgADAA4ABQAEAAAAAgABAAIABQAHAAgABQAHAAkABQAIAAkAAwAFAAEA//8DAAYABQACAAIA/v/7/////f/7//7////+//j/+v/8//7/+v/8//r/9//8//H/9//2//z/+v/5////+v/9//T/+P/4//r//v/7//7//f/+//r/9//z//T/9v/y//f//P/7//r//P/z//j/+P/3//f/9v/2//L/9P/x/+7/7f/v//L/8f/z//T/8//z//T/+P/0//T/8f/z//v/+v/0//n/+/////7//f8AAP//AQACAAgABwAOABIAFQAYACIAIgAdACcAKgAuACgAKgAnACkAMgAvAC4ALQAvADMALgAyADQAMAAtAC0ALwArAC4AKQAqACYAJgAoAB8AIAAfAB4AHgAdABwAGAAXABkAGgAbAA4ADQAOABIAFAARABUADgAUABQAEgASABAAEQATABkAHAAYABgAIwAdACUAJQAdABwAJQApACQAMAAtAC8ALQAqACsAKQAxAC4AMwAzAC0AKwAqADIAJwAgACcAJAAgACAAHgAVABcAFwAYABEADwAPAAoABAACAAEA//8BAP7//f/3//f/9P/u/+3/7f/p/+j/7f/o/+b/6f/p/+b/4v/h/97/2//Z/9f/2P/Z/9P/1v/S/87/zP/M/8//0P/R/8//zv/R/9H/zf/K/8v/zv/N/9H/z//P/9D/0f/V/8//1//X/9r/1//X/93/3f/i/+L/5f/j/+T/4v/h/+X/6//n/+P/6f/s/+//8f/v/+3/7f/y//P/9v/z//b/8//x//n/9P/z//P/8v/z//H/8//w//D/6//s//D/4//k/+b/4//g/9z/3P/a/9j/2//Y/9b/1v/P/9b/zf/N/8r/zP/M/83/0v/P/9H/0P/T/9X/0f/V/9j/1v/c/97/3f/l/+j/6//t//P/9v/4//j/9//7//z//v8BAAAAAQABAP///f8FAAIA/v8AAAAAAgD////////+//7/9v/8//r/+v/+//z////+/wEAAgAFAAEA//8CAAMABAAIAAwADQAHAAoADQAMAA0ADQAVABEAGAAcABUAFwAVABcAFQAdABwAIgAnACQAKgArACkAKQAuADUAMQA2ADoAQAA/AD8ARQA8AD8ARQBHAEMARwBLAE4ATABKAEsATABSAEwATgBPAEsARQBBAEMAQABBAEUARgA+ADMAMAAxAC8ALwAuACoALQAoACMAHQAdAB0AFQAPAA0ADQAPAA4ABQAFAAEAAwD8/wIACAD//wYA//8BAP//+/8CAP3////8////AgD+//n/AQD9////BQAGABAAEgAUABQAEwAaABcAEgAdABwAIAAiACMAIgAgACMAIgAiACUAKQAmACsAKAAmAB8AFwAcAB8AHgAcACQAHAAZABcAGAAVABQAGgAVABoAFAAVABQAFQATAA8AEgAUABUAGQAdABUAGQARABIAEQANABIAGAAUAA8AEwANAAQAAQACAAUACQAFAAQA/P/2//P/8//t/+P/5f/k/+v/4//b/9L/0P/N/8r/zv/Q/9H/yP/O/8f/wP/A/8L/wf/E/9D/1f/a/+P/4//n/+7/9P/7/wYACgAXABsAGwAeABoAHgAbABkAFwAQAA8ABAD8//L/4//Y/8f/u/+y/6L/k/+C/3T/Yv9R/0P/Mf8l/xz/D/8D//r+8/7w/vL+7f7m/ub+4v7r/vj+B/8e/zn/X/9+/6P/0v/+/zEAWwCCAKsA1QAFASQBNwFNAVoBYgFmAV4BWwFEASwBDAHpAMUAnwB4AFMALQAEANf/nP9V/wn/sP5T/v79uP12/TH98/y0/HT8Tfw5/DX8TfyD/ND8Ov3L/Xj+NP/c/2IA4QBrASMC9gLCA3EE7wQ9BV4FTQUfBekExQSgBHcEUwQQBLADJgOAAuEBcgE+AS4BKwEIAc4AYQDS/zz/of4G/nL93vxO/MH7DvtU+nT5g/jD91z3SPdw99H3Tvj5+L35rPrG+xX9nP4yAL8BPAOgBOkFAQfKB1cIswj2CAoJ7AiWCPMHLwdKBmAFgAS6AxgDfAL1AXsBCAGoAE4AAwDG/6P/i/9n/zj/6P5i/qX9s/yh+6f6xPn8+Ez4vPcv95/2Mfba9bv1Ava/9uT3aPkg+978mv5HAN4BeQMABZIGKgitCfsKzgshDPQLcwvCCvIJGglJCG8HfAZTBRQEsgJZAS8AVf+8/nj+X/4+/hL+w/1v/Rn95/zW/NH85/y5/En8kfuP+or5l/jl92L3LPcY9xj3APfV9sD2D/f293T5afu2/QYAJgIJBI4F/wZuCB0K1guWDQAPtw+5D+8Omw0HDIIKJAnxB9MGiwXjA9gBsf+2/Tn8c/tV+8j7fPwO/Vf9TP0T/f78Qv3v/cb+lv/I/wX/Y/0b+674pPY09UT0rvMc81fyNfH27+Lubu44703xlfR++Fb8rP81AkAEGgY9CPMKIw5uERsUnxWrFWUUQRK5D18NlgtXCm8JPghmBqkDegB7/Ur7YfrA+iH8yP0H/4H/X//w/pD+pf5f/7MAJQL7AmICOgAC/Wr5XfZA9CXzlvIm8kXxne957XrrRepu6kfsg+/F8zf4Dvzr/hcBLgOvBdEIqwy7EIwUPBceGGAXexVBEw0RSw/mDasMTAs+CSIGSgJo/kf7cfnh+Gv5jfrI+2r8Wvzn+7v7NvyE/Wz/fgE+A90D+wKvALn9pfou+G32U/Vq9EfzSvFP7gHrKOiZ5ozm/OeC6s3tSPFn9Pn2Yvku/ND/VwRuCYQOGxOjFsMYaRkaGXkYABioFxYXDBZBFJwR9w3bCZAF9wFR/4D9jfxZ/JT8ifwa/Gf7Efu8+4j96/+zAqAFCQhqCWIJIwgBBsUDgQF1/wz+Fv2p+734RvS27nvpduX04gHij+JE5BDmZuc/6Bnp6eoD7ojypPgfAJEHRA2eEBoSQRMaFaEXPxrFHI4e1x77HAcZGxRSD2MLWAgbBqEESwMdAb/9xPmz9nj1Ffb592f6Df1l/wgBDgIvA+oELwc+CYUK8QqjClgJuwb/Ajz/T/z9+bT3hvSY8BzslOeF46rgjt814LnhW+MQ5T7nDuoF7Srw/fOl+cUAKAj5DdcRExSYFfYWfhiTGsEcbR42HuMb/xeXE1YPjAuUCLAG4QURBUsDPgCo/Lv5t/gB+lH98AFHBuYIswmOCYQJlwrUDK0PhBLHFPAUXxKJDWUHTAGw/Nr5qvd19Tjyluwh5cbdm9dS01XRI9GF0Z/SGdRj1UDXS9rM3Y7hsObB7d725QAXCcMNYBARE24WdBqzHl0igyWoJ54n5STPIJAcdRg6FVQTlRKDEqcRcw5QCYUE0gGTAXwDmgaxCS8MgQ39DMELBQteC8oMDQ9sEQwT1BKuD24JQwK3/Kj5aPgG9x30N+8e6eLhXtr+0//PSc4vzmPOyc0VzYPMbsxgza/QtdaK3jTmXOxR8bf2gf0SBYwMwxOlGowg8iSnJ10p2SoWLPwr2SqlKdMoWicdJEsf9RnEFdYSJBAiDXAKXwiHBg8FLQTIA9EDtAPyAnMCKgPiBFcG5waoBuIF2AQZA0sA9Pwp+t33s/UV87PvAOt05abfUdpg1i/UktIg0MLM/cjXxZnD9MKnw/TFA8qizx/W+tz24s7meenq7dP2FgTOEsEeIyYTKvIszi+TM9s4Rz9eRS9JT0lTRr5BQDz/NSMwnyxzK8gqticRITsY0g+zCUEGzAV7B04JYgleB5sEWgIXAS0A7P/cAfQFGQp+CwkJhQNG/fb3IfRk8mfyU/Kv78HpkOGd2NrQBssjx9LFl8ZDx77FecKCvl67dbrSu3u/1MXizkLYEOA45drns+la7bX0GAC1Dp4daihJLaMtNSweLEIvdDXBPGxDAkeERT4/qDYlLuAnCyVFJeomfCd1JGQcqhGACDsDnALCBRUKPA2cDfAKEga1AcH/EQCNAggH9AvLDmQNbgcb/4P4vvW69Qn3KfhW91Xzg+xr5G/dxthU1YTRhc9/0qLZxt5m3AHSI8W+vdq/z8nE1jPiUOZ24g7bddYQ2IbepOYd7kD2m//wBfgFGAEB/C771ABdDP8YCiPoJTMgDRbeDwIRVRbTHBQiaiXwJf8iShwEFT0RrRAoEqEWFR29IQQgpxeJDFoGiAgcD90VTRq1G6oYnhLnC70HyAhJDY8RTRTAFS0UBg9YCGwCo/8/AMEB8wFOAX3/tPq7867sTOfq5PXlL+jh6A/nF+K527zXgNd92b3bmt1Q3rLeZ98/34XeGN8m4TDk2OgJ7kjxH/Ih8n/yBPUy+gj/8gElBRAJPwwvDv0O8g7/D6oSMhVQF7AZ5BpoGZMXcRboFLUSNhH6EGUTlhe3F1kRlQnvBcQGZQoQDzQSRRR9Fb4STw3BCmoNVBH/FGQYsBtIH0whbR1nFOkNEA2JEFIX4R31HhAZrQ7iAiv6H/mm+w7+LgDDAVn+9/Tt6KrdXNmq3ULlpelD6v7mFt/41TLQA84K0UHZoeJz55bnJOPB2k7UKNQX2m7jH+/l9qv21vAF6j3l/OUi7Sb1Kfs5AdADoP8G+Xf0o/KP9Zz+6gakC+wN/goZA0j/KgNFCF0NLxOPFUYVGhaqFNYQcxHYFCUVKRZ1Guwc/xtWGYcTew5XECcUChSkE5sUPhPpD8MMvQjIB4ULeA1IDKILBAslB5kD7wEIAmkEUgfyBqoEQARZAkX9LPnf+Gf6TPx7/Nj5KvZi87buVOpM6YHrr+zL6rnnhOWp5M3hTN3Z2pjg2upu8aDvyOlI5LLiXeUi6+Tz0fy1Afz++/cI8yn00fm0AsgK/g6LDPEGKQGx/ysEGArQD8YTchUXEjAMwwbnBSYJDA6QErEULBatFFAOygejBdsH/QvqEGcVsBaXFF4NtAXJAhsH2w36EIsR4g8aCyQEKAG9AEcCogQsBPsBIwLIAdn9hfhp9Gb0Dvc/+SX7z/vD+Uf4NPUQ8m7xg/Sw+Df7s/2c/kn57PWs+Pn4Rf1iAY394vrA/58CT/7u/Dn9oPtjATYEQACkAD0CAgBs+4/81wDAAY8EiQXO/jX8V/z9+9v9+wP8B9ECif9U/F34A/wlAYgDLAIFAuMD8v+iAesBPvyl/A4AhgVhDGIMBgau/gP8ev7+AXYH/Ar0DhAL3gDe/oX9IAEqCfMEMQWGCPkCYQM6AcH8if94/s754f3gBOUE5gC4+STvL+99+jX/BgAlAD/6rPI79Lr42vVd+Kf9ifv//Oz/OPrJ9rz74vy0+hACNgMN+4f+Qf3g+v0BEP6u/OEANAArAUf+tP0d/Kn8sQFEAJ0EfAM0/ssAJAJlAp8AqQUmDaoJUQexA0b/TweFC4sMrAz/DXUOrgUECWgGmwVWD6sH2Q31C7X/OgVR+qUCPQpXAF8FPPhi9K74jfauAZX80/jV95ntO/Qh8zz4Ov3r9cn9J/Gz6xj87PhH/qX+7faw+b/6DgT9+Or4owZl90f+dwIN/BwMxAmI+g/zcfy8DOMGlAbD/ZT6BhIICbP4TvZuASgRDAPhAPMIUgG8C6b+COzbCOIR1wWnCN4B/ADrDikEnvU4AqoS8Q9GFqwFPvqIDOgBiQmFCj37IQ3dF3EFeQNj/4X0zPpJ++wAHA6TCiwDcu+54GD4rP+Q9agBVAGO9rMDju+k4sb4kfXJ9soHQPzT+aAHd/Hx6tD4LfQBAWALqP6UCO4CMvMH9c3xQflcDjQQWgiOA1b/h/cr8gb40QGyFPUXuP82/Q8FrfXVAiYGn/0dE3gWCP9ABN0HTv/5AOz8jQbRFVgLewDqCNf9nwE6AzvsnwAkGqgHPA5a/QHrQwFL+oryqgbQC8gRhRID5+js9fZj8pwH/ghmBwYNAfa37QvuwfJZBAH2hQtkDubxqvea8S396wBl4tn/tAhF/Q0RHgOH+vPgOOL6//IOjiG4BybvXu1XA/D9B/CyDxUFYwdGHELru/7sEsnuLgx4/9MCKBoZCk8Jxfm+89kNlfq1A3IVBQ/zC3fq6e9N/CsQThKX/3b7MgHQ//X+H/nN/sgHC/ZtBUoK+fn6B6X8+u7M9f38ZQPQALYH8P0A+Yn75PEK6GIA8ABcASAGZfsc9w/yT/jw57z+XRWM+Lv7T/4l9DIBz/49BZn65wC5/WT37hBJCvMD3gJ2/oMClPSnBX0fVffPBl/+QPZUFhgBVAM9BCH3XgBHC/sCSwQ8BcX0+P+RCesCEQSr+sz5Hf+D+H8HJBOX91rxRvxFAZwGC/Y++ocB9wE/CuDtOPKMBAUJdgBO8Jv5o/8ID9/69PXi/6r6avpU9V8KwAnVCJQCaeYp82MJtgsp9QP+MA7TCz8EO+Z378oUwhTu+xUBj/xw/0H9GPtqFCQhCgRN3E3xbBi0BlkDuQbQCgUaBeLk538MVfvw/28gMQgX/dX0n9ke+isPhhhC/7f2UwbfCo/60t629dEQkRTOCNDm5wACIFvz1OsC+JcB1hkBAljm6Q0oFuEAceYi2icU7xmF//MHjgDa9/gCeOQK52Qb0SHrAdH4nfou8PIJAQKs65ID1BXSD6kOY/Ki5Ef89v4oBckXVAx0AVD5uOu1+R/9DvoFD/wH6fTnFT8MFvKe5E3lmP/HHPAiOghk75Tn3/vVBRYCcu0FB7InpAwp6xnotfJ8CagPZfcR8wwIpxzQA87qB+rh9esN0gmS90AFU/8QCO/3uOqIEBX1DPloA0wAQxyrCjHrCOZv7voRMxGk/ZQDxA/iDJDdEeiH++YKCBk1C9/6qPSdBuDxVvO1AdX6TRpiEPHu6QqE7Eb8LBD9718SOQRB8mULqv29+/kIQfeV/M4AXRRLBOzy9AG4+G0PvAir4bEO7BUQ7jMLof2M9ScFIP9r/qL9IxFUBL7kyAL5+az+eBgl52b5MQo4BqkOzd5A7HcNKxjDCqrj7vtlAuH0FBnq+k7o/xq5Bb7uvAMA/bnspAn7B3jtyhNLCubhOAGy9DIOwA171z7+YwbQFUwRu+MO6nAEPgy2/R8JtgeM88oV5AT54oQD6vrbAHojUfUe9/cLK/K7CVL+Ivi2Acb9yAaD/LUDswwM/nYA3/6B9CX1Pf5YEKcP4Qfy/+btl/T0/TD7OBI1D24GdACq9Vf5W+/H+AEQwRU4AkcDEATa7LLsCwMX/PIKtyUZ+hvvo/w671f6gwtcBwYISfr0AbcGYPci8iLxiwN0FJUN+vEa9lMGuQcP9Lz24Pzb/ScLQA26C+/0xuoSBV7+Ovs5FZfy9/zOFMD5bfwFAo/wz/ipD6sJSPr3AYUAEO8OBSUAxQOTFyrwU/BED94CNf/N+6r7Ig69+g/7gQS7/6cOg/a7820IOwk2CGgD8PS5/JsBwfw0/qj7JwsXCaz8Nf0eB5j9n/pP9Vb7fA6qDOH8T/hk9C8FPAOh/T0MFAJZDtXx1u1B+ZECfRn9+XT1yhCI9ar4vgQE+t0I4gT99YcEeghi9hfyVgSGD/QAXwRx91EDmvIA/hARofnF+c/+HQq9AUrzR/YZA2oZ8Arx0mv4hRKZGEUEb95IAosNJ/W+/rD6xwqIHQzwK/dK9zLzzhYqCDPzbwO5+1QLNhKH5JrzYw8LAk8BAwQIBef2Ofe7/hcB0QyNAPrhaggvIKz0PvSR+lkC4wZUDBr3O+/XCuAF6PRLDzn9VfhjI63ruOTYA0IDhhRtAWLxI/qf93gc0Qm501H9ExAHBmoKQ/m680725vbPBjkQhAg4Bk3+X+23+YwHFwBGALEFGPdcChYVcPFA7+zuZwk8H+QGyPfM9XP9vQBF98b/ogQvBBAEtQF5C5P1eO+MAJwBEhMxBwHluwNDDu0ImvMg8EML4+/IEX0SROcSFBkFzt4WDAn/4/tqBgv5cxftCe76o/Os2rICIh30BWD7m/3TArzrL/++APT0JxNfAu/xjQcpDXzvYeVK8PoJ9xUWIKwCN9kp88QCJfpvCzsQKPzMDab22+8K/DwFpAgU9pgN/P8n+dQPLuda8RsNhO0hH9cT1PD1+Gjs0BF9A7PmpP4eBWsfJwqm54P6tvi3Daf2Yv+iEvvyGhGyBoHwJfyX7IAD+hHSAWEZwPM57+ADV++xB3cIMgVC/6D6wQZkEkr3IuT9+NEErxsoE4XrnPS6/Lf8ZActBG3zrQCEF+bvQAwIDFfmYAB19Mz/ByNY9uD0RgqI9t4KUQLZA7j/WfE6DUT6mP7OC0zkrgSHFKT6EwACAVn8RQTVAC7vnQmmDU/qZvw5DeT9yQa4AS4DAweX81jwJ/xgEnMRfvRP+24CyAQZBQfoAP4REfz6Qu3SDh8dM/B05zX62ApnINn31uCZEM/9sfkNBJH9jQXhAZv/lQeaAxkFovFJ6IQG+gsxFKcLmPgV6Vz5nRJZBD7wvfyXBuoV/P0p8Ib48/thDQL+DgVzDU4JH/Aa7eb6gv2JEb8UGvWgAlX+8PQWBNvuEv40DW4BQBJmAKX3SvpL2zgOgB0O+ZrtQwmbFHAAK/Yz3m/wISlTErn5MAaQ4pX5oArpAI0Ga/BhAKASxQKr/gb1DvrE8n74eBaRDqEDxe0h8D8aXgZz72783/W+DRgT0/EgAAUR7+cP5MsSdhq4Hur9Y8tu9qgRQ/qRCs0IWQBnAaH2SwYZ+vb1D/hqA7Yg6wWL7vr0gPxKAjkDEBEeAQjsTwS+/A0TxQTi2ZAEtA9XDuMHvem27Y4BCwq+DeINugIf4GzrpAoG+FATIx4h7gHp1/o3DJgSv/TP6Fb6iiAyFVncAvGNA2cKFgtS+JH6+QawC7D7Aezx7GgJWhwSHs7rnNuw9XX7iCGsFBLks+51C4wQ+gpj+AfuHu7FBYIPpgnrAGn1w/4vBnf7bf2rCsD2tPtIBnIIUQFi9d73Pv9ECHgE3v0LBZED6wBa+o3pLgf2DCYNOgUC4EX7WRhKB5H/9u/Q/UgSc/Le7yYDRQnzEsD6f/PJCpL6Jf2W9NQCbARw/TQc6Axk677gAPRCDXQUIhBoBqjvTQT++yrzVQG799oCOA8KDAMJRPHu9eD+P+xeCNYHBBC3DNvw2vSs/m0BVwNa+q377gHxDJYT5ff//OzywOigBMMQFw9W/07vMwjX+xD7Qg897iz/iwce+OIJpQce+lz6evtl/z4EwAhC/Vv8mwxJ+h74Qv7Q87kHBAg6BjsIMvFpBbQCQfOj/f74lA3RDuj9mPyv/HT+GvKj+n0VRxRJCeDtgOhyBwoDPAciBI/90whx/cgHs/7K7s37Rvn4EcMYhvpi/7zltO4gHlYC9vu88cD9Ahw0AcsCKObU8uQTf/bACKMNy/zmAhXvtffpA1kEDQte8QX60wbrECgJuOZu7RkEIwN3GST7EPWXCfvtsgla+rEDnwUY8cAA3gc+EAgHR+6w7qT4EQHCGi8FWfsL/hH3MvqZCo4DWfFVAnwAggVHB8UAsvg0+KD5lQoQCsf0GwIvArf+mv2s+jz8rBKn/93/Nfwp8/4J1/zkCYH/hvBKAuYJEfpTABIAaAYeBSb+aPvV7vgJqgUR+vH/z/qfCNoRbfam+8X0ZPgmEZwBQAB5BlT6k/aqAM4AygeE/Qb+tgQKAkP/GPRD/34FMf5EAz/1wAGkDyL4NgI190X6+xIZAoH4F/vy+I0E+gTE/jsCi/61AAL+RweZBSTunfjGB1EMcwOp8/f28/vnDLQL8fIL/P0LnQH2+9f4yP5FBUH2kADrBvz/9wiu/TL7O/rS+2MHFgJf/+P32gMtCM8AUPnZ8FD+kAsFDZH9sfgg+okCYAG9/7sBCPlwCHIJDPza8qEHaQfZ8T0EoAFb/QsCVP4kAfAGugJL+MPz8AcoART9PBFU+UD5Qwb2/fL8mwMB/m/27wEiCf4E2v+F9kb7MAddAC0BTv8tAKsJ0va0A3YHgO9wARQGoP++Bnz7V/+VB0D0VAZ4/8X2WQiSAb36T/uGCQAD1PVNAyYC4vh9Co8CUPeAAGf/wAJrBbj9TPrSAYIGpv3PC5cACPRaDjz0JPsACeX1ogqdAqT4j/+g/EEC2gFWANb7XfpCCFEDzvmzA6/+P/teAO3/WgdABR/04Pl4BG0GDgQS/p795fvDAAUJXAMQ+J39svx/BnYEK/hCCdj40vJcCDkC4wCSArP5R/lKBiMCvPVrCQoA1PoDDVv3if2HCC35NQDZ/vb/7Qz4ADz8UPuLBt0MLgEx/Oz3bgQdC6316PYj/gwEkAst+Aj8tPeVBHEDpPIJAuAIqwF6+tL3QQMMDjAACfRy9rALXAOx/s0Fxfoa/bsHJfbbAn4NC/7N/wL77AOWAhf8ggD4Azb6/wAoB9QBOv4T+Qn/8ALv+zUAAQCEAbsFH/oS/6H7PP9hCH75mwFqAu/5awaj+o3/BgPI/3MC/f4a/5f+bwSAATX9tQAH+2P9tAi2/0QHAvs89TEMFQAO/6cBifLmBcAA8fq/Bc/81wCV+p4AMvrM+78LAPyn+9gA8f5cBan77fsIAbsBeQgJ/lb7aAKk/fz+OwD/AVUDPfnlBesIEP84+wX1GP4rBdQABABJ+oX+ggQg+631q/oKAAcBrQCA+9QBcAML/XH5VQOx/ZX+4Q4NAWn+qwJi/JwAmAPG+1AB7wMYBNMFCfzj/iECe/bd/d8GKwUaAjP5yP5nAgL9m/yM/QUCYAE2/yEBAf7yAK3+UPq+AyUIR/6N/rYAcwGbAzP9B/84CpwEHffM/98BFANyBiQBof13AM8DPP/Y+Z4AjgiEBPT9Cvdl9rsEwwo0+Hn5UgJzAs/+5vpf+9z/BQU2/zUA1f+F/CEBwwA//y0D/QGQA9n9nfyNBKYC8v4lAO8D2QANAxAF/fn393MAiwCSA2sAPfqjADMD7ALV+1L1FwIIAzb+zwLDATQFP/47+gj9wPvDA6sGJgLgACEBCgKnAZQA8/4F/VICSQjDBAUAzfuq/MUEgv6E/Pj+sPw9BWYEMvv6+mf8KgD1AHP/+P6M/rcDr/6x+wr+tgITAiD8dv5dARACAgKQ/XL81AQIArUDRwHP+jL/dQJ5AjcByAPJAiz+5P2z/ewB2wRM/F8ARP4/+9f/iwAlA5P/h/zN/Mf+AgLc/6P5u//JAh8EagSK+tn7eAHQAHACpP9QABQGuwMQAmj/1//eAZT/KwELA64BfgJ9AssBUADP+/37cv+D/o0AogWwAQn+Bv7U/Kr73fzI/uv/dgMYBMwCDwGB+4/5Gfz0/Q8B0ANjBdoDAwJj/RD59fx1AHMCoQGlASUGEARf/gf7rPri/aD+HgCjAaEB3wDw+035N/yR/Jv8tv8UANEBagGA/Yz7e/xGAXn+y/t1/6v+BwGhAav/qf9XADQCLvxq/M8Bz//KAmoCGf/tARgBrvxF/M7+WgGNAnAAt//i/sIArQGs/NL8fgC8AWUBLwK9Ax0Dsv9j/o0AXgL3AcIB6gBWA/IFqgPoAmIADfxO/IoBNQPnBLoGagNEAaz/+Psr+4L9ygB1BCUF0gNVAaH92vtc+9H7yf45AnYDMAJ8Ai//Dvrp+CL6kP3+/yABPgG8ARkDJ/8k+bn55/v8/YkBtwPRAzQCCv6t+R76u/zA/aP9fftR+1f+EAAKASL+hPth+nn5w/3v/1QANwEGAbgBjgHIAMH/bf6S/hv/EADZAwkG7QPhAdn/sv1QAE4E1AIVAA4C8gXGB5kG3AAF/jz/oALDBLoCuQXWBhUFSwSxBOsFzAKqAo8F3weBC4QLhAnABRIFFAjKBjQGywVRB+QLXA3JCBYELQOPA9kF1AaRBg8GwwQCBGEDIwNeAM/8Pvum/JkAIAG+AA/8mPdx+K33CPl79630pPU++FT5+fTX8o7wXO5L8PrxGPTm8+TyWfQM9KDxmeys51frRfWA+mD6Tfmd9k7yie4i7y7z1vrDAUUErgX7BGMCS/zs+ZH9NQJ7CWgPHhFkEWMPgwqWBhIGmglKDT8RGBU4FgoVgBIYDiQKLAsBDugOCBFhEi0SahLIDmALLQkjCaUK+QqhC34MJAxrCcMHEQW2AmcC+gADAOf/cwFeAi0B2/4w+nP4wfip9eDznfVk+I35Yfnj98b1DPQz8HrsQ+vV7n/zyPf59/vztPHf7tXsuOhB6V3uTvAy8pbyrfG073nuKO2Z6kTqf+uY7XHwXPSl9Zzy6/DN7rntl/Ea9Ub2b/bz9473JvYt9pj3+Pl0+9n9w/2t/lQB6gEBA6EDiQRAB88LYRBqEJgRlRJSE1UWbBfhGEsa4x0hIGgfRx+qH14hJCKnIVYgRB96IHggcx9KH9AfNh+EHcUbJRoRGysb/BlJFx4VmBSUFFwTIhAKD14OjA5gDcQJowViAvcAzv5w/TD8M/p299j0zPIP7kXpV+es5Tbk7eIn4XLfqN7j3gPdfdoV2F3VstIe0iDUgdjI23XYXdT/0H/Sedcv2/zcDNny2Qfd8d9/5wDru+m+6ZbvFvP08uj1BPrW/xIGOwkCCR0NtBTVFb0UeRXyGPMcMCEQJCojbSaFKI8n8SW/JaAnASiTK60rvSlsLIgsFypJKP0o5CesJoEmDCSTIWUgNyEjHr4cVht4FvsTwRFrEIMPqBC1DlQKPgrBCB0HiwVHAp7/2/4nAPT+8vwm/On51/Yv9cvzg/GX8DDuCewF7aztr+vP5ybnRubJ5OrjwuD/3eTcx93n3AvcFdxx2XXXstbU08bQz9A2z5rNcc7JzcHNAM/xzmbLw8dxyGnJeM1F04fUBtYo2RDbvduN4CvkdeVh6lLt6+6f8or4E/t//PoAkQLOA6UEVAROBJMIng+mErcXcRsnHWAftiGtJGgmGCwpL60xJjd2OQo8lT0/PuQ7uDoROnU3Szf/NGYziTHwMRgypi5iK/Ak9yCEHrQcchsXGfMYNReEFlIUExHdDIoH+wSBAT8Axv4W/Qz76fgH94Tydu6d6nDn5+SB4mvi+OHB4CHf1Nww3Bfbetin1MjSI9Pf06DUq9Pe0ZnR8dE00bDR/s9szBTMpcz+zAXPJNEa0anR49QE1jnT+tJp0FDO8dEI1sDc0eKj5+HjTOCw5SfoGewO7szu0PE4+tAEOgeWCF4FMQGcA6sLkhFcExwXpxNoE/UWtBteIYQj1SVlIYklpyopLPYvjDAwNfg2mz3UQOtA1kNYQHw/oj6GQvdDHEOyQ09AnkAIPm48TjibNVAzCC+7MD4tmSxgKX4nkCUdIcQgwRlzF7EU5REGDxQLZAm8A+MCL/4G+dH2cPQD86jubu526hHmO+H93Cfc1dlI2ZfTpdCgzqzMSssUx6bGicOIw5DEtcNYwz3CvMPswFfC1sLUwITEmsVtxoDI+Mt0y0/MAc/Oz6XVgdol3IndyeDD5BXpq+4w82T2QfnV/Of9vv7JAt4EkQjjEAkZ2R5MItUhexzGGWIbJR2sIesmCCqHLMguNi+0LFUrdSknJwYqDi5EMBkz1jXHN+o7kEARQmhBU0A/P009xjvtO9g76DwQP1c+bjzbOZM0SC3jJ5EjMiDQH2we8x2wHUwdWxtoF1YTcw6NCywIjgbsA3ACmwMKAlACpgDq/VH6bfbo8wfvD+3T6sjnueXY40HiOt7s2pjUYs+BzQDMesmXxkXH18X3x0DJl8cSxy7F8MQGwxHF/sWoxaDIcsnszF/PotBDz1TNB86ozkfSudUt2Yrd6eIO50Pql+wr7FXsV+337yHydPY7+2X+KAW6CpwOgREKEtoR0BG5E00WdhqYHywjMya7KKEqxikGJ60kBCTkJO0mkihVKu0vIDPlNSo5yToIPd88CjtVOas5YDpDO0Y7fjlYOko6kDfCM8ctTCjWJPUh6h7SHMsbQBuNGiAYVBRSEfwNqwroB8ME2gIIAEr9bPt6+vz5AfhJ9bny4vCr7ovsKum95Knhy+Ay4VzhZ+DR3O/Z8tfl1JvROM4JzZzMRM2AzrPOxc++z37Ors2vzqnP58+Vzx7OvM7I0cfTf9TC1GLUe9an2eHbedzK3LbfsuGM45jmjOcn6cDsDu+F8NzyHvR29Dn3KPoS/TMA6QE0BPUG6AmxDEkNjgzvDq0S/hUOGj4bhBq5GvYbKxwCHTkdyBr5Gokc7x6vIH8hCiLjIMAhQyI2IuYgbx58HH0b4h7XIDgiNSOAIfEgjiC+H90dFxx9GCQWPReNGGwa4hg7FncTTRFrD9cL2QiBBIQCXwGmAUMDkgIbAr//m/7A/Zz73/hd9cbyqvBb8bnx9vC58NLux+zO69zqj+iP5sfkA+TX5W7mm+Wd5JbktOTK46LituHx4KLfTt9E3qbejOHO4hzkhOaG5wPoIul66L/oAuqZ6nPstO7G79Tv5u/n7xHxTfIZ8/fyC/MY9eH3qPwCAfUC/AKTAlUD4AMkBbcENgOiA9AE1QZ/CBsJdwhSCN4Jrww/Dh4PgQ8cDqoOYRA5EdoQBhCJD4IPyhCOEXES9hMAFKsTehI7EkASUg9JDWINAQ5yDw0RORAIEBERvg0dCx4LQAnAB/0G4QWfBn8JUwoJCt8KMgusCq8IeQaxBHoDvAL3AmIEwAYrCacIUAk3CtcHggXWAq4AMQB+AGUAvgGjBAwF7gRGBRoFhQMuAWoASwD+/z3/cv4J/vn/RAFcAXkD+QJqARYBAgBr/V/7gft8+2b74vqH+ib7CPyg+hb45/j8+XP4IvZq9+f4cfYm9YX0VfQW9QTza/Ao89v2IfZT9of5evq79ZbyFvMR70/tIe6+6/jvXPcv9735UwG1/6P6lviX9FPvZuow6a7qde+d9wH8DAGEBq4De/5a/P33H/Hl7HPsSu3R8gT76f/qBzwM9QhjB70C7/mj8ivvkvBA9LT5DgIJCRQM+A1uC98GbAQ1/Yj2MPnb+ej5UwKoBtoKcBBXDqoNjAwrBsIB+wAFAZgCHQaqCZ0OQxFGEeURQBGTD5cKrwaaBqIEJQVxB1YJ0BDUEmERABeMFC8OOwytBpcDFwT2AqUCsgiSDW4L3g0fENYMhwmmBGcBGwAH/Wv7dPwBAB0EZgV5BqoH4wTf/mr7fPjh8z7zpvMH92L8pvvb/L79QvnW9731FPKY8Xbu0+3H8YHyU/Q99nr3gvl892HzhPM28/vtO+0T8e/0hPf992j3IPaM+GT10vCI91X3B/R793H4zPjZ+sj6Pfke+h39Pfzy+An9xvvB+K0AyP+1/MIAZwA+/yH/j/8GAdgDCAIkAfcFNggHCQMGfAY+CZgHNAZqBPkE7gb0Bb8GHgt6C/ELpw1QChgNrQ+nCjQKBQxjCXgGhQpoCZkIUA4iDkgPTxHnDmULAQvVCqgHMgaUCUkMXAdsBswN2Qu1CAYKrgd7B8AG5wBW/4ACZv5u+9UBggQy/uIALwNq/d3/ovv29wr94/TL8mz5o/Zu9Y32y/gG+vT5tfdY9YX4cfP+7HPy3/Af7rPxyvDr9bL4evTN94f58vN88Xf0VPT38czzLfbC+hv7MPfv+zP8Fvmw+bT3B/3d/TL2JPweAgv/pv4OACwDXAF8/Wn/cv+O//H/bv8IBgsKagXMBdQIewRlAQoDQQKqAzgGWgSMB5wJUgWyB5IHYAXyCIAFoQOMBhoCtAEGBoIEpgQ+BsIFTQYZBiQFSARsBR0FWgNkBcgGNwV8BNsDQgSHBBoDPQKqAyQEKgJiA7cEJgKhAsoCUv6SAdQBKv+PAfb/ZwBQAsr+a/9KAcL8hvzw/dP7hPp++yL7d/lh+t77OPmb+IH4L/eT9Qj2JfcT8971hPdE9JL0pvXI9Q31LPQ89LLyJvLV87LwEvGS9mr0qvOW93T1Z/Z49+T0K/m2+oP05vfz+SL1o/gv+v/6uP+I/oX9LAFk/mr6ofyb/nMABgPSA+kHNgoQBYkEvQdpB0sFdQOECNMK3QVyCjQQPA3QCwoQtA4ICgIJCwf8B3YJBgoODpsRShA8DkYOngwuCfAHeAiiB9AITAvmCbIKXwvIClwJCgZnCHAGYgJ6AZkD6gSsApMGwAdpBwwIEAUhA1EA0vws/MP6//zJAMX+jADhBV8C7f7zATr+Kvit+Tb5MvbT+lX5ovlmAIv9+/tv/U/8j/rc97L3nvmd9uXzmfYk95jzqPc8+W72pPxy/DX3M/qf+P7z4/U+9er1gfh3+MT41/q0+kf5Zvns+O75pfpu+Bv6ov1v+xX+IgAd/5gCdwDi/MEAhwCm/Lb/ygPmA9cEzAYoCVkKNAakBuUJIwZrA3kGWAanBZEIyAoWDF8N+Q0UDToN4wpRCBUIsAUtBSAI1gewCOwLKgyuCw8L4gggCMYEv/8IBPkEDQABAxoH8ATVAr0DOQS3AeX+w/6Q/s38ZPzz/I/7wfsh/kP+kv3t/JX6Afts+iP34/g8+kv4KvnG+hr6Efvq+wb5A/lV+jT5//fk+MD7jPo5+uv7gPkG+pX7cfch+Sf+Pv1t/mD+R/zv/rv9Uvlq+rv8y/0T/CD97gCQ/vD9zP7//s8Bi/6C/vACC/2c/QYCr/0X/lIBNwKFAjD/EwJ4BaL+pP7WA6kCDgAeA0AGLQR/AukEsQWFAhwCWgbjB+sGSQfzBXkFxQRpAmYDuQWKBQwHegetBokFdQQ0BD8CZgNKBDECJQOSA9ECHQM4AhIDfgImAfAAPP+b/iD+Uf3j/hr/hP5Z/xH/6P4K/YL8Vf2U+8L6yvoD+yj7EfpZ+i37zPqG+l76hPrw+Wn5cfkI+nj6f/nQ+aD6c/ml+UH63PkY+lz6F/s8+zj7Wvu4+3L8tPwI/ZD92f0z/iz+Xf6S/qX+3/40/wAASQBCASoCKQJaArMCrALbAs0CSgLqAa4C4AIfAj4DDQTvAycETAQFBHEDywKpArUCywK7AogCqQLKAtYCdQIvAv4BtwF6AVIBRgF2ASYBAQF4AVMBDgGzAHEAOACP/4X/NgBAAH4AGQHuAJIAaQASAKn/Y/+b/wAA+f8mAGwAZACKABEAPf96/2f/7f5Z/87/2f/h/+3/AQDb/8H/i/+9/lj+U/40/i7+p/4e/xr/p/8GANX/hf/5/oj+vf2//W/+ev7k/lL/5/9tAGgAswCzAOH/uf82AAwA7v/j/34AQgFFAc8BaQJQAg8CJwImAuMB8AHYARsCTAJoAiYDKgPuAiMDDwPNAugCpQI7AnkC/gJaA9oCrgIRA3gCNwL5AacBFgLBASwBqAH0ATsBHgGdAVIB8ADpAIcAUQARAI3/m/94/xv/dP91/zz/Mf/e/tr+k/7r/Qr+WP4//sb9mv2Y/oP+z/3d/aP9jv0+/Q/9ov0p/Sv9NP4b/jT+aP4x/v/9yP2F/Ur9sv2q/XX95Pws/nwDv/2Y93UDKQPh+PX8AAFl/038sfu6AND/CP2w/5//zP1X/o8CRwB++Bj9WwJM/iD9zv/cApj/kPwYASsAIf2l/r3/Pf94/hIA9AHs/zT/MgH2AUgAu/51AEgABv87AI0ABwHeAVgBQgFYAaABWgH6AL4A+v/eAFsBUgCRAMsB9QE2AfsAXgHgAB4A+P/2/yQA4f8cABUBnwD//0sAcwD9/xL/N/9n/9z+vP4f/4n/hv9G/4b/uv+G/1f/2v6s/nz+Zf6x/pz+kv7o/i3/if+L/2j/bf9L//P+vf7o/iT/Nf9Z/6P/z/88AHsAewAdADMAdwBJAGwAUwAvAMUASAEVAQYBUQFPATMBMwFTAXsBQgGmAZ8BZAGpAaEBngF2AbEBDgLRAYUBtAF6AVgB2gHhAY8BdAGcAaIBcQFZAV4BawH4APUAawEiAcIA8gAiAbIAkwANAQoBdQBGAOMAvADy/zQAdwAkANr/DQBBABUA0f/S/1cAGABe/5b/2f9Z/0r/o/+a/z7/OP+x/5b/Pf9K/2z/Fv/b/i3/AP/4/j7/IP8J//j++P78/s7+yf6r/pz+A/8G/43+yP5r/yn/mf7g/kP/N//q/sf+af9c/wv/Yv/F/7v/m//y/y4ADADi/y4AZAAKAAwArgCxAIUAtwDqAAcB4wDZAGMBgwEPAUwBjwFaASYBSAFpAW0BdgGdAZ4BtgHyAckBsgGWAWABVAFIAWYBbgFkAWMBIQFcAYgBOwEWAfIAtACAAKkAqwBrAIMAqACCAHUATAA5ABIAgf+R/83/l/95/2//o/+5/5H/pv+U/3X/KP/7/gf/1/71/gD/1P4B/2D/bP85/+T+7v5E//X+uP70/vH+5/4q/xv/A/9R/1P/C/8B/xz/K/8p/wD/Gf9c/1//T/95/5b/bv9C/2n/Xf8J/z//d/9W/03/n//e/6n/ov/6/+X/jf9//6b/hP9h/7X/5v/3//f/AwBPAEQA8v/9/wEAzf/c/wQA+v8IAEgAXgBrAGQAZAB/AFYAKAAUAB8APgBTAE8AZACjAKkAiQByAGAAVAAyAPv/BQAuACsAKgBqAHsAYgBwAFUAJQARAOj/xP/F/8T/+v8EAO7/JABHACUAEAD5/9f/0f/N/7H/uv/O/9P/7//6//j/AgAKAOD/vf/i/+L/wv/A/+P/DADs//H/QwANAMv/AwAUAOj/8/8VAOD/+P84ADEAKQAcADQAQAAEABgAXAA1ABsAKQAnAFAAVAApADEAUgBMAB8APwBvAF0AKgA+AGUAUAA8ADwAEAAXAHgASgD7/04ApgBsAP3/GgBqAB0A+/8NABQAEAA1AEAAFwAgAEcAggBWAMH/pP8aAP//wv/e/xMAKgDy/+T/HAAbAP//KQARAAoAWQAkAMX/+//e/3j/xv8SABkAJwBMAIYAggA9ADMAAgA1/xn/sf+i/4L/UwDXAJYAJQDN/9v/xP9g/4D/0v/p/zUALwDn/8r/DwBdAHMAuQBfAMD/w/+U/73/LwCj/8j/fwBdAJ8ACwGZAJ8AJAHAAFj/Hv6X/5UBJP5m/fsHKgvpAAj9DQFEAfb8x/tFAW4FlgLj/wIAr/8v/i78BP0XAb4CoAAP/9j+5v2P/Nr76v2bAaABaAB0AfUAB/9w/dH8K//W/6b+3wCuAgwB5f9EAI0AU/99/hv/jP///wEAdAACATwAxP/W/wP/x/0c/xcB2f6//xkCsv8q//b+if0e/zb/8v4yAoYBgf9EAFL/gP4y/iv+ZAC6ACL/ZwCeAGn/lwHYAB7+u/9eAJj/0/6i/tYDwgNE/ab/hQBQ/UYCmwGd/egC6wEUADUDbf0x/NECiwDf/Q4B5gOoAt/+g/90ANz+dgAdAHv9CwRXBnH+ef7HAJT/IAG2/Y39BwVXATH7Af7H/yb/1v8UAGgAlACq+976GALWAPf8tQDNAnIBM/20+qP/jgSSBJz9oftTBbYC2/iI/VgCcgAlAVUAS/7PAbsBjPqx/I4EbQBs+6gBRQIp/mIAIP/W+27/mgG0/x3/Af5r/agE9AXc+K76CQbwADz92v/a/y4EggCe+eIAwQZRATj85/ocAhoGRf7a/QwEkANpACr+qP6HBGsB4vtIAuwFKf9W/jYCIwA2+9D9hQTqA7b8Ov45B3ACefil+6YEkgAt/LsBOgL1/YL9TAAgAiv+vP0eAJsB8AJGAAv9U/xaAWEElQKS/uL8pgFbAiH73v9nB4ICN/wM+5kCRAMA/M3/0QKoAAoBTf+N/O/7pATnBHn7uf2TA8gCcvvK+xYDjwKmArH/3/tRA0z9UfdFA0QECf3B/skDqQBN+93/FwGH/cMAOAJG/4cCCgXQ+ib6fQOLA3IBHf7R/V4E8wEtAPT/yfq4/6gDg/6i/1sFigFR+1j8pwEyAr4AVP5vAfj+e/dYBwkRIgKo+pQB4AH7/ub/FgI7BY8FEwCu/nQAj/mw9fT9wwfTBQH+yfwcAmz8LPJj+QAFbgfl/2b9lgVDA3z6EPm0/MMEigQU/m8DjQsdBSP3C/d6AhME6f3SARcGNgQKAcn7/vi1/b/9PP0+BPAELAGE/5D+mvcz+MIANwPAAdYAOQLxBN/+9/e8+z0CQAP//bIA8gbHAxH76/nN/ywC2f78/VIAGQTwAtX7kP0MAOf9qvwR//QCdwSLAXf6tfxQAXj86PtTAkQCCAElACD/yv/c/1j+n/qG/lgE1wK9ADQB+/0+/rb+EP/Z/R//YAT4A3T/bPzE/+P+QfzV/bABAgS+A6L+Bv+x/k38ev7h/2EAigBQAgICwv8U/9b/zP05/2YAUwKeApIAlP+R//n/TP+A/2QAcv9GAEkD0QDV/1YAzwHM/uv9fABBAmID8f9HALEDBAIu/nX9HgBY/0H+vwXjApn9fwGUAAv91P2NAIYDHQEKAIUCzQCzAWP/pfup/u0BZgGoAjkCPAERAfT9B/35/j7/qwFTAin/0wMkA7v8Cf2Z/Oz6Z/93Aj8DywIU/qf8dv3P+5/6GwCLAx4BN/+C/0UAxv0v+Xv6aAApAWsA1gG0ARL+zfyN/Cj9JwASAG8AMALTAgEBIv4K/ej9Gv84AKgA+ALsAxb/cf0S/1b/R/8O/yYANQJTAdMAnAAy/+39If9TAdX/swBwAw8C8P9xAL//3v8iAakAbwEgBLEEfgGT/mIAJAPnAY4BNAPoAvkAhQEYAiACIQJFAK//oQF/AqMBVwH7/xoApABsAIcAqAEaAUf/ov+9/5wA2QEjAPT97f9TATD/Uv68/wcAbgEaAdL/CQDb/pL9aP0+ANUCqwGr/87+Lf6t/ar8LP5OACsBJv8l/cr/o/80/qP9Gf3p/mUAFACM/6P+Sv4c/mD96P3Y/l0AS/+l/dv9wf0f/wn/1P3G/aX9Rf4s/jr8g/4MALb9WPwz/fv+OP5x/Pr7o/2R/tr+cf6i/m3/nP6T/Kn8df7xAJ8CMwGsAOsAmQBd/5f/+wHEA7IEkAS7A5oEiQMsAjoCnQNpBi8HEgfVBSEFNQXRA70C7APCBVYHtgbYBXQFmQPpARsB0QFiBPwFEQZoA90BzAFJ/1P/iABEApICbgHYAKn/xf6O/dT75v1T/xb/rP4D/c77wPlq+7b7Ufp8+zn81/nw9kv3EPr9+fv4aPj694z4UPbS9bn2V/eu+bD78PnE+I73v/bI9s/2HfjI+zP/VP/S/S78PfsD+SP4mvrGAcoH7QiFA5f/U/9Q/r3+TgEcBygMYQwDCV0FpwIvAm4BjQI4B+MM9A6qDFgIsQUlBbcEzgRzCOMOzxGvDzwMtwoBCFQFhwY3C1YQ4RG/D3wNRAq5B+IFdgagCXIMIQ6gDNEJ9gY6BP4CiQNdBZQHrwjhCIQGQgMwAVX/O/9HAUYDzwQvA0UAOP0Z+rD51/g4+XP6QPmW98P0PfLp7/bspez867Drp+pN6P3mjeRc4xXjG+KU4Vzgd+Co4cHhLOIt4qbhx+H24lPl5+UD5h7oTOm96xLtPO7m8EDxZPJc86L1cfmm+/P+MACTALkCpAOiBmIJiwzoEI4SPxT+FSsZwRwrHXseTiFHJNgm0ycoKlIr/CpdKh0pzykIKoQpJSleJxQmKyS1IL4dVBqvF2UVnhMeEsEOrgvDCCQFwgG8/h39Afx4+iT5I/eO9efztPEW8OXuVe5s7nfuLu6Q7Ars2uxF6yPpIugG6dvpv+hm56PmNeaK5Xbj4+F74k3jI+KR36neqt+p4DjhouBi3zPgm+CI4Njg1uGu497kuuev6Z3pF+rr6a7qK+ye7o7yRfWB9Yvz2/IV9i36ePom+En4OvwR/94AWwNVBVYGlAU5Br4Jmw+dFj4abB3yIQwm+iqbLZ4vUTIbN3M/0EVPSZdLN0wqS31IR0foSKxLi0xPSsxHMkXQQII6ozOyLocsHSs/KosnZCL8G4wUuA7ZCjUJaglPCTMIHgW0Ae7+UPu69xj1RPXa9qz3XPff9KvwAuuD5Wbi1+G14vHhQN5h2qDWjdFWzPvIOscbxTvDz8LewlrCjb8Au1W47bh9u/y9vMGMxYvGO8bXxk7K/8650tPWCNvE3svhbuRb6Szv8vN+9k73sPgQ+9H+ZQS2CfENkxAGEZgRSRIyFWUZVh31IdkmJCzNMI0zTTUUN6I6nUAhRy9NElDFUJRR6lIxVAVVQFWDVKZS5VDHTmtLJUciQRU7jTUTMZYtvykhJeEefBcFEh0OhgtYCOAD1gCN/jj9mvvM+Rf5gfeF9Wv0TPS99aX1+/M48uTwpvDY70fuHewl6ZjmLOTh4U3fgNuC15DSEc6EymTH5sT+wt/Ayb2Muka3P7Npr0Cu+a4gsW+zYLTys1Ox1a7QruGwObViuYa9oMEixFnGYMc5yqDOh9Nc2W/eZOPW58zrOu/I8fP0VPn0/pYERwkWDrgRWxTSFQUYFB2sI2IqozCoNVA6yz7iQvNHRU2zUxpZFFzXXfNe8WBrYyZlxmWWZMdid1+nWlpV9U9qS5FGAULFPEU3fDHdKtojURz9FfkQoAylCKUERgG8/fv5OvYD823wIe6j7G3rkuro6AXnFOVr49Thyt/13jze39ze2gHYLdVD0u3P7s1dzDnLjcjPxb7C6L8qvr+8tLuLug+6k7kGuGS2Jbaptpy3NrnOupW8Ab7lvjHA2cKyxpXJqszcz+TRSNRy11vc7+DQ5PPok+xo8Lzyz/O69cf47fxKAXUFVQkEDE0Now19DiQQiRKHFZEYoRtEHoogmyLiJI0nySrFLZ4wNDPXNXs5iD2OQaRER0cdSg9MdE0ZTipOXk4jTpVNDUxdSnNIw0WNQn8+GDpmNUkw6yqoJe0gMRyQF/kSJw6jCZwF8wHa/cH54PXi8iPw3+0A7Lnp1+dh5efiWOH5317eldz72n7Za9c31f7SA9Htz5XPXc+uzjLNxso+yKPGTMZmxuDGSMepxyHIbMg4ybfJk8rxy3vNm9DU0zbW2tcB2e7ayt2O4d7kwOd86oXsge5s8M/yZfXD9yb6WvwQ/5oBjwMeBSAGbwfWCG8KKwzFDSEPYhBgEQoSoRJFE0wU2BRDFdYVRRa0FgAXgxc3GMUYRhmwGVoa9Ro3G0MbEBtSG+QbmxwvHYIdFR6NHokeaB5IHkkeTx5UHuIeSh9nHxYfux6wHmQePB44Hioe6B0lHZccCBw1G5IawxkfGVkYORfuFZEURxOEEWIPtg0dDEwKQQjpBekDgQEU//P8w/qo+DL2sfNe8SDvQu1268rpUuja5qLlX+QV48rhx+BG4AvgAuAb4EXgk+DK4BjhneEZ4uni8uMi5ZnmGuhA6ULqPOuk7Enu/e+u8R7za/Rl9ab2Vvj8+Uf7U/xt/bH+wP+fAH4BXAIsA7ADdgRhBfYFTwZKBqUGOQeaB9UHvgezBzwH/AYwB2YHdgcnByUHSQc6BywHEwdaB8MH4gcGCDgIhwiaCL8IFAltCdEJ7wm9CaMJhAktCf8IxQjNCMYIeghhCA8I1gdpB6sGQQb2Bf0FvQVnBVMFIQXUBHAEKgT+A/QD7APPA54DlAOCA1cDSQNGA18DUAMPA+ACtALGAs0CwgLXAtACwgJ8AjIC+gG/Ab4BqwGPAXsBWAEtAdUAfwA+ADAAOQBUAFAANAASAOT/2/+y/6T/qf/T//n/4f/D/5P/gP9q/zv/NP9D/3L/ef9A/zj/M/8d//b+5v7x/t7+mf4//g3+1/1z/Sb9C/3a/Ib8+ftz+xL7f/r++aT5avlJ+dD4Zvjz95H3S/fs9qz2UvYN9sz1ZfUn9fX0uvSX9FX0JPT78+bz/fP38/Dz5vPL8wT0UPSq9Pj0JfV/9dj1P/ao9iT3lvcE+Jn4NfnR+aH6QfvU+3z8GP3X/Zn+Uf/z/4oAPgEJAqoCVwP3A5wEJgWmBSoGpAYkB2sHxgc1CJ8ICwl2Cc4JBQocCloKpQreCg0LNwtqC4kLowuhC6ELlwunC8gLxQulC3QLMwvyCqsKaQouCuoJqglcCfQIeAghCMsHVQfWBmgGDwauBSEFqwRKBNQDTAO7AjQCxwFkAe8AXwC4/zb/yP5g/uj9d/0H/Zz8Lvy0+0T75fqN+ir6u/lh+Sr57/ik+Dj44fen93P3PfcC98/2qPZ+9lv2YfZi9lj2UvZR9l32fva89vP2Hvdl9673Evhr+MX4KvmK+QT6d/r2+oD7Dvyj/DH9rv00/sr+Xf/n/3wAMwHUAU0C1gJdA+gDWwTPBHEF8wVbBpYG7wZGB3IHqgfjByQITghyCJwIqwizCLoIvQivCI0IcghSCCsI/AfBB4YHQgf2BrAGWgYYBukFjgUqBc8EhwRKBPoDpANjAyID1AKDAjIC3QF4ASUB6gCoAFMAAQDB/2v/Cv+s/mH+Hv7E/Wb9Hv3Q/ID8Jvy3+1z7C/u++mr6Dvqw+Vv5B/mr+FP4EPjL94b3T/cc9/H2xPaa9m32R/Y19if2K/Yx9jj2TvZi9n/2pPbE9vH2Nvdt96r3E/iL+An5fPn4+YD6EPug+y38xfxh/Q3+sf5L//j/kwAxAfIBmAI4A8kDZQQTBZoFGwa5Bk8HyAcyCJsIDAlrCbkJAQpBCncKmwq7CtwK8QoEC/gK5wrXCq0KkgplCiwK6AmiCWQJFQnJCGYI/wedBzAHvwY9BsYFTQXOBDoEsAMrA5oCAQJtAeQASADE/z7/rP4f/pP9FP2N/Ab8ofs2+8X6S/rm+Y35KPnZ+HX4K/js97r3kvdb9y73CPfu9s/2r/aa9qD2kvZ99oH2jfaZ9pT2m/aq9rn21Pb19g33KvdM9373pffU9w34SPiK+Ln4A/lQ+aj5Bvpi+r36D/t7+/P7aPzN/ET9wf1C/r3+Mf+7/zwAswAyAaYBMgK7AjcDtQMZBJQEBwV5BdwFRwazBgYHaQfCBxgIbAi6CAQJRQl6CaAJxgnWCeIJ9wkACg0KDAoACvgJ6QnJCaMJhglcCTQJ/QjACI4IRgj+B6wHRgftBooGKAbFBVAF0gRhBN4DXQPdAl8C7AFgAd8AYgDm/2H/5P5o/vH9hf0a/b/8X/z3+5f7Pvvm+p/6Zvok+uH5q/mE+WT5Qvks+RD58vjo+PH49Pj4+AX5E/kr+Uv5a/mP+b355/kb+kv6evq1+vL6PPtv+677Cfxi/KT84vwt/Xb9xP0O/lb+l/7d/jD/cP+s/+//NQBvAKoA3gARAVoBgQGsAeABGAJMAmoClAK1AtcCBwMoA0MDYwOHA6IDsAPFA+kDAwQeBDwERwRaBG4EfgSOBIkEgQSBBIUEgQRpBGAEVAQ4BBkE9wPPA58DbgM0A/wCugJ8Aj0C8wGhAVgBEAG/AGkAGQDT/4X/HP/C/nD+DP6x/Vr9Cv25/Gj8KPzc+5z7Z/s3+wX71fqs+or6Z/pJ+jT6Gfod+hr6G/om+ib6MvpB+lX6b/qT+sP68vom+1v7l/vi+yL8ZPys/Pr8TP2l/fj9Rf6a/vX+Tf+a/+v/QwCkAPoARgGcAfABNwJwArcCBgNNA4cDzQMUBEAEbwSFBJUEoAStBMIEyQTKBMcE1wTzBMgElQSHBFYEPgQhBPEDzgOvA5sDdwNWAzkD/QLUAp8CXgI3AgMC2gGzAYcBaQFDATgBBwHCALYAhgAzAAEA+P8AABQA9//p/8b/iP9A//T+6f7H/sL+v/6p/pj+Y/4y/gb+vP2I/Uv9If3+/Ln8qvyH/Fn8ZPxF/A387vvN+6n7a/tZ+1X7SvtN+yH7O/tl+2D7c/tp+5z7ufuz+/L7F/xb/Jz8vPwE/T/9hv2//fT9Wf6a/vj+Xf+u/yMAbADJADIBfgHcAR4CeQL2AkEDoQMHBFMEmwTYBCoFdwXXBSgGWAaKBqsGvga1BqAGkwaCBm4GbAZSBkAGJgb2BbYFZwUoBb4EagQRBJgDNwPPAnMCFQLBAXUBCwGyAFsA8v+W/zj/4v6G/jb+5v2L/WH9Gf3X/L/8j/xe/C38APzZ+6r7nvuB+1X7VPs8+yT7Jfsr+y/7Pvth+3T7nPvY+/P7Jfxi/If80/wM/Sr9Sv1w/Yz9n/3F/Qb+M/5V/pD+tP7X/vv++P7p/vP+BP8D/yX/Wv9t/6b/2f/3/w8ADAARACAANgBIAEgAawCiALkA1QAIAT4BfwG7AeoBFwJWAoYCegKKApQClAKhAqYCsQKxAssC4gLxAg4DCgMPAwkDDAMZAzQDYQNiA4sDpgOzA8cDsgOHA0ADFAPUAn8CQgLTAXEBKQHMAHEAIADp/7H/df9T/yT///7j/q/+ZP4d/vH9qP1Y/TH98vyz/MD8nPyC/HP8VPw5/AH8C/zd+7j7yvum+7X7wvvZ++L7+/tG/Cj8Q/yI/KT8+Pxl/cf9+P1T/r3++f5c/5//n//o/0EAcwCWAM0A+wD3AD8BZAFOAXABcwFbAToBXgFxAVABkQGnAa0B6wH3AfMB+wEIAtkBlgGiAWQBJQFFAT4BOAFVAXsBfAFoAW4BFwHQAMkAXgD7/8L/lf9g/zf/Lf/l/uL+G/8K/y3/fv+t/+3/VADLACEBmwEjAnQC4gJUA5ED2AMVBBkEAgTsA8UDbQMgA9ICagI6AhAC9AH4AfYB/wHkAeUB0wGfAXMBHQHaAIkAQwADALT/e/8i/9v+qP5t/kD+6/2h/Vv9FP3L/HD8Nfzn+6P7hfte+zn7DPvN+pP6SPr5+aj5Sfke+fr47fgq+Wr5z/k++uH6h/vv+4n85/xQ/Q7+dP7I/if/sf8/AMUAhwHqAVgC7AI4A40DwwO8A7gDyQMUBC0EVQTNBBsFiwUHBm0G3AY7B2YHQgdNB34HSQcTBw0H6QbeBv0G6wa3BoEGKwaLBRAFygQeBLADWQMCA9ACpwKbAk0COQL5AY8BZQElAcMARQADANn/tP/L/7r/vf/v/xEAJwAdABcAuv89/8T+I/6j/S791PyU/Hv8i/yd/LP8sPxe/Oz7cPvu+n/63PlQ+Qz57/gq+UD5UPlc+QD5mvjm9z73ZfYp9Uv0dvP58u7yKfPL8170V/Vp9hP3F/iF+IL4w/ji+B35/vhh+fv5g/r++wr9IP5v/0AABgGFAS4CXQJkAjYDrgNsBMwF8gZMCKQJ5ArHC3AMRw0oDe8MNA33DAsNUw2ODfENfg5ND4QP6A8/ELUPaw8DDycOVA2DDLcL1ApcCgUKSgn2CGgIdQeTBp8FbwTrApQBSgDz/i7+e/2W/CT8svsv+5j6+Pkd+ej3B/f+9fz0Z/TQ81bz/PLe8sTylfKc8lbyCPLV8abx2PH/8Ubyp/Iq8wP03fS99YH2+fZP96b3P/is+K/4hvg5+C34aviq+Nf41/jw+Cb5g/ku+qz63vpF+/X71vzh/Qf/GADPAKoBJQKDAhoDFQPbAq8C4AIrA5QDaATKBFgFEQZoBrYG7wbtBqkG6QZDB5UHfQioCd0KRgzODSIPjhADEv8SsxNyFCQVyRW1FpUXHhjkGLIZPxqQGqEaPRpfGYQYQBfdFcAUlBNrEosR5BBAELMPOw+DDpsNngxaCxUK6wi2B5oGowWxBMIDyQK3AWEA3P4X/Vr7oPne91f2EfXb88jy//EC8Qfw8+6d7Tvs/eoH6izp0ejw6B/p1+kB6wjswOxT7aLtce1G7cvs/evO697r4Ot07Kzt7u5Q8AfyZfNJ9Er1Ifa09rX3pvhX+en6EP3l/rEAngJVBKIF/AbTBzkI/giDCfgJGAtdDGoNXw5zDysQQRBpEPAPNQ+oDq0NHQ03DWcNsw0ODvcO4Q+UEFkRnxEVEoQSzhKFEz8UOBUXFt8W6hd0GLgYkRjjF90WahXCEz4SsxArD8sNvgwsDIoLuArXCQAJWQhdB3MGjQWhBEoE8QPpA+MDvgN4A/gChgJiAeT/bv6y/OL6Cflk9wr27vS48wDyoPB77/3tcuyj6nHoeeY75UnkcOPS4iTiuOEH4jTireFA4eTgPeDC38Hf0N8I4I3gfeBc4CfhI+Jt4j3iPOIO4iXjxeWn51Dpneuc7gLyhvX795X4cvnu+qP7m/yc/S3+bP+oAc8DZwV7B2UJNArcCncL2QvyDAQOUg6UDhkQYBIXFJ8VsBb1FhkYrBmiGjUb0hvpHGoe5CDEIr0jYSXqJn0nnSeIJwonRSaBJSwk2yJoIrAhOCDBHjcdeBvMGeMXdBXNEtkQPA+pDWgM6QqgCQ4JhghxBw4GIAUJBOsC2AF2AFP/Vf5F/b37Zfo9+aL3HPZL9HLy6vCb71Tueuz16sDpouij5/LlOOT74u/hyeBh32fewN1M3QDdVtzL23/b7doq2iDZuNfV1sDW6NZD1nPVyNWs1vbXadjL1wXYJdnN2uPbNN1530LheOQV6LfqcO3L70DyH/TR9TT3YPiU+xD+T/+HAYQEmAeKCdsKMQucC9UMNQ2gDZ4Ojg+3EBsTEBaPF6EYLxpoG0scGB39HaofTyKQJJEm/inpLVUwGTKpM3Q03TQKNc00LjSZM8oy9zHRMdIwlC5uLCoqVifrI80gFB5sGxEZpBYGFRIUtRLIEPMOWA11C5gJCwg8BjgEmgJQASgAu/6j/ET6HPi89c3yse9I7ZjqIeiI5kHlPeTW4j/hd9/63Svcx9nO1zDW6dSL1E/VP9Zi1obWhdaC1vjVStRs0uvQuNCq0IrRmNPv1CbWddfp2EHZhdgc2IvXWtgG2m7cpN/q4prmhumU7CLvJvAm8Fvw2fHf8lP0tPYX+f37pf4gAW0CdQMUBK8DiQQpBe8FqQeECrwNgw+3EVMT3RR8Ft4Wdxc4GKEaWx2uICwlPigkKx0uEDGiMhozAzT8M/o0hTawNzs5czoFOwE6PjngN6g0azH3LbAq+ycvJs0kTSMuIlogLh5bHCga/xYOFLYRkA9fDpcNDQ0VDN8KZAkUBx8FAwKG/pr78vgv9zP1/PMp8v7vJO7x6tbnceT84Mbd8Nps2fHXhNdG1zzWj9Vi1BTThtHjzyfOnMzZzNXNlM56z93PLdD50FPR7dAk0AHQNtCq0DHTNNWG1mbY4tmt2w7dEt8k4Avhy+PX5UXpKu3s7/PxdvM69qX30vhh+g37qfy7/lIBggM9Bf8GxgetCMUJWwpuCxgNkA4fEM4RqhNbFWMWThejF7wYPRrpG7UewyBcIyUmJikoLO4tDTBuMTUzXDXVNjM5vjpUPJk9QT7APmU9YTyROkI4oTaONP4yQjHQLy0uHSyBKtInrSTtIQ8flRyJGtoYFBc+FQsUYBJ0EKQOzAveCFcGFgThAaz/uP1r+4X5wvc/9ZPycO+/6wbou+S54VfeTdu82HTWaNTd0lTRj8/lzevLhcpoycDIrse4xhTHLccFyH/IycgSybXIGsnfyOnIDMlwyR7Llsy2zgzRxNPp1gPZ59om3AHeyeAQ4xzleucI6+nutfKF9Wv33/ig+or80/3G/jf/ogFcBd4IKgyJDmER8hPiFVIXfxcHGGgYnRnOG+wdpCDhIrElESjKKYsr1ywHLiEvxjDfMqo1fzjmOu88mj6AP4k/Pz8JPnA8szpKOdE4JDg2N6Q1wDP4MWsvgizTKN8kbyGVHtccJBtRGV4XZRWZE+YQhw0CCpcGfAPwAJj+2PxG+2T5Yfe89Djysu4n6/jneOQK4nvf5N2b3Kraudh91RbTyNCtzdzKTchLxwXGYcXvxaXFHsXKwy3DhsNYw3XCa8Elww/F5sRRxi/JY8v+y8vMUc+a0JLRdtJ0017YH9vF2lTeiuKu4zLkVOfa6iHsYe1Y7xDzLfa29of5P/68AT4DxgRlCPQKDgxdDaoPBxPhFPUVkRiqGxUdpB08ILMhZCE2I1IkhSVwJ1Qn6SfaKZcrOSueK4ctEC32LP0suiwOLT8tIC6vLZMtvC1hLEwswCuHKpcpKintKHknJCd2JoUlZCVJJPMi5yHgIAQfWB2mHEIbyRn5GMIXZxapFH4SjhCeDooMawrBCHsHhAVcA6wBi/9j/Un7g/ld96b0C/OP8XHvXe3q613qeejA5g/lWOP54EbfAd8V3tXcQNxh3DfcwNoC2gLatdnq2CjYa9jQ2MPY5tg+2cTZNdpI2traedvC2/PbmNwj3qveQt8h4VniquPs5HrlbOYg6CnpyOni643t1e7W8GryA/S99Sf3kfhv+hr8Pv3O/mgARwINBJgFiQdZCQQLPQzJDYIPfBBCEasSVxRJFZYWCxjbGL4ZWhrOGlYbgBupGwscfxx4HJQcDh3nHM8c3xyrHD8ckxsFG5QaKBqXGTIZFRl/GKcXBhdMFnQVYBSZE/cS8BEfEWwQtw/TDtgNwgx3C3kKWgl4CHcH7wU9BTkEhQKFAXQAL/9t/k799vsP+xr6+vjy9233tPZD9az0QfQT807y0fFa8QjxZvDC777vne/H7vnthO6a7ont5+3w7UXt6e0B7rTtUu5s7mju2O627gPv/+/y79nv8vCd8WLxBvIG83rzYfTN9CP1p/YR97z2Dfjd+Sr6Nfom/Ib9OP2n/ef+n/8vADEB7gEKA4oEWgR+BJoGmwdaB/gHQgnDCfQJKAqCChQM1QxsDJENwg5ODm0NPg5xD1sOhQ62D7EPEhB9DxUPSBDnDzQOWg8zECoNhg0yD2YMrQxRDkkMNgy8DNcK8wrcCiEI3QhzCVcGFAdRCCQFNAR2BXMEFgIWAa4CoQGG/v/+Sv9g/t394fvB+9X9fPvx9wX6kvuQ+Mr2UPeM+P/3dfTT9Gn4svYN83X0cPYR9cfy/vJg9Rv0F/L88zT0M/PD9Eb1fPNs80H2y/Nk8Hf2vPhB8+Pynfct+bX09/Pz+1b7l/Nq+ZL95PU++OT+Qfyg+6j+dP6Y/aH9fP1pAcYCbf2rAOUEAAGlAQYDIAXPBxUEfgOUBioFXQM/BfAHXAoGCJ8FAAtZCugCIQerDXAKBQhKCvkKfQc9BxMNfQuYBxgOTA5gB8kDpwhMDDoJ5AoOCTIKQQvbAxkFhwh6CLwKPgeGAtgFqgebAJj/RAdoCP8B8ACBAfYAVgMX/HH78gQdAQr8/v0c/8D9T/rz/AD7dffH/4j6zfNzAJb74/Lq+h/68PXm+O/6xvVi9/74B/X59Zv1Bvpv+pHx8feE+jfyQPjb+Vn2TPjw9HT4jfyR9IP2zPzB+0H3EfbI+1b9XvmK+F7+cP2H9V7+FwVe/FH/rP9k+dj8A/0K/cUCzgO9DegLdfeA/A0EF/j5/AcLIAbsAbcLjwrQ/Fn9fgFdAzQCtwLhDEoJHP7YBcIKO/81BJUM/gJD/YkF3v857VkH/Sg0EQMC5RKLAWbrzQAAB5P8RxdJJXQFiPuwBW75SflKBXYGeg86CBP5vggtCGL5gQRfBuf91Ac/AGX0DAD+AeX/MwS6/bEBEQix+CH8ugB39Fj53gIiAan7ff4qBP75h/h2AJP3g/WU/yf/IPiP+sv/Ovi68bkAvf6S777+Jv5Z8BH8Cvir8XIClAI6+ib4j/hs90jz1/ar/H39Yf+r/d34s/ru9TH14vtG/039kvxr/zT/RfrL93r9yvwK+2kARgCQ++r6AP3+AREAwf9CArcBvf4C+Lj97wCg+6cF+gb9/bEEdwKN+Az+rgHg+2r/owkKCDn+zAAyB9/+IPlyA0IHigGx/u0DUAPTAJ4DhwHQBlMIBf7r/K0FsgBy/40G1gMXATQF0QE1/9EE3v9WAF0GJgLA/fD+DwbmB97+HwDSBe4Fjv/D+oYDewZ5/N38LwctCJgD6/62/j4DagRD/nr8NwdaBDn7ZgG0AWkApQXNBI/+EgCMAYD8+P9iBREAQQA+Bgn/bvvS/wIBxf/Q/18BgwAVAT0BEP0oAVUG4QLYARkCEf+T+bD6nQLnAxb9mv/KBfD/4fsjAQoFnAN4AeP+gvp8/ZMAA/3wAwULCgIF+l38sf07+pX7rgETA3wDZ/9j/OgBmwKm/HL7av76/v39s/x9AK8ENgDY+2j+QACWAPv9G/9QAuz8Hfva/1cAOv5EAUgFlQCJ/NX+kvzL/YoAaP+K/5wAEgAl/BL9fQCI/b/8hwCl/5X6ofnd/B389f2hAVECMAE3/5/7zvd6+Yj9F/8iAfQDSP9b/Ef+Ef99/3L/PgDdAagATf6F/n7/Y/+k/nIAfAAPANr+CP5t/r77Wvs9/tn9qPt0/Jv9Vv6C/a/+v//G/rn+j/88AQYBwgF4A8UCcgNfBLYBaQEpAgUCNAGxAbwCawB4AL4C2QGQAPL/mAANAZ7+P/9V/wH/4P54/kn/1/5V/hf+DP9fADMAOwHhAYwAAACg/7MA+AAGA7gDmwPNBLkEQwQxAz8CFQCb/zwBcQHw/zUAygAbAQIA+/93/uj86PyH+5X78v2y/w8ACQJmAkICMgBlAEUAAP6V/uP/aAE7AuoCTgOHAiwDiALBAFwAaP79/cP+AAEUAhYCJAOvAi4AGv9i/u/7vvqo+xX7wfmP/aP/MP2d/YT/X/9F/j7+dP/N/B/9cQBlA5sFGgbRBooFNAQaAd/8s/tC/J/8fv/EAbMBOwBt/8/+Z/1h/Fr7Lvpu+5393f2j/zkBagLUAbYBgQDp/M376/uX/cP/6gC0AtID9AMjA+ABQwI9Ah4CsQJsA+8DKwMyAgIC8AAqAPP//f6n/Zj88fx4/ZX+CgAAAPgAdQFnAeICBAMZA00D6QMIBcMEEAWbBCEDqwLkAZoByQGzASEBCwEuArEB6//T/6T/N/7C/gEA4f/b/zQA2wB3AKMACgGG/lL8U/y+/Vj+Vf+RAJ7+2f2VAJYB9P+d/iz++/34/REAEAGm/+f+Hv6n/bz8VvzW+9n4gviM+kv8Qf3R/e3+Vv6p/T7+gv28+zf7Fvxg/WP/DwGoAscCxP8m/uv9Gf7s/fP9zP3D/pYBXAIpAl4Bff/c/ZH+u/+g/qL9tv2C/tP/XQCkAAQB6wD2/9X/0ACRATQBzAAwAmsD6wRGBo8GRQUjA+YE6gSoA+oEhwPVArYEqgYZB6MGLwYqBakDtwOBBI4DvwP0BEEF8wU+B3UHLAW8ApYCNQOOAi0BaQGsARYCYASBBaID+QCO//L8ufpC/OD7tfoI/f7+5v4wAM4BqP5V+nb5jvjQ90v4Nfjy+O/5aPsb/BD7D/l69m30mPSf9JrzT/T19T/3kfjh+jn7DPlk9wr18POP93b6C/tY/QQAKQA8/xgAO/9P+5j6wPzM/zYDiAUbB9IHGwn2CJUG2AQEAqb/+gBHAwsFbAZNBrEFjgYxB44FtwNnA50CwQKABYEHWwioCVYLVAzZDA0NNwtfCRgJcwm8CXcKLAyZDMILYQtKC4cJFwfnBFAC9gAwAc4BJwK7AXQB+gBGABMAg/6y/EH7ivqX+/j8Kf5s//v/7/9eANYAxP8p/sH9pv19/bP9cf4j/iv9Fv2//CX7TPlp+Nf2IvYt9i/1v/QQ9AXz2fEj8UHwYe7D7QPs2ukf6snpN+nd6YLq2Olx6crs7u9U7wnw4vDv7mHwePXx91z51fxs/+j+5P8r/2L6d/nk+sf5t/n/+8z8uf3lALwB4/7o/dz9kvwd/c7+5v8CAo8EqQbtB68JpwsFDFEMsQwzDkcRjBQFGCEc7B9GIu8jXCWoJFAjACSjIzQhkSBhIPceVh08G5gYkBWXEgkOHwmrBp8FiQRZA/cCSwJ7AQkCBwE3/g/9vvyz+w376fqI+t751/lv+Uv4h/eT9mn1cfSo8yH0J/S28lrxHfA87+3t8ezG6lLnRuYr5+vnlOeT5/rn8uY/5tflPeQR4z/j1+MV5ETloOeQ6DvpX+sB7MXrQ+tT6Tvo2uaz557s0O+L8z73r/go+gv8uP13/KL6/vkj+ND4ifzS/SX/LQKRBccH9QcUBwYEtABLAEQAzABHAq8DzwZcCikNSQ5CDp8OrA6+D6USCxZDG/8gQSbFLMUyVDahOAQ6cDrKOE43lzZZNZ005TJ2MZgvXiy5KAok6h4jGkUW5RMDEt4Qpg+aDssOpQ6/DMgKwghtBnMEtwLyATcB7QCFAJ//0f6X/eT7kvn89sH0FfIT8NLuHO3v6obpQ+gN5l7jzeAT3qDaMtgU1k/UzNN11PjVFdex2JPZ8tjq2NLXAddK1+zXkNms2wnea+C24tHjxOOX4wDjvOKq5KvnHOsK8eX15fgb/Tf/xAADAmkBkgBgAE4CaAT0BpcJvQmMChYMnAsGCmkISwefBncGMQcYCJkJcQxEDSENCQ4DDi8OZg+tEW0VehthI9kpXS9cNCc44ztUPsc+oz6nPos+ZD6hPdY7IDm7NVwxzytoJmchZRxCGEEVahMEErgRrhFaEGgPzg6zDegLSAomCV4IEAhxBw4HqQZkBUIEsgIjAWD/pv2A+3P45/Xy8mTvNuwN6ULlBOK93xfd/9lX1+TUQNJ70N3OE81lze3NNc6jzmfOqM4Hz7zOiM0ozRfOCs/Q0ePUSNax2P3ah9uq2zHbBNr52Rzc2t+i46foY+5n8pX2WvqE/Lb9cf45/3r/GQEgBGMH5wvTD9QSthRkFFYTsxGCD10NFAw6DE8Ngw+uEfoStBSTFuAXVhlHGzwe+iE/JgAsrzGkNgg8f0DKQipEPUVIRD1Cl0C5PXw6yTdTNNUvCSuvJl4iWh1YGL8TRg+vCxYJ+AZjBZUECQQNA+sBcQBR/wL+4fvU+mX6q/nS+ZX65Pnv+Lz4ofb18+rxTO/o7NnqOenG523m/OTq4ojgcd1V2mLX9dMw0dTP8c50zq/OM8+Mz5bPWtBh0GTPJ9AB0b7RztIf09/T39QU1pTW9NZ32VvcWt+94Wzj3+ba6GfpPOtI7LDtw/BI9CH4xPvy/oIACQJNAyUCOALiAuACdgTqBtsJAAwDDdAM9ApKClsJXAdEB0YIrgmbDHoQLhQoGPEc7SBIJNAoxCzxMPc1FzlcPIFAqEMiRupG2kU5Q2VAVzzQNgAyViwwJ44jzh+BHGIZ+BW1ErMPUwx4CcYHSQb+BLUEcgXSBSIGvAUQBCICDACk/aj6lfgq94/1MfWz9MLz/vJ38dnuC+xz6TDm1+MJ4qPfv9663iDeid0k3N7Zy9eq1anTbtIg0tTS+tOZ1W3XF9qm3I/d3d4i3yPfmOCu4OPgT+EG4jfk2+Xu58Xpbuuh7Tzuoe6V7xHxQfOF9B/2dfgW+3n+GwAtAOIAgQCHAAoBof/R/iz/MACuAIABrAL0Ab4CLgOwAa8C0QMoBBYFBAefCfcLLw/UEeITVhcoGw8eQSEdJW4ojysdLykycTQ3NzU5SzlnOXg4bja2NF0xtCz5KBomJSNqILkdrBrDGCcXNBSHETUPrwxyCqEIXQfGBqoGdgYYBnwFuATaAzIC8/8A/iP8Gvp2+Cv3qfU59HPzlPJN8QzwJ+7u69PpDudI5BbiKODl3g7ebt083frc39uD2lza5tkq2YjZ4dmY2xfeON+l4GLiduPq5DrmwObZ5zDpfulR6ufrjexl7S7vtPBh8572Wvi3+uj8hf2r/en8KPzw+2D75vrk+lH78/uR/Bj8gPsG+xT5mvi0+Y74n/e2+IH5fvs+/gz/hwC6A3oF0QYmCbQKcgxgD9cRhRWoGq4evCJFJ4sqvSywLrYvjS/nLgAuES0YLPEqRSmSJokkhCLAHkIbeBgQFSQSgRDcDjkOtA49DjgOOw/9Dn4O8Q36C0YKKAmPBw4GPgV5BLcDyAOxA9ACmwHH/639J/uB+CX2qPOh8Rrwoe7g7f/s+uqj6LHlaOKD3xvcUtkJ2K3XR9gt2irdBt9x4KDhguHZ4aLgbt7m3WLdNd4m4JfhQ+QX5zjoFen/6SvpQecV5jDll+VE6Hnrju+m9An47fpq/S79hftM+AT1dPMp80/0A/cP+wj/IwM/BrwHtwgqB/sDsQH8/1P/SAC7ASkDWgb4CcQMmg9WEWoSSRR6FkIZKR2HIckmdCzBMZs2xjqVPV0+cD0zO1k4kzUQMkku2SrAJ7oleCMBIdYeDRxaGfoWjBSNEgQRiA9NDvwNXQ6aDtYOWQ5rDewMaAuSCY0HhAQEAj0Akf5X/dH8Tfy2+7D7avrM+G73M/S88Pfs++gt5onjj+DP3Z3cdNwz3DXc09vU2yXc69ts3AvcgNts3OrbKNx83q3ecd7F3xngud8p4Uvhgd+A4ALhr+Ct42TlTuYC6ZPqbexz7xnx5/Ac8dbwmfCI8pbz+PMx9fL1DPiy+hz8T/0Y/RH8SfyS/C/8ZfzE/Hr88P2VABYC8QSRB8YIRAzDEMcU3hnZHlMjtygzLpUy5DZ+Oko8iD1+PtI+uD6gPV878ThmNjk00TFqLiorHygyJSAjOyGcHlwctRpCGUYYdxeWFtAV3BS/E8wS1BE9EPQNZwtZCQAIkwYWBXcDDQL2AHj/qf2++1T5h/YR9KPx7u7M7Hfq0edv5TjiWN9x3QDbitjY1o/VndW+1bPUtdQa1YLUSNRg1A7UidRE1R3VQNaD19/WFdf51r/VrNU71RzVR9YX1x/YnNpE3h3hfeL846XlpOYg55XnTOdr54npuuoP7MPv3/Ge8kX1b/al9Y/2vvZX9Tv2iPf29xn7IP4T/48BTwTwBI0FtQZhB5EJRw27EC0WgR5WJh8tBDS/Oeo9CkG7QnpCVkL5QpdC7EITRJFEzESbRABDtT+tPNY4ITSrMEct8SplKiYqril5KTMpfScRJaIhxhxeGFcUfBA/DdMKWwkOCPIGogWwA5cBJP/I+xr4J/WR8pLviezW6ZPnTeUW4rveQtyi2aXWANQ00vHQi89jznDNxM3rzWnM+csBzG3LpcoOyq3K4MpmylHKHsuwzLfM8sslzEfM6stgy0nMl87x0P7TmNec3HThI+Pz5HXnTuh06FnoL+ia6JrpCOqZ68zuUvAa8aTyffPc8yb0ZvQH9Qr2+vde+sr94AGgBC4IhwxoD+MR9RQ8GTAeeiSkK/MyOzyVRK9K0lA0VU9XMVj/V69WXVWIVABT81E/UcpPK055TCtKTUeARGVCXECXPsI9Ij2MPPM7HDoZN+0zfC+EKbQjPB6PGOYTdw8oC2QIjAV1AqX/dfwl+dr1hfIM79frDekn5hHj89/j3InZ9NUg0sTNg8lOxnTDY8Aiv1m+cL3evaW9qbwyvCW76LiftyG3ILYVt5C4bLg9unK8GL19vl2/Eb/XwPLDacZ8ytjPVNQW2ePeseNb5wLq9Oq761Ttiu7E7vHv8fJb9MX1i/hy+Sf6YPth+3r7L/3r/Tn+lgKyBpIIOwzzDl4QnxLUEz4UYRfXGlUdDSPzKogy2DoJQ99JBlAsVNdVV1fQWCZZNVmeWUJaGlpZWVVYhFZwU4ZPVkuHR9xEqEJ5QYdCX0NCQyRD+kGiP0Y8UDcbMc0r/iWpH6UbehhIFZgSOQ9dC4AHIQPX/YP5qvVR8fPt5urX5yblGeJZ3hva3tT7zqHJG8XqwOO8g7m/tjO0DLLNr8GthatEqTWnZKWWpE+kcqRdpTinWanxqtGrt6tyq3SsYa1IrjCwrbOkuEi+jMTQyiPQDdRc1vjY+9sH35DigeaO637wgPRY+Hz74vxg/Zb9EP5r/jn/RgGUBeIKKg9pE0oY+RvuHZoeOR9WIG8g5CDhIs4m7iu5MZs46UA6SIhNXlLpVsRZn1tUXZBeHGBaYbphxWK2Y3BhaF6OWyZXVlKMTZpJcEdcRi9FrkTWRYlF1UOFQdA9OjmrM5ktKihaI94esRovF0QUrBB9DIgIIgQ2/536Ufag8n3v5ew26lLoIeaK4jXfattP1hrRlss0xlHBi7zrt1m0obGRrpCs9qpEqYynjqU2o1qhGqBwn+Wfq6HCoxKmkqipqv2ry6yrrVmuC7DUsm63Qr1XxNTKNtCq1a3YKdqH2/fbTd2r32Tif+UW6u/u9/Ek9mL5XvuD/Qj/vADtAxgIvAvgEJQWGhuSHy0jIiYyKIwp7ioFLW4whjSVOudC/UtRVGlbcGFcZaFmjWYaZkdlYWSQYxpjTmRuZPJi8GByXYNYAVPoTVRJfkabRHJDTERoRPdCW0EdPjo58zILLGklpB+NGgMWfRNmER0OmQp/Bl0C/f2t+BP0dPBd7fjqOunw53Xmy+Pm34TbodbI0EjLg8ajwce9sLrxt5K2gbQFstSvfK2XqlinYaX0o0SjFKP9omOkmaVWpqKnv6hoqvaqj6r7qnOs6K5Tsi23xrzzwnvJdM/c1Yvbtt404SvjyeO+5F3mteiO60/u3PBQ80/2EfhW+c37cP78APMDmwfADKARPxbCGhQeHiHSIk4kAycjKg4uGjMwOrNBHUmLUUJYyl1MYZlieWOlYxNjbmLMYiRjL2L6YCxfyFwCWvNVKFIwT6tMJ0tjSnVKj0psSYtHzUMTPzk5mzIkLJQl0h/7Gu0WrRM6EOMMYwn8BHUAa/tP9yn0vvHF7zPu8ewr6zTojuSX3/PZ2dMqzUHHWcJ8vtq6t7ettJaxlK4HrFipSqc8pYOjJ6JGofygb6Ero+OkjqYyqP2pVqsrrDus2qzbrUGvCbE9tRi7SMEwx0TMYdCd0k7UE9Z02E3bON9845/o+Ow58an0evfn+KL4pPhf+dH68fxcAIoECwlEDGQPChJLFXgXDxnXGr8dECIaKKkw8DoeRn1QSFkjX+RiF2RhZBJkpGOAYwpkFGXZZYxlKmQ3YYJcyFZRUaFNtkvYSwtNEE/YUEhR/0/rTONH/UEZOwc0qy1NKPoj9x9oHH4YYhS6D0MKWAXgABb9Q/oL+GD2EPU79OTyufCD7Z7oEeP93LnWetHKzPXIbMU3wki/YbxBuWa1TLFprQWqhKf0pWWlOqZYp52o56m7qmCr/av0rIyuTrCSsuq037e+uom9j8A9w+vFh8i9y97PA9Qq2E3c+t9D4zLlcedh6a3ryu1Y74XxVPOD9Jf1p/YA+MX50fvE/iYCGwaVCb8M+Q+qEuEUFBdmGeIc3iAGJossLzR/PJFEz0vlUSBWDVm+WipbMVzcXDte214oXxhfel3qWjdXHVPmT9NM5EoCSkNKoEvKSylLZklQRpJBhDvsNWwxGS3PKWgmYiMkIAkcjReBErcNPAkABW8Bw/7J/Fv7BPlE9ozy6u3H6APj/92g2b3VPdJqzgXLUccDwza+v7hhszWuP6oCqAandKcvqBio2qZ9pHmiA6FmoByhyaJhpZyosqtPrmWwBLJlsrmx8rFitBm5Ub8rxkfN29Lt1RPYuNmS25fdDuBx4t/jxeVP6KDrS++E8jv1vPZl97P4M/vN/rUCnQatCooOUhLVFfYYlhtJHY0dmB39HtsiOCkNMWQ6NENXSmtPSVK/VOFVn1buV3dZ/lseXmxgBGKfYadfblsTV9VSYE/oTRJNJU3uTFFMQUvKSJBFLkH0OzY2WTCWK2wn7CPPIKAdRhpGFvURuA27CcUFCAJp/kn7afiR9ajyU+/e6+rnsOO03yLcK9kG1sDSm894zMjJ08ZNxO3Bbb/rvP25sLettSu0HrMJsvCxJrLZshu0P7UDtyq4+bh4uRK6kLvYvKe+hMBFwhnESsUwx4bJRMw4z+rR1dRa1/vZcdyF3kbgkeHN4i7k+OWs6IDrze1e7wvxBvOJ9Xr4p/vn/mYBqgPmBWQI0grxDGgOEA+rD/wQHxNHFuwZbR7XIsUmnSroLsIzCTgrPLQ/+UIxRhRK7U4cVOVYg1y0Xu1frmDkYRpj/GOkZJtkYmSiY9BiZWHvXkxbllaXUY9MIUhqRLpA8zy4OGI0wC/EKukl7SC8GwQWjRBJC2kGCQLg/cj5VfXM8I/sd+ja5Dfhwd0e2kPW3NKLz8LMwcmsxm3Du78VvJG4i7Ubs9SwCq9UrRGsTKv3qviqsqpKqsKpbKmUqTWqN6tZrHit2q5vsI6y7LRvt+G5m7yCv9HCZsYSytHNcdEn1XvYtNuk3jrhfOOw5Tvo7epB7aDv6PGR9AT3UvmE+0/9+f5tAHkC2gRfBwkKpgxoDzoSyxRVF2AZ3hvEHjEiIiaKKo8vZDQkOe49kkLFRjhKkU0YUfRU81jRXKNgpmMEZohnWmisaGVonGdkZhllAWSbYtZgc16zWzFY4FNbT7JKF0ZjQdc8bzj6M00vSSryJE8fahm1E/QNqgjIA6L/1/sR+Hr0pPCx7E/oDeQc4B/cS9iN1ATRiM3RyTPGQ8ISvo65T7W+samuSqyJqlapfaiZp7+m9aUrpXiky6N/o7ujW6RJpaWmZqh2qjisCK4TsI2yvbUwuSK9TsGKxb3Jdc380AnUcdah2HLa7dyB3xziseTm5lTpWetb7VbvL/Fo83312PeH+lb9lwA1A84FLQhtCrUMww5qEUcULxdgGpsdWSFgJXsp3S34MYQ2JjsoQEZFTUpWT9VTn1dBW5pewGFLZClm6WcNafVpg2rTasFq9WnLaGlnsWX2Y7pheV/nXBxa7lbOUkBOKUnQQ0E+iTgVM3MtzCdRIuccDBjhEs8NpAiXA+3+Xfpk9o/yyO766rfmaOLt3VzZs9S+z0PL+8bzwgS/JLtyt46z069+rKypKKfkpBCjlKFvoI+fwJ79nXudYZ3Ona+eyJ8PoV6ixKOUpeGnsapSrd6vrrIntje6a76QwjvGS8kUzCjP9NLo1mHah92r4Pzj5eaf6TLs9u528d3zhfab+XP83f56AdQEuwj/C4QOyRBIE5AVERgoG/EeQyJBJUcoHSw3MM8zFTdbOt89oEGpRT5K9E4TU5dWg1mFXAZfLmHiYnVkDmZoZ39og2n0ad9p8mjYZ4BmjWR0YgRglV3RWm5XvVOdTxFLfEa4QVY9iDiUM1su4yilIzYexRg9E4sNKginAnP9UvgP89btUehW44Le4dl51TTRYc26yRnGzsI2v4C7kreosxmwr6yeqcumRqQ5onKg/56cnVechpvsmtaaEpvbm92c2J1XnzKhQqNBpfam06jBqiCtva+dsiy207mYvXPBmMXoybfNL9Gz1HjYeNw74EXkXOgv7HDvbPLB9d34XfvA/WcAXwP9BYMIeguvDtQRTxQCFxsa/hx9H/sheiVzKcAsnS9TMik1hjc4Odw7SD/9QuBFH0hIS1lOJ1GBU3VWZ1q0XVlguWIsZVNn72f2ZytoPWi1Z91lJmS+Yuxgcl5QW6VYC1aOUvNOU0tESHpEjj/DOhY2YzGxK1kljx+qGYgTAw2PBtwAnfpH9Fbuh+nB5ZzhXd0/2TDVuNAYyxDGJsLYvpi7+LfatIGxPa3mqG2loaNOoo+gQJ+hnqGeLp5MnTGde52/nfOdhJ5IoK+hk6L/oiKkNqbXp16pgKt4rtixsrQWuDG8M8CawxDGtsk4zifTwNdY3LHhEOZ26C/qHe238b71Yfmk/TsCdwVbBtEHhgs9EEwUOhicHQYj3CUWJ9woXSw7LxgxnDOBN986HTzMO2s8nD2TPgFA7ULLR45LOE4VULdSnVX+V1FaMV0ZYIZiqGOaZINl12WZZVVk92OdY2BjZWLtYHVfRV02WqdWhlPYUMpNBUraRTxBFDzENVAvZCkJJLge+RiCExsOgggqAqH7ePXn72PqCeVV4BbcyteS0lvNv8j9xGTB4b3yumu4ZLXcsUWux6u8qZSnTKUho7Kh0p8PnqCcH5winJ6b7ZoRmz2cJ571nnaflKArosejy6Rbp/2qBK4kr4mwlbT4uZS9HcCow7vIq8z3zpjTfdqO4ALj5OSD6Xvu8/DI8uz2D/1hAF4BaAP1BjYKnAvVDlAUxxhrGqkaAx31IEckQScoKq8tSTDnMR00/zb/OTg85D2+QDVEmkcGSgxLbUx7ToZR1lTzVwhbfF2pXrJfEWF4Y/RkK2VcZcJlV2ZiZWdjk2G2X2tdSVr8Vg5UJ1AJTMlHW0TzQEs8wjYnMSssiSc3Iqkc7RYMEScLGwX5/8j6VPVR78Xp4eQc4MbamtXH0K3MvMhZxUTCp75/utO1LrIdr7SsXap0qHmmP6SDoTafqZ3+nMiczpwUndGcIJwUmyebupwmnzmhOKLKotOjoqUBqMqqBK4AsXOzl7XFuKG8FsCBwobFQsrLz3LUyNiM3bThtePj5KbpQvEc+ej9SQEQBAcF+wQcB8UN5xYzHcIfDyC8H2QgHyI1KFkweDcjOnQ4QjaoNaU34DuxQEtFvEdyR89FMEQsReBHtUvXT2BTFVbVVlFWQ1a7VwhblV54YURjpWOjYrRg2F6NXl9foGAlYdJf/1xbWDBTA0+4TCZM6UpVR5BBKTopMwct0yg9JvAixx1CFisOxQYwAD/7l/dL9CjwE+qF4yHdr9eo07bQmc7Ey5/Hv8LVvQK67baWtKyycrAJrviqqadMpJ2hWaBMoKCgz6AYoJqeb5zDmvWa05yKnxChgaEooeOg66A2opqlFKrSrfCvW7Eds2m1S7g6vYfEwswr0mjTNNNI1TPbceNz62rxVvTH9Hj1qPgw/9MG3AwWECgR+xGyEz8XJhyDIdYlgCj/Ka4qrSslLskyeDivPBQ+ZT3kPLs+XEIWR+tKkU2kTihOBU4MT7lRolTFVsRYo1odXFtccFt0W7lcwV8bYg9j9mFfX8Bc9FrKWnFbWlt2WchVNFFcTaZJlkZbQ+9AFj7MOXwzvSweJ/8iqh8oHDYYaBIwC0ADUv2u+Rb3+/IP7WnmgOA12y/WeNGXzX7KrcbmwbS8oLhCtbGxU66KrNirE6pBpjKi758TnxGe0pydnKKd4J05nLmZiphPmaibmp5zoZOib6E+n8WeBKLUp02tDbCqsI6wcLF4sxC4f76zxcrKJM1OzkrQS9Qw2rnhfulv77bxPvL88mb3Y/59BpkM/w+DERQSORMzFhccVCP8KGMqNSriKjUuTDHJM9M2FzvNPt0/PD+6PmM/c0E9RYFJJkw+S9ZJ80l2TN9OGFCKUURTGlWwVXRVTVVLVfRVhVe7WRpb+1kmV6lUFVT4VCxVl1NYUORMEEo7RyFEm0BLPXw5VjV7MOIrHScCIswcCRj/E2QPiQk2A8v9Ifmj9Bzv+enk5HTgx9sd17jSN86byTnFD8LFv+m8h7j+s2uwva4zrX+rJKnTppGko6IvoR+gTp+enoWet57QnhSeaZ2DnceebaAhotCjjaWqpkWnUqg+qwWwz7TAt7i4G7rLve/Clce/ylzOrNPU2HLcFN+u46Dp8e2o8N70Zvv5AEMCSwN7CLMQyxa3F8UXvhp+IGwmySoYLqAwGjLNM1U23joZQBZE+UU1RvxGrkhgSn5Mv0+gU4VVVFR2Un1SkFSkVj9YTFmVWTFYNlaKVZdW31ePWAdYIldvVa9T81KSUoRSUVFjT5hMdkkZR5lF0EP+QKA8cjg2NPkv3CvJJyMkjh9UGgIV4Q/dCuEFSAE0/U74mfKB7EXn2eKe3onaf9YW0hbNyseQw4zA+L3zuiO317M3sUKvWK11q8updqgRp/6l4aQmpG2jw6K/ovOiDaOrooGinaOmpRynwqdAqDaqgqwurq+vh7JYt1m7vrzGvI++0MM1yvrOwNGb0yXWSNlN3SPj3ulk71Xxt/F/9Bz7UwKVBosIBgtgD2ETaBajGMgbPB+eIpslHSiUKTQqoyupLrAyLzUsNpQ18DU/Nw068jwxPxdAtD97Pg8+5D8hQzZGAUYaRJ9BXkFsQjZEOkU/RQtEpUIsQYk/lD7lPoBAckBEPqM6ljgpNwM2gzRaNEE0rzE6LBAnIiXFJaQlryLkHdAYlBUFEwoRfg7PCzYIvQOn/rr6SPgr9qTy6u2y6fPlL+Lc3bDanNhe1kzSlM3KyZjHxMXTw8rB+7/nvdS677d9tjS3OLhct7S0OLLQsQCzQbQwtcq1Dra4tbi1WLc5uu+8X74Tv8TAn8P6xkLJpsrizNzQjNWq2GDZENoJ3UzimOem6tTrbuyh7mHzbvmo/Sb/Iv9ZAdoFLgtQD64RnROKFWwYlxvLHhohByMkJYYolCsaLW0svCvQLdoyjzekOAs2HzPuMlc1MzknO7462jcwNRg0GjQzNDc04jToNJgyiy5NKz0r9iziLacsuCl6Jz8muyXXJBMk1iPNIzAiXh8nHescix0aHZQbrhkGGP8VbxQnFHcUOBMvEKUM2gpqCu8JVgiFBcYCeADH/u/8pPoo+LH29fTl8hjwOe2f6gTowuY45lDlPuLJ3aPaRdoV27favteH1BXTY9NY0+zRR9BTz6TPJNCH0AvQSc+2zovPXtEK06nTg9Ok07PUqNZ52OTZ7toD3CbdT99e4d3iS+PL46vlQOmP7Hft+eyC7RTwdfNc9nH3Ofgr+dv6i/wi/6kB9gJJA08EDwgLDB8MZQkrChoQqRawF+MUlhHOEn0Y7B0dIIAfyhzPGqMcnSCSJAgk7yCEHscgwSQJJJgf+hzuHRIhRSNGISkcjhawFewZux15G/EWBxQcEgAQ/w8tEvwS8xB1DOkIfQi6CmMLkQpeCEcFuwMmBRwHzgaxBNwBOQD9AEsDMgQaA0QADf4O/rD/9/+X/nf9j/19/nH9Kfpj+J75Jfs1/If7kviz9P3z/fbu+Gj3gfQY9GT17PS38ijyU/PM84f0xvVW9NPwPO8P8rb2sPf59GfyYPJA84/1xPgq+cT2IvW89fv3U/sN+534zPjy+nj8cvxc+4f6Sf1aANH+o/2H/ir/MQB4ASEBbf/BANgERgZ8ATD9Yf+cBpgLZQef/6P9cQOGCOQI0gcGBnAC8v+RA30KnQyLBp0ANQIEBg8IjQdNBJ0EGQfpBZgCAQK5A0wGowe0A4P+CP//AxEE0QJvAY/9Sv1+AZUCk/43/Ln8Gf3P/df+cfyh+XH5JvxD/h38z/df9xP6cvsd+/j61flo9y/3fvih+xr8MfkG+IP5rvmC9xj48/tg/TL7jfcv9hn6lP0V/T76yvdy+dP9hf0q+aL3XvsM/1v9s/t4/Mb60Pcv/JED3AHr+rr3Wvq2/2sDfgDX+y798f4Y/kP/JAI9Aa39kf7DA4sD3/xX/BcFJwiOABP9nANjBbT/9QAkCMsG6/5qAO4FlgbyA7kBUgW3B9gBTgHbB2IGYQLPA2IFLgbwBdoB8v8EB8YL9QG9/NUE5AmmAzb+5wTABlkAmgJiBkEB0/8hA7IDVgMTA5QAuP4dAJQDlQbrAVH5qf0rBvwA7/5NAtz+Hfqh/tAEBgKQ+3P6uP84AW3+B/1j//r+XvoM/WkEDv/c91z9BQI4/lr9xf5n/HD9WQBH//n8I/78/Zn/oP5h/TEBOP/N+Xf+xgW2/kv5i/+5AiD+/foUAMsFG/1Y9v4BuwdZ+pD3lgRtBVn5yvlrBfgAk/la/tIDT/8F+8r/UQKo/RP8FwEoAU/+C/94AHz99/toAhYEc/x3/JAC+wBu+bD/yAnj/7D1eP/8CL7+uvqFA7kDWP22/isChALkABP9sQBbBeUAN/5bAT0BPf+QAjsFov6z/S8DqgKT//YBNgJg/p0AagPsAjf/pf5/APwCrgRP/X37GQb9BHr6kf7KBa3/Cv2uA7wCKvxJ/uEDCgHUAKIAePzx/k0EmAMS/o3+Z/9FACgDQwP+/nP81wAlA+MBOQHW/zj9fADIBC0CJv4T/iwC/wP7/Rf+/ARpAjv6gP51CNgBivnb/RsEGgLi/oT/OADy/jT9IgDZA4cB9/kI/LIC0AB2/qD/Mf8r+xr8lgSYArb5C/uP/5MAmP/v/pv8O/tZ/hcCYv/v+038hP0k/9z9zABa/xT51/rUAHcDF/5M+Vf8kACZ/7L9hP5//738FvzpAAUCx/vN+4YBrAAU/YP9MwGpAFj7lvsoBp8EBvm9+GcC2gZB/6r6YP5vAk4BCv85/2T/rP9PAb3/gQBCAhj+q/zXAF0F1wJn+6b7egRDBBUAvv2I/goDJgJVAMMAKgCE/twBlAPZAbn+nv+gAm4B4ADoAjYBDP7zAdAGuQFG+ucAxgkZBhb7vvsCB+AH8v+GACMCewGkAyYDFQHOA20Fbv91/YAFWgnIAZ77//9oCDQHtf8N+8cCkglYA6D7swAfBzUDzPsFAa4HLQBd/zYB3ABfAjoC0v3QAMAD+ACj/JIBigIK/TMBnQJO/qD8swEIAp/9r/y2BN3+m/gYAX0FPv4g+u/9MgAQAUz/1//X+xb7yP/PA9b/MPvI+d7/3AOV+/L8ewHp/fL4F//YBKP8MvmJAUb//vtT/sf+XQC3/Bz8KgBXAFP84fvI/5ECYvon/IQBN/4q/436ZP6AArv9yP1p/w76RP5sBIv+NvueAG3/ofl0/2wFDgD9+Ur+AgFFAEr/ggDH/CsC9AIr+/3+xwNSAeb8hwB1AysCN/3S/wsFHf+O/OgIewRX+YgAmwJDAUMIrgOh+2z82AJCCgQCr/3MAjEBz//BBPsEef59/5gFrQH9AH4Egv6R/ScGZwUNAZT9ngH2A3f+ugB5BXQCYf5VAnj/1fxgAzsI4v/v+vL/VgX1/q79cQTyAWr+af/I/90BLQHZ+xQDkwMk/WX7dwSOAe76JwAxAxAAAv2D/Z0ArwAn/nQCA/39+6oAmf8RAIT/h/njAKkD8Pt++tL/FwBu/igB9f2G+8n8If80AAgCnvwx/Cr+o/8+/jn++f4B/0oAl/4Z+uj8aQSLABn6Y/0dBB/9wPqHAOkBGP2S/hMAwP8q/8T9jfzJANoEFP55/F3/HgCk/2ABv/9//4MAjQAB/+X+rAAtA7wA5f3H/xECxwGV/kkA9QEkAeUAFwH4/SUBbwMI/6sB7QSN/AH8UgaoBNf9n/8eAn4A1gClAaECngBaAO7/2QBxBFAB1v3aARMD2f5lApMD2/13/kYFwAIX/tYA8ACH/usChgOR/eEBYQLQ+i/+ngcPAu78tf+h/5j+WgImAob8tACVBKf+Z/s6AccAcwDnAUcA1P5+ACv+Nf5nAt4B9wGp/xT8eP0kBNcB8/26/9AC9f1H/s8BMf/O/7kADgHXAAb+1vzPACcBRgJH/57+NP9Y/iz/XAJoAET/mQDK/iH9/P1zBTgB3fyX/lkA1f9IAcr+bP5/AYz/ogFmAkL7ffqkAo8FGQM6/GX9bf5E/TsCQwdVAGv7l/2c/lwB4wEJAmj+bP9SAKH9Kv+aAu8ASf4H/zEBMgEp/qv9Lf9kAX8B6QCn/nr9S/1h/wkCZQFpAIj+MPu//P0DGAEp/bH/Af7V/RUCcgBJ+n39ugNsAMH+EgDN+oz7OAQNA4/9M//4/on7cP+4A+8Afv2W/rD/JABdAQn+lfyEAt0DsPzD/o4AHv0nAFQDOgAM/uH/4v6x/T0BhAPq/vv9qwBXALT9GwBqAloBsv+X/sn+IwFfAbn+vwDzAdj/7f6QApn/JfyVAIUE4gJlAFn8Lvu5AZwEuQJPACv9b/s+AdgDQP88/vQB+/8o/fv/ZgCq/UcAOgPd/Rr9fwEl/877zAChAt7/AwB9/CD70QETA7T+l/9X/9b8lv5pAREAbv0S/8QBxv+u/WD+Tf3Q/ZcBTwTt/4P6vftj/xEBigDWAPkBPP6r+eD8JwLfAucBcwBn/Fr7DP9PAzYDlP+u/Zb/4v5J/hwCagIU/7f+Ev9h/9oBiQGR/kf95P/cAW8CXQCu/XD9xf8LArYBuAFJAX397/sXAUwEegJxAFT/Df4wAIsChAKBAEj/SQDnARgCYAASAGsALQEkAWoBQgGHAOwAxwC0/3oAxgF0AbQA/wC1AKT/lwDPAEoARgEMAxECKv+6/ej/6wIhAyUCDwCy/yABCAExAKMAHAI3AloC+gHu/mv97P/jAtkE5ANk/4n8gP5EAXgBlgLxAvj/T/6h/zT/qP6VAJ8CQgLYAMz+gvyl/ckA1wLzAuAATf49/in/Pv9yAHgD/AIw/1T+nv90/4wACALHAbYAJAAjAOD/lf9k/+oAswJ7Ad/+3v5y/2//gwDnAbcAVv76/YD/YQAPAX8Agv5o/Tn+pwBfAYcAAP+F/bL9Hv8GAPYAZgBp/rb9+P0r/sT/ZQEzAJP9//yn/vL/vP88/3/+bv3B/l0ApP8h/l39RP0g/y0BmwD6/Vj8pPxN/jEBVQKW/wz8nfsK/rcAUwFWAAL+Cf0d/gf/A/9//10Arv8U/ur95v4w/17/hP9O/yX/DQATAFX+OP2n/p4ALwHTAF//Y/1q/Z//yQBhAAoAAAAv/xD+KP6r/8gAUABK/3X/0v/4/4b/Ov4t/iQAPQIwAvT/of2H/d7+5QABAr0BaAC//tL9WP62/xYBpgGnABL/HP5w/iD/MQCFABEArP9w/2v+Lv4h/3gA0QC1/+P+q/4//4//of/D/xgAVf+A/vX+wf9X/7T+m/7c/nb/XP8W/iv9xP27/kn/ev7G/UX9+fx8/U7+2v5k/nj9EP1d/dv9+/09/pL+Zv4J/tT9Zv1l/Vb+O//j/j7+LP79/Wv9ev0U/iv/NQBt//L9p/y6/eT+mf9IAJYAef8O/tP9Ff8lAc8BLQHP/2D/qv9MASYCAgIVAXQBsAFrAVIBJgLmAqkCtwJEAu4B4gHMAvYCCANCA8QDRQOVAuEBQgKhA8YEfwQTA18CTgL9AmsDzQMBBBgEuwPBAgIC8wJlBKEEJwStA/ECVQLoAl8ExwTRA9ICIwJnAp4DQwRvA94BYwEOAh4D4wKiAcUACgG4ARECYAEFAGz//P+1AN4A4gAuAPz+sv3H/fT+bwEIAsL/QfwR+8j8pP8GAfP/5/17/L/76Pu4/QD/0v4Q/Wj8Kv2//sv91vqP+KP7zgC/AtH/1fqN95z44vxrAUUDPgHV/Z/69vlS+9X/RgNHBJIB0f5t/Rb+sP5xAKYCuASCBeoD1QDK/SD+xwBUBRYItwgMBdMA1f3+/4oE9giyCZMH8wSTA0QDyQP0BfoHFgopCvEI0wUcBYkFDQd8CLMKews3CjsHJAXFBJIGhQmbCqMJdgfjBSoE6wOCBKEGbweRBugD/wEpAZEBJQJQAhwCeAFMAN3+I/7V/ZP+pf7e/TP8/fsB/XX9qfsr+aL4RPrz+7X7EPof+KT3OfiY+Hb4j/hV+KH3IPd790T42fdo9uL09PUo+Tj7Lfl99QH0LvYQ+kf8aPuM+IX3tfg3+139PP4X/Tr7DfvE/bgB7AI=\" type=\"audio/wav\" />\n",
              "                    Your browser does not support the audio element.\n",
              "                </audio>\n",
              "              "
            ]
          },
          "metadata": {},
          "execution_count": 5
        }
      ]
    },
    {
      "cell_type": "markdown",
      "source": [],
      "metadata": {
        "id": "LfaVyk08hwkO"
      }
    },
    {
      "cell_type": "markdown",
      "source": [
        "## Pre-Process the Dataset"
      ],
      "metadata": {
        "id": "tz0cuFEghB1n"
      }
    },
    {
      "cell_type": "code",
      "source": [
        "# We can set the sampling rate of our audio dataset through the cast_column method.\n",
        "# This doesn't change the dataset in-place, but resamples the dataset on\n",
        "# the fly the first time a sample is loaded.\n",
        "from datasets import Audio\n",
        "\n",
        "#dataset = dataset.cast_column(\"audio\", Audio(sampling_rate=16000))"
      ],
      "metadata": {
        "id": "pYCGD2kAhBhG"
      },
      "execution_count": null,
      "outputs": []
    },
    {
      "cell_type": "markdown",
      "source": [
        "##Create Wav2Vec2CTCTokenizer"
      ],
      "metadata": {
        "id": "MbI4Nz4Hml23"
      }
    },
    {
      "cell_type": "code",
      "source": [
        "import re\n",
        "chars_to_ignore_regex = '[\\,\\?\\.\\!\\-\\;\\:\\\"]'\n",
        "\n",
        "def remove_special_characters(batch):\n",
        "    batch[\"text\"] = re.sub(chars_to_ignore_regex, '', batch[\"text\"]).lower()\n",
        "    return batch"
      ],
      "metadata": {
        "id": "I2Iz1G-knAvw"
      },
      "execution_count": null,
      "outputs": []
    },
    {
      "cell_type": "code",
      "source": [
        "dataset = dataset.map(remove_special_characters)"
      ],
      "metadata": {
        "id": "bcbKVOMmmlY_"
      },
      "execution_count": null,
      "outputs": []
    },
    {
      "cell_type": "code",
      "source": [
        "def extract_all_chars(batch):\n",
        "  all_text = \" \".join(batch[\"text\"])\n",
        "  vocab = list(set(all_text))\n",
        "  return {\"vocab\": [vocab], \"all_text\": [all_text]}"
      ],
      "metadata": {
        "id": "2CBY6XMTnW23"
      },
      "execution_count": null,
      "outputs": []
    },
    {
      "cell_type": "code",
      "source": [
        "print(dataset.column_names)"
      ],
      "metadata": {
        "colab": {
          "base_uri": "https://localhost:8080/"
        },
        "id": "f-2OsaEDnegG",
        "outputId": "08b15c84-e517-4671-9fd9-48156cd06f9c"
      },
      "execution_count": null,
      "outputs": [
        {
          "output_type": "stream",
          "name": "stdout",
          "text": [
            "None\n"
          ]
        }
      ]
    },
    {
      "cell_type": "code",
      "source": [
        "vocabs = dataset.map(extract_all_chars, batched=True, batch_size=-1, keep_in_memory=True, remove_columns=dataset.column_names[\"train\"])"
      ],
      "metadata": {
        "colab": {
          "base_uri": "https://localhost:8080/",
          "height": 159
        },
        "id": "DTl0PXRKnXe3",
        "outputId": "8126c588-e024-4887-a15c-4e6716f2289d"
      },
      "execution_count": null,
      "outputs": [
        {
          "output_type": "error",
          "ename": "TypeError",
          "evalue": "'NoneType' object is not subscriptable",
          "traceback": [
            "\u001b[0;31m---------------------------------------------------------------------------\u001b[0m",
            "\u001b[0;31mTypeError\u001b[0m                                 Traceback (most recent call last)",
            "\u001b[0;32m<ipython-input-13-cbc97c3f1358>\u001b[0m in \u001b[0;36m<cell line: 1>\u001b[0;34m()\u001b[0m\n\u001b[0;32m----> 1\u001b[0;31m \u001b[0mvocabs\u001b[0m \u001b[0;34m=\u001b[0m \u001b[0mdataset\u001b[0m\u001b[0;34m.\u001b[0m\u001b[0mmap\u001b[0m\u001b[0;34m(\u001b[0m\u001b[0mextract_all_chars\u001b[0m\u001b[0;34m,\u001b[0m \u001b[0mbatched\u001b[0m\u001b[0;34m=\u001b[0m\u001b[0;32mTrue\u001b[0m\u001b[0;34m,\u001b[0m \u001b[0mbatch_size\u001b[0m\u001b[0;34m=\u001b[0m\u001b[0;34m-\u001b[0m\u001b[0;36m1\u001b[0m\u001b[0;34m,\u001b[0m \u001b[0mkeep_in_memory\u001b[0m\u001b[0;34m=\u001b[0m\u001b[0;32mTrue\u001b[0m\u001b[0;34m,\u001b[0m \u001b[0mremove_columns\u001b[0m\u001b[0;34m=\u001b[0m\u001b[0mdataset\u001b[0m\u001b[0;34m.\u001b[0m\u001b[0mcolumn_names\u001b[0m\u001b[0;34m[\u001b[0m\u001b[0;34m\"train\"\u001b[0m\u001b[0;34m]\u001b[0m\u001b[0;34m)\u001b[0m\u001b[0;34m\u001b[0m\u001b[0;34m\u001b[0m\u001b[0m\n\u001b[0m",
            "\u001b[0;31mTypeError\u001b[0m: 'NoneType' object is not subscriptable"
          ]
        }
      ]
    },
    {
      "cell_type": "code",
      "source": [
        "from transformers import Wav2Vec2CTCTokenizer\n",
        "\n",
        "tokenizer = Wav2Vec2CTCTokenizer"
      ],
      "metadata": {
        "id": "pBpnv0SMhv0A"
      },
      "execution_count": null,
      "outputs": []
    }
  ]
}